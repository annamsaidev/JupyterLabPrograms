{
 "cells": [
  {
   "cell_type": "code",
   "execution_count": 2,
   "id": "5d859d8f-be42-465a-86e7-d59687757faf",
   "metadata": {},
   "outputs": [
    {
     "name": "stdin",
     "output_type": "stream",
     "text": [
      "enter lower limit: 1\n",
      "enter upper limit: 99\n"
     ]
    },
    {
     "data": {
      "text/plain": [
       "[2, 3, 5, 7, 23]"
      ]
     },
     "execution_count": 2,
     "metadata": {},
     "output_type": "execute_result"
    }
   ],
   "source": [
    "#Write a program to print the factorial prime from 1 to 99\n",
    "import math\n",
    "\n",
    "n1 = int(input('enter lower limit:'))\n",
    "n2 = int(input('enter upper limit:'))\n",
    "l = []\n",
    "\n",
    "def prime_logic(q1, q2):\n",
    "    for i in range(q1, q2+1):\n",
    "        for j in range(2, i):\n",
    "            if i % j == 0:\n",
    "                break\n",
    "        else:\n",
    "            # print('i--->', i)\n",
    "            if i != 1:\n",
    "                fact_plusminus_one(i)\n",
    "    return l\n",
    "\n",
    "    \n",
    "def fact_plusminus_one(q):\n",
    "    # print('q---->', q)\n",
    "    for i in range(1, q):\n",
    "        if math.factorial(i) + 1 == q or math.factorial(i) - 1 == q:\n",
    "            # print(q)\n",
    "            global l\n",
    "            l.append(q)\n",
    "    return\n",
    "\n",
    "prime_logic(n1, n2)\n"
   ]
  },
  {
   "cell_type": "code",
   "execution_count": null,
   "id": "00324a0c-1909-4d52-b1e5-6f63b47d4aa7",
   "metadata": {},
   "outputs": [],
   "source": [
    "l = list()\n",
    "t = tuple()\n",
    "s = set()\n",
    "d = dict()"
   ]
  },
  {
   "cell_type": "code",
   "execution_count": null,
   "id": "26ba6513-ba09-465b-a97b-5eb8f1e7e3a5",
   "metadata": {},
   "outputs": [],
   "source": [
    "l = [1, 2, 3, 4,............]\n",
    "t = (1, 2, 3, 4.............)\n",
    "s = {1, 2, 3, 4.............} --> hashing\n"
   ]
  },
  {
   "cell_type": "code",
   "execution_count": 3,
   "id": "e44d3a7e-8fff-4741-a97b-97a36b44d0e4",
   "metadata": {},
   "outputs": [],
   "source": [
    "s = {1, 2, (1, 2)}\n"
   ]
  },
  {
   "cell_type": "code",
   "execution_count": 6,
   "id": "3d15c4e1-59a0-4bf1-aece-b3969739f94a",
   "metadata": {},
   "outputs": [
    {
     "data": {
      "text/plain": [
       "99"
      ]
     },
     "execution_count": 6,
     "metadata": {},
     "output_type": "execute_result"
    }
   ],
   "source": [
    "l = [12, 23, 34, 45, 456, 44, 55, 66, 77, 88, 99, 100]\n",
    "l[-2]"
   ]
  },
  {
   "cell_type": "code",
   "execution_count": 3,
   "id": "09dfa0e9-7c0e-4d87-9771-0b0f5e86ec84",
   "metadata": {},
   "outputs": [
    {
     "data": {
      "text/plain": [
       "{0: 'Mon', 1: 'Tue', 2: 'Wed', 3: 'Thu', 4: 'Fri', 5: 'Sat', 6: 'Sun'}"
      ]
     },
     "execution_count": 3,
     "metadata": {},
     "output_type": "execute_result"
    }
   ],
   "source": [
    "d = dict()\n",
    "l = ['Mon', 'Tue', 'Wed', 'Thu', 'Fri', 'Sat', 'Sun']\n",
    "for num, i in enumerate(l):\n",
    "    d[num] = i\n",
    "d"
   ]
  },
  {
   "cell_type": "code",
   "execution_count": 18,
   "id": "26e79620-70be-4f0a-83fb-95daa79f9691",
   "metadata": {},
   "outputs": [
    {
     "name": "stdout",
     "output_type": "stream",
     "text": [
      "{100: 'jan', 101: 'feb', 102: 'mar', 103: 'apr', 104: 'may', 105: 'jun'}\n"
     ]
    }
   ],
   "source": [
    "d = dict()\n",
    "l = ['jan','feb','mar','apr','may','jun']\n",
    "for num, i in enumerate(l,start=100):\n",
    "    d[num] = i\n",
    "print(d)"
   ]
  },
  {
   "cell_type": "code",
   "execution_count": 19,
   "id": "8e206196-26e5-43f4-88f5-33d258d5db01",
   "metadata": {},
   "outputs": [
    {
     "name": "stdout",
     "output_type": "stream",
     "text": [
      "{201: 'annam', 202: 'sai', 203: 'krishna', 204: 'prudhvi', 205: 'venkat', 206: 'kumar'}\n"
     ]
    }
   ],
   "source": [
    "d = dict()\n",
    "l = ['annam','sai','krishna','prudhvi','venkat','kumar']\n",
    "for num, i in enumerate(l,start= 201):\n",
    "    d[num]= i\n",
    "print(d)"
   ]
  },
  {
   "cell_type": "code",
   "execution_count": 22,
   "id": "b543ba84-dddd-46b6-ac2e-75e8a4b236f9",
   "metadata": {},
   "outputs": [
    {
     "data": {
      "text/plain": [
       "{1: 1, 2: 4, 3: 9, 4: 16, 5: 25}"
      ]
     },
     "execution_count": 22,
     "metadata": {},
     "output_type": "execute_result"
    }
   ],
   "source": [
    "d = dict()\n",
    "l = [1,2,3,4,5]\n",
    "for num, i in enumerate(l,start=1):\n",
    "    d[num] = i*i\n",
    "d"
   ]
  },
  {
   "cell_type": "code",
   "execution_count": 4,
   "id": "15a8a47d-3c9e-4288-a654-bef45885c267",
   "metadata": {},
   "outputs": [
    {
     "data": {
      "text/plain": [
       "{1: 1,\n",
       " 2: 4,\n",
       " 3: 27,\n",
       " 4: 16,\n",
       " 5: 125,\n",
       " 6: 36,\n",
       " 7: 343,\n",
       " 8: 64,\n",
       " 9: 729,\n",
       " 10: 100,\n",
       " 11: 1331,\n",
       " 12: 144,\n",
       " 13: 2197,\n",
       " 14: 196,\n",
       " 15: 3375,\n",
       " 16: 256,\n",
       " 17: 4913,\n",
       " 18: 324,\n",
       " 19: 6859,\n",
       " 20: 400,\n",
       " 21: 9261,\n",
       " 22: 484,\n",
       " 23: 12167,\n",
       " 24: 576,\n",
       " 25: 15625,\n",
       " 26: 676,\n",
       " 27: 19683,\n",
       " 28: 784,\n",
       " 29: 24389,\n",
       " 30: 900,\n",
       " 31: 29791,\n",
       " 32: 1024,\n",
       " 33: 35937,\n",
       " 34: 1156,\n",
       " 35: 42875,\n",
       " 36: 1296,\n",
       " 37: 50653,\n",
       " 38: 1444,\n",
       " 39: 59319,\n",
       " 40: 1600,\n",
       " 41: 68921,\n",
       " 42: 1764,\n",
       " 43: 79507,\n",
       " 44: 1936,\n",
       " 45: 91125,\n",
       " 46: 2116,\n",
       " 47: 103823,\n",
       " 48: 2304,\n",
       " 49: 117649,\n",
       " 50: 2500,\n",
       " 51: 132651,\n",
       " 52: 2704,\n",
       " 53: 148877,\n",
       " 54: 2916,\n",
       " 55: 166375,\n",
       " 56: 3136,\n",
       " 57: 185193,\n",
       " 58: 3364,\n",
       " 59: 205379,\n",
       " 60: 3600,\n",
       " 61: 226981,\n",
       " 62: 3844,\n",
       " 63: 250047,\n",
       " 64: 4096,\n",
       " 65: 274625,\n",
       " 66: 4356,\n",
       " 67: 300763,\n",
       " 68: 4624,\n",
       " 69: 328509,\n",
       " 70: 4900,\n",
       " 71: 357911,\n",
       " 72: 5184,\n",
       " 73: 389017,\n",
       " 74: 5476,\n",
       " 75: 421875,\n",
       " 76: 5776,\n",
       " 77: 456533,\n",
       " 78: 6084,\n",
       " 79: 493039,\n",
       " 80: 6400,\n",
       " 81: 531441,\n",
       " 82: 6724,\n",
       " 83: 571787,\n",
       " 84: 7056,\n",
       " 85: 614125,\n",
       " 86: 7396,\n",
       " 87: 658503,\n",
       " 88: 7744,\n",
       " 89: 704969,\n",
       " 90: 8100,\n",
       " 91: 753571,\n",
       " 92: 8464,\n",
       " 93: 804357,\n",
       " 94: 8836,\n",
       " 95: 857375,\n",
       " 96: 9216,\n",
       " 97: 912673,\n",
       " 98: 9604,\n",
       " 99: 970299}"
      ]
     },
     "execution_count": 4,
     "metadata": {},
     "output_type": "execute_result"
    }
   ],
   "source": [
    "d = dict()\n",
    "\n",
    "for i in range(1,100):\n",
    "    if i % 2 == 0:\n",
    "        d[i] = i**2 \n",
    "    else:\n",
    "        d[i] = i**3\n",
    "d"
   ]
  },
  {
   "cell_type": "code",
   "execution_count": 37,
   "id": "7e82341e-a717-454e-a9b3-ac97c5907609",
   "metadata": {},
   "outputs": [
    {
     "data": {
      "text/plain": [
       "{1: 1,\n",
       " 2: 4,\n",
       " 3: 9,\n",
       " 4: 16,\n",
       " 5: 25,\n",
       " 6: 36,\n",
       " 7: 49,\n",
       " 8: 64,\n",
       " 9: 81,\n",
       " 10: 100,\n",
       " 11: 121,\n",
       " 12: 144,\n",
       " 13: 169,\n",
       " 14: 196,\n",
       " 15: 225,\n",
       " 16: 256,\n",
       " 17: 289,\n",
       " 18: 324,\n",
       " 19: 361,\n",
       " 20: 400,\n",
       " 21: 441,\n",
       " 22: 484,\n",
       " 23: 529,\n",
       " 24: 576,\n",
       " 25: 625,\n",
       " 26: 17576,\n",
       " 27: 19683,\n",
       " 28: 21952,\n",
       " 29: 24389,\n",
       " 30: 27000,\n",
       " 31: 29791,\n",
       " 32: 32768,\n",
       " 33: 35937,\n",
       " 34: 39304,\n",
       " 35: 42875,\n",
       " 36: 46656,\n",
       " 37: 50653,\n",
       " 38: 54872,\n",
       " 39: 59319,\n",
       " 40: 64000,\n",
       " 41: 68921,\n",
       " 42: 74088,\n",
       " 43: 79507,\n",
       " 44: 85184,\n",
       " 45: 91125,\n",
       " 46: 97336,\n",
       " 47: 103823,\n",
       " 48: 110592,\n",
       " 49: 117649,\n",
       " 50: 125000}"
      ]
     },
     "execution_count": 37,
     "metadata": {},
     "output_type": "execute_result"
    }
   ],
   "source": [
    "d = dict()\n",
    "for i in range(1,50+1):\n",
    "    if i <= 25:\n",
    "        d[i] = i**2\n",
    "        \n",
    "    else :\n",
    "        d[i] = i**3\n",
    "d"
   ]
  },
  {
   "cell_type": "code",
   "execution_count": 27,
   "id": "0124bba9-f425-4841-ada4-42af7e430b64",
   "metadata": {},
   "outputs": [
    {
     "name": "stdout",
     "output_type": "stream",
     "text": [
      "{1: 1, 2: 2, 3: 3, 4: 4, 5: 5, 6: 6, 7: 7, 8: 8, 9: 9, 10: 1, 11: 11, 12: 12, 13: 13, 14: 14, 15: 15, 16: 16, 17: 17, 18: 18, 19: 19, 20: 2, 21: 21, 22: 22, 23: 23, 24: 24, 25: 25, 26: 26, 27: 27, 28: 28, 29: 29, 30: 3, 31: 31, 32: 32, 33: 33, 34: 34, 35: 35, 36: 36, 37: 37, 38: 38, 39: 39, 40: 4, 41: 41, 42: 42, 43: 43, 44: 44, 45: 45, 46: 46, 47: 47, 48: 48, 49: 49, 50: 5, 51: 51, 52: 52, 53: 53, 54: 54, 55: 55, 56: 56, 57: 57, 58: 58, 59: 59, 60: 6, 61: 61, 62: 62, 63: 63, 64: 64, 65: 65, 66: 66, 67: 67, 68: 68, 69: 69, 70: 7, 71: 71, 72: 72, 73: 73, 74: 74, 75: 75, 76: 76, 77: 77, 78: 78, 79: 79, 80: 8, 81: 81, 82: 82, 83: 83, 84: 84, 85: 85, 86: 86, 87: 87, 88: 88, 89: 89, 90: 9, 91: 91, 92: 92, 93: 93, 94: 94, 95: 95, 96: 96, 97: 97, 98: 98, 99: 99, 100: 1}\n"
     ]
    }
   ],
   "source": [
    "d = dict()\n",
    "\n",
    "for i in range(1,101):\n",
    "    if i % 10 == 0:\n",
    "        d[i] = int(str(i).strip('0'))\n",
    "    else:\n",
    "        d[i] = i\n",
    "print(d)"
   ]
  },
  {
   "cell_type": "code",
   "execution_count": 16,
   "id": "5a8d45fa-658e-475a-9324-68c13448f536",
   "metadata": {},
   "outputs": [
    {
     "data": {
      "text/plain": [
       "1"
      ]
     },
     "execution_count": 16,
     "metadata": {},
     "output_type": "execute_result"
    }
   ],
   "source": [
    "q = 10\n",
    "int(str(q).strip('0'))"
   ]
  },
  {
   "cell_type": "code",
   "execution_count": 28,
   "id": "aa93913c-77a1-4ea1-b2b4-8f6a7ebe7bce",
   "metadata": {},
   "outputs": [
    {
     "name": "stdout",
     "output_type": "stream",
     "text": [
      "{1: 1, 2: 1, 3: 1, 4: 1, 5: 1, 6: 1, 7: 1, 8: 1, 9: 1, 10: 2, 11: 2, 12: 2, 13: 2, 14: 2, 15: 2, 16: 2, 17: 2, 18: 2, 19: 2, 20: 2, 21: 2, 22: 2, 23: 2, 24: 2, 25: 2, 26: 2, 27: 2, 28: 2, 29: 2, 30: 2, 31: 2, 32: 2, 33: 2, 34: 2, 35: 2, 36: 2, 37: 2, 38: 2, 39: 2, 40: 2, 41: 2, 42: 2, 43: 2, 44: 2, 45: 2, 46: 2, 47: 2, 48: 2, 49: 2, 50: 2, 51: 2, 52: 2, 53: 2, 54: 2, 55: 2, 56: 2, 57: 2, 58: 2, 59: 2, 60: 2, 61: 2, 62: 2, 63: 2, 64: 2, 65: 2, 66: 2, 67: 2, 68: 2, 69: 2, 70: 2, 71: 2, 72: 2, 73: 2, 74: 2, 75: 2, 76: 2, 77: 2, 78: 2, 79: 2, 80: 2, 81: 2, 82: 2, 83: 2, 84: 2, 85: 2, 86: 2, 87: 2, 88: 2, 89: 2, 90: 2, 91: 2, 92: 2, 93: 2, 94: 2, 95: 2, 96: 2, 97: 2, 98: 2, 99: 2, 100: 3}\n"
     ]
    }
   ],
   "source": [
    "d = dict()\n",
    "for i in range(1,101):\n",
    "    d[i] = len(str(i))\n",
    "print(d)"
   ]
  },
  {
   "cell_type": "code",
   "execution_count": 10,
   "id": "bdb95768-6d28-447b-a547-d402157b0ebf",
   "metadata": {},
   "outputs": [
    {
     "name": "stdin",
     "output_type": "stream",
     "text": [
      " google\n"
     ]
    },
    {
     "data": {
      "text/plain": [
       "{'g': 2, 'o': 2, 'l': 1, 'e': 1}"
      ]
     },
     "execution_count": 10,
     "metadata": {},
     "output_type": "execute_result"
    }
   ],
   "source": [
    "x = input()\n",
    "d = {}\n",
    "for i in x:\n",
    "    if i in d:\n",
    "        d[i] += 1\n",
    "    else:\n",
    "        d[i] = 1\n",
    "d"
   ]
  },
  {
   "cell_type": "code",
   "execution_count": 11,
   "id": "24164624-9f75-45c1-9cd8-1d5b09d57e74",
   "metadata": {},
   "outputs": [
    {
     "name": "stdin",
     "output_type": "stream",
     "text": [
      " google\n"
     ]
    },
    {
     "data": {
      "text/plain": [
       "{'g': 2, 'o': 2, 'l': 1, 'e': 1}"
      ]
     },
     "execution_count": 11,
     "metadata": {},
     "output_type": "execute_result"
    }
   ],
   "source": [
    "x = input() \n",
    "d = dict()\n",
    "for i in x:\n",
    "    if i not in d:\n",
    "        d[i] = 1\n",
    "    else:\n",
    "        d[i] += 1\n",
    "d"
   ]
  },
  {
   "cell_type": "code",
   "execution_count": 29,
   "id": "fc49c87a-4602-479d-bff0-b37b27b19ce8",
   "metadata": {},
   "outputs": [
    {
     "data": {
      "text/plain": [
       "57600000000000000000"
      ]
     },
     "execution_count": 29,
     "metadata": {},
     "output_type": "execute_result"
    }
   ],
   "source": [
    "1440*40000000000000000"
   ]
  },
  {
   "cell_type": "code",
   "execution_count": 30,
   "id": "479b3d9c-08f3-4fd9-aec2-ed796856e3b9",
   "metadata": {},
   "outputs": [
    {
     "data": {
      "text/plain": [
       "24"
      ]
     },
     "execution_count": 30,
     "metadata": {},
     "output_type": "execute_result"
    }
   ],
   "source": [
    "12 * 2"
   ]
  },
  {
   "cell_type": "code",
   "execution_count": 9,
   "id": "f52c6f0a-79bd-4344-a55a-51311a404edd",
   "metadata": {},
   "outputs": [
    {
     "name": "stdin",
     "output_type": "stream",
     "text": [
      " 1\n",
      " kabadi\n",
      " 2\n",
      " kok\n",
      " 3\n",
      " gvdudh\n",
      " 4\n",
      " jhijf\n"
     ]
    },
    {
     "data": {
      "text/plain": [
       "{'jhijf': 4, 'gvdudh': 3, 'kok': 2, 'kabadi': 1}"
      ]
     },
     "execution_count": 9,
     "metadata": {},
     "output_type": "execute_result"
    }
   ],
   "source": [
    "d = dict()\n",
    "for i in range(1,5):\n",
    "    d[input()] = int(input())\n",
    "    \n",
    "dict(sorted(d.items(), key=lambda x: x[1], reverse=True))\n"
   ]
  },
  {
   "cell_type": "code",
   "execution_count": 10,
   "id": "08ce5339-caf6-4e34-b055-bd15567f705c",
   "metadata": {},
   "outputs": [
    {
     "ename": "AttributeError",
     "evalue": "'dict' object has no attribute 'strip'",
     "output_type": "error",
     "traceback": [
      "\u001b[1;31m---------------------------------------------------------------------------\u001b[0m",
      "\u001b[1;31mAttributeError\u001b[0m                            Traceback (most recent call last)",
      "Input \u001b[1;32mIn [10]\u001b[0m, in \u001b[0;36m<cell line: 6>\u001b[1;34m()\u001b[0m\n\u001b[0;32m      1\u001b[0m d \u001b[38;5;241m=\u001b[39m [{ \u001b[38;5;124m'\u001b[39m\u001b[38;5;124m name \u001b[39m\u001b[38;5;124m'\u001b[39m: \u001b[38;5;124m'\u001b[39m\u001b[38;5;124m todd \u001b[39m\u001b[38;5;124m'\u001b[39m, \u001b[38;5;124m'\u001b[39m\u001b[38;5;124m phone \u001b[39m\u001b[38;5;124m'\u001b[39m: \u001b[38;5;124m'\u001b[39m\u001b[38;5;124m 555-1414 \u001b[39m\u001b[38;5;124m'\u001b[39m, \u001b[38;5;124m'\u001b[39m\u001b[38;5;124m email \u001b[39m\u001b[38;5;124m'\u001b[39m: \u001b[38;5;124m'\u001b[39m\u001b[38;5;124m todd@mail,net \u001b[39m\u001b[38;5;124m'\u001b[39m },\n\u001b[0;32m      2\u001b[0m      { \u001b[38;5;124m'\u001b[39m\u001b[38;5;124m name \u001b[39m\u001b[38;5;124m'\u001b[39m: \u001b[38;5;124m'\u001b[39m\u001b[38;5;124m helga \u001b[39m\u001b[38;5;124m'\u001b[39m, \u001b[38;5;124m'\u001b[39m\u001b[38;5;124m phone \u001b[39m\u001b[38;5;124m'\u001b[39m: \u001b[38;5;124m'\u001b[39m\u001b[38;5;124m 555-1618 \u001b[39m\u001b[38;5;124m'\u001b[39m, \u001b[38;5;124m'\u001b[39m\u001b[38;5;124m email \u001b[39m\u001b[38;5;124m'\u001b[39m: \u001b[38;5;124m'\u001b[39m\u001b[38;5;124m helga@mail.net \u001b[39m\u001b[38;5;124m'\u001b[39m },\n\u001b[0;32m      3\u001b[0m      { \u001b[38;5;124m'\u001b[39m\u001b[38;5;124m name \u001b[39m\u001b[38;5;124m'\u001b[39m: \u001b[38;5;124m'\u001b[39m\u001b[38;5;124m princess \u001b[39m\u001b[38;5;124m'\u001b[39m, \u001b[38;5;124m'\u001b[39m\u001b[38;5;124m phone \u001b[39m\u001b[38;5;124m'\u001b[39m: \u001b[38;5;124m'\u001b[39m\u001b[38;5;124m 555-3141 \u001b[39m\u001b[38;5;124m'\u001b[39m, \u001b[38;5;124m'\u001b[39m\u001b[38;5;124m email \u001b[39m\u001b[38;5;124m'\u001b[39m: \u001b[38;5;124m'\u001b[39m\u001b[38;5;124m'\u001b[39m},  \n\u001b[0;32m      4\u001b[0m      { \u001b[38;5;124m'\u001b[39m\u001b[38;5;124m name \u001b[39m\u001b[38;5;124m'\u001b[39m: \u001b[38;5;124m'\u001b[39m\u001b[38;5;124m lj \u001b[39m\u001b[38;5;124m'\u001b[39m, \u001b[38;5;124m'\u001b[39m\u001b[38;5;124m phone \u001b[39m\u001b[38;5;124m'\u001b[39m: \u001b[38;5;124m'\u001b[39m\u001b[38;5;124m 555-2718 \u001b[39m\u001b[38;5;124m'\u001b[39m, \u001b[38;5;124m'\u001b[39m\u001b[38;5;124m email \u001b[39m\u001b[38;5;124m'\u001b[39m: \u001b[38;5;124m'\u001b[39m\u001b[38;5;124m lj@mail.net \u001b[39m\u001b[38;5;124m'\u001b[39m }]\n\u001b[0;32m      6\u001b[0m \u001b[38;5;28;01mfor\u001b[39;00m i \u001b[38;5;129;01min\u001b[39;00m d:\n\u001b[1;32m----> 7\u001b[0m     k \u001b[38;5;241m=\u001b[39m \u001b[43mi\u001b[49m\u001b[38;5;241;43m.\u001b[39;49m\u001b[43mstrip\u001b[49m()\n\u001b[0;32m      8\u001b[0m k\n",
      "\u001b[1;31mAttributeError\u001b[0m: 'dict' object has no attribute 'strip'"
     ]
    }
   ],
   "source": [
    "d = [{ ' name ': ' todd ', ' phone ': ' 555-1414 ', ' email ': ' todd@mail,net ' },\n",
    "     { ' name ': ' helga ', ' phone ': ' 555-1618 ', ' email ': ' helga@mail.net ' },\n",
    "     { ' name ': ' princess ', ' phone ': ' 555-3141 ', ' email ': ''},  \n",
    "     { ' name ': ' lj ', ' phone ': ' 555-2718 ', ' email ': ' lj@mail.net ' }]\n",
    "\n",
    "for i in d:\n",
    "    k = i.strip()\n",
    "k"
   ]
  },
  {
   "cell_type": "code",
   "execution_count": 1,
   "id": "e5f9ebf8-b9c9-4aa6-ae5b-4b0f5f8a96f6",
   "metadata": {},
   "outputs": [
    {
     "name": "stdout",
     "output_type": "stream",
     "text": [
      "kenny\n",
      "amanda\n",
      "john\n",
      "vicky\n",
      "alex\n",
      "charles\n",
      "eric\n",
      "laura\n",
      "michell\n"
     ]
    },
    {
     "ename": "KeyError",
     "evalue": "'michell'",
     "output_type": "error",
     "traceback": [
      "\u001b[1;31m---------------------------------------------------------------------------\u001b[0m",
      "\u001b[1;31mKeyError\u001b[0m                                  Traceback (most recent call last)",
      "Input \u001b[1;32mIn [1]\u001b[0m, in \u001b[0;36m<cell line: 30>\u001b[1;34m()\u001b[0m\n\u001b[0;32m     29\u001b[0m         \u001b[38;5;28mprint\u001b[39m(i)\n\u001b[0;32m     30\u001b[0m \u001b[38;5;28;01mfor\u001b[39;00m k \u001b[38;5;129;01min\u001b[39;00m i:\n\u001b[1;32m---> 31\u001b[0m     l1\u001b[38;5;241m.\u001b[39mappend([i, \u001b[43mage\u001b[49m\u001b[43m[\u001b[49m\u001b[43mi\u001b[49m\u001b[43m]\u001b[49m])\n\u001b[0;32m     33\u001b[0m \u001b[38;5;124;03m\"\"\"list_max_rec = [i for i in d if d[i] == max_rec[1]]\u001b[39;00m\n\u001b[0;32m     34\u001b[0m \n\u001b[0;32m     35\u001b[0m \u001b[38;5;124;03mfor i in list_max_rec:\u001b[39;00m\n\u001b[1;32m   (...)\u001b[0m\n\u001b[0;32m     39\u001b[0m \u001b[38;5;124;03mlist_max_rec1 = [i for i, j in l1 if j == max_rec1[1]]\u001b[39;00m\n\u001b[0;32m     40\u001b[0m \u001b[38;5;124;03mlist_max_rec1\"\"\"\u001b[39;00m\n\u001b[0;32m     41\u001b[0m l1\n",
      "\u001b[1;31mKeyError\u001b[0m: 'michell'"
     ]
    }
   ],
   "source": [
    "#5. List of votes, contestants and ages are given. Write a program to find the contestant who wins the elections. If there is a tie, older contestant wins.\n",
    "v = ['kenny','amanda','john','vicky','alex',\n",
    "     'amanda','john', 'alex','kenny','vicky',\n",
    "     'charles','alex','kenny','eric','charles',\n",
    "     'eric','laura','eric','michell','vicky']\n",
    "age = {\n",
    "        'kenny': 61,\n",
    "        'amanda': 54,\n",
    "        'alex': 79,\n",
    "        'john': 80,\n",
    "        'vicky': 34,\n",
    "        'eric': 50,\n",
    "        'laura': 55,\n",
    "        'michelle': 42,\n",
    "        'charles': 70\n",
    "        }\n",
    "l1 = []\n",
    "\n",
    "d = {}\n",
    "for i in v:\n",
    "    if i not in d:\n",
    "        d[i] = 1\n",
    "    else:\n",
    "        d[i] += 1\n",
    "        \n",
    "max_rec = max(d.items(), key=lambda x: x[1])\n",
    "if d[i] == max_rec[1]:\n",
    "    for i in d:\n",
    "        print(i)\n",
    "for k in i:\n",
    "    l1.append([i, age[i]])\n",
    "\n",
    "\"\"\"list_max_rec = [i for i in d if d[i] == max_rec[1]]\n",
    "\n",
    "for i in list_max_rec:\n",
    "    l1.append([i, age[i]])\n",
    "\n",
    "max_rec1 = max(l1, key=lambda x: x[1])\n",
    "list_max_rec1 = [i for i, j in l1 if j == max_rec1[1]]\n",
    "list_max_rec1\"\"\"\n",
    "l1\n"
   ]
  },
  {
   "cell_type": "code",
   "execution_count": 28,
   "id": "b65194a5-1ef5-404f-a10a-93091396f9ac",
   "metadata": {},
   "outputs": [
    {
     "name": "stdin",
     "output_type": "stream",
     "text": [
      " 5\n"
     ]
    },
    {
     "name": "stdout",
     "output_type": "stream",
     "text": [
      "# \n",
      "# # \n",
      "# # # \n",
      "# # # # \n",
      "# # # # # \n"
     ]
    }
   ],
   "source": [
    "n = int(input())\n",
    "\n",
    "for i in range(1, n+1):\n",
    "    for j in range(1, i+1):\n",
    "        print(\"#\", end=\" \")\n",
    "    print()"
   ]
  },
  {
   "cell_type": "code",
   "execution_count": 3,
   "id": "118596cc-19d8-4705-8ae8-50ab5e1c3c21",
   "metadata": {},
   "outputs": [
    {
     "data": {
      "text/plain": [
       "[1, 4, 9, 16, 25, 36, 49, 64, 81]"
      ]
     },
     "execution_count": 3,
     "metadata": {},
     "output_type": "execute_result"
    }
   ],
   "source": [
    "def square(x):\n",
    "    return x*x\n",
    "[square(x) for x in range(1,10)]"
   ]
  },
  {
   "cell_type": "code",
   "execution_count": 19,
   "id": "f78b5346-b1ea-43e4-8995-8644f54f349c",
   "metadata": {},
   "outputs": [
    {
     "name": "stdin",
     "output_type": "stream",
     "text": [
      " 3\n",
      " sai\n",
      " 35\n",
      " krish\n",
      " 88\n",
      " anna\n",
      " 10\n"
     ]
    },
    {
     "name": "stdout",
     "output_type": "stream",
     "text": [
      "['anna', 'krish', 'sai']\n"
     ]
    }
   ],
   "source": [
    "l = []\n",
    "n = []\n",
    "x = int(input())\n",
    "for i in range(x):\n",
    "    name = input()\n",
    "    score = float(input())\n",
    "    l.append([name,score])\n",
    "for name, score in l:\n",
    "    n.append(name)\n",
    "n.sort()\n",
    "print(n)"
   ]
  },
  {
   "cell_type": "code",
   "execution_count": 31,
   "id": "a721dd05-9d22-41fe-80a7-aa80227f3751",
   "metadata": {},
   "outputs": [
    {
     "name": "stdin",
     "output_type": "stream",
     "text": [
      " 5\n",
      " Harry\n",
      " 37.21\n",
      " Berry\n",
      " 37.21\n",
      " Tina\n",
      " 37.2\n",
      " Akrithi\n",
      " 41\n",
      " Harsh\n",
      " 39\n"
     ]
    },
    {
     "name": "stdout",
     "output_type": "stream",
     "text": [
      "Berry\n",
      "Harry\n"
     ]
    }
   ],
   "source": [
    "l = []\n",
    "for i in range(int(input())):\n",
    "    l.append([input(), float(input())])\n",
    "\n",
    "max_rec = min(l, key=lambda x: x[1])\n",
    "list_max_rec = [[i, j] for i, j in l if j == max_rec[1]]\n",
    "for i in list_max_rec:\n",
    "    if i in l:\n",
    "        l.remove(i)\n",
    "max_rec_1 = min(l, key=lambda x: x[1])\n",
    "list_max_rec_1 = [i for i, j in l if j == max_rec_1[1]]\n",
    "# list_max_rec_1\n",
    "for i in sorted(list_max_rec_1):\n",
    "    print(i)"
   ]
  },
  {
   "cell_type": "code",
   "execution_count": 28,
   "id": "4249f91b-adac-4c5e-9aa0-8ef58648a30a",
   "metadata": {},
   "outputs": [
    {
     "name": "stdin",
     "output_type": "stream",
     "text": [
      " 3\n",
      " sai\n",
      " 10,20,30\n"
     ]
    },
    {
     "name": "stdout",
     "output_type": "stream",
     "text": [
      "[[['10,20,30'], 'sai']]\n"
     ]
    },
    {
     "name": "stdin",
     "output_type": "stream",
     "text": [
      " kumar\n",
      " 20,30,40\n"
     ]
    },
    {
     "name": "stdout",
     "output_type": "stream",
     "text": [
      "[[['10,20,30'], 'sai'], [['20,30,40'], 'kumar']]\n"
     ]
    },
    {
     "name": "stdin",
     "output_type": "stream",
     "text": [
      " krishna\n",
      " 30,40,50\n"
     ]
    },
    {
     "name": "stdout",
     "output_type": "stream",
     "text": [
      "[[['10,20,30'], 'sai'], [['20,30,40'], 'kumar'], [['30,40,50'], 'krishna']]\n",
      "[['10,20,30'], 'sai']\n"
     ]
    }
   ],
   "source": [
    "l1 = []\n",
    "for i in range(int(input())):\n",
    "    m = input()\n",
    "    n = input().split()\n",
    "    l1.append([n, m])\n",
    "    print(l1)\n",
    "min_1 = min(l1, key=lambda x: x[0])\n"
   ]
  },
  {
   "cell_type": "code",
   "execution_count": 35,
   "id": "bd35b079-49de-48b1-ad6e-a59a451110e6",
   "metadata": {},
   "outputs": [
    {
     "name": "stdin",
     "output_type": "stream",
     "text": [
      " 2\n",
      " Mike 23 34 45\n",
      " Nick 34 45 56\n",
      " Nick\n"
     ]
    },
    {
     "data": {
      "text/plain": [
       "45.0"
      ]
     },
     "execution_count": 35,
     "metadata": {},
     "output_type": "execute_result"
    }
   ],
   "source": [
    "l = []\n",
    "\n",
    "for i in range(int(input())):\n",
    "    l.append(input().split())\n",
    "    \n",
    "d = {i: _ for i, *_ in l}\n",
    "query = input()\n",
    "\n",
    "sum(list(map(int, d[query]))) / len(d[query])"
   ]
  },
  {
   "cell_type": "code",
   "execution_count": 38,
   "id": "494e236c-2d31-4d48-8635-b6e85fbe75dd",
   "metadata": {},
   "outputs": [
    {
     "name": "stdin",
     "output_type": "stream",
     "text": [
      " 2\n",
      " Nick 34 45 56\n",
      " Mike 23 34 45\n",
      " Nick\n"
     ]
    },
    {
     "name": "stdout",
     "output_type": "stream",
     "text": [
      "45.0\n"
     ]
    }
   ],
   "source": [
    "l = []\n",
    "\n",
    "for i in range(int(input())):\n",
    "    l.append(input().split())\n",
    "    \n",
    "d = {i: _ for i, *_ in l}\n",
    "query = input()\n",
    "\n",
    "print(round((sum(list(map(int, d[query]))) / len(d[query])), 3))"
   ]
  },
  {
   "cell_type": "code",
   "execution_count": null,
   "id": "acb25647-3d28-4a9b-a6a4-5cd88f47ee5b",
   "metadata": {},
   "outputs": [],
   "source": [
    " Mike 23 34 45\n",
    "\n",
    "     Nick 34 45 56\n"
   ]
  },
  {
   "cell_type": "code",
   "execution_count": 41,
   "id": "c9f63f2d-1aed-46e0-91de-89ac2c0a41aa",
   "metadata": {},
   "outputs": [
    {
     "data": {
      "text/plain": [
       "22.0"
      ]
     },
     "execution_count": 41,
     "metadata": {},
     "output_type": "execute_result"
    }
   ],
   "source": [
    "round(22.000, 2)"
   ]
  },
  {
   "cell_type": "code",
   "execution_count": 70,
   "id": "b1ada302-f384-409b-9629-f72aa3868578",
   "metadata": {},
   "outputs": [
    {
     "data": {
      "text/plain": [
       "12.5"
      ]
     },
     "execution_count": 70,
     "metadata": {},
     "output_type": "execute_result"
    }
   ],
   "source": [
    "eval('12.50')"
   ]
  },
  {
   "cell_type": "code",
   "execution_count": 42,
   "id": "210437e0-a77b-4cd1-bf96-7a692a13cf71",
   "metadata": {},
   "outputs": [
    {
     "data": {
      "text/plain": [
       "0"
      ]
     },
     "execution_count": 42,
     "metadata": {},
     "output_type": "execute_result"
    }
   ],
   "source": [
    "dum = 12.0\n",
    "int(str(dum).split('.')[1])"
   ]
  },
  {
   "cell_type": "code",
   "execution_count": 75,
   "id": "76f1a159-4f14-46a1-a2ed-77a63baf6fd3",
   "metadata": {},
   "outputs": [
    {
     "name": "stdin",
     "output_type": "stream",
     "text": [
      " 3\n",
      " Krishna 67 68 69\n",
      " Arjun 70 98 63\n",
      " Malika 52 56 60\n",
      " Malika\n"
     ]
    },
    {
     "name": "stdout",
     "output_type": "stream",
     "text": [
      "//////////\n",
      "56.00\n"
     ]
    }
   ],
   "source": [
    "l = []\n",
    "\n",
    "for i in range(int(input())):\n",
    "    l.append(input().split())\n",
    "\n",
    "d = {`: _ for i, *_ in l}\n",
    "query = input()\n",
    "dum = round((sum(list(map(float, d[query]))) / len(d[query])), 2)\n",
    "if len(str(dum).split('.')[1]) != 2:\n",
    "    res = str(dum) + '0'\n",
    "    print('//////////')\n",
    "else:\n",
    "    res = dum\n",
    "    \n",
    "print(res)"
   ]
  },
  {
   "cell_type": "code",
   "execution_count": 80,
   "id": "8c6b9d8f-fa44-459c-ac80-1fe23f74009e",
   "metadata": {},
   "outputs": [
    {
     "name": "stdin",
     "output_type": "stream",
     "text": [
      " 2\n",
      " Krishna 67 68 69\n",
      " Arjun 70 98 63\n"
     ]
    },
    {
     "name": "stdout",
     "output_type": "stream",
     "text": [
      "Krishna\n",
      "['67', '68', '69']\n",
      "Arjun\n",
      "['70', '98', '63']\n"
     ]
    }
   ],
   "source": [
    "l = []\n",
    "\n",
    "for i in range(int(input())):\n",
    "    l.append(input().split())\n",
    "for i, *_ in l:\n",
    "    print(i)\n",
    "    print(_)"
   ]
  },
  {
   "cell_type": "code",
   "execution_count": 1,
   "id": "a987c746-ef02-4177-91b7-157676f31dc1",
   "metadata": {},
   "outputs": [
    {
     "name": "stdin",
     "output_type": "stream",
     "text": [
      " 20\n"
     ]
    },
    {
     "data": {
      "text/plain": [
       "[5, 17]"
      ]
     },
     "execution_count": 1,
     "metadata": {},
     "output_type": "execute_result"
    }
   ],
   "source": [
    "n = int(input())\n",
    "l = []\n",
    "res = []\n",
    "\n",
    "for i in range(2,n+1): \n",
    "    for j in range(2,i):\n",
    "        if i % j == 0:\n",
    "            break\n",
    "    else:\n",
    "        l.append(i)\n",
    "\n",
    "def check(num, l1):\n",
    "    s = 0\n",
    "    for j in [i for i in l1 if i < num]:\n",
    "        s += j\n",
    "        if num == s:\n",
    "            res.append(num)\n",
    "            return\n",
    "    \n",
    "    \n",
    "for i in range(1, len(l)):\n",
    "    check(l[i], l)\n",
    "\n",
    "res"
   ]
  },
  {
   "cell_type": "code",
   "execution_count": 3,
   "id": "427104d0-a973-4455-8179-97203e215b1d",
   "metadata": {},
   "outputs": [
    {
     "name": "stdin",
     "output_type": "stream",
     "text": [
      " 20\n"
     ]
    },
    {
     "name": "stdout",
     "output_type": "stream",
     "text": [
      "[2, 3, 5, 7, 11, 13, 17, 19]\n",
      "5\n",
      "10\n",
      "17\n",
      "28\n",
      "41\n",
      "58\n"
     ]
    }
   ],
   "source": [
    "n = int(input())\n",
    "l = []\n",
    "res = []\n",
    "\n",
    "for i in range(2,n+1): \n",
    "    for j in range(2,i):\n",
    "        if i % j == 0:\n",
    "            break\n",
    "    else:\n",
    "        l.append(i)\n",
    "print(l)\n",
    "sum2 = 0\n",
    "\n",
    "for i in range(2, len(l)):\n",
    "    for j in range(0,i):\n",
    "        sum2 += l[j]\n",
    "    print(sum2)\n",
    "    if sum2 in l:\n",
    "        # print(sum1)\n",
    "        ...\n",
    "        \n",
    "    sum2 = 0                                   \n",
    "        \n",
    "    "
   ]
  },
  {
   "cell_type": "code",
   "execution_count": 13,
   "id": "ef65b3bb-2f52-4bd6-b126-9e481afc3e42",
   "metadata": {},
   "outputs": [
    {
     "name": "stdout",
     "output_type": "stream",
     "text": [
      "[1]\n",
      "[1, 2]\n",
      "[1, 3, 2]\n"
     ]
    }
   ],
   "source": [
    "l = []\n",
    "l .append(1)\n",
    "print(l)\n",
    "l.append(2)\n",
    "print(l)\n",
    "l.insert(1,3)\n",
    "print(l)\n"
   ]
  },
  {
   "cell_type": "code",
   "execution_count": 20,
   "id": "304d9beb-5c4b-4816-8f1b-93055b302711",
   "metadata": {},
   "outputs": [
    {
     "name": "stdin",
     "output_type": "stream",
     "text": [
      " 5\n"
     ]
    },
    {
     "data": {
      "text/plain": [
       "[5, 5, 5]"
      ]
     },
     "execution_count": 20,
     "metadata": {},
     "output_type": "execute_result"
    }
   ],
   "source": [
    "l1 = []\n",
    "n = int(input())\n",
    "l1.insert(0,n)\n",
    "l1.insert(1,n)\n",
    "l1.insert(0,n)\n",
    "l1"
   ]
  },
  {
   "cell_type": "code",
   "execution_count": 7,
   "id": "42e08539-4ba0-460d-b042-737f3536cab9",
   "metadata": {},
   "outputs": [
    {
     "name": "stdin",
     "output_type": "stream",
     "text": [
      " 5\n"
     ]
    },
    {
     "data": {
      "text/plain": [
       "[1, 2, 3, 4, 5]"
      ]
     },
     "execution_count": 7,
     "metadata": {},
     "output_type": "execute_result"
    }
   ],
   "source": [
    "n = int(input())\n",
    "l = []\n",
    "for i in range(1, n+1):\n",
    "    l.append(i)\n",
    "l = "
   ]
  },
  {
   "cell_type": "code",
   "execution_count": 5,
   "id": "ed6057ac-c43a-42c0-accc-e5e5c3a86231",
   "metadata": {},
   "outputs": [
    {
     "ename": "KeyboardInterrupt",
     "evalue": "Interrupted by user",
     "output_type": "error",
     "traceback": [
      "\u001b[1;31m---------------------------------------------------------------------------\u001b[0m",
      "\u001b[1;31mKeyboardInterrupt\u001b[0m                         Traceback (most recent call last)",
      "\u001b[1;32m~\\AppData\\Local\\Temp/ipykernel_8204/2287051785.py\u001b[0m in \u001b[0;36m<module>\u001b[1;34m\u001b[0m\n\u001b[0;32m      1\u001b[0m \u001b[0ml\u001b[0m \u001b[1;33m=\u001b[0m \u001b[1;33m[\u001b[0m\u001b[1;33m]\u001b[0m\u001b[1;33m\u001b[0m\u001b[1;33m\u001b[0m\u001b[0m\n\u001b[1;32m----> 2\u001b[1;33m \u001b[0mn\u001b[0m \u001b[1;33m=\u001b[0m \u001b[0mint\u001b[0m\u001b[1;33m(\u001b[0m\u001b[0minput\u001b[0m\u001b[1;33m(\u001b[0m\u001b[1;33m)\u001b[0m\u001b[1;33m)\u001b[0m\u001b[1;33m\u001b[0m\u001b[1;33m\u001b[0m\u001b[0m\n\u001b[0m\u001b[0;32m      3\u001b[0m \u001b[1;32mfor\u001b[0m \u001b[0mi\u001b[0m \u001b[1;32min\u001b[0m \u001b[0mrange\u001b[0m\u001b[1;33m(\u001b[0m\u001b[0mn\u001b[0m\u001b[1;33m)\u001b[0m\u001b[1;33m:\u001b[0m\u001b[1;33m\u001b[0m\u001b[1;33m\u001b[0m\u001b[0m\n\u001b[0;32m      4\u001b[0m     \u001b[0ml\u001b[0m\u001b[1;33m.\u001b[0m\u001b[0mappend\u001b[0m\u001b[1;33m(\u001b[0m\u001b[0minput\u001b[0m\u001b[1;33m(\u001b[0m\u001b[1;33m)\u001b[0m \u001b[1;33m.\u001b[0m\u001b[0msplit\u001b[0m\u001b[1;33m(\u001b[0m\u001b[1;33m)\u001b[0m\u001b[1;33m)\u001b[0m\u001b[1;33m\u001b[0m\u001b[1;33m\u001b[0m\u001b[0m\n\u001b[0;32m      5\u001b[0m \u001b[0ml2\u001b[0m \u001b[1;33m=\u001b[0m\u001b[1;33m[\u001b[0m\u001b[1;33m]\u001b[0m\u001b[1;33m\u001b[0m\u001b[1;33m\u001b[0m\u001b[0m\n",
      "\u001b[1;32m~\\anaconda3\\lib\\site-packages\\ipykernel\\kernelbase.py\u001b[0m in \u001b[0;36mraw_input\u001b[1;34m(self, prompt)\u001b[0m\n\u001b[0;32m   1004\u001b[0m                 \u001b[1;34m\"raw_input was called, but this frontend does not support input requests.\"\u001b[0m\u001b[1;33m\u001b[0m\u001b[1;33m\u001b[0m\u001b[0m\n\u001b[0;32m   1005\u001b[0m             )\n\u001b[1;32m-> 1006\u001b[1;33m         return self._input_request(\n\u001b[0m\u001b[0;32m   1007\u001b[0m             \u001b[0mstr\u001b[0m\u001b[1;33m(\u001b[0m\u001b[0mprompt\u001b[0m\u001b[1;33m)\u001b[0m\u001b[1;33m,\u001b[0m\u001b[1;33m\u001b[0m\u001b[1;33m\u001b[0m\u001b[0m\n\u001b[0;32m   1008\u001b[0m             \u001b[0mself\u001b[0m\u001b[1;33m.\u001b[0m\u001b[0m_parent_ident\u001b[0m\u001b[1;33m[\u001b[0m\u001b[1;34m\"shell\"\u001b[0m\u001b[1;33m]\u001b[0m\u001b[1;33m,\u001b[0m\u001b[1;33m\u001b[0m\u001b[1;33m\u001b[0m\u001b[0m\n",
      "\u001b[1;32m~\\anaconda3\\lib\\site-packages\\ipykernel\\kernelbase.py\u001b[0m in \u001b[0;36m_input_request\u001b[1;34m(self, prompt, ident, parent, password)\u001b[0m\n\u001b[0;32m   1049\u001b[0m             \u001b[1;32mexcept\u001b[0m \u001b[0mKeyboardInterrupt\u001b[0m\u001b[1;33m:\u001b[0m\u001b[1;33m\u001b[0m\u001b[1;33m\u001b[0m\u001b[0m\n\u001b[0;32m   1050\u001b[0m                 \u001b[1;31m# re-raise KeyboardInterrupt, to truncate traceback\u001b[0m\u001b[1;33m\u001b[0m\u001b[1;33m\u001b[0m\u001b[0m\n\u001b[1;32m-> 1051\u001b[1;33m                 \u001b[1;32mraise\u001b[0m \u001b[0mKeyboardInterrupt\u001b[0m\u001b[1;33m(\u001b[0m\u001b[1;34m\"Interrupted by user\"\u001b[0m\u001b[1;33m)\u001b[0m \u001b[1;32mfrom\u001b[0m \u001b[1;32mNone\u001b[0m\u001b[1;33m\u001b[0m\u001b[1;33m\u001b[0m\u001b[0m\n\u001b[0m\u001b[0;32m   1052\u001b[0m             \u001b[1;32mexcept\u001b[0m \u001b[0mException\u001b[0m\u001b[1;33m:\u001b[0m\u001b[1;33m\u001b[0m\u001b[1;33m\u001b[0m\u001b[0m\n\u001b[0;32m   1053\u001b[0m                 \u001b[0mself\u001b[0m\u001b[1;33m.\u001b[0m\u001b[0mlog\u001b[0m\u001b[1;33m.\u001b[0m\u001b[0mwarning\u001b[0m\u001b[1;33m(\u001b[0m\u001b[1;34m\"Invalid Message:\"\u001b[0m\u001b[1;33m,\u001b[0m \u001b[0mexc_info\u001b[0m\u001b[1;33m=\u001b[0m\u001b[1;32mTrue\u001b[0m\u001b[1;33m)\u001b[0m\u001b[1;33m\u001b[0m\u001b[1;33m\u001b[0m\u001b[0m\n",
      "\u001b[1;31mKeyboardInterrupt\u001b[0m: Interrupted by user"
     ]
    }
   ],
   "source": [
    "l = []\n",
    "n = int(input())\n",
    "for i in range(n):\n",
    "    l.append(input() .split())\n",
    "l2 =[]\n",
    "for i in range(n):\n",
    "    if l[0][1] == \"insert\":\n",
    "        l2.insert(int(l[i][1],int(l[i][2])))\n",
    "    elif l[i][0] == \"print\":\n",
    "        print(l2)\n",
    "    elif l[i][0] == \"remove\":\n",
    "        l2.remove(int(l[i][1]))\n",
    "    elif l[i][0] == \"append\":\n",
    "        l2.append(int(l[i][1]))\n",
    "    elif l[i][0] == \"pop\":\n",
    "        l2.pop()\n",
    "    elif l[i][0] == \"sort\":\n",
    "        l2.sort()\n",
    "    elif[i][0] == \"revers\":\n",
    "        l2.revers()"
   ]
  },
  {
   "cell_type": "code",
   "execution_count": 14,
   "id": "b4d6ef9b-04bf-4778-801c-a0967b285ee8",
   "metadata": {},
   "outputs": [
    {
     "ename": "KeyboardInterrupt",
     "evalue": "Interrupted by user",
     "output_type": "error",
     "traceback": [
      "\u001b[1;31m---------------------------------------------------------------------------\u001b[0m",
      "\u001b[1;31mKeyboardInterrupt\u001b[0m                         Traceback (most recent call last)",
      "\u001b[1;32m~\\AppData\\Local\\Temp/ipykernel_8204/3384502517.py\u001b[0m in \u001b[0;36m<module>\u001b[1;34m\u001b[0m\n\u001b[0;32m      1\u001b[0m \u001b[0ml\u001b[0m \u001b[1;33m=\u001b[0m \u001b[1;33m[\u001b[0m\u001b[1;33m]\u001b[0m\u001b[1;33m\u001b[0m\u001b[1;33m\u001b[0m\u001b[0m\n\u001b[1;32m----> 2\u001b[1;33m \u001b[0ml\u001b[0m\u001b[1;33m.\u001b[0m\u001b[0minsert\u001b[0m\u001b[1;33m(\u001b[0m\u001b[1;36m0\u001b[0m\u001b[1;33m,\u001b[0m\u001b[0mint\u001b[0m\u001b[1;33m(\u001b[0m\u001b[0minput\u001b[0m\u001b[1;33m(\u001b[0m\u001b[1;33m)\u001b[0m\u001b[1;33m)\u001b[0m\u001b[1;33m)\u001b[0m\u001b[1;33m\u001b[0m\u001b[1;33m\u001b[0m\u001b[0m\n\u001b[0m\u001b[0;32m      3\u001b[0m \u001b[0ml\u001b[0m\u001b[1;33m.\u001b[0m\u001b[0minsert\u001b[0m\u001b[1;33m(\u001b[0m\u001b[1;36m1\u001b[0m\u001b[1;33m,\u001b[0m\u001b[0mint\u001b[0m\u001b[1;33m(\u001b[0m\u001b[0minput\u001b[0m\u001b[1;33m(\u001b[0m\u001b[1;33m)\u001b[0m\u001b[1;33m)\u001b[0m\u001b[1;33m)\u001b[0m\u001b[1;33m\u001b[0m\u001b[1;33m\u001b[0m\u001b[0m\n\u001b[0;32m      4\u001b[0m \u001b[0ml\u001b[0m\u001b[1;33m.\u001b[0m\u001b[0minsert\u001b[0m\u001b[1;33m(\u001b[0m\u001b[1;36m0\u001b[0m\u001b[1;33m,\u001b[0m\u001b[0mint\u001b[0m\u001b[1;33m(\u001b[0m\u001b[0minput\u001b[0m\u001b[1;33m(\u001b[0m\u001b[1;33m)\u001b[0m\u001b[1;33m)\u001b[0m\u001b[1;33m)\u001b[0m\u001b[1;33m\u001b[0m\u001b[1;33m\u001b[0m\u001b[0m\n\u001b[0;32m      5\u001b[0m \u001b[0mprint\u001b[0m\u001b[1;33m(\u001b[0m\u001b[0ml\u001b[0m\u001b[1;33m)\u001b[0m\u001b[1;33m\u001b[0m\u001b[1;33m\u001b[0m\u001b[0m\n",
      "\u001b[1;32m~\\anaconda3\\lib\\site-packages\\ipykernel\\kernelbase.py\u001b[0m in \u001b[0;36mraw_input\u001b[1;34m(self, prompt)\u001b[0m\n\u001b[0;32m   1004\u001b[0m                 \u001b[1;34m\"raw_input was called, but this frontend does not support input requests.\"\u001b[0m\u001b[1;33m\u001b[0m\u001b[1;33m\u001b[0m\u001b[0m\n\u001b[0;32m   1005\u001b[0m             )\n\u001b[1;32m-> 1006\u001b[1;33m         return self._input_request(\n\u001b[0m\u001b[0;32m   1007\u001b[0m             \u001b[0mstr\u001b[0m\u001b[1;33m(\u001b[0m\u001b[0mprompt\u001b[0m\u001b[1;33m)\u001b[0m\u001b[1;33m,\u001b[0m\u001b[1;33m\u001b[0m\u001b[1;33m\u001b[0m\u001b[0m\n\u001b[0;32m   1008\u001b[0m             \u001b[0mself\u001b[0m\u001b[1;33m.\u001b[0m\u001b[0m_parent_ident\u001b[0m\u001b[1;33m[\u001b[0m\u001b[1;34m\"shell\"\u001b[0m\u001b[1;33m]\u001b[0m\u001b[1;33m,\u001b[0m\u001b[1;33m\u001b[0m\u001b[1;33m\u001b[0m\u001b[0m\n",
      "\u001b[1;32m~\\anaconda3\\lib\\site-packages\\ipykernel\\kernelbase.py\u001b[0m in \u001b[0;36m_input_request\u001b[1;34m(self, prompt, ident, parent, password)\u001b[0m\n\u001b[0;32m   1049\u001b[0m             \u001b[1;32mexcept\u001b[0m \u001b[0mKeyboardInterrupt\u001b[0m\u001b[1;33m:\u001b[0m\u001b[1;33m\u001b[0m\u001b[1;33m\u001b[0m\u001b[0m\n\u001b[0;32m   1050\u001b[0m                 \u001b[1;31m# re-raise KeyboardInterrupt, to truncate traceback\u001b[0m\u001b[1;33m\u001b[0m\u001b[1;33m\u001b[0m\u001b[0m\n\u001b[1;32m-> 1051\u001b[1;33m                 \u001b[1;32mraise\u001b[0m \u001b[0mKeyboardInterrupt\u001b[0m\u001b[1;33m(\u001b[0m\u001b[1;34m\"Interrupted by user\"\u001b[0m\u001b[1;33m)\u001b[0m \u001b[1;32mfrom\u001b[0m \u001b[1;32mNone\u001b[0m\u001b[1;33m\u001b[0m\u001b[1;33m\u001b[0m\u001b[0m\n\u001b[0m\u001b[0;32m   1052\u001b[0m             \u001b[1;32mexcept\u001b[0m \u001b[0mException\u001b[0m\u001b[1;33m:\u001b[0m\u001b[1;33m\u001b[0m\u001b[1;33m\u001b[0m\u001b[0m\n\u001b[0;32m   1053\u001b[0m                 \u001b[0mself\u001b[0m\u001b[1;33m.\u001b[0m\u001b[0mlog\u001b[0m\u001b[1;33m.\u001b[0m\u001b[0mwarning\u001b[0m\u001b[1;33m(\u001b[0m\u001b[1;34m\"Invalid Message:\"\u001b[0m\u001b[1;33m,\u001b[0m \u001b[0mexc_info\u001b[0m\u001b[1;33m=\u001b[0m\u001b[1;32mTrue\u001b[0m\u001b[1;33m)\u001b[0m\u001b[1;33m\u001b[0m\u001b[1;33m\u001b[0m\u001b[0m\n",
      "\u001b[1;31mKeyboardInterrupt\u001b[0m: Interrupted by user"
     ]
    }
   ],
   "source": [
    "l = []\n",
    "l.insert(0,int(input()))\n",
    "l.insert(1,int(input()))\n",
    "l.insert(0,int(input()))\n",
    "print(l)\n",
    "l.remove(int(input()))\n",
    "l.append(int(input()))\n",
    "l.append(int(input()))\n",
    "l.sort(int(input()))\n",
    "print(l)\n",
    "l.pop()\n",
    "l.reverse()\n",
    "print(l)"
   ]
  },
  {
   "cell_type": "code",
   "execution_count": 35,
   "id": "a28419b0-a9c7-4519-83f7-4418d5fbfa55",
   "metadata": {},
   "outputs": [
    {
     "name": "stdin",
     "output_type": "stream",
     "text": [
      " sai ANNAM\n"
     ]
    },
    {
     "name": "stdout",
     "output_type": "stream",
     "text": [
      "SAI ANNAM\n",
      "sai annam\n",
      "SAI annam\n"
     ]
    }
   ],
   "source": [
    "s = input()\n",
    "s1 = s.upper()\n",
    "s2 = s.lower()\n",
    "\n",
    "print(s1)\n",
    "print(s2)\n",
    "print(s.swapcase())"
   ]
  },
  {
   "cell_type": "code",
   "execution_count": 36,
   "id": "38e4aa44-15b1-4353-ba07-c7d1977c6921",
   "metadata": {},
   "outputs": [
    {
     "name": "stdin",
     "output_type": "stream",
     "text": [
      " sai ANNAM\n"
     ]
    }
   ],
   "source": []
  },
  {
   "cell_type": "code",
   "execution_count": 38,
   "id": "444f4b61-ab3a-42c4-bd2b-85081a39d7ee",
   "metadata": {},
   "outputs": [
    {
     "name": "stdin",
     "output_type": "stream",
     "text": [
      " insert 1 2\n"
     ]
    },
    {
     "data": {
      "text/plain": [
       "['insert', '1', '2']"
      ]
     },
     "execution_count": 38,
     "metadata": {},
     "output_type": "execute_result"
    }
   ],
   "source": [
    "input().split()"
   ]
  },
  {
   "cell_type": "code",
   "execution_count": 47,
   "id": "347508d0-3e4c-4b61-8e03-6aea8ea75207",
   "metadata": {},
   "outputs": [
    {
     "name": "stdin",
     "output_type": "stream",
     "text": [
      " sort\n"
     ]
    },
    {
     "name": "stdout",
     "output_type": "stream",
     "text": [
      "None\n"
     ]
    },
    {
     "data": {
      "text/plain": [
       "[1, 2, 3, 0]"
      ]
     },
     "execution_count": 47,
     "metadata": {},
     "output_type": "execute_result"
    }
   ],
   "source": [
    "l = [1, 2, 3, 0]\n",
    "print(eval(str(l)+ '.' + input() + '()'))\n",
    "l"
   ]
  },
  {
   "cell_type": "code",
   "execution_count": 11,
   "id": "83720010-96cc-425c-beee-6d9fe1b16a8b",
   "metadata": {},
   "outputs": [
    {
     "name": "stdout",
     "output_type": "stream",
     "text": [
      "503 509 521 523 541 547 557 563 569 571 577 587 593 599 "
     ]
    }
   ],
   "source": [
    "for n in range(500,601):\n",
    "    rt = int(n**0.5)\n",
    "    for i in range(2,rt+1):\n",
    "        if n % i ==0:\n",
    "            break\n",
    "    else:\n",
    "        print(n, end=\" \")"
   ]
  },
  {
   "cell_type": "code",
   "execution_count": 14,
   "id": "8354c39a-960a-47d3-89a0-827e56df0c51",
   "metadata": {},
   "outputs": [
    {
     "data": {
      "text/plain": [
       "'print'"
      ]
     },
     "execution_count": 14,
     "metadata": {},
     "output_type": "execute_result"
    }
   ],
   "source": [
    "op = 'print'.split()\n",
    "op[0]"
   ]
  },
  {
   "cell_type": "code",
   "execution_count": 15,
   "id": "ac4f71a1-00fc-40a3-8c78-ca394af2d964",
   "metadata": {},
   "outputs": [
    {
     "name": "stdin",
     "output_type": "stream",
     "text": [
      " insert 5 3\n"
     ]
    },
    {
     "data": {
      "text/plain": [
       "['insert', '5', '3']"
      ]
     },
     "execution_count": 15,
     "metadata": {},
     "output_type": "execute_result"
    }
   ],
   "source": [
    "input().split()"
   ]
  },
  {
   "cell_type": "code",
   "execution_count": 19,
   "id": "6b988d16-fde1-4abf-86c7-d2d822308896",
   "metadata": {},
   "outputs": [
    {
     "data": {
      "text/plain": [
       "-6644214454873602895"
      ]
     },
     "execution_count": 19,
     "metadata": {},
     "output_type": "execute_result"
    }
   ],
   "source": [
    "hash((1,))"
   ]
  },
  {
   "cell_type": "code",
   "execution_count": 20,
   "id": "2612fe50-9e82-4cfa-a0c3-dbf3bc684108",
   "metadata": {},
   "outputs": [
    {
     "data": {
      "text/plain": [
       "-3550055125485641917"
      ]
     },
     "execution_count": 20,
     "metadata": {},
     "output_type": "execute_result"
    }
   ],
   "source": [
    "hash((1, 2))"
   ]
  },
  {
   "cell_type": "code",
   "execution_count": 21,
   "id": "b2a56a7b-93b9-4581-a479-601fe3af165c",
   "metadata": {},
   "outputs": [
    {
     "data": {
      "text/plain": [
       "3713081631934410656"
      ]
     },
     "execution_count": 21,
     "metadata": {},
     "output_type": "execute_result"
    }
   ],
   "source": [
    "3713081631934410656"
   ]
  },
  {
   "cell_type": "code",
   "execution_count": 3,
   "id": "f383d739-1554-49e7-96f0-15168745aa5b",
   "metadata": {},
   "outputs": [
    {
     "ename": "ValueError",
     "evalue": "empty separator",
     "output_type": "error",
     "traceback": [
      "\u001b[1;31m---------------------------------------------------------------------------\u001b[0m",
      "\u001b[1;31mValueError\u001b[0m                                Traceback (most recent call last)",
      "\u001b[1;32m~\\AppData\\Local\\Temp/ipykernel_12700/1391181793.py\u001b[0m in \u001b[0;36m<module>\u001b[1;34m\u001b[0m\n\u001b[0;32m      1\u001b[0m \u001b[0ms\u001b[0m \u001b[1;33m=\u001b[0m \u001b[1;34m'nikhil'\u001b[0m\u001b[1;33m\u001b[0m\u001b[1;33m\u001b[0m\u001b[0m\n\u001b[1;32m----> 2\u001b[1;33m \u001b[0ms\u001b[0m\u001b[1;33m.\u001b[0m\u001b[0msplit\u001b[0m\u001b[1;33m(\u001b[0m\u001b[1;34m''\u001b[0m\u001b[1;33m)\u001b[0m\u001b[1;33m\u001b[0m\u001b[1;33m\u001b[0m\u001b[0m\n\u001b[0m",
      "\u001b[1;31mValueError\u001b[0m: empty separator"
     ]
    }
   ],
   "source": [
    "s = 'nikhil'\n",
    "s.split('')"
   ]
  },
  {
   "cell_type": "code",
   "execution_count": 7,
   "id": "117ddf34-7553-4e3c-b3b4-50af6d8829b9",
   "metadata": {},
   "outputs": [
    {
     "data": {
      "text/plain": [
       "environ{'ALLUSERSPROFILE': 'C:\\\\ProgramData',\n",
       "        'APPDATA': 'C:\\\\Users\\\\hp\\\\AppData\\\\Roaming',\n",
       "        'COMMONPROGRAMFILES': 'C:\\\\Program Files\\\\Common Files',\n",
       "        'COMMONPROGRAMFILES(X86)': 'C:\\\\Program Files (x86)\\\\Common Files',\n",
       "        'COMMONPROGRAMW6432': 'C:\\\\Program Files\\\\Common Files',\n",
       "        'COMPUTERNAME': 'LAPTOP-5ETTVMJJ',\n",
       "        'COMSPEC': 'C:\\\\windows\\\\system32\\\\cmd.exe',\n",
       "        'CONDA_DEFAULT_ENV': 'base',\n",
       "        'CONDA_EXE': 'C:\\\\Users\\\\hp\\\\anaconda3\\\\Scripts\\\\conda.exe',\n",
       "        'CONDA_PREFIX': 'C:\\\\Users\\\\hp\\\\anaconda3',\n",
       "        'CONDA_PROMPT_MODIFIER': '(base) ',\n",
       "        'CONDA_PYTHON_EXE': 'C:\\\\Users\\\\hp\\\\anaconda3\\\\python.exe',\n",
       "        'CONDA_SHLVL': '1',\n",
       "        'DRIVERDATA': 'C:\\\\Windows\\\\System32\\\\Drivers\\\\DriverData',\n",
       "        'FPS_BROWSER_APP_PROFILE_STRING': 'Internet Explorer',\n",
       "        'FPS_BROWSER_USER_PROFILE_STRING': 'Default',\n",
       "        'HOMEDRIVE': 'C:',\n",
       "        'HOMEPATH': '\\\\Users\\\\hp',\n",
       "        'LOCALAPPDATA': 'C:\\\\Users\\\\hp\\\\AppData\\\\Local',\n",
       "        'LOGONSERVER': '\\\\\\\\LAPTOP-5ETTVMJJ',\n",
       "        'NUMBER_OF_PROCESSORS': '8',\n",
       "        'ONEDRIVE': 'C:\\\\Users\\\\hp\\\\OneDrive',\n",
       "        'ONEDRIVECONSUMER': 'C:\\\\Users\\\\hp\\\\OneDrive',\n",
       "        'ONLINESERVICES': 'Online Services',\n",
       "        'OS': 'Windows_NT',\n",
       "        'PATH': 'C:\\\\Users\\\\hp\\\\anaconda3;C:\\\\Users\\\\hp\\\\anaconda3\\\\Library\\\\mingw-w64\\\\bin;C:\\\\Users\\\\hp\\\\anaconda3\\\\Library\\\\usr\\\\bin;C:\\\\Users\\\\hp\\\\anaconda3\\\\Library\\\\bin;C:\\\\Users\\\\hp\\\\anaconda3\\\\Scripts;C:\\\\Users\\\\hp\\\\anaconda3\\\\bin;C:\\\\Users\\\\hp\\\\anaconda3\\\\condabin;C:\\\\Program Files\\\\Python310\\\\Scripts;C:\\\\Program Files\\\\Python310;C:\\\\windows\\\\system32;C:\\\\windows;C:\\\\windows\\\\System32\\\\Wbem;C:\\\\windows\\\\System32\\\\WindowsPowerShell\\\\v1.0;C:\\\\windows\\\\System32\\\\OpenSSH;C:\\\\Program Files\\\\Git\\\\cmd;C:\\\\Program Files\\\\JetBrains\\\\PyCharm Community Edition 2021.3.2\\\\bin;C:\\\\Users\\\\hp\\\\AppData\\\\Local\\\\Microsoft\\\\WindowsApps;C:\\\\Users\\\\hp\\\\AppData\\\\Local\\\\Programs\\\\Microsoft VS Code\\\\bin;C:\\\\Users\\\\hp\\\\AppData\\\\Local\\\\GitHubDesktop\\\\bin;C:\\\\Users\\\\hp\\\\AppData\\\\Roaming\\\\Python\\\\Python310\\\\Scripts;C:\\\\Program Files\\\\JetBrains\\\\PyCharm Community Edition 2021.3.2\\\\bin;.',\n",
       "        'PATHEXT': '.COM;.EXE;.BAT;.CMD;.VBS;.VBE;.JS;.JSE;.WSF;.WSH;.MSC;.PY;.PYW',\n",
       "        'PLATFORMCODE': 'KV',\n",
       "        'PROCESSOR_ARCHITECTURE': 'AMD64',\n",
       "        'PROCESSOR_IDENTIFIER': 'Intel64 Family 6 Model 140 Stepping 1, GenuineIntel',\n",
       "        'PROCESSOR_LEVEL': '6',\n",
       "        'PROCESSOR_REVISION': '8c01',\n",
       "        'PROGRAMDATA': 'C:\\\\ProgramData',\n",
       "        'PROGRAMFILES': 'C:\\\\Program Files',\n",
       "        'PROGRAMFILES(X86)': 'C:\\\\Program Files (x86)',\n",
       "        'PROGRAMW6432': 'C:\\\\Program Files',\n",
       "        'PROMPT': '(base) $P$G',\n",
       "        'PSMODULEPATH': 'C:\\\\Program Files\\\\WindowsPowerShell\\\\Modules;C:\\\\windows\\\\system32\\\\WindowsPowerShell\\\\v1.0\\\\Modules',\n",
       "        'PUBLIC': 'C:\\\\Users\\\\Public',\n",
       "        'REGIONCODE': 'APJ',\n",
       "        'SESSIONNAME': 'Console',\n",
       "        'SYSTEMDRIVE': 'C:',\n",
       "        'SYSTEMROOT': 'C:\\\\windows',\n",
       "        'TEMP': 'C:\\\\Users\\\\hp\\\\AppData\\\\Local\\\\Temp',\n",
       "        'TMP': 'C:\\\\Users\\\\hp\\\\AppData\\\\Local\\\\Temp',\n",
       "        'USERDOMAIN': 'LAPTOP-5ETTVMJJ',\n",
       "        'USERDOMAIN_ROAMINGPROFILE': 'LAPTOP-5ETTVMJJ',\n",
       "        'USERNAME': 'hp',\n",
       "        'USERPROFILE': 'C:\\\\Users\\\\hp',\n",
       "        'WINDIR': 'C:\\\\windows',\n",
       "        'ZES_ENABLE_SYSMAN': '1',\n",
       "        'PYDEVD_USE_FRAME_EVAL': 'NO',\n",
       "        'JPY_INTERRUPT_EVENT': '3140',\n",
       "        'IPY_INTERRUPT_EVENT': '3140',\n",
       "        'JPY_PARENT_PID': '3136',\n",
       "        'TERM': 'xterm-color',\n",
       "        'CLICOLOR': '1',\n",
       "        'PAGER': 'cat',\n",
       "        'GIT_PAGER': 'cat',\n",
       "        'MPLBACKEND': 'module://matplotlib_inline.backend_inline'}"
      ]
     },
     "execution_count": 7,
     "metadata": {},
     "output_type": "execute_result"
    }
   ],
   "source": [
    "import os\n",
    "\n",
    "os.environ"
   ]
  },
  {
   "cell_type": "code",
   "execution_count": 32,
   "id": "e0c96ded-9b46-41d3-9387-5d2444c412fe",
   "metadata": {},
   "outputs": [
    {
     "data": {
      "text/plain": [
       "2"
      ]
     },
     "execution_count": 32,
     "metadata": {},
     "output_type": "execute_result"
    }
   ],
   "source": [
    "s = 'ABCDCDC'\n",
    "s1 = 'CDC'\n",
    "c = 0\n",
    "for i in range((len(s)-len(s1)) + 1):\n",
    "    if s[i:len(s1)+i] == s1:\n",
    "        c += 1\n",
    "c"
   ]
  },
  {
   "cell_type": "code",
   "execution_count": 11,
   "id": "11417a8e-628d-429e-8739-d55294c277b5",
   "metadata": {},
   "outputs": [
    {
     "name": "stdin",
     "output_type": "stream",
     "text": [
      " 123\n"
     ]
    },
    {
     "name": "stdout",
     "output_type": "stream",
     "text": [
      "not strong\n"
     ]
    }
   ],
   "source": [
    "n = input()\n",
    "s = 0\n",
    "for i in n:\n",
    "    f = 1\n",
    "    for j in range(1, int(i)+1):\n",
    "        f *= j\n",
    "    s += f\n",
    "    \n",
    "if s == int(n):\n",
    "    print(\"strong\")\n",
    "else:\n",
    "    print(\"not strong\")"
   ]
  },
  {
   "cell_type": "code",
   "execution_count": 15,
   "id": "a446edec-96e4-4651-9eb8-478e309d985c",
   "metadata": {},
   "outputs": [
    {
     "name": "stdin",
     "output_type": "stream",
     "text": [
      " 145\n"
     ]
    },
    {
     "name": "stdout",
     "output_type": "stream",
     "text": [
      "strong\n"
     ]
    }
   ],
   "source": [
    "n = input()\n",
    "s = 0\n",
    "for i in n:\n",
    "    f = 1\n",
    "    for j in range(1,int(i)+1):\n",
    "        f *= j\n",
    "    s += f\n",
    "if s == int(n):\n",
    "    print(\"strong\")\n",
    "else:\n",
    "    print(\"not strong\")"
   ]
  },
  {
   "cell_type": "code",
   "execution_count": 29,
   "id": "80783d8b-41bc-460b-9edf-dd60f07083ed",
   "metadata": {},
   "outputs": [
    {
     "data": {
      "text/plain": [
       "'utf-8'"
      ]
     },
     "execution_count": 29,
     "metadata": {},
     "output_type": "execute_result"
    }
   ],
   "source": [
    "import chardet\n",
    "\n",
    "f = open('C:\\\\Users\\\\hp\\\\Downloads\\\\imdb.csv', mode='rb',).read()\n",
    "chardet.detect(f)['encoding']"
   ]
  },
  {
   "cell_type": "code",
   "execution_count": 25,
   "id": "24349c6c-9f6e-4bbb-b32b-21cfb5e891a0",
   "metadata": {
    "collapsed": true,
    "jupyter": {
     "outputs_hidden": true
    },
    "tags": []
   },
   "outputs": [
    {
     "name": "stdout",
     "output_type": "stream",
     "text": [
      "[('Nitesh Tiwari', [8.8]), ('Christopher Nolan', [8.6, 9.0, 8.5, 8.8, 8.5]), ('Makoto Shinkai', [8.6]), ('Olivier Nakache', [8.6]), ('Florian Henckel von Donnersmarck', [8.5]), ('Aamir Khan', [8.5]), ('Damien Chazelle', [8.3, 8.5]), ('Naoko Yamada', [8.4]), ('S.S. Rajamouli', [8.3]), ('Rajkumar Hirani', [8.4, 8.2]), ('Thomas Vinterberg', [8.3]), ('Amber Tamblyn', [8.3]), ('Lee Unkrich', [8.3]), ('Pete Docter', [8.2, 8.3]), ('Lenny Abrahamson', [8.2]), ('Juan José Campanella', [8.2]), ('Garth Davis', [8.1]), ('Byron Howard', [8.1]), ('Chan-wook Park', [8.1]), ('Tom McCarthy', [8.1]), ('Damián Szifron', [8.1]), ('Mel Gibson', [8.2, 7.8]), ('Tim Miller', [8.0]), ('Spike Jonze', [8.0]), ('Asghar Farhadi', [8.0]), ('Stephen Chbosky', [8.0]), ('Dean DeBlois', [8.1, 7.9]), ('Martin Scorsese', [7.3, 8.2, 8.5, 8.1, 7.5]), ('Kenneth Lonergan', [7.9]), ('Quentin Tarantino', [8.3, 7.8, 8.4, 7.1]), ('Matt Ross', [7.9]), ('Oriol Paulo', [7.9]), ('Dan Gilroy', [7.9]), ('Travis Knight', [7.9]), ('Taika Waititi', [7.9]), ('Jaco Van Dormael', [7.9]), ('Ken Loach', [7.9]), ('Wes Anderson', [8.1, 7.8, 7.8]), ('Anthony Russo', [7.9, 7.8]), ('Alfonso Cuarón', [7.9, 7.8]), ('Gabriele Muccino', [8.0, 7.7]), ('David Fincher', [8.1, 7.8, 7.7, 7.7, 7.8]), ('Theodore Melfi', [7.8]), ('James Cameron', [7.8]), (\"Gavin O'Connor\", [7.4, 8.2]), ('Abdellatif Kechiche', [7.8]), ('Josh Boone', [7.8]), ('Richard Curtis', [7.8]), ('Nathan Greno', [7.8]), ('Don Hall', [7.8]), ('Mark Herman', [7.8]), ('Rich Moore', [7.8]), ('Jonathan Dayton', [7.8]), ('Niels Arden Oplev', [7.8]), ('Gauri Shinde', [7.8]), ('Claude Barras', [7.8]), ('Aisling Walsh', [7.8]), ('Giuseppe Tornatore', [7.8]), ('Alfonso Gomez-Rejon', [7.8]), ('Alejandro González Iñárritu', [8.0, 7.8, 7.5]), ('Denis Villeneuve', [8.0, 8.1, 7.6, 6.9, 8.2]), ('Joss Whedon', [8.1, 7.4]), ('Matthew Vaughn', [7.7, 7.8, 7.7, 7.7]), ('Clint Eastwood', [7.5, 7.3, 8.2, 7.8]), ('David Mackenzie', [7.7]), ('Alex Garland', [7.7]), ('John Carney', [8.0, 7.4]), ('David Leveaux', [7.7]), ('James Marsh', [7.7]), ('Henry Selick', [7.7]), ('Paolo Genovese', [7.7]), ('David Cronenberg', [7.7]), ('Bruce Beresford', [7.7]), ('Hannes Holm', [7.7]), ('F. Gary Gray', [7.9, 7.4]), ('Steve McQueen', [8.1, 7.2, 7.6]), ('Ryan Coogler', [7.6]), ('Jemaine Clement', [7.6]), ('Bennett Miller', [7.6]), ('Maren Ade', [7.6]), ('Michael Dudok de Wit', [7.6]), ('Mark Osborne', [7.6]), ('Pedro Almodóvar', [7.6]), ('J.J. Abrams', [8.1, 8.0, 7.8, 7.1, 6.9]), ('Pierre Coffin', [7.7, 7.4]), ('Martin McDonagh', [7.9, 7.2]), ('Morten Tyldum', [7.0, 8.1]), ('J.A. Bayona', [7.5, 7.6]), ('David Lynch', [8.1, 7.0]), ('Xavier Dolan', [8.1, 7.0]), ('Paul Greengrass', [6.7, 8.1, 7.8]), ('Tom Hooper', [7.6, 7.0, 8.0]), ('Tom Ford', [7.5]), ('Barry Jenkins', [7.5]), ('Robin Swicord', [7.5]), ('Chris Buck', [7.5]), ('Julia Ducournau', [7.5]), ('Jim Jarmusch', [7.5]), ('Sang-ho Yeon', [7.5]), ('Kathryn Bigelow', [7.4, 7.6])] {('James Gunn', 'Chris Pratt, Vin Diesel, Bradley Cooper, Zoe Saldana'): 1, ('Ridley Scott', 'Noomi Rapace, Logan Marshall-Green, Michael Fassbender, Charlize Theron'): 1, ('M. Night Shyamalan', 'James McAvoy, Anya Taylor-Joy, Haley Lu Richardson, Jessica Sula'): 1, ('Christophe Lourdelet', 'Matthew McConaughey,Reese Witherspoon, Seth MacFarlane, Scarlett Johansson'): 1, ('David Ayer', 'Will Smith, Jared Leto, Margot Robbie, Viola Davis'): 1, ('Yimou Zhang', 'Matt Damon, Tian Jing, Willem Dafoe, Andy Lau'): 1, ('Damien Chazelle', 'Ryan Gosling, Emma Stone, Rosemarie DeWitt, J.K. Simmons'): 1, ('Sean Foley', 'Essie Davis, Andrea Riseborough, Julian Barratt,Kenneth Branagh'): 1, ('James Gray', 'Charlie Hunnam, Robert Pattinson, Sienna Miller, Tom Holland'): 1, ('Morten Tyldum', 'Jennifer Lawrence, Chris Pratt, Michael Sheen,Laurence Fishburne'): 1, ('David Yates', 'Eddie Redmayne, Katherine Waterston, Alison Sudol,Dan Fogler'): 1, ('Theodore Melfi', 'Taraji P. Henson, Octavia Spencer, Janelle Monáe,Kevin Costner'): 1, ('Gareth Edwards', 'Felicity Jones, Diego Luna, Alan Tudyk, Donnie Yen'): 1, ('Ron Clements', \"Auli'i Cravalho, Dwayne Johnson, Rachel House, Temuera Morrison\"): 1, ('Nacho Vigalondo', 'Anne Hathaway, Jason Sudeikis, Austin Stowell,Tim Blake Nelson'): 1, ('Chris Renaud', 'Louis C.K., Eric Stonestreet, Kevin Hart, Lake Bell'): 1, ('Mel Gibson', 'Andrew Garfield, Sam Worthington, Luke Bracey,Teresa Palmer'): 1, ('Paul Greengrass', 'Matt Damon, Tommy Lee Jones, Alicia Vikander,Vincent Cassel'): 1, ('Garth Davis', 'Dev Patel, Nicole Kidman, Rooney Mara, Sunny Pawar'): 1, ('Denis Villeneuve', 'Amy Adams, Jeremy Renner, Forest Whitaker,Michael Stuhlbarg'): 1, ('Stephen Gaghan', 'Matthew McConaughey, Edgar Ramírez, Bryce Dallas Howard, Corey Stoll'): 1, ('Kenneth Lonergan', 'Casey Affleck, Michelle Williams, Kyle Chandler,Lucas Hedges'): 1, ('Ben Young', 'Emma Booth, Ashleigh Cummings, Stephen Curry,Susie Porter'): 1, ('Walt Dohrn', 'Anna Kendrick, Justin Timberlake,Zooey Deschanel, Christopher Mintz-Plasse'): 1, ('Roland Emmerich', 'Liam Hemsworth, Jeff Goldblum, Bill Pullman,Maika Monroe'): 1, ('Dominique Abel', 'Fiona Gordon, Dominique Abel,Emmanuelle Riva, Pierre Richard'): 1, ('S.S. Rajamouli', 'Prabhas, Rana Daggubati, Anushka Shetty,Tamannaah Bhatia'): 1, ('Phillip Guzman', 'Jocelin Donahue, Jesse Bradford, Jesse Borrego,Lori Petty'): 1, ('Jon Lucas', 'Mila Kunis, Kathryn Hahn, Kristen Bell,Christina Applegate'): 1, ('Justin Kurzel', 'Michael Fassbender, Marion Cotillard, Jeremy Irons,Brendan Gleeson'): 1, ('John Hamburg', 'Zoey Deutch, James Franco, Tangie Ambrose,Cedric the Entertainer'): 1, ('Tom Ford', 'Amy Adams, Jake Gyllenhaal, Michael Shannon, Aaron Taylor-Johnson'): 1, ('Bryan Singer', 'James McAvoy, Michael Fassbender, Jennifer Lawrence, Nicholas Hoult'): 1, ('Tim Miller', 'Ryan Reynolds, Morena Baccarin, T.J. Miller, Ed Skrein'): 1, ('Paul W.S. Anderson', 'Milla Jovovich, Iain Glen, Ali Larter, Shawn Roberts'): 1, ('Anthony Russo', 'Chris Evans, Robert Downey Jr.,Scarlett Johansson, Sebastian Stan'): 1, ('Christopher Nolan', 'Matthew McConaughey, Anne Hathaway, Jessica Chastain, Mackenzie Foy'): 1, ('Scott Derrickson', 'Benedict Cumberbatch, Chiwetel Ejiofor, Rachel McAdams, Benedict Wong'): 1, ('Antoine Fuqua', \"Denzel Washington, Chris Pratt, Ethan Hawke,Vincent D'Onofrio\"): 1, ('Patrick Read Johnson', 'John Francis Daley, Austin Pendleton, Colleen Camp, Neil Flynn'): 1, ('Greg Tiernan', 'Seth Rogen, Kristen Wiig, Jonah Hill, Alistair Abell'): 1, ('Barry Jenkins', 'Mahershala Ali, Shariff Earp, Duan Sanderson, Alex R. Hibbert'): 1, ('Shawn Burkett', 'Brittany Blanton, Ayse Howard, Roman Jossart,Nadia White'): 1, ('John Lee Hancock', 'Michael Keaton, Nick Offerman, John Carroll Lynch, Linda Cardellini'): 1, ('Ricardo de Montreuil', 'Gabriel Chavarria, Demián Bichir, Theo Rossi,Tony Revolori'): 1, ('Rob Marshall', 'Johnny Depp, Penélope Cruz, Ian McShane, Geoffrey Rush'): 1, ('John Madden', 'Jessica Chastain, Mark Strong, Gugu Mbatha-Raw,Michael Stuhlbarg'): 1, ('Scott Hicks', 'Hermione Corfield, Addison Timlin, Joely Richardson,Jeremy Irvine'): 1, ('Justin Lin', 'Chris Pine, Zachary Quinto, Karl Urban, Zoe Saldana'): 1, ('Sean Penn', 'Charlize Theron, Javier Bardem, Adèle Exarchopoulos,Jared Harris'): 1, ('J.J. Abrams', 'Daisy Ridley, John Boyega, Oscar Isaac, Domhnall Gleeson'): 1, ('Anna Foerster', 'Kate Beckinsale, Theo James, Tobias Menzies, Lara Pulver'): 1, ('Garry Marshall', 'Jennifer Aniston, Kate Hudson, Julia Roberts, Jason Sudeikis'): 1, ('Chad Stahelski', 'Keanu Reeves, Michael Nyqvist, Alfie Allen, Willem Dafoe'): 1, ('Christopher Nolan', 'Christian Bale, Heath Ledger, Aaron Eckhart,Michael Caine'): 1, ('Martin Scorsese', 'Andrew Garfield, Adam Driver, Liam Neeson,Tadanobu Asano'): 1, ('Fede Alvarez', 'Stephen Lang, Jane Levy, Dylan Minnette, Daniel Zovatto'): 1, ('Thea Sharrock', 'Emilia Clarke, Sam Claflin, Janet McTeer, Charles Dance'): 1, ('Lone Scherfig', 'Gemma Arterton, Sam Claflin, Bill Nighy, Jack Huston'): 1, ('Clint Eastwood', 'Tom Hanks, Aaron Eckhart, Laura Linney, Valerie Mahaffey'): 1, ('Zack Snyder', 'Ben Affleck, Henry Cavill, Amy Adams, Jesse Eisenberg'): 1, ('André Øvredal', 'Brian Cox, Emile Hirsch, Ophelia Lovibond, Michael McElhatton'): 1, ('Tate Taylor', 'Emily Blunt, Haley Bennett, Rebecca Ferguson, Justin Theroux'): 1, ('Sam Taylor-Johnson', 'Dakota Johnson, Jamie Dornan, Jennifer Ehle,Eloise Mumford'): 1, ('Christopher Nolan', 'Christian Bale, Hugh Jackman, Scarlett Johansson, Michael Caine'): 1, ('Matthew Vaughn', 'Colin Firth, Taron Egerton, Samuel L. Jackson,Michael Caine'): 1, ('Peter Berg', 'Mark Wahlberg, Michelle Monaghan, J.K. Simmons, John Goodman'): 1, ('George Miller', 'Tom Hardy, Charlize Theron, Nicholas Hoult, Zoë Kravitz'): 1, ('Robin Swicord', \"Bryan Cranston, Jennifer Garner, Beverly D'Angelo,Jason O'Mara\"): 1, ('Peter Berg', 'Mark Wahlberg, Kurt Russell, Douglas M. Griffin, James DuMont'): 1, ('Terry George', 'Oscar Isaac, Charlotte Le Bon, Christian Bale, Daniel Giménez Cacho'): 1, ('Robert Zemeckis', 'Brad Pitt, Marion Cotillard, Jared Harris, Vincent Ebrahim'): 1, ('J.A. Bayona', 'Lewis MacDougall, Sigourney Weaver, Felicity Jones,Toby Kebbell'): 1, ('David Frankel', 'Will Smith, Edward Norton, Kate Winslet, Michael Peña'): 1, ('Byron Howard', 'Ginnifer Goodwin, Jason Bateman, Idris Elba, Jenny Slate'): 1, ('Gore Verbinski', 'Johnny Depp, Orlando Bloom, Keira Knightley,Geoffrey Rush'): 1, ('Joss Whedon', 'Robert Downey Jr., Chris Evans, Scarlett Johansson,Jeremy Renner'): 1, ('Quentin Tarantino', 'Brad Pitt, Diane Kruger, Eli Roth,Mélanie Laurent'): 1, ('Gore Verbinski', 'Johnny Depp, Orlando Bloom, Keira Knightley, Jack Davenport'): 1, ('Paul Feig', 'Melissa McCarthy, Kristen Wiig, Kate McKinnon, Leslie Jones'): 1, ('Christopher Nolan', 'Leonardo DiCaprio, Joseph Gordon-Levitt, Ellen Page, Ken Watanabe'): 1, ('Matt Ross', 'Viggo Mortensen, George MacKay, Samantha Isler,Annalise Basso'): 1, ('Martin Scorsese', 'Leonardo DiCaprio, Jonah Hill, Margot Robbie,Matthew McConaughey'): 1, ('David Fincher', 'Ben Affleck, Rosamund Pike, Neil Patrick Harris,Tyler Perry'): 1, ('James Wan', 'Vin Diesel, Paul Walker, Dwayne Johnson, Jason Statham'): 1, ('Colin Trevorrow', 'Chris Pratt, Bryce Dallas Howard, Ty Simpkins,Judy Greer'): 1, ('Ben Affleck', 'Ben Affleck, Elle Fanning, Brendan Gleeson, Chris Messina'): 1, ('James Cameron', 'Sam Worthington, Zoe Saldana, Sigourney Weaver, Michelle Rodriguez'): 1, ('Quentin Tarantino', 'Samuel L. Jackson, Kurt Russell, Jennifer Jason Leigh, Walton Goggins'): 1, (\"Gavin O'Connor\", 'Ben Affleck, Anna Kendrick, J.K. Simmons, Jon Bernthal'): 1, ('Denis Villeneuve', 'Hugh Jackman, Jake Gyllenhaal, Viola Davis,Melissa Leo'): 1, ('Duncan Jones', 'Travis Fimmel, Paula Patton, Ben Foster, Dominic Cooper'): 1, ('Tate Taylor', 'Emma Stone, Viola Davis, Octavia Spencer, Bryce Dallas Howard'): 1, ('Todd Phillips', 'Jonah Hill, Miles Teller, Steve Lantz, Gregg Weiner'): 1, ('Joss Whedon', 'Robert Downey Jr., Chris Evans, Mark Ruffalo, Chris Hemsworth'): 1, ('Shane Black', 'Russell Crowe, Ryan Gosling, Angourie Rice, Matt Bomer'): 1, ('Makoto Shinkai', 'Ryûnosuke Kamiki, Mone Kamishiraishi, Ryô Narita, Aoi Yuki'): 1, ('Jeremy Gillespie', 'Aaron Poole, Kenneth Welsh,Daniel Fathers, Kathleen Munroe'): 1, ('Olivier Assayas', 'Kristen Stewart, Lars Eidinger, Sigrid Bouaziz,Anders Danielsen Lie'): 1, ('Martin Scorsese', 'Leonardo DiCaprio, Matt Damon, Jack Nicholson, Mark Wahlberg'): 1, ('Brian Helgeland', 'Tom Hardy, Emily Browning, Taron Egerton, Paul Anderson'): 1, ('Kenneth Branagh', 'Chris Hemsworth, Anthony Hopkins, Natalie Portman, Tom Hiddleston'): 1, ('Ridley Scott', 'Matt Damon, Jessica Chastain, Kristen Wiig, Kate Mara'): 1, ('Oriol Paulo', 'Mario Casas, Ana Wagener, José Coronado, Bárbara Lennie'): 1, ('Guy Ritchie', 'Henry Cavill, Armie Hammer, Alicia Vikander, Elizabeth Debicki'): 1, ('David Mackenzie', 'Chris Pine, Ben Foster, Jeff Bridges, Gil Birmingham'): 1, ('Taylor Hackford', 'Robert De Niro, Leslie Mann, Danny DeVito, Edie Falco'): 1, ('David Yates', 'Alexander Skarsgård, Rory J. Saper, Christian Stevens, Christoph Waltz'): 1, ('Katie Holmes', 'Eve Lindley, Richard Kind, Mark Consuelos, Katherine Reis'): 1, ('Alex Garland', 'Alicia Vikander, Domhnall Gleeson, Oscar Isaac,Sonoya Mizuno'): 1, ('Greg McLean', 'John Gallagher Jr., Tony Goldwyn, Adria Arjona, John C. McGinley'): 1, ('Steve McQueen', 'Chiwetel Ejiofor, Michael Kenneth Williams, Michael Fassbender, Brad Pitt'): 1, ('Ana Lily Amirpour', 'Keanu Reeves, Jason Momoa, Jim Carrey, Diego Luna'): 1, ('Zack Snyder', 'Gerard Butler, Lena Headey, David Wenham, Dominic West'): 1, ('David Yates', 'Daniel Radcliffe, Emma Watson, Rupert Grint, Michael Gambon'): 1, ('Josh Gordon', 'Jason Bateman, Olivia Munn, T.J. Miller,Jennifer Aniston'): 1, ('Nicolas Winding Refn', 'Elle Fanning, Christina Hendricks, Keanu Reeves, Karl Glusman'): 1, ('Nitesh Tiwari', 'Aamir Khan, Sakshi Tanwar, Fatima Sana Shaikh,Sanya Malhotra'): 1, ('Dan Trachtenberg', 'John Goodman, Mary Elizabeth Winstead, John Gallagher Jr., Douglas M. Griffin'): 1, ('Andrew Stanton', \"Ellen DeGeneres, Albert Brooks,Ed O'Neill, Kaitlin Olson\"): 1, ('Tim Burton', 'Eva Green, Asa Butterfield, Samuel L. Jackson, Judi Dench'): 1, ('Neil Burger', 'Shailene Woodley, Theo James, Kate Winslet, Jai Courtney'): 1, ('Jake Szymanski', 'Zac Efron, Adam Devine, Anna Kendrick, Aubrey Plaza'): 1, ('Todor Chapkanov', 'Scott Adkins, Teodora Duhovnikova, Alon Aboutboul, Julian Vergov'): 1, ('Christopher Nolan', 'Christian Bale, Tom Hardy, Anne Hathaway,Gary Oldman'): 1, ('Jon Favreau', 'Neel Sethi, Bill Murray, Ben Kingsley, Idris Elba'): 1, ('Michael Bay', 'Mark Wahlberg, Nicola Peltz, Jack Reynor, Stanley Tucci'): 1, ('Henry Joost', 'Emma Roberts, Dave Franco, Emily Meade, Miles Heizer'): 1, ('Phyllida Lloyd', 'Meryl Streep, Pierce Brosnan, Amanda Seyfried,Stellan Skarsgård'): 1, ('Alejandro González Iñárritu', 'Leonardo DiCaprio, Tom Hardy, Will Poulter, Domhnall Gleeson'): 1, ('Denzel Washington', 'Denzel Washington, Viola Davis, Stephen Henderson, Jovan Adepo'): 1, ('Rob Marshall', 'Anna Kendrick, Meryl Streep, Chris Pine, Emily Blunt'): 1, ('Jaume Collet-Serra', 'Blake Lively, Óscar Jaenada, Angelo Josue Lozano Corzo, Brett Cullen'): 1, ('Damien Chazelle', 'Miles Teller, J.K. Simmons, Melissa Benoist, Paul Reiser'): 1, ('Justin Lin', 'Vin Diesel, Paul Walker, Dwayne Johnson, Michelle Rodriguez'): 1, ('Derek Cianfrance', 'Ryan Gosling, Bradley Cooper, Eva Mendes,Craig Van Hook'): 1, ('Ethan Coen', 'Tommy Lee Jones, Javier Bardem, Josh Brolin, Woody Harrelson'): 1, ('Baz Luhrmann', 'Leonardo DiCaprio, Carey Mulligan, Joel Edgerton,Tobey Maguire'): 1, ('Martin Scorsese', 'Leonardo DiCaprio, Emily Mortimer, Mark Ruffalo,Ben Kingsley'): 1, ('Martin Koolhoven', 'Dakota Fanning, Guy Pearce, Kit Harington,Carice van Houten'): 1, ('J.J. Abrams', 'Chris Pine, Zachary Quinto, Simon Pegg, Leonard Nimoy'): 1, ('Thor Freudenthal', 'Zachary Gordon, Robert Capron, Rachael Harris,Steve Zahn'): 1, ('Adam McKay', 'Christian Bale, Steve Carell, Ryan Gosling, Brad Pitt'): 1, ('Lenny Abrahamson', 'Brie Larson, Jacob Tremblay, Sean Bridgers,Wendy Crewson'): 1, ('Quentin Tarantino', 'Jamie Foxx, Christoph Waltz, Leonardo DiCaprio,Kerry Washington'): 1, ('Chan-wook Park', 'Min-hee Kim, Jung-woo Ha, Jin-woong Jo, So-ri Moon'): 1, ('Kelly Fremon Craig', 'Hailee Steinfeld, Haley Lu Richardson, Blake Jenner, Kyra Sedgwick'): 1, ('Zack Snyder', 'Jackie Earle Haley, Patrick Wilson, Carla Gugino,Malin Akerman'): 1, ('Greg Mottola', 'Michael Cera, Jonah Hill, Christopher Mintz-Plasse, Bill Hader'): 1, ('Ron Howard', 'Tom Hanks, Felicity Jones, Irrfan Khan, Ben Foster'): 1, ('Steven Spielberg', 'Mark Rylance, Ruby Barnhill, Penelope Wilton,Jemaine Clement'): 1, ('Gary Ross', 'Jennifer Lawrence, Josh Hutcherson, Liam Hemsworth,Stanley Tucci'): 1, ('Elizabeth Wood', 'Morgan Saylor, Brian Marc, Justin Bartha, Adrian Martinez'): 1, ('Denis Villeneuve', 'Emily Blunt, Josh Brolin, Benicio Del Toro, Jon Bernthal'): 1, ('David Lynch', 'Chris Isaak, Kiefer Sutherland, C.H. Evans, Sandra Kinder'): 1, ('Colin Strause', 'Reiko Aylesworth, Steven Pasquale,Shareeka Epps, John Ortiz'): 1, ('Guillermo del Toro', 'Idris Elba, Charlie Hunnam, Rinko Kikuchi,Charlie Day'): 1, ('Glenn Ficarra', 'Steve Carell, Ryan Gosling, Julianne Moore, Emma Stone'): 1, ('Edgar Wright', 'Michael Cera, Mary Elizabeth Winstead, Kieran Culkin, Alison Pill'): 1, ('Edgar Wright', 'Simon Pegg, Nick Frost, Martin Freeman, Bill Nighy'): 1, ('Fabio Guaglione', 'Armie Hammer, Annabelle Wallis,Tom Cullen, Clint Dyer'): 1, ('Ben Wheatley', 'Sharlto Copley, Brie Larson, Armie Hammer, Cillian Murphy'): 1, ('Bryan Singer', 'Patrick Stewart, Ian McKellen, Hugh Jackman, James McAvoy'): 1, ('Edward Zwick', 'Tom Cruise, Cobie Smulders, Aldis Hodge, Robert Knepper'): 1, ('Martin Campbell', 'Daniel Craig, Eva Green, Judi Dench, Jeffrey Wright'): 1, ('Catherine Hardwicke', 'Kristen Stewart, Robert Pattinson, Billy Burke,Sarah Clarke'): 1, ('Jon M. Chu', 'Jesse Eisenberg, Mark Ruffalo, Woody Harrelson, Dave Franco'): 1, ('Simon Curtis', 'Helen Mirren, Ryan Reynolds, Daniel Brühl, Katie Holmes'): 1, ('Michael Bay', 'John Krasinski, Pablo Schreiber, James Badge Dale,David Denman'): 1, ('Sam Mendes', 'Daniel Craig, Christoph Waltz, Léa Seydoux, Ralph Fiennes'): 1, ('Dan Gilroy', 'Jake Gyllenhaal, Rene Russo, Bill Paxton, Riz Ahmed'): 1, ('Travis Knight', 'Charlize Theron, Art Parkinson, Matthew McConaughey, Ralph Fiennes'): 1, ('Jackson Stewart', 'Graham Skipper, Chase Williamson, Brea Grant,Barbara Crampton'): 1, ('Spike Jonze', 'Joaquin Phoenix, Amy Adams, Scarlett Johansson,Rooney Mara'): 1, ('Chris Buck', 'Kristen Bell, Idina Menzel, Jonathan Groff, Josh Gad'): 1, ('Brad Bird', 'George Clooney, Britt Robertson, Hugh Laurie, Raffey Cassidy'): 1, ('Matt Reeves', 'Gary Oldman, Keri Russell, Andy Serkis, Kodi Smit-McPhee'): 1, ('Ben Stiller', 'Ben Stiller, Jack Black, Robert Downey Jr., Jeff Kahn'): 1, ('James Wan', \"Vera Farmiga, Patrick Wilson, Madison Wolfe, Frances O'Connor\"): 1, ('Peyton Reed', 'Paul Rudd, Michael Douglas, Corey Stoll, Evangeline Lilly'): 1, ('Sharon Maguire', 'Renée Zellweger, Gemma Jones, Jim Broadbent,Sally Phillips'): 1, ('Robert Eggers', 'Anya Taylor-Joy, Ralph Ineson, Kate Dickie, Julian Richings'): 1, ('Kenneth Branagh', 'Lily James, Cate Blanchett, Richard Madden,Helena Bonham Carter'): 1, ('Mateo Gil', 'Tom Hughes, Charlotte Le Bon, Oona Chaplin, Barry Ward'): 1, ('Asghar Farhadi', 'Taraneh Alidoosti, Shahab Hosseini, Babak Karimi,Farid Sajjadi Hosseini'): 1, ('Gaspar Noé', 'Aomi Muyock, Karl Glusman, Klara Kristin, Juan Saavedra'): 1, ('Ang Lee', 'Joe Alwyn, Garrett Hedlund, Arturo Castro, Mason Lee'): 1, ('Guillermo del Toro', 'Mia Wasikowska, Jessica Chastain, Tom Hiddleston, Charlie Hunnam'): 1, ('Nicolas Winding Refn', 'Ryan Gosling, Carey Mulligan, Bryan Cranston, Albert Brooks'): 1, ('Judd Apatow', 'Amy Schumer, Bill Hader, Brie Larson, Colin Quinn'): 1, ('Derek Cianfrance', 'Michael Fassbender, Alicia Vikander, Rachel Weisz, Florence Clery'): 1, ('April Mullen', 'Erika Linder, Natalie Krill, Sebastian Pigott, Mayko Nguyen'): 1, ('Tom McCarthy', 'Mark Ruffalo, Michael Keaton, Rachel McAdams, Liev Schreiber'): 1, ('Luke Scott', 'Kate Mara, Anya Taylor-Joy, Rose Leslie, Michael Yare'): 1, (\"Gavin O'Connor\", 'Tom Hardy, Nick Nolte, Joel Edgerton, Jennifer Morrison'): 1, ('Joe Johnston', 'Chris Evans, Hugo Weaving, Samuel L. Jackson,Hayley Atwell'): 1, ('Akan Satayev', 'Callan McAuliffe, Lorraine Nicholson, Daniel Eric Gold, Clifton Collins Jr.'): 1, ('Sean Penn', 'Emile Hirsch, Vince Vaughn, Catherine Keener, Marcia Gay Harden'): 1, ('Morten Tyldum', 'Benedict Cumberbatch, Keira Knightley, Matthew Goode, Allen Leech'): 1, ('Rawson Marshall Thurber', 'Dwayne Johnson, Kevin Hart, Danielle Nicolet, Amy Ryan'): 1, ('Doug Liman', 'Tom Cruise, Emily Blunt, Bill Paxton, Brendan Gleeson'): 1, ('Gore Verbinski', 'Dane DeHaan, Jason Isaacs, Mia Goth, Ivo Nandi'): 1, ('Oliver Stone', 'Joseph Gordon-Levitt, Shailene Woodley, Melissa Leo,Zachary Quinto'): 1, ('Jon Favreau', 'Robert Downey Jr., Gwyneth Paltrow, Terrence Howard, Jeff Bridges'): 1, ('Robert Schwentke', 'Shailene Woodley, Theo James, Jeff Daniels,Naomi Watts'): 1, ('Matthew Vaughn', 'James McAvoy, Michael Fassbender, Jennifer Lawrence, Kevin Bacon'): 1, ('Julia Ducournau', 'Garance Marillier, Ella Rumpf, Rabah Nait Oufella,Laurent Lucas'): 1, ('Jim Jarmusch', 'Adam Driver, Golshifteh Farahani, Nellie, Rizwan Manji'): 1, ('Paul Feig', 'Kristen Wiig, Maya Rudolph, Rose Byrne, Terry Crews'): 1, ('Colm McCarthy', 'Gemma Arterton, Glenn Close, Dominique Tipper,Paddy Considine'): 1, ('Brad Peyton', 'Dwayne Johnson, Carla Gugino, Alexandra Daddario,Colton Haynes'): 1, ('Harmony Korine', 'Vanessa Hudgens, Selena Gomez, Ashley Benson,Rachel Korine'): 1, ('Michael Bay', 'Shia LaBeouf, Megan Fox, Josh Duhamel, Tyrese Gibson'): 1, ('Spike Lee', 'Josh Brolin, Elizabeth Olsen, Samuel L. Jackson, Sharlto Copley'): 1, ('Alan Taylor', 'Chris Hemsworth, Natalie Portman, Tom Hiddleston,Stellan Skarsgård'): 1, ('Alex Proyas', 'Brenton Thwaites, Nikolaj Coster-Waldau, Gerard Butler, Chadwick Boseman'): 1, ('Anthony Russo', 'Chris Evans, Samuel L. Jackson,Scarlett Johansson, Robert Redford'): 1, ('Chris Wedge', 'Lucas Till, Jane Levy, Thomas Lennon, Barry Pepper'): 1, ('Liam Gavin', 'Mark Huberman, Susan Loughnane, Steve Oram,Catherine Walker'): 1, ('Matthew Vaughn', 'Aaron Taylor-Johnson, Nicolas Cage, Chloë Grace Moretz, Garrett M. Brown'): 1, ('Ilya Naishuller', 'Sharlto Copley, Tim Roth, Haley Bennett, Danila Kozlovsky'): 1, ('John Lasseter', 'Owen Wilson, Bonnie Hunt, Paul Newman, Larry the Cable Guy'): 1, ('David Robert Mitchell', 'Maika Monroe, Keir Gilchrist, Olivia Luccardi,Lili Sepe'): 1, ('David Fincher', 'Daniel Craig, Rooney Mara, Christopher Plummer,Stellan Skarsgård'): 1, ('Rawson Marshall Thurber', 'Jason Sudeikis, Jennifer Aniston, Emma Roberts, Ed Helms'): 1, ('Andrea Arnold', 'Sasha Lane, Shia LaBeouf, Riley Keough, McCaul Lombardi'): 1, ('Yorgos Lanthimos', 'Colin Farrell, Rachel Weisz, Jessica Barden,Olivia Colman'): 1, ('Nimród Antal', 'Adrien Brody, Laurence Fishburne, Topher Grace,Alice Braga'): 1, ('Robert Stromberg', 'Angelina Jolie, Elle Fanning, Sharlto Copley,Lesley Manville'): 1, ('Steven Shainberg', 'Noomi Rapace, Michael Chiklis, Kerry Bishé,Peter Stormare'): 1, ('Guillermo del Toro', 'Ivana Baquero, Ariadna Gil, Sergi López,Maribel Verdú'): 1, ('Andy Goddard', 'Patrick Wilson, Jessica Biel, Haley Bennett, Vincent Kartheiser'): 1, ('Mel Gibson', 'Gerardo Taracena, Raoul Max Trujillo, Dalia Hernández,Rudy Youngblood'): 1, ('Christopher McQuarrie', 'Tom Cruise, Rebecca Ferguson, Jeremy Renner, Simon Pegg'): 1, ('Cedric Nicolas-Troyan', 'Chris Hemsworth, Jessica Chastain, Charlize Theron, Emily Blunt'): 1, ('Stephen Chbosky', 'Logan Lerman, Emma Watson, Ezra Miller, Paul Rudd'): 1, ('Pablo Larraín', 'Natalie Portman, Peter Sarsgaard, Greta Gerwig,Billy Crudup'): 1, ('D.J. Caruso', 'Kate Beckinsale, Mel Raido, Duncan Joiner, Lucas Till'): 1, ('Wes Anderson', 'Ralph Fiennes, F. Murray Abraham, Mathieu Amalric,Adrien Brody'): 1, ('Andrew Niccol', 'Saoirse Ronan, Max Irons, Jake Abel, Diane Kruger'): 1, ('David Ayer', 'Brad Pitt, Shia LaBeouf, Logan Lerman, Michael Peña'): 1, ('Pete Docter', 'Amy Poehler, Bill Hader, Lewis Black, Mindy Kaling'): 1, ('Ash Brannon', 'Luke Wilson, Eddie Izzard, J.K. Simmons, Lewis Black'): 1, ('Alan Taylor', 'Arnold Schwarzenegger, Jason Clarke, Emilia Clarke,Jai Courtney'): 1, ('Chris Columbus', 'Logan Lerman, Kevin McKidd, Steve Coogan,Brandon T. Jackson'): 1, ('Tom Hooper', 'Hugh Jackman, Russell Crowe, Anne Hathaway,Amanda Seyfried'): 1, ('Alfonso Cuarón', 'Julianne Moore, Clive Owen, Chiwetel Ejiofor,Michael Caine'): 1, ('Mike Mills', 'Annette Bening, Elle Fanning, Greta Gerwig, Billy Crudup'): 1, ('Paul Feig', 'Melissa McCarthy, Rose Byrne, Jude Law, Jason Statham'): 1, ('Olivier Nakache', 'François Cluzet, Omar Sy, Anne Le Ny, Audrey Fleurot'): 1, ('Eleanor Coppola', 'Diane Lane, Alec Baldwin, Arnaud Viard, Linda Gegusch'): 1, ('Yorgos Lanthimos', 'Christos Stergioglou, Michele Valley, Angeliki Papoulia, Hristos Passalis'): 1, ('F. Gary Gray', \"O'Shea Jackson Jr., Corey Hawkins, Jason Mitchell,Neil Brown Jr.\"): 1, ('Marc Webb', 'Andrew Garfield, Emma Stone, Jamie Foxx, Paul Giamatti'): 1, ('James Wan', 'Patrick Wilson, Vera Farmiga, Ron Livingston, Lili Taylor'): 1, ('Todd Phillips', 'Zach Galifianakis, Bradley Cooper, Justin Bartha, Ed Helms'): 1, ('Peter Berg', 'Alexander Skarsgård, Brooklyn Decker, Liam Neeson,Rihanna'): 1, ('Rupert Wyatt', 'James Franco, Andy Serkis, Freida Pinto, Karin Konoval'): 1, ('David F. Sandberg', 'Teresa Palmer, Gabriel Bateman, Maria Bello,Billy Burke'): 1, ('Joseph Cedar', 'Richard Gere, Lior Ashkenazi, Michael Sheen,Charlotte Gainsbourg'): 1, ('Alejandro González Iñárritu', 'Michael Keaton, Zach Galifianakis,Edward Norton, Andrea Riseborough'): 1, ('Darren Aronofsky', 'Natalie Portman, Mila Kunis, Vincent Cassel,Winona Ryder'): 1, ('Justin Simien', 'Tyler James Williams, Tessa Thompson, Kyle Gallner,Teyonah Parris'): 1, ('Lars von Trier', 'Charlotte Gainsbourg, Stellan Skarsgård, Stacy Martin, Shia LaBeouf'): 1, ('Dave Green', 'Megan Fox, Will Arnett, Tyler Perry, Laura Linney'): 1, ('Eli Roth', 'Keanu Reeves, Lorenza Izzo, Ana de Armas, Aaron Burns'): 1, ('Dan Mazer', 'Robert De Niro, Zac Efron, Zoey Deutch, Aubrey Plaza'): 1, ('Tom Tykwer', 'Tom Hanks, Halle Berry, Hugh Grant, Hugo Weaving'): 1, ('Gavin Hood', 'Hugh Jackman, Liev Schreiber, Ryan Reynolds, Danny Huston'): 1, ('Jeffrey G. Hunt', 'Sarah Hyland, Steven Krueger, Justin Chon, Clara Mamet'): 1, ('Sam Mendes', 'Daniel Craig, Javier Bardem, Naomie Harris, Judi Dench'): 1, ('Peter Jackson', 'Martin Freeman, Ian McKellen, Richard Armitage,Andy Serkis'): 1, ('Phil Lord', 'Jonah Hill, Channing Tatum, Ice Cube,Brie Larson'): 1, ('John Carney', 'Ferdia Walsh-Peelo, Aidan Gillen, Maria Doyle Kennedy, Jack Reynor'): 1, ('Eric Summer', 'Elle Fanning, Dane DeHaan, Carly Rae Jepsen, Maddie Ziegler'): 1, ('Joseph Kosinski', 'Tom Cruise, Morgan Freeman, Andrea Riseborough, Olga Kurylenko'): 1, ('Phil Lord', 'Channing Tatum, Jonah Hill, Ice Cube,Nick Offerman'): 1, ('David Fincher', 'Jake Gyllenhaal, Robert Downey Jr., Mark Ruffalo,Anthony Edwards'): 1, ('Richard Linklater', 'Blake Jenner, Tyler Hoechlin, Ryan Guzman,Zoey Deutch'): 1, ('Shane Black', 'Robert Downey Jr., Guy Pearce, Gwyneth Paltrow,Don Cheadle'): 1, ('Louis Leterrier', 'Jesse Eisenberg, Common, Mark Ruffalo, Woody Harrelson'): 1, ('Guy Ritchie', 'Robert Downey Jr., Jude Law, Rachel McAdams, Mark Strong'): 1, ('Quentin Tarantino', 'Kurt Russell, Zoë Bell, Rosario Dawson, Vanessa Ferlito'): 1, ('Tom Hooper', 'Eddie Redmayne, Alicia Vikander, Amber Heard, Ben Whishaw'): 1, ('Brett Ratner', 'Dwayne Johnson, John Hurt, Ian McShane, Joseph Fiennes'): 1, ('Zack Snyder', 'Emily Browning, Vanessa Hudgens, Abbie Cornish,Jena Malone'): 1, ('Greg Mottola', 'Zach Galifianakis, Isla Fisher, Jon Hamm, Gal Gadot'): 1, ('Lana Wachowski', 'Channing Tatum, Mila Kunis,Eddie Redmayne, Sean Bean'): 1, ('Jared Hess', 'Zach Galifianakis, Kristen Wiig, Owen Wilson, Ross Kimball'): 1, ('Jalil Lespert', 'Romain Duris, Charlotte Le Bon, Jalil Lespert, Camille Cottin'): 1, ('Sang-ho Yeon', 'Yoo Gong, Soo-an Kim, Yu-mi Jung, Dong-seok Ma'): 1, ('Jason Moore', 'Anna Kendrick, Brittany Snow, Rebel Wilson, Anna Camp'): 1, ('Nicholas Stoller', 'Seth Rogen, Rose Byrne, Zac Efron, Chloë Grace Moretz'): 1, ('David Leveaux', 'Lily James, Jai Courtney, Christopher Plummer, Loïs van Wijk'): 1, ('Zack Snyder', 'Henry Cavill, Amy Adams, Michael Shannon, Diane Lane'): 1, ('Ross Katz', 'Benjamin Walker, Teresa Palmer, Alexandra Daddario,Maggie Grace'): 1, ('Mike Thurmeier', 'Ray Romano, Denis Leary, John Leguizamo, Chris Wedge'): 1, ('David Frankel', 'Anne Hathaway, Meryl Streep, Adrian Grenier, Emily Blunt'): 1, ('Brad Furman', 'Bryan Cranston, John Leguizamo, Diane Kruger, Amy Ryan'): 1, ('Paul Thomas Anderson', 'Daniel Day-Lewis, Paul Dano, Ciarán Hinds,Martin Stringer'): 1, ('Antoine Fuqua', 'Denzel Washington, Marton Csokas, Chloë Grace Moretz, David Harbour'): 1, ('Peter Berg', 'Mark Wahlberg, Taylor Kitsch, Emile Hirsch, Ben Foster'): 1, ('Drew Goddard', 'Kristen Connolly, Chris Hemsworth, Anna Hutchison,Fran Kranz'): 1, ('Fred Wolf', 'Anna Faris, Colin Hanks, Emma Stone, Kat Dennings'): 1, ('Jim Field Smith', 'Jay Baruchel, Alice Eve, T.J. Miller, Mike Vogel'): 1, ('Paul Thomas Anderson', 'Joaquin Phoenix, Josh Brolin, Owen Wilson,Katherine Waterston'): 1, ('James Bobin', 'Mia Wasikowska, Johnny Depp, Helena Bonham Carter, Anne Hathaway'): 1, ('Gary Michael Schultz', 'Emile Hirsch, Zoë Kravitz, Zoey Deutch,Emory Cohen'): 1, ('Justin Lin', 'Lucas Black, Zachery Ty Bryan, Shad Moss, Damien Marzette'): 1, ('Christian Ditter', 'Dakota Johnson, Rebel Wilson, Leslie Mann, Alison Brie'): 1, ('John Lee Hancock', 'Quinton Aaron, Sandra Bullock, Tim McGraw,Jae Head'): 1, ('Abdellatif Kechiche', 'Léa Seydoux, Adèle Exarchopoulos, Salim Kechiouche, Aurélien Recoing'): 1, ('Jennifer Kent', 'Essie Davis, Noah Wiseman, Daniel Henshall, Hayley McElhinney'): 1, ('Peter Jackson', 'Ian McKellen, Martin Freeman, Richard Armitage,Cate Blanchett'): 1, ('David Yates', 'Daniel Radcliffe, Emma Watson, Rupert Grint, Brendan Gleeson'): 1, ('Bong Joon Ho', 'Chris Evans, Jamie Bell, Tilda Swinton, Ed Harris'): 1, ('J Blakeson', 'Chloë Grace Moretz, Matthew Zuk, Gabriela Lopez,Bailey Anne Borders'): 1, ('Dan Berk', 'Connor Paolo, Nick Damici, Laura Abramsen, A.C. Peterson'): 1, ('M. Night Shyamalan', 'Olivia DeJonge, Ed Oxenbould, Deanna Dunagan, Peter McRobbie'): 1, ('Justin Lin', 'Vin Diesel, Paul Walker, Dwayne Johnson, Jordana Brewster'): 1, ('Anne Fletcher', \"Channing Tatum, Jenna Dewan Tatum, Damaine Radcliff, De'Shawn Washington\"): 1, ('So Yong Kim', 'Riley Keough, Jena Malone, Jessie Ok Gray, Cary Joji Fukunaga'): 1, ('Guy Ritchie', 'Gerard Butler, Tom Wilkinson, Idris Elba, Thandie Newton'): 1, ('Andrew Niccol', 'Justin Timberlake, Amanda Seyfried, Cillian Murphy,Olivia Wilde'): 1, ('David Fincher', 'Jesse Eisenberg, Andrew Garfield, Justin Timberlake,Rooney Mara'): 1, ('Breck Eisner', 'Vin Diesel, Rose Leslie, Elijah Wood, Ólafur Darri Ólafsson'): 1, ('Paul McGuigan', 'Daniel Radcliffe, James McAvoy, Jessica Brown Findlay, Andrew Scott'): 1, ('Roger Spottiswoode', 'Luke Treadaway, Bob the Cat, Ruta Gedmintas, Joanne Froggatt'): 1, ('Jeremy Saulnier', 'Anton Yelchin, Imogen Poots, Alia Shawkat,Patrick Stewart'): 1, ('Michael Mann', 'Chris Hemsworth, Viola Davis, Wei Tang, Leehom Wang'): 1, ('Nicholas Stoller', 'Andy Samberg, Katie Crown,Kelsey Grammer, Jennifer Aniston'): 1, ('Clint Eastwood', 'Bradley Cooper, Sienna Miller, Kyle Gallner, Cole Konis'): 1, ('Jean-Marc Vallée', 'Matthew McConaughey, Jennifer Garner, Jared Leto, Steve Zahn'): 1, ('Steven Spielberg', 'Daniel Day-Lewis, Sally Field, David Strathairn,Joseph Gordon-Levitt'): 1, ('Ron Howard', 'Daniel Brühl, Chris Hemsworth, Olivia Wilde,Alexandra Maria Lara'): 1, ('Mike Flanagan', 'Kate Bosworth, Thomas Jane, Jacob Tremblay,Annabeth Gish'): 1, ('David O. Russell', 'Bradley Cooper, Jennifer Lawrence, Robert De Niro, Jacki Weaver'): 1, ('Alexi Pappas', 'Alexi Pappas, Chase Offerle, Rachel Dratch, Andy Buckley'): 1, ('Josh Boone', 'Shailene Woodley, Ansel Elgort, Nat Wolff, Laura Dern'): 1, ('Frank Coraci', 'Adam Sandler, Drew Barrymore, Wendi McLendon-Covey, Kevin Nealon'): 1, ('Justin Lin', 'Vin Diesel, Paul Walker, Michelle Rodriguez, Jordana Brewster'): 1, ('Rian Johnson', 'Joseph Gordon-Levitt, Bruce Willis, Emily Blunt, Paul Dano'): 1, ('Roland Emmerich', 'Channing Tatum, Jamie Foxx, Maggie Gyllenhaal,Jason Clarke'): 1, ('David Lowery', 'Bryce Dallas Howard, Robert Redford, Oakes Fegley,Oona Laurence'): 1, ('Sam Raimi', 'Tobey Maguire, Kirsten Dunst, Topher Grace, Thomas Haden Church'): 1, ('Paul W.S. Anderson', 'Logan Lerman, Matthew Macfadyen, Ray Stevenson, Milla Jovovich'): 1, ('Matthew Vaughn', 'Charlie Cox, Claire Danes, Sienna Miller, Ian McKellen'): 1, ('David O. Russell', 'Christian Bale, Amy Adams, Bradley Cooper,Jennifer Lawrence'): 1, ('Karyn Kusama', 'Megan Fox, Amanda Seyfried, Adam Brody, Johnny Simmons'): 1, ('Woody Allen', 'Owen Wilson, Rachel McAdams, Kathy Bates, Kurt Fuller'): 1, ('William Oldroyd', 'Florence Pugh, Christopher Fairbank, Cosmo Jarvis, Naomi Ackie'): 1, ('David O. Russell', 'Jennifer Lawrence, Robert De Niro, Bradley Cooper, Edgar Ramírez'): 1, ('Jocelyn Moorhouse', 'Kate Winslet, Judy Davis, Liam Hemsworth,Hugo Weaving'): 1, ('Woody Allen', 'Jesse Eisenberg, Kristen Stewart, Steve Carell, Blake Lively'): 1, ('Robert Schwentke', 'Shailene Woodley, Ansel Elgort, Theo James,Kate Winslet'): 1, ('Sergei Bodrov', 'Ben Barnes, Julianne Moore, Jeff Bridges, Alicia Vikander'): 1, ('Hugo Gélin', 'Omar Sy, Clémence Poésy, Antoine Bertrand, Ashley Walters'): 1, ('James Marsh', 'Eddie Redmayne, Felicity Jones, Tom Prior, Sophie Perry'): 1, ('Evan Goldberg', 'James Franco, Jonah Hill, Seth Rogen,Jay Baruchel'): 1, ('Richard Curtis', 'Domhnall Gleeson, Rachel McAdams, Bill Nighy,Lydia Wilson'): 1, ('Adam McKay', 'Will Ferrell, John C. Reilly, Mary Steenburgen,Richard Jenkins'): 1, ('Jon Watts', 'Andy Powers, Laura Allen, Peter Stormare, Christian Distefano'): 1, ('J.J. Abrams', 'Chris Pine, Zachary Quinto, Zoe Saldana, Benedict Cumberbatch'): 1, ('Ruben Fleischer', 'Jesse Eisenberg, Emma Stone, Woody Harrelson,Abigail Breslin'): 1, ('Ethan Coen', 'Josh Brolin, George Clooney, Alden Ehrenreich, Ralph Fiennes'): 1, ('Danny Boyle', 'Dev Patel, Freida Pinto, Saurabh Shukla, Anil Kapoor'): 1, ('Bill Condon', 'Kristen Stewart, Robert Pattinson, Taylor Lautner, Peter Facinelli'): 1, ('Alex Ranarivelo', 'William Fichtner, Jon Voight, Lia Marie Johnson,Gabriel Basso'): 1, ('Marc Webb', 'Andrew Garfield, Emma Stone, Rhys Ifans, Irrfan Khan'): 1, ('Timur Bekmambetov', 'Jack Huston, Toby Kebbell, Rodrigo Santoro,Nazanin Boniadi'): 1, ('J.D. Dillard', 'Jacob Latimore, Seychelle Gabriel, Dulé Hill, Storm Reid'): 1, ('Wes Ball', \"Dylan O'Brien, Kaya Scodelario, Will Poulter, Thomas Brodie-Sangster\"): 1, ('Ariel Vromen', 'Kevin Costner, Ryan Reynolds, Gal Gadot, Gary Oldman'): 1, ('Timur Bekmambetov', 'Angelina Jolie, James McAvoy, Morgan Freeman, Terence Stamp'): 1, ('Stephen Frears', 'Meryl Streep, Hugh Grant, Simon Helberg, Rebecca Ferguson'): 1, ('Eran Creevy', 'Nicholas Hoult, Felicity Jones, Anthony Hopkins, Ben Kingsley'): 1, ('Scott Cooper', 'Johnny Depp, Benedict Cumberbatch, Dakota Johnson, Joel Edgerton'): 1, ('Ryan Coogler', 'Michael B. Jordan, Sylvester Stallone, Tessa Thompson, Phylicia Rashad'): 1, ('Dan Kwan', 'Paul Dano, Daniel Radcliffe, Mary Elizabeth Winstead, Antonia Ribero'): 1, ('Patrick Hughes', 'Sylvester Stallone, Jason Statham, Jet Li, Antonio Banderas'): 1, ('Jemaine Clement', 'Jemaine Clement, Taika Waititi,Cori Gonzalez-Macuer, Jonny Brugh'): 1, ('Antoine Fuqua', 'Jake Gyllenhaal, Rachel McAdams, Oona Laurence,Forest Whitaker'): 1, ('Mike Flanagan', 'John Gallagher Jr., Kate Siegel, Michael Trucco,Samantha Sloyan'): 1, ('Steven Spielberg', 'Tom Hanks, Mark Rylance, Alan Alda, Amy Ryan'): 1, ('Phil Lord', 'Chris Pratt, Will Ferrell, Elizabeth Banks, Will Arnett'): 1, ('Baltasar Kormákur', 'Jason Clarke, Ang Phula Sherpa, Thomas M. Wright, Martin Henderson'): 1, ('Chris Columbus', 'Adam Sandler, Kevin James, Michelle Monaghan,Peter Dinklage'): 1, ('Ridley Scott', 'Russell Crowe, Cate Blanchett, Matthew Macfadyen,Max von Sydow'): 1, ('James Mangold', 'Hugh Jackman, Will Yun Lee, Tao Okamoto, Rila Fukushima'): 1, ('Andrew Stanton', 'Taylor Kitsch, Lynn Collins, Willem Dafoe,Samantha Morton'): 1, ('Peter Atencio', 'Keegan-Michael Key, Jordan Peele, Tiffany Haddish,Method Man'): 1, ('Pierre Morel', 'Sean Penn, Idris Elba, Jasmine Trinca, Javier Bardem'): 1, ('Danny Boyle', 'Michael Fassbender, Kate Winslet, Seth Rogen, Jeff Daniels'): 1, ('Gillies MacKinnon', 'Tim Pigott-Smith, Naomi Battrick, Ellie Kendrick,James Cosmo'): 1, ('Dennis Dugan', 'Adam Sandler, Kevin James, Chris Rock, David Spade'): 1, ('Lee Toland Krieger', 'Blake Lively, Michiel Huisman, Harrison Ford,Kathy Baker'): 1, ('Louis Leterrier', 'Edward Norton, Liv Tyler, Tim Roth, William Hurt'): 1, ('Peter Billingsley', 'Vince Vaughn, Malin Akerman, Jon Favreau, Jason Bateman'): 1, ('Terry Jones', 'Simon Pegg, Kate Beckinsale, Sanjeev Bhaskar, Rob Riggle'): 1, ('Steven Soderbergh', 'Channing Tatum, Alex Pettyfer, Olivia Munn,Matthew McConaughey'): 1, ('Kyle Balda', 'Sandra Bullock, Jon Hamm, Michael Keaton, Pierre Coffin'): 1, ('Rolfe Kanefsky', 'Natasha Henstridge, Lukas Hassel, Lin Shaye,Dominique Swain'): 1, ('Nicolas Winding Refn', 'Tom Hardy, Kelly Adams, Luing Andrews,Katy Barker'): 1, ('Pierre Coffin', 'Steve Carell, Jason Segel, Russell Brand, Julie Andrews'): 1, ('Michael Hoffman', 'James Marsden, Michelle Monaghan, Luke Bracey,Liana Liberato'): 1, ('Karyn Kusama', 'Logan Marshall-Green, Emayatzy Corinealdi, Michiel Huisman, Tammy Blanchard'): 1, ('Kathryn Bigelow', 'Jessica Chastain, Joel Edgerton, Chris Pratt, Mark Strong'): 1, ('Nathan Greno', 'Mandy Moore, Zachary Levi, Donna Murphy, Ron Perlman'): 1, ('Francis Lawrence', 'Jennifer Lawrence, Josh Hutcherson, Liam Hemsworth, Woody Harrelson'): 1, ('John Francis Daley', 'Ed Helms, Christina Applegate, Skyler Gisondo, Steele Stebbins'): 1, ('Pierre Morel', 'Liam Neeson, Maggie Grace, Famke Janssen, Leland Orser'): 1, ('Elizabeth Banks', 'Anna Kendrick, Rebel Wilson, Hailee Steinfeld,Brittany Snow'): 1, ('Dan Scanlon', 'Billy Crystal, John Goodman, Steve Buscemi, Helen Mirren'): 1, ('Paul Verhoeven', 'Isabelle Huppert, Laurent Lafitte, Anne Consigny,Charles Berling'): 1, ('Dennis Gansel', 'Jason Statham, Jessica Alba, Tommy Lee Jones,Michelle Yeoh'): 1, ('Kevin Smith', 'Justin Long, Michael Parks, Haley Joel Osment,Genesis Rodriguez'): 1, ('Mark Williams', 'Alison Brie, Gerard Butler, Willem Dafoe, Gretchen Mol'): 1, ('Joe Wright', 'Keira Knightley, James McAvoy, Brenda Blethyn,Saoirse Ronan'): 1, ('David Yates', 'Daniel Radcliffe, Emma Watson, Rupert Grint, Bill Nighy'): 1, ('Steve McQueen', 'Michael Fassbender, Carey Mulligan, James Badge Dale, Lucy Walters'): 1, ('Joe Wright', 'Saoirse Ronan, Cate Blanchett, Eric Bana, Vicky Krieps'): 1, ('David Ross', 'Lauren Birkell, Paul Borghese, Chira Cassel, Anthony Cirillo'): 1, ('Burr Steers', 'Lily James, Sam Riley, Jack Huston, Bella Heathcote'): 1, ('Noam Murro', 'Sullivan Stapleton, Eva Green, Lena Headey, Hans Matheson'): 1, ('Babak Najafi', 'Gerard Butler, Aaron Eckhart, Morgan Freeman,Angela Bassett'): 1, ('David Fincher', 'Brad Pitt, Cate Blanchett, Tilda Swinton, Julia Ormond'): 1, ('Frank Miller', 'Mickey Rourke, Jessica Alba, Josh Brolin, Joseph Gordon-Levitt'): 1, ('Paul Greengrass', 'Matt Damon, Edgar Ramírez, Joan Allen, Julia Stiles'): 1, ('Srdjan Spasojevic', \"Srdjan 'Zika' Todorovic, Sergej Trifunovic,Jelena Gavrilovic, Slobodan Bestic\"): 1, ('James DeMonaco', 'Frank Grillo, Elizabeth Mitchell, Mykelti Williamson, Joseph Julian Soria'): 1, ('Rajkumar Hirani', 'Aamir Khan, Madhavan, Mona Singh, Sharman Joshi'): 1, ('Ben Stiller', 'Ben Stiller, Owen Wilson, Penélope Cruz, Will Ferrell'): 1, ('Marc Forster', 'Brad Pitt, Mireille Enos, Daniella Kertesz, James Badge Dale'): 1, ('Brad Bird', 'Tom Cruise, Jeremy Renner, Simon Pegg, Paula Patton'): 1, ('Corey Asraf', 'Marilyn Manson, Mark Boone Junior, Sam Quartin, Niko Nicotera'): 1, ('Jon S. Baird', 'James McAvoy, Jamie Bell, Eddie Marsan, Imogen Poots'): 1, ('George Tillman Jr.', 'Scott Eastwood, Britt Robertson, Alan Alda, Jack Huston'): 1, ('J.A. Bayona', 'Naomi Watts, Ewan McGregor, Tom Holland, Oaklee Pendergast'): 1, ('Jeff Wadlow', 'Aaron Taylor-Johnson, Chloë Grace Moretz,Christopher Mintz-Plasse, Jim Carrey'): 1, ('Jeff Grace', 'Alex Karpovsky, Wyatt Russell, Meredith Hagner,Melanie Lynskey'): 1, ('Sam Raimi', 'James Franco, Michelle Williams, Rachel Weisz, Mila Kunis'): 1, ('John Crowley', 'Saoirse Ronan, Emory Cohen, Domhnall Gleeson,Jim Broadbent'): 1, ('Henry Selick', 'Dakota Fanning, Teri Hatcher, John Hodgman, Jennifer Saunders'): 1, ('Derek Cianfrance', 'Ryan Gosling, Michelle Williams, John Doman,Faith Wladyka'): 1, ('Michael J. Gallagher', 'Logan Paul, Peyton List, Lia Marie Johnson,Calum Worthy'): 1, ('Christophe Gans', 'Radha Mitchell, Laurie Holden, Sean Bean,Deborah Kara Unger'): 1, ('Pete Travis', 'Karl Urban, Olivia Thirlby, Lena Headey, Rachel Wood'): 1, ('Taika Waititi', 'Sam Neill, Julian Dennison, Rima Te Wiata, Rachel House'): 1, ('Don Hall', 'Ryan Potter, Scott Adsit, Jamie Chung,T.J. Miller'): 1, ('Kimberly Peirce', 'Chloë Grace Moretz, Julianne Moore, Gabriella Wilde, Portia Doubleday'): 1, ('Jon Favreau', 'Robert Downey Jr., Mickey Rourke, Gwyneth Paltrow,Don Cheadle'): 1, ('Jean-Marc Vallée', 'Jake Gyllenhaal, Naomi Watts, Chris Cooper,Judah Lewis'): 1, ('Christian Alvart', 'Dennis Quaid, Ben Foster, Cam Gigandet, Antje Traue'): 1, ('Antoine Fuqua', 'Gerard Butler, Aaron Eckhart, Morgan Freeman,Angela Bassett'): 1, ('D.J. Caruso', 'Alex Pettyfer, Timothy Olyphant, Dianna Agron, Teresa Palmer'): 1, ('Thomas Vinterberg', 'Mads Mikkelsen, Thomas Bo Larsen, Annika Wedderkopp, Lasse Fogelstrøm'): 1, ('Anne Fletcher', 'Sandra Bullock, Ryan Reynolds, Mary Steenburgen,Craig T. Nelson'): 1, ('Etan Cohen', 'Will Ferrell, Kevin Hart, Alison Brie, T.I.'): 1, ('Dennis Dugan', 'Adam Sandler, Jennifer Aniston, Brooklyn Decker,Nicole Kidman'): 1, ('Sam Mendes', 'Leonardo DiCaprio, Kate Winslet, Christopher Fitzgerald, Jonathan Roumie'): 1, ('Ben Affleck', 'Ben Affleck, Rebecca Hall, Jon Hamm, Jeremy Renner'): 1, ('William Brent Bell', 'Lauren Cohan, Rupert Evans, James Russell, Jim Norton'): 1, ('Mick Jackson', 'Rachel Weisz, Tom Wilkinson, Timothy Spall, Andrew Scott'): 1, ('Michael Spierig', 'Ethan Hawke, Sarah Snook, Noah Taylor, Madeleine West'): 1, ('Rob Letterman', 'Jack Black, Dylan Minnette, Odeya Rush, Ryan Lee'): 1, ('Guy Ritchie', 'Robert Downey Jr., Jude Law, Jared Harris, Rachel McAdams'): 1, ('Phillip Noyce', 'Angelina Jolie, Liev Schreiber, Chiwetel Ejiofor, Daniel Olbrychski'): 1, ('Denis Villeneuve', 'Jake Gyllenhaal, Mélanie Laurent, Sarah Gadon,Isabella Rossellini'): 1, ('Neill Blomkamp', 'Sharlto Copley, David James, Jason Cope, Nathalie Boltt'): 1, ('Adam McKay', 'Will Ferrell, Mark Wahlberg, Derek Jeter, Eva Mendes'): 1, ('Ridley Scott', 'Denzel Washington, Russell Crowe, Chiwetel Ejiofor,Josh Brolin'): 1, ('Sofia Coppola', 'Kirsten Dunst, Jason Schwartzman, Rip Torn, Judy Davis'): 1, ('Roland Emmerich', 'John Cusack, Thandie Newton, Chiwetel Ejiofor,Amanda Peet'): 1, ('Ben Affleck', 'Ben Affleck, Bryan Cranston, John Goodman, Alan Arkin'): 1, ('Dexter Fletcher', 'Taron Egerton, Hugh Jackman, Tom Costello, Jo Hartley'): 1, ('Florian Henckel von Donnersmarck', 'Ulrich Mühe, Martina Gedeck,Sebastian Koch, Ulrich Tukur'): 1, ('Carles Torrens', \"Dominic Monaghan, Ksenia Solo, Jennette McCurdy,Da'Vone McDonald\"): 1, ('Amber Tamblyn', 'Alia Shawkat, Nancy Kwan, Annabelle Attanasio,Alfred Molina'): 1, ('Justin Kurzel', 'Michael Fassbender, Marion Cotillard, Jack Madigan,Frank Madigan'): 1, ('Nicholas Stoller', 'Kristen Bell, Jason Segel, Paul Rudd, Mila Kunis'): 1, ('Phillip Noyce', 'Brenton Thwaites, Jeff Bridges, Meryl Streep, Taylor Swift'): 1, ('John Hillcoat', 'Casey Affleck, Chiwetel Ejiofor, Anthony Mackie,Aaron Paul'): 1, ('Paolo Genovese', 'Giuseppe Battiston, Anna Foglietta, Marco Giallini,Edoardo Leo'): 1, ('Clay Kaytis', 'Jason Sudeikis, Josh Gad, Danny McBride, Maya Rudolph'): 1, ('Wes Anderson', 'Jared Gilman, Kara Hayward, Bruce Willis, Bill Murray'): 1, ('Adam Shankman', 'John Travolta, Queen Latifah, Nikki Blonsky,Michelle Pfeiffer'): 1, ('Lasse Hallström', 'Julianne Hough, Josh Duhamel, Cobie Smulders,David Lyons'): 1, ('Glenn Ficarra', 'Will Smith, Margot Robbie, Rodrigo Santoro, Adrian Martinez'): 1, ('Brad Bird', 'Brad Garrett, Lou Romano, Patton Oswalt,Ian Holm'): 1, ('Jim Mickle', 'Connor Paolo, Nick Damici, Kelly McGillis, Gregory Jones'): 1, ('Albert Hughes', 'Denzel Washington, Mila Kunis, Ray Stevenson, Gary Oldman'): 1, ('Matt Reeves', 'Mike Vogel, Jessica Lucas, Lizzy Caplan, T.J. Miller'): 1, ('Ericson Core', 'Edgar Ramírez, Luke Bracey, Ray Winstone, Teresa Palmer'): 1, ('Jonathan Glazer', 'Scarlett Johansson, Jeremy McWilliams, Lynsey Taylor Mackay, Dougie McConnell'): 1, ('Francis Lawrence', 'Will Smith, Alice Braga, Charlie Tahan, Salli Richardson-Whitfield'): 1, ('Barry Sonnenfeld', 'Will Smith, Tommy Lee Jones, Josh Brolin,Jemaine Clement'): 1, ('J.J. Abrams', 'Elle Fanning, AJ Michalka, Kyle Chandler, Joel Courtney'): 1, ('F. Gary Gray', 'Gerard Butler, Jamie Foxx, Leslie Bibb, Colm Meaney'): 1, ('Pete Docter', 'Edward Asner, Jordan Nagai, John Ratzenberger, Christopher Plummer'): 1, ('Wes Ball', \"Dylan O'Brien, Kaya Scodelario, Thomas Brodie-Sangster,Giancarlo Esposito\"): 1, ('Todd Haynes', 'Cate Blanchett, Rooney Mara, Sarah Paulson, Kyle Chandler'): 1, ('Daniel Ragussis', 'Daniel Radcliffe, Toni Collette, Tracy Letts, Sam Trammell'): 1, ('Paolo Sorrentino', 'Michael Caine, Harvey Keitel, Rachel Weisz, Jane Fonda'): 1, ('Jaco Van Dormael', 'Jared Leto, Sarah Polley, Diane Kruger, Linh Dan Pham'): 1, ('Pete Travis', 'Riz Ahmed, Billie Piper, James Floyd, Cush Jumbo'): 1, ('Oliver Stone', 'Aaron Taylor-Johnson, Taylor Kitsch, Blake Lively,Benicio Del Toro'): 1, ('Marc Webb', 'Zooey Deschanel, Joseph Gordon-Levitt, Geoffrey Arend, Chloë Grace Moretz'): 1, ('Elizabeth Banks', 'Emma Stone, Stephen Merchant, Richard Gere, Liev Schreiber'): 1, ('Alfonso Cuarón', 'Sandra Bullock, George Clooney, Ed Harris, Orto Ignatiussen'): 1, ('Mark Herman', \"Asa Butterfield, David Thewlis, Rupert Friend, Zac Mattoon O'Brien\"): 1, ('Antoine Fuqua', 'Mark Wahlberg, Michael Peña, Rhona Mitra, Danny Glover'): 1, ('M. Night Shyamalan', 'Mark Wahlberg, Zooey Deschanel, John Leguizamo, Ashlyn Sanchez'): 1, ('S. Craig Zahler', 'Kurt Russell, Patrick Wilson, Matthew Fox, Richard Jenkins'): 1, ('Gregory Jacobs', 'Channing Tatum, Joe Manganiello, Matt Bomer,Adam Rodriguez'): 1, ('Will Gluck', 'Emma Stone, Amanda Bynes, Penn Badgley, Dan Byrd'): 1, ('Ridley Scott', 'Christian Bale, Joel Edgerton, Ben Kingsley, Sigourney Weaver'): 1, ('Neill Blomkamp', 'Sharlto Copley, Dev Patel, Hugh Jackman,Sigourney Weaver'): 1, ('Peter Jackson', 'Ian McKellen, Martin Freeman, Richard Armitage,Ken Stott'): 1, ('Biyi Bandele', 'Chiwetel Ejiofor, Thandie Newton, Anika Noni Rose,Joseph Mawle'): 1, ('Sean Ellis', 'Jamie Dornan, Cillian Murphy, Brian Caspe, Karel Hermánek Jr.'): 1, ('Ridley Scott', 'Michael Fassbender, Penélope Cruz, Cameron Diaz,Javier Bardem'): 1, ('Andrey Kravchuk', 'Anton Adasinsky, Aleksandr Armer, Vilen Babichev, Rostislav Bershauer'): 1, ('Glenn Ficarra', 'Tina Fey, Margot Robbie, Martin Freeman, Alfred Molina'): 1, ('David Schwimmer', 'Clive Owen, Catherine Keener, Liana Liberato,Jason Clarke'): 1, ('George Nolfi', 'Billy Magnussen, Terry Chen, Teresa Navarro,Vanessa Ross'): 1, ('Neill Blomkamp', 'Matt Damon, Jodie Foster, Sharlto Copley, Alice Braga'): 1, ('Eli Roth', 'Lorenza Izzo, Ariel Levy, Aaron Burns, Kirby Bliss Blanton'): 1, ('Gareth Edwards', 'Aaron Taylor-Johnson, Elizabeth Olsen, Bryan Cranston, Ken Watanabe'): 1, ('Tony Gilroy', 'Jeremy Renner, Rachel Weisz, Edward Norton, Scott Glenn'): 1, ('Ridley Scott', 'Russell Crowe, Abbie Cornish, Albert Finney, Marion Cotillard'): 1, ('Simon Verhoeven', 'Alycia Debnam-Carey, William Moseley, Connor Paolo, Brit Morgan'): 1, ('Tony Scott', 'Denzel Washington, Paula Patton, Jim Caviezel, Val Kilmer'): 1, ('Luc Besson', 'Scarlett Johansson, Morgan Freeman, Min-sik Choi,Amr Waked'): 1, ('Terence Davies', 'Cynthia Nixon, Jennifer Ehle, Duncan Duff, Keith Carradine'): 1, ('Scott Waugh', 'Aaron Paul, Dominic Cooper, Imogen Poots, Scott Mescudi'): 1, ('Christopher McQuarrie', 'Tom Cruise, Rosamund Pike, Richard Jenkins, Werner Herzog'): 1, ('Steven Brill', 'Adam Sandler, David Spade, Paula Patton, Kathryn Hahn'): 1, ('Alexandros Avranas', 'Jim Carrey, Charlotte Gainsbourg, Marton Csokas, Kati Outinen'): 1, ('Ewan McGregor', 'Ewan McGregor, Jennifer Connelly, Dakota Fanning, Peter Riegert'): 1, ('Roman Polanski', 'Ewan McGregor, Pierce Brosnan, Olivia Williams,Jon Bernthal'): 1, ('Neil Burger', 'Bradley Cooper, Anna Friel, Abbie Cornish, Robert De Niro'): 1, ('Nic Mathieu', 'James Badge Dale, Emily Mortimer, Bruce Greenwood,Max Martini'): 1, ('Richard LaGravenese', 'Hilary Swank, Gerard Butler, Harry Connick Jr., Lisa Kudrow'): 1, ('Mora Stephens', 'Patrick Wilson, Lena Headey, Ray Winstone,Richard Dreyfuss'): 1, ('Jeff Nichols', 'Michael Shannon, Joel Edgerton, Kirsten Dunst, Adam Driver'): 1, ('Mike Birbiglia', 'Keegan-Michael Key, Gillian Jacobs, Mike Birbiglia,Chris Gethard'): 1, ('Tim Burton', 'Mia Wasikowska, Johnny Depp, Helena Bonham Carter,Anne Hathaway'): 1, ('Philippe Falardeau', 'Elisabeth Moss, Naomi Watts, Ron Perlman, Liev Schreiber'): 1, ('Ken Loach', 'Dave Johns, Hayley Squires, Sharon Percy, Briana Shann'): 1, ('Peyton Reed', 'Jennifer Aniston, Vince Vaughn, Jon Favreau, Joey Lauren Adams'): 1, ('Jeff Nichols', 'Ruth Negga, Joel Edgerton, Will Dalton, Dean Mumford'): 1, ('Josh Trank', 'Miles Teller, Kate Mara, Michael B. Jordan, Jamie Bell'): 1, ('Stephen Fingleton', 'Mia Goth, Martin McCann, Barry Ward, Andrew Simpson'): 1, ('Florian Gallenberger', 'Emma Watson, Daniel Brühl, Michael Nyqvist,Richenda Carey'): 1, ('Rob Cohen', 'Jennifer Lopez, Ryan Guzman, Kristin Chenoweth, John Corbett'): 1, ('Joel Edgerton', 'Jason Bateman, Rebecca Hall, Joel Edgerton, Allison Tolman'): 1, ('Gary Shore', 'Luke Evans, Dominic Cooper, Sarah Gadon, Art Parkinson'): 1, ('Ron Howard', 'Chris Hemsworth, Cillian Murphy, Brendan Gleeson,Ben Whishaw'): 1, ('Mike Judge', 'Luke Wilson, Maya Rudolph, Dax Shepard, Terry Crews'): 1, ('Sylvester Stallone', 'Sylvester Stallone, Jason Statham, Jet Li, Dolph Lundgren'): 1, ('Fede Alvarez', 'Jane Levy, Shiloh Fernandez, Jessica Lucas, Lou Taylor Pucci'): 1, ('Scott Derrickson', 'Ethan Hawke, Juliet Rylance, James Ransone,Fred Dalton Thompson'): 1, ('Rich Moore', 'John C. Reilly, Jack McBrayer, Jane Lynch, Sarah Silverman'): 1, ('Rupert Sanders', 'Kristen Stewart, Chris Hemsworth, Charlize Theron, Sam Claflin'): 1, ('Joe Wright', 'Levi Miller, Hugh Jackman, Garrett Hedlund, Rooney Mara'): 1, ('Michael Bay', 'Shia LaBeouf, Rosie Huntington-Whiteley, Tyrese Gibson, Josh Duhamel'): 1, ('Jason Reitman', 'Ellen Page, Michael Cera, Jennifer Garner, Jason Bateman'): 1, ('Tom Tykwer', 'Tom Hanks, Sarita Choudhury, Ben Whishaw,Alexander Black'): 1, ('Jodie Foster', \"George Clooney, Julia Roberts, Jack O'Connell,Dominic West\"): 1, ('Nick Cassavetes', 'Cameron Diaz, Leslie Mann, Kate Upton, Nikolaj Coster-Waldau'): 1, ('Kevin Lima', 'Amy Adams, Susan Sarandon, James Marsden, Patrick Dempsey'): 1, ('Nancy Meyers', 'Robert De Niro, Anne Hathaway, Rene Russo,Anders Holm'): 1, ('Jonathan Dayton', 'Steve Carell, Toni Collette, Greg Kinnear, Abigail Breslin'): 1, ('Ben Younger', 'Miles Teller, Aaron Eckhart, Katey Sagal, Ciarán Hinds'): 1, ('Louis Leterrier', 'Sam Worthington, Liam Neeson, Ralph Fiennes,Jason Flemyng'): 1, ('Craig Gillespie', 'Chris Pine, Casey Affleck, Ben Foster, Eric Bana'): 1, ('Joseph Kosinski', 'Jeff Bridges, Garrett Hedlund, Olivia Wilde, Bruce Boxleitner'): 1, ('Francis Lawrence', 'Jennifer Lawrence, Josh Hutcherson, Liam Hemsworth, Philip Seymour Hoffman'): 1, ('Andrew Jarecki', 'Ryan Gosling, Kirsten Dunst, Frank Langella, Lily Rabe'): 1, ('John Stockwell', 'Dave Bautista, Alain Moussi, Gina Carano, Jean-Claude Van Damme'): 1, ('M. Night Shyamalan', 'Noah Ringer, Nicola Peltz, Jackson Rathbone,Dev Patel'): 1, ('Jake Kasdan', 'Jason Segel, Cameron Diaz, Rob Corddry, Ellie Kemper'): 1, ('Kirk Jones', 'Cameron Diaz, Matthew Morrison, J. Todd Smith, Dennis Quaid'): 1, ('Bennett Miller', 'Brad Pitt, Robin Wright, Jonah Hill, Philip Seymour Hoffman'): 1, ('Mark Steven Johnson', 'Nicolas Cage, Eva Mendes, Sam Elliott, Matt Long'): 1, ('Angelina Jolie', \"Jack O'Connell, Miyavi, Domhnall Gleeson, Garrett Hedlund\"): 1, ('Tarsem Singh', 'Henry Cavill, Mickey Rourke, John Hurt, Stephen Dorff'): 1, ('Danny Boyle', 'Cillian Murphy, Rose Byrne, Chris Evans, Michelle Yeoh'): 1, ('Mark Andrews', 'Kelly Macdonald,Billy Connolly, Emma Thompson, Julie Walters'): 1, ('Niels Arden Oplev', 'Michael Nyqvist, Noomi Rapace, Ewa Fröling,Lena Endre'): 1, ('Anne Fontaine', 'Naomi Watts, Robin Wright, Xavier Samuel, James Frecheville'): 1, ('Michaël R. Roskam', 'Tom Hardy, Noomi Rapace, James Gandolfini,Matthias Schoenaerts'): 1, ('Andy Fickman', 'Amanda Bynes, Laura Ramsey, Channing Tatum,Vinnie Jones'): 1, ('Sean Anders', 'Will Ferrell, Mark Wahlberg, Linda Cardellini, Thomas Haden Church'): 1, ('Matt Reeves', 'Kodi Smit-McPhee, Chloë Grace Moretz, Richard Jenkins, Cara Buono'): 1, ('Jeff Wadlow', 'Sean Faris, Djimon Hounsou, Amber Heard, Cam Gigandet'): 1, ('Louis Leterrier', 'Sacha Baron Cohen, Mark Strong, Rebel Wilson,Freddie Crowder'): 1, ('Duncan Jones', 'Sam Rockwell, Kevin Spacey, Dominique McElligott,Rosie Shaw'): 1, ('Tom McGrath', 'Will Ferrell, Jonah Hill, Brad Pitt, Tina Fey'): 1, ('Ruben Fleischer', 'Sean Penn, Ryan Gosling, Emma Stone, Giovanni Ribisi'): 1, ('Jean-François Richet', 'Mel Gibson, Erin Moriarty, Diego Luna, Michael Parks'): 1, ('Ken Kwapis', 'Jennifer Aniston, Jennifer Connelly, Morgan Lily,Trenton Rogers'): 1, ('Alessandro Carloni', 'Jack Black, Bryan Cranston, Dustin Hoffman, Angelina Jolie'): 1, ('Zackary Adler', 'Matt Vael, Simon Cotton, Kevin Leslie, Olivia Moyles'): 1, ('John Butler', \"Fionn O'Shea, Nicholas Galitzine, Andrew Scott, Moe Dunford\"): 1, ('Debra Granik', 'Jennifer Lawrence, John Hawkes, Garret Dillahunt,Isaiah Stone'): 1, ('Seth Gordon', 'Jason Bateman, Charlie Day, Jason Sudeikis, Steve Wiebe'): 1, ('Xavier Dolan', 'Anne Dorval, Antoine-Olivier Pilon, Suzanne Clément,Patrick Huard'): 1, ('Guillermo del Toro', 'Ron Perlman, Selma Blair, Doug Jones, John Alexander'): 1, ('Richard LaGravenese', 'Alice Englert, Viola Davis, Emma Thompson,Alden Ehrenreich'): 1, ('Maren Ade', 'Sandra Hüller, Peter Simonischek, Michael Wittenborn,Thomas Loibl'): 1, ('Peter Jackson', 'Rachel Weisz, Mark Wahlberg, Saoirse Ronan, Susan Sarandon'): 1, ('Andrew Dominik', 'Brad Pitt, Casey Affleck, Sam Shepard, Mary-Louise Parker'): 1, ('Joseph Gordon-Levitt', 'Joseph Gordon-Levitt, Scarlett Johansson,Julianne Moore, Tony Danza'): 1, ('James Watkins', 'Idris Elba, Richard Madden, Charlotte Le Bon, Kelly Reilly'): 1, ('Joey Curtis', 'Paul Sidhu, Branden Coles, Arielle Holmes, Kelcey Watson'): 1, ('Gary Ross', 'Matthew McConaughey, Gugu Mbatha-Raw, Mahershala Ali, Keri Russell'): 1, ('Paco Cabezas', 'Anna Kendrick, Sam Rockwell, Tim Roth, James Ransone'): 1, ('Ben Stiller', 'Ben Stiller, Kristen Wiig, Jon Daly, Kathryn Hahn'): 1, ('Rick Famuyiwa', 'Shameik Moore, Tony Revolori, Kiersey Clemons,Kimberly Elise'): 1, ('Måns Mårlind', 'Kate Beckinsale, Michael Ealy, India Eisley, Stephen Rea'): 1, ('Lars von Trier', 'Willem Dafoe, Charlotte Gainsbourg, Storm Acheche Sahlstrøm'): 1, ('Marcus Nispel', 'Jared Padalecki, Amanda Righetti, Derek Mears,Danielle Panabaker'): 1, ('Olivier Megaton', 'Liam Neeson, Forest Whitaker, Maggie Grace,Famke Janssen'): 1, ('Len Wiseman', 'Colin Farrell, Bokeem Woodbine, Bryan Cranston,Kate Beckinsale'): 1, ('Brett Ratner', 'Patrick Stewart, Hugh Jackman, Halle Berry, Famke Janssen'): 1, ('Will Slocombe', 'Lyndsy Fonseca, Michael Doneger, Tommy Dewey,Bruce Campbell'): 1, ('Courtney Hunt', 'Keanu Reeves, Renée Zellweger, Gugu Mbatha-Raw, Gabriel Basso'): 1, ('Shawn Levy', 'Ben Stiller, Robin Williams, Owen Wilson, Dick Van Dyke'): 1, ('Edward Zwick', 'Jake Gyllenhaal, Anne Hathaway, Judy Greer, Oliver Platt'): 1, ('Evan Goldberg', 'James Franco, Seth Rogen, Randall Park, Lizzy Caplan'): 1, ('Bong Joon Ho', 'Kang-ho Song, Hee-Bong Byun, Hae-il Park, Doona Bae'): 1, ('Michael Goi', 'Amber Perkins, Rachel Quinn, Dean Waite, Jael Elizabeth Steinmeyer'): 1, ('Andrew Stanton', 'Ben Burtt, Elissa Knight, Jeff Garlin, Fred Willard'): 1, ('Judd Apatow', 'Seth Rogen, Katherine Heigl, Paul Rudd, Leslie Mann'): 1, ('Duncan Jones', 'Jake Gyllenhaal, Michelle Monaghan, Vera Farmiga,Jeffrey Wright'): 1, ('John Hillcoat', 'Tom Hardy, Shia LaBeouf, Guy Pearce, Jason Clarke'): 1, ('Levan Gabriadze', 'Heather Sossaman, Matthew Bohrer, Courtney Halverson, Shelley Hennig'): 1, ('Jon Hurwitz', 'Jason Biggs, Alyson Hannigan,Seann William Scott, Chris Klein'): 1, ('Gabriele Muccino', 'Will Smith, Thandie Newton, Jaden Smith, Brian Howe'): 1, ('Damián Szifron', 'Darío Grandinetti, María Marull, Mónica Villa, Rita Cortese'): 1, ('Frank Coraci', 'Adam Sandler, Terry Crews, Jorge Garcia, Taylor Lautner'): 1, ('François Ozon', 'Pierre Niney, Paula Beer, Ernst Stötzner, Marie Gruber'): 1, ('Henry Joost', \"Sofia Black-D'Elia, Analeigh Tipton,Travis Tope, Michael Kelly\"): 1, ('Clint Eastwood', 'Clint Eastwood, Bee Vang, Christopher Carley,Ahney Her'): 1, ('John Wells', 'Bradley Cooper, Sienna Miller, Daniel Brühl, Riccardo Scamarcio'): 1, ('Jonathan Holbrook', 'Dan Crisafulli, Kay Whitney, Richard Garcia, Pat Cashman'): 1, ('Julia Leigh', 'Emily Browning, Rachael Blake, Ewen Leslie, Bridgette Barrett'): 1, ('Mark Waters', 'Zoey Deutch, Lucy Fry, Danila Kozlovsky, Gabriel Byrne'): 1, ('Tim Burton', 'Johnny Depp, Helena Bonham Carter, Alan Rickman,Timothy Spall'): 1, ('Afonso Poyart', 'Anthony Hopkins, Jeffrey Dean Morgan, Abbie Cornish, Colin Farrell'): 1, ('James Wan', 'Patrick Wilson, Rose Byrne, Ty Simpkins, Lin Shaye'): 1, ('Akiva Schaffer', 'Andy Samberg, Jorma Taccone,Akiva Schaffer, Sarah Silverman'): 1, ('Hope Dickson Leach', 'Ellie Kendrick, David Troughton, Jack Holden,Joe Blakemore'): 1, ('Michael Mann', 'Christian Bale, Johnny Depp, Christian Stolte, Jason Clarke'): 1, ('Richard Linklater', 'Ellar Coltrane, Patricia Arquette, Ethan Hawke,Elijah Smith'): 1, ('Jonathan Liebesman', 'Megan Fox, Will Arnett, William Fichtner, Noel Fisher'): 1, ('David Cronenberg', 'Naomi Watts, Viggo Mortensen, Armin Mueller-Stahl, Josef Altin'): 1, ('Simon Stone', 'Geoffrey Rush, Nicholas Hope, Sam Neill, Ewen Leslie'): 1, ('David Gordon Green', 'Seth Rogen, James Franco, Gary Cole, Danny McBride'): 1, ('Jon Kasdan', \"Dylan O'Brien, Britt Robertson, Victoria Justice, James Frecheville\"): 1, ('Ben Affleck', 'Morgan Freeman, Ed Harris, Casey Affleck, Michelle Monaghan'): 1, ('Paul Feig', 'Sandra Bullock, Michael McDonald, Melissa McCarthy,Demián Bichir'): 1, ('Mia Hansen-Løve', 'Isabelle Huppert, André Marcon, Roman Kolinka,Edith Scob'): 1, ('Joe Wright', 'Keira Knightley, Jude Law, Aaron Taylor-Johnson,Matthew Macfadyen'): 1, ('Alejandro Amenábar', 'Ethan Hawke, David Thewlis, Emma Watson,Dale Dickey'): 1, ('Seth MacFarlane', 'Mark Wahlberg, Seth MacFarlane, Amanda Seyfried, Jessica Barth'): 1, ('Michael Bay', 'Mark Wahlberg, Dwayne Johnson, Anthony Mackie,Tony Shalhoub'): 1, ('Edward Zwick', 'Leonardo DiCaprio, Djimon Hounsou, Jennifer Connelly, Kagiso Kuypers'): 1, ('Atom Egoyan', 'Colin Firth, Reese Witherspoon, Alessandro Nivola,James Hamrick'): 1, ('Daniel Espinosa', 'Tom Hardy, Gary Oldman, Noomi Rapace, Joel Kinnaman'): 1, ('Kathryn Bigelow', 'Jeremy Renner, Anthony Mackie, Brian Geraghty,Guy Pearce'): 1, ('Martin Campbell', 'Ryan Reynolds, Blake Lively, Peter Sarsgaard,Mark Strong'): 1, ('John Michael McDonagh', 'Alexander Skarsgård, Michael Peña, Theo James, Tessa Thompson'): 1, ('Frank Darabont', 'Thomas Jane, Marcia Gay Harden, Laurie Holden,Andre Braugher'): 1, ('Mikael Håfström', \"Sylvester Stallone, Arnold Schwarzenegger, 50 Cent, Vincent D'Onofrio\"): 1, ('Christian Ditter', 'Lily Collins, Sam Claflin, Christian Cooke, Jaime Winstone'): 1, ('Ari Sandel', 'Mae Whitman, Bella Thorne, Robbie Amell, Allison Janney'): 1, ('Jee-woon Kim', 'Byung-hun Lee, Yoo Gong, Kang-ho Song, Ji-min Han'): 1, ('Lynne Ramsay', 'Tilda Swinton, John C. Reilly, Ezra Miller, Jasper Newell'): 1, ('Whit Stillman', 'Kate Beckinsale, Chloë Sevigny, Xavier Samuel,Emma Greenwell'): 1, ('Harald Zwart', 'Lily Collins, Jamie Campbell Bower, Robert Sheehan,Jemima West'): 1, ('Gabriele Muccino', 'Will Smith, Rosario Dawson, Woody Harrelson,Michael Ealy'): 1, ('Tom Hooper', 'Colin Firth, Geoffrey Rush, Helena Bonham Carter,Derek Jacobi'): 1, ('Steve McQueen', 'Stuart Graham, Laine Megaw, Brian Milligan, Liam McMahon'): 1, ('Doug Liman', 'Hayden Christensen, Samuel L. Jackson, Jamie Bell,Rachel Bilson'): 1, ('Lee Unkrich', 'Tom Hanks, Tim Allen, Joan Cusack, Ned Beatty'): 1, ('Tomas Alfredson', 'Gary Oldman, Colin Firth, Tom Hardy, Mark Strong'): 1, ('Paul W.S. Anderson', 'Milla Jovovich, Sienna Guillory, Michelle Rodriguez, Aryana Engineer'): 1, ('Gauri Shinde', 'Alia Bhatt, Shah Rukh Khan, Kunal Kapoor, Priyanka Moodley'): 1, ('Michael Grandage', 'Colin Firth, Jude Law, Nicole Kidman, Laura Linney'): 1, ('Paul W.S. Anderson', 'Kit Harington, Emily Browning, Kiefer Sutherland, Adewale Akinnuoye-Agbaje'): 1, ('Ang Lee', 'Suraj Sharma, Irrfan Khan, Adil Hussain, Tabu'): 1, ('Lasse Hallström', 'Richard Gere, Joan Allen, Cary-Hiroyuki Tagawa,Sarah Roemer'): 1, ('Jamie Linden', 'Channing Tatum, Rosario Dawson, Chris Pratt, Jenna Dewan Tatum'): 1, ('Mike Cahill', 'Michael Pitt, Steven Yeun, Astrid Bergès-Frisbey, Brit Marling'): 1, ('Len Wiseman', 'Bruce Willis, Justin Long, Timothy Olyphant, Maggie Q'): 1, ('Caleb Vetter', 'Wesley Elder, Christina Grimmie, Osric Chau, Olan Rogers'): 1, ('Michael Haneke', 'Naomi Watts, Tim Roth, Michael Pitt, Brady Corbet'): 1, ('Seth MacFarlane', 'Mark Wahlberg, Mila Kunis, Seth MacFarlane, Joel McHale'): 1, ('Robert Schwentke', 'Bruce Willis, Helen Mirren, Morgan Freeman,Mary-Louise Parker'): 1, ('Baz Luhrmann', 'Nicole Kidman, Hugh Jackman, Shea Adams, Eddie Baroo'): 1, ('George Tillman Jr.', 'Dwayne Johnson, Billy Bob Thornton, Maggie Grace, Mauricio Lopez'): 1, ('Marcus Dunstan', 'Josh Stewart, Bill Engvall, Alex Essoe, Ronnie Gene Blevins'): 1, ('George Nolfi', 'Matt Damon, Emily Blunt, Lisa Thoreson, Florence Kastriner'): 1, ('John Krasinski', 'Sharlto Copley, Charlie Day, Richard Jenkins, Anna Kendrick'): 1, ('David Dobkin', 'Robert Downey Jr., Robert Duvall, Vera Farmiga, Billy Bob Thornton'): 1, ('John Crowley', 'Eric Bana, Rebecca Hall, Jim Broadbent, Ciarán Hinds'): 1, ('Michael Dudok de Wit', 'Emmanuel Garijo, Tom Hudson, Baptiste Goy, Axel Devillers'): 1, ('Jorge R. Gutiérrez', 'Diego Luna, Zoe Saldana, Channing Tatum, Ron Perlman'): 1, ('Denis Villeneuve', 'Lubna Azabal, Mélissa Désormeaux-Poulin, Maxim Gaudette, Mustafa Kamel'): 1, ('Bobby Farrelly', 'Ben Stiller, Michelle Monaghan,Malin Akerman, Jerry Stiller'): 1, ('George Miller', 'Elijah Wood, Brittany Murphy, Hugh Jackman, Robin Williams'): 1, ('Doug Ellin', 'Adrian Grenier, Kevin Connolly, Jerry Ferrara, Kevin Dillon'): 1, ('Bryan Bertino', 'Scott Speedman, Liv Tyler, Gemma Ward, Alex Fisher'): 1, ('Darren Aronofsky', 'Russell Crowe, Jennifer Connelly, Anthony Hopkins, Emma Watson'): 1, ('Nicholas Stoller', 'Seth Rogen, Rose Byrne, Zac Efron, Lisa Kudrow'): 1, ('Lars von Trier', 'Charlotte Gainsbourg, Stellan Skarsgård, Willem Dafoe, Jamie Bell'): 1, ('Jean-Marc Vallée', 'Reese Witherspoon, Laura Dern, Gaby Hoffmann,Michiel Huisman'): 1, ('Dennis Dugan', 'Adam Sandler, Salma Hayek, Kevin James, Chris Rock'): 1, ('Adam Wingard', 'James Allen McCune, Callie Hernandez, Corbin Reid, Brandon Scott'): 1, ('Harald Zwart', 'Jackie Chan, Jaden Smith, Taraji P. Henson, Wenwen Han'): 1, ('Tim Burton', 'Johnny Depp, Michelle Pfeiffer, Eva Green, Helena Bonham Carter'): 1, ('Will Gluck', 'Mila Kunis, Justin Timberlake, Patricia Clarkson, Jenna Elfman'): 1, ('Neil Burger', 'Edward Norton, Jessica Biel, Paul Giamatti, Rufus Sewell'): 1, ('Joe Carnahan', 'Liam Neeson, Bradley Cooper, Sharlto Copley,Jessica Biel'): 1, ('Adam Wingard', 'Dan Stevens, Sheila Kelley, Maika Monroe, Joel David Moore'): 1, ('Shawn Levy', 'Vince Vaughn, Owen Wilson, Rose Byrne, Aasif Mandvi'): 1, ('Greg Mottola', 'Simon Pegg, Nick Frost, Seth Rogen, Mia Stallard'): 1, ('Simon Aboud', 'Jessica Brown Findlay, Andrew Scott, Jeremy Irvine,Tom Wilkinson'): 1, ('Ron Howard', 'Tom Hanks, Audrey Tautou, Jean Reno, Ian McKellen'): 1, ('Bruce Beresford', 'Eddie Murphy, Britt Robertson, Natascha McElhone, Xavier Samuel'): 1, ('Martin Scorsese', 'Asa Butterfield, Chloë Grace Moretz, Christopher Lee, Ben Kingsley'): 1, ('Oz Perkins', 'Emma Roberts, Kiernan Shipka, Lauren Holly, Lucy Boynton'): 1, ('Ridley Scott', 'Leonardo DiCaprio, Russell Crowe, Mark Strong,Golshifteh Farahani'): 1, ('Terrence Malick', 'Christian Bale, Cate Blanchett, Natalie Portman,Brian Dennehy'): 1, ('Rob Cohen', 'Brendan Fraser, Jet Li, Maria Bello, Michelle Yeoh'): 1, ('Ben Falcone', 'Melissa McCarthy, Kristen Bell, Peter Dinklage, Ella Anderson'): 1, ('Jonathan Jakubowicz', 'Edgar Ramírez, Usher Raymond, Robert De Niro, Rubén Blades'): 1, ('Juan José Campanella', 'Ricardo Darín, Soledad Villamil, Pablo Rago,Carla Quevedo'): 1, ('Ethan Coen', 'Jeff Bridges, Matt Damon, Hailee Steinfeld,Josh Brolin'): 1, ('Max Joseph', 'Zac Efron, Wes Bentley, Emily Ratajkowski, Jonny Weston'): 1, ('Seth MacFarlane', 'Seth MacFarlane, Charlize Theron, Liam Neeson,Amanda Seyfried'): 1, ('Chris Stokes', 'Brian White, Karrueche Tran, Angelique Pereira,Jessica Vanessa DeLeon'): 1, ('Warren Beatty', 'Lily Collins, Haley Bennett, Taissa Farmiga, Steve Tom'): 1, ('Mike Flanagan', 'Elizabeth Reaser, Lulu Wilson, Annalise Basso,Henry Thomas'): 1, ('Thor Freudenthal', 'Logan Lerman, Alexandra Daddario, Brandon T. Jackson, Nathan Fillion'): 1, ('Gregory Hoblit', 'Anthony Hopkins, Ryan Gosling, David Strathairn,Rosamund Pike'): 1, ('Mike Flanagan', 'Karen Gillan, Brenton Thwaites, Katee Sackhoff,Rory Cochrane'): 1, ('Martin McDonagh', 'Colin Farrell, Brendan Gleeson, Ciarán Hinds,Elizabeth Berrington'): 1, ('McG', 'Reese Witherspoon, Chris Pine, Tom Hardy, Til Schweiger'): 1, ('Filip Renc', 'Tatiana Pauhofová, Karl Markovics, Gedeon Burkhard,Simona Stasová'): 1, ('John Hillcoat', 'Viggo Mortensen, Charlize Theron, Kodi Smit-McPhee,Robert Duvall'): 1, ('Ed Gass-Donnelly', 'Abbie Cornish, Dermot Mulroney, Justin Long,Diego Klattenhoff'): 1, ('Jamal Hill', 'Larenz Tate, Meagan Good, Rotimi, Rick Gonzalez'): 1, ('Marcus Nispel', 'Jason Momoa, Ron Perlman, Rose McGowan,Stephen Lang'): 1, ('David O. Russell', 'Mark Wahlberg, Christian Bale, Amy Adams,Melissa Leo'): 1, ('Kirsten Sheridan', 'Freddie Highmore, Keri Russell, Jonathan Rhys Meyers, Terrence Howard'): 1, ('Jon Favreau', 'Jon Favreau, Robert Downey Jr., Scarlett Johansson,Dustin Hoffman'): 1, ('Gavin Hood', 'Helen Mirren, Aaron Paul, Alan Rickman, Barkhad Abdi'): 1, ('D.J. Caruso', 'Shia LaBeouf, Michelle Monaghan, Rosario Dawson,Michael Chiklis'): 1, ('James DeMonaco', 'Ethan Hawke, Lena Headey, Max Burkholder,Adelaide Kane'): 1, ('Rajkumar Hirani', 'Aamir Khan, Anushka Sharma, Sanjay Dutt,Boman Irani'): 1, ('Gavin Hood', 'Harrison Ford, Asa Butterfield, Hailee Steinfeld, Abigail Breslin'): 1, ('Steven Spielberg', 'Harrison Ford, Cate Blanchett, Shia LaBeouf,Karen Allen'): 1, ('Jake Schreier', 'Nat Wolff, Cara Delevingne, Austin Abrams, Justice Smith'): 1, ('Ben Wheatley', 'Tom Hiddleston, Jeremy Irons, Sienna Miller, Luke Evans'): 1, ('Marc Forster', 'Daniel Craig, Olga Kurylenko, Mathieu Amalric, Judi Dench'): 1, ('Walter Hill', 'Sigourney Weaver, Michelle Rodriguez, Tony Shalhoub,Anthony LaPaglia'): 1, ('Dean DeBlois', 'Jay Baruchel, Gerard Butler,Christopher Mintz-Plasse, Craig Ferguson'): 1, ('M. Night Shyamalan', 'Paul Giamatti, Bryce Dallas Howard, Jeffrey Wright, Bob Balaban'): 1, ('Darren Aronofsky', 'Hugh Jackman, Rachel Weisz, Sean Patrick Thomas, Ellen Burstyn'): 1, ('John Lasseter', 'Owen Wilson, Larry the Cable Guy,Michael Caine, Emily Mortimer'): 1, ('Rob Zombie', 'Malcolm McDowell, Richard Brake, Jeff Daniel Phillips,Sheri Moon Zombie'): 1, ('Tyler Shields', 'Abigail Breslin, Wes Bentley, Logan Huffman,Alexander Ludwig'): 1, ('Hisonni Johnson', 'Maddy Curley, John DeLuca, Nikki SooHoo, Drew Seeley'): 1, ('Matt Brown', 'Dev Patel, Jeremy Irons, Malcolm Sinclair, Raghuvir Joshi'): 1, ('Jaume Collet-Serra', 'Liam Neeson, Diane Kruger, January Jones,Aidan Quinn'): 1, ('Tarsem Singh', 'Ryan Reynolds, Natalie Martinez, Matthew Goode,Ben Kingsley'): 1, ('Bruce A. Evans', 'Kevin Costner, Demi Moore, William Hurt, Dane Cook'): 1, ('Adam Leon', 'Callum Turner, Grace Van Patten, Michal Vondel, Mike Birbiglia'): 1, ('Chris Evans', 'Chris Evans, Alice Eve, Emma Fitzpatrick, John Cullum'): 1, ('Paul Greengrass', 'Tom Hanks, Barkhad Abdi, Barkhad Abdirahman,Catherine Keener'): 1, ('Jim Sheridan', 'Rooney Mara, Eric Bana, Theo James, Aidan Turner'): 1, ('Stewart Hendler', 'Ben Winchell, Josh Brener, Maria Bello, Andy Garcia'): 1, ('Genndy Tartakovsky', 'Adam Sandler, Andy Samberg, Selena Gomez, Kevin James'): 1, ('Peter Berg', 'Will Smith, Charlize Theron, Jason Bateman, Jae Head'): 1, ('Jason Moore', 'Amy Poehler, Tina Fey, Maya Rudolph, Ike Barinholtz'): 1, ('Luc Besson', \"Robert De Niro, Michelle Pfeiffer, Dianna Agron, John D'Leo\"): 1, ('Kevin Smith', 'Seth Rogen, Elizabeth Banks, Craig Robinson, Gerry Bednob'): 1, ('Claude Barras', 'Gaspard Schlatter, Sixtine Murat, Paulin Jaccoud,Michel Vuillermoz'): 1, ('Asger Leth', 'Sam Worthington, Elizabeth Banks, Jamie Bell, Mandy Gonzalez'): 1, ('Ivan Reitman', 'Natalie Portman, Ashton Kutcher, Kevin Kline, Cary Elwes'): 1, ('Werner Herzog', 'Christian Bale, Steve Zahn, Jeremy Davies, Zach Grenier'): 1, ('Pierre Coffin', 'Steve Carell, Kristen Wiig, Benjamin Bratt, Miranda Cosgrove'): 1, ('Scott Frank', 'Liam Neeson, Dan Stevens, David Harbour, Boyd Holbrook'): 1, ('Edgar Wright', 'Simon Pegg, Nick Frost, Martin Freeman, Rosamund Pike'): 1, ('Kevin Smith', 'Lily-Rose Depp, Harley Quinn Smith, Johnny Depp,Adam Brody'): 1, ('Martin McDonagh', 'Colin Farrell, Woody Harrelson, Sam Rockwell,Christopher Walken'): 1, ('Robert Zemeckis', 'Ray Winstone, Crispin Glover, Angelina Jolie,Robin Wright'): 1, ('Kenneth Branagh', 'Chris Pine, Kevin Costner, Keira Knightley,Kenneth Branagh'): 1, ('Mikael Håfström', 'John Cusack, Samuel L. Jackson, Mary McCormack, Paul Birchard'): 1, ('Rupert Wyatt', 'Mark Wahlberg, Jessica Lange, John Goodman, Brie Larson'): 1, ('Mike Newell', 'Jake Gyllenhaal, Gemma Arterton, Ben Kingsley,Alfred Molina'): 1, ('James Ponsoldt', 'Miles Teller, Shailene Woodley, Kyle Chandler,Jennifer Jason Leigh'): 1, ('Amma Asante', 'David Oyelowo, Rosamund Pike, Tom Felton, Jack Davenport'): 1, ('Mario Van Peebles', 'Nicolas Cage, Tom Sizemore, Thomas Jane,Matt Lanter'): 1, ('François Simard', 'Munro Chambers, Laurence Leboeuf, Michael Ironside, Edwin Wright'): 1, ('Andrés Muschietti', 'Jessica Chastain, Nikolaj Coster-Waldau, Megan Charpentier, Isabelle Nélisse'): 1, ('Jaume Collet-Serra', 'Vera Farmiga, Peter Sarsgaard, Isabelle Fuhrman, CCH Pounder'): 1, ('Woody Allen', 'Woody Allen, Penélope Cruz, Jesse Eisenberg, Ellen Page'): 1, ('Wes Anderson', 'George Clooney, Meryl Streep, Bill Murray, Jason Schwartzman'): 1, ('Spike Lee', 'Denzel Washington, Clive Owen, Jodie Foster,Christopher Plummer'): 1, ('John Moore', 'Pierce Brosnan, Jason Barry, Karen Moskow, Kai Ryssdal'): 1, ('Danny Boyle', 'James Franco, Amber Tamblyn, Kate Mara, Sean Bott'): 1, ('John R. Leonetti', 'Ward Horton, Annabelle Wallis, Alfre Woodard,Tony Amendola'): 1, ('John R. Leonetti', 'Katie Cassidy, Elizabeth Henstridge, Adam Campbell, Miles Fisher'): 1, ('Saul Dibb', 'Michelle Williams, Kristin Scott Thomas, Margot Robbie,Eric Godon'): 1, ('Terry Gilliam', 'Christopher Plummer, Lily Cole, Heath Ledger,Andrew Garfield'): 1, ('Stephen Sommers', 'Dennis Quaid, Channing Tatum, Marlon Wayans,Adewale Akinnuoye-Agbaje'): 1, ('Antonio Campos', 'Rebecca Hall, Michael C. Hall, Tracy Letts, Maria Dizzia'): 1, ('Dito Montiel', 'Shia LaBeouf, Jai Courtney, Gary Oldman, Kate Mara'): 1, ('Phil Claydon', 'Michael Vartan, Erin Moriarty, Nadine Velazquez,Ronnie Gene Blevins'): 1, ('Farren Blackburn', 'Naomi Watts, Charlie Heaton, Jacob Tremblay,Oliver Platt'): 1, ('Matthias Hoene', 'Mark Chao, Ni Ni, Dave Bautista, Sienna Guillory'): 1, ('Robert Rodriguez', 'Kurt Russell, Rose McGowan, Danny Trejo, Zoë Bell'): 1, ('Jason Friedberg', 'Carmen Electra, Vanessa Lachey,Nicole Parker, Matt Lanter'): 1, ('Sylvester Stallone', 'Sylvester Stallone, Antonio Tarver, Milo Ventimiglia, Burt Young'): 1, ('David Bowers', 'Zachary Gordon, Robert Capron, Devon Bostick,Steve Zahn'): 1, ('Cary Joji Fukunaga', 'Mia Wasikowska, Michael Fassbender, Jamie Bell, Su Elliot'): 1, ('Andy Tennant', 'Matthew McConaughey, Kate Hudson, Donald Sutherland, Alexis Dziena'): 1, ('Larry Charles', 'Sacha Baron Cohen, Anna Faris, John C. Reilly, Ben Kingsley'): 1, ('Erik Van Looy', 'Karl Urban, James Marsden, Wentworth Miller, Eric Stonestreet'): 1, ('Cristian Mungiu', 'Adrian Titieni, Maria-Victoria Dragus, Lia Bugnar,Malina Manovici'): 1, ('Dennis Dugan', 'Adam Sandler, John Turturro, Emmanuelle Chriqui,Nick Swardson'): 1, ('Gee Malik Linton', 'Ana de Armas, Keanu Reeves, Christopher McDonald, Mira Sorvino'): 1, ('Aisling Walsh', 'Ethan Hawke, Sally Hawkins, Kari Matchett, Zachary Bennett'): 1, ('Sean Anders', 'Jason Bateman, Jason Sudeikis, Charlie Day, Jennifer Aniston'): 1, ('Luca Guadagnino', 'Tilda Swinton, Matthias Schoenaerts, Ralph Fiennes, Dakota Johnson'): 1, ('Lars von Trier', 'Kirsten Dunst, Charlotte Gainsbourg, Kiefer Sutherland, Alexander Skarsgård'): 1, ('Ron Clements', 'Anika Noni Rose, Keith David, Oprah Winfrey, Bruno Campos'): 1, ('Tony Scott', 'Denzel Washington, Chris Pine, Rosario Dawson, Ethan Suplee'): 1, ('Robert Zemeckis', 'Denzel Washington, Nadine Velazquez, Don Cheadle, John Goodman'): 1, ('Tim Johnson', 'Jim Parsons, Rihanna, Steve Martin, Jennifer Lopez'): 1, ('Giuseppe Tornatore', 'Geoffrey Rush, Jim Sturgess, Sylvia Hoeks,Donald Sutherland'): 1, ('Nathan Morlando', 'Sophie Nélisse, Josh Wiggins, Joe Cobden, Bill Paxton'): 1, ('Brian Helgeland', 'Chadwick Boseman, T.R. Knight, Harrison Ford,Nicole Beharie'): 1, ('Robert Luketic', 'Jim Sturgess, Kate Bosworth, Kevin Spacey, Aaron Yoo'): 1, ('John Carney', 'Keira Knightley, Mark Ruffalo, Adam Levine, Hailee Steinfeld'): 1, ('Scott Cooper', 'Christian Bale, Casey Affleck, Zoe Saldana, Woody Harrelson'): 1, ('Woody Allen', 'Rebecca Hall, Scarlett Johansson, Javier Bardem,Christopher Evan Welch'): 1, ('Mark Osborne', 'Jack Black, Ian McShane,Angelina Jolie, Dustin Hoffman'): 1, ('Malcolm D. Lee', 'Ice Cube, Regina Hall, Anthony Anderson, Eve'): 1, ('McG', 'Christian Bale, Sam Worthington, Anton Yelchin, Moon Bloodgood'): 1, ('Richard LaGravenese', 'Hilary Swank, Imelda Staunton, Patrick Dempsey, Scott Glenn'): 1, ('Alexandre Aja', 'Ted Levine, Kathleen Quinlan, Dan Byrd, Emilie de Ravin'): 1, ('Clint Eastwood', 'Angelina Jolie, Colm Feore, Amy Ryan, Gattlin Griffith'): 1, ('Allen Coulter', 'Robert Pattinson, Emilie de Ravin, Caitlyn Rund,Moisés Acevedo'): 1, ('Naoko Yamada', 'Miyu Irino, Saori Hayami, Aoi Yuki, Kenshô Ono'): 1, ('Miguel Arteta', 'Steve Carell, Jennifer Garner, Ed Oxenbould, Dylan Minnette'): 1, ('Steven Knight', 'Tom Hardy, Olivia Colman, Ruth Wilson, Andrew Scott'): 1, ('Alexandre Aja', 'Jamie Dornan, Aiden Longworth, Sarah Gadon,Aaron Paul'): 1, ('Alexandre Aja', 'Daniel Radcliffe, Juno Temple, Max Minghella, Joe Anderson'): 1, ('James Schamus', 'Logan Lerman, Sarah Gadon, Tijuana Ricks, Sue Dahlman'): 1, ('Kyle Patrick Alvarez', 'Ezra Miller, Tye Sheridan, Billy Crudup, Olivia Thirlby'): 1, ('David Bowers', 'Zachary Gordon, Devon Bostick, Robert Capron,Rachael Harris'): 1, ('J.J. Abrams', 'Tom Cruise, Michelle Monaghan, Ving Rhames, Philip Seymour Hoffman'): 1, ('Hannes Holm', 'Rolf Lassgård, Bahar Pars, Filip Berg, Ida Engvoll'): 1, ('James Wong', 'Justin Chatwin, James Marsters, Yun-Fat Chow, Emmy Rossum'): 1, ('Dan Bradley', 'Chris Hemsworth, Isabel Lucas, Josh Hutcherson, Josh Peck'): 1, ('Lone Scherfig', 'Anne Hathaway, Jim Sturgess, Patricia Clarkson,Tom Mison'): 1, ('Greg Berlanti', 'Katherine Heigl, Josh Duhamel, Josh Lucas, Alexis Clagett'): 1, ('Juan Carlos Fresnadillo', 'Jeremy Renner, Rose Byrne, Robert Carlyle, Harold Perrineau'): 1, ('Jonathan Levine', 'Nicholas Hoult, Teresa Palmer, John Malkovich,Analeigh Tipton'): 1, ('Woody Allen', 'Cate Blanchett, Alec Baldwin, Peter Sarsgaard, Sally Hawkins'): 1, ('Jon M. Chu', 'Dwayne Johnson, Channing Tatum, Adrianne Palicki,Byung-hun Lee'): 1, ('Jonathan Liebesman', 'Sam Worthington, Liam Neeson, Rosamund Pike, Ralph Fiennes'): 1, ('Hideaki Anno', 'Hiroki Hasegawa, Yutaka Takenouchi,Satomi Ishihara, Ren Ôsugi'): 1, ('John Lee Hancock', 'Emma Thompson, Tom Hanks, Annie Rose Buckley, Colin Farrell'): 1, ('Wally Pfister', 'Johnny Depp, Rebecca Hall, Morgan Freeman, Cillian Murphy'): 1, ('Carlos Saldanha', 'Jesse Eisenberg, Anne Hathaway, George Lopez,Karen Disher'): 1, ('Drake Doremus', 'Nicholas Hoult, Kristen Stewart, Vernetta Lopez,Scott Lawrence'): 1, ('Alejandro González Iñárritu', 'Brad Pitt, Cate Blanchett, Gael García Bernal, Mohamed Akhzam'): 1, ('Terrence Malick', 'Brad Pitt, Sean Penn, Jessica Chastain, Hunter McCracken'): 1, ('Scott Hicks', 'Zac Efron, Taylor Schilling, Blythe Danner, Riley Thomas Stewart'): 1, ('Alexandre Aja', \"Elisabeth Shue, Jerry O'Connell, Richard Dreyfuss,Ving Rhames\"): 1, ('Jonathan Levine', 'Joseph Gordon-Levitt, Seth Rogen, Anna Kendrick, Bryce Dallas Howard'): 1, ('Femi Oyeniran', 'Dylan Duffus, Scorcher,Shone Romulus, Jade Asha'): 1, ('Judd Apatow', 'Paul Rudd, Leslie Mann, Maude Apatow, Iris Apatow'): 1, ('Shawn Levy', 'Hugh Jackman, Evangeline Lilly, Dakota Goyo,Anthony Mackie'): 1, ('Michael Patrick King', 'Sarah Jessica Parker, Kim Cattrall, Cynthia Nixon, Kristin Davis'): 1, ('Sylvester Stallone', 'Sylvester Stallone, Julie Benz, Matthew Marsden, Graham McTavish'): 1, ('Robert Rodriguez', 'Rose McGowan, Freddy Rodríguez, Josh Brolin,Marley Shelton'): 1, ('Peter Landesman', 'Will Smith, Alec Baldwin, Albert Brooks, David Morse'): 1, ('Tarsem Singh', 'Lee Pace, Catinca Untaru, Justine Waddell, Kim Uylenbroek'): 1, ('Robert Luketic', 'Katherine Heigl, Gerard Butler, Bree Turner, Eric Winter'): 1, ('Gary Winick', 'Kate Hudson, Anne Hathaway, Candice Bergen, Bryan Greenberg'): 1, ('Leslye Headland', 'Jason Sudeikis, Alison Brie, Jordan Carlos,Margarita Levieva'): 1, ('David R. Ellis', 'Samuel L. Jackson, Julianna Margulies, Nathan Phillips, Rachel Blanchard'): 1, ('Michael Dowse', 'Daniel Radcliffe, Zoe Kazan, Megan Park, Adam Driver'): 1, ('Dean DeBlois', 'Jay Baruchel, Cate Blanchett, Gerard Butler, Craig Ferguson'): 1, ('José Padilha', 'Joel Kinnaman, Gary Oldman, Michael Keaton, Abbie Cornish'): 1, ('James Franco', \"Nat Wolff, James Franco, Vincent D'Onofrio, Selena Gomez\"): 1, ('Michael Showalter', 'Sally Field, Max Greenfield, Tyne Daly, Wendi McLendon-Covey'): 1, ('Steven Soderbergh', 'George Clooney, Brad Pitt, Matt Damon,Michael Mantell'): 1, ('James Gunn', 'Nathan Fillion, Elizabeth Banks, Michael Rooker, Don Thompson'): 1, ('Steven Soderbergh', 'Matt Damon, Kate Winslet, Jude Law, Gwyneth Paltrow'): 1, ('Matteo Garrone', 'Salma Hayek, Vincent Cassel, Toby Jones, John C. Reilly'): 1, ('Oz Perkins', 'Ruth Wilson, Paula Prentiss, Lucy Boynton, Bob Balaban'): 1, ('Gabor Csupo', 'Josh Hutcherson, AnnaSophia Robb, Zooey Deschanel, Robert Patrick'): 1, ('James Ward Byrkit', 'Emily Baldoni, Maury Sterling, Nicholas Brendon, Elizabeth Gracen'): 1, ('George Tillman Jr.', 'Jamal Woolard, Anthony Mackie, Derek Luke,Momo Dione'): 1, ('Hong-jin Na', 'Jun Kunimura, Jung-min Hwang, Do-won Kwak, Woo-hee Chun'): 1, ('Simon West', 'Sylvester Stallone, Liam Hemsworth, Randy Couture,Jean-Claude Van Damme'): 1, ('Gregory Wilson', 'William Atherton, Blythe Auffarth, Blanche Baker,Kevin Chamberlin'): 1, ('Tom Tykwer', 'Ben Whishaw, Dustin Hoffman, Alan Rickman,Francesc Albiol'): 1, ('Chris Weitz', 'Nicole Kidman, Daniel Craig, Dakota Blue Richards, Ben Walker'): 1, ('Neil Marshall', 'Michael Fassbender, Dominic West, Olga Kurylenko,Andreas Wisniewski'): 1, ('Christopher Landon', 'Tye Sheridan, Logan Miller, Joey Morgan,Sarah Dumont'): 1, ('Burr Steers', 'Zac Efron, Matthew Perry, Leslie Mann, Thomas Lennon'): 1, ('John Erick Dowdle', 'Lake Bell, Pierce Brosnan, Owen Wilson,Chatchawai Kamonsakpitak'): 1, ('Bryan Singer', 'Brandon Routh, Kevin Spacey, Kate Bosworth, James Marsden'): 1, ('Bill Condon', 'Kristen Stewart, Robert Pattinson, Taylor Lautner, Gil Birmingham'): 1, ('Lee Daniels', \"Gabourey Sidibe, Mo'Nique, Paula Patton, Mariah Carey\"): 1, ('Gus Van Sant', 'Matthew McConaughey, Naomi Watts, Ken Watanabe,Ryoko Seta'): 1, ('Chris McCoy', 'Zoey Deutch, Nicholas Braun, Mateo Arias, Israel Broussard'): 1, ('Paul Thomas Anderson', 'Philip Seymour Hoffman, Joaquin Phoenix,Amy Adams, Jesse Plemons'): 1, ('Craig Brewer', 'Kenny Wormald, Julianne Hough, Dennis Quaid,Andie MacDowell'): 1, ('R.J. Cutler', 'Chloë Grace Moretz, Mireille Enos, Jamie Blackley,Joshua Leonard'): 1, ('Ido Fluk', 'Dan Stevens, Malin Akerman, Oliver Platt, Kerry Bishé'): 1, ('Christopher Smith', 'Tye Sheridan, Emory Cohen, Bel Powley,Stephen Moyer'): 1, ('Anna Biller', 'Samantha Robinson, Jeffrey Vincent Parise, Laura Waddell, Gian Keys'): 1, ('Adam McKay', 'Will Ferrell, John C. Reilly, Sacha Baron Cohen, Gary Cole'): 1, ('Tom Six', 'Dieter Laser, Ashley C. Williams, Ashlynn Yennie, Akihiro Kitamura'): 1, ('James Gunn', 'Rainn Wilson, Ellen Page, Liv Tyler, Kevin Bacon'): 1, ('Richie Smyth', \"Jamie Dornan, Mark Strong, Jason O'Mara, Michael McElhatton\"): 1, ('Jason Reitman', 'George Clooney, Vera Farmiga, Anna Kendrick,Jason Bateman'): 1, ('Ryûhei Kitamura', 'Vinnie Jones, Bradley Cooper, Leslie Bibb, Brooke Shields'): 1, ('David Slade', 'Kristen Stewart, Robert Pattinson, Taylor Lautner,Xavier Samuel'): 1, ('Greg Kwedar', 'Johnny Simmons, Gabriel Luna, Clifton Collins Jr.,David Acord'): 1, ('Mark Mylod', 'Anna Faris, Chris Evans, Ari Graynor, Blythe Danner'): 1, ('David Twohy', 'Vin Diesel, Karl Urban, Katee Sackhoff, Jordi Mollà'): 1, ('Christopher Smith', 'Melissa George, Joshua McIvor, Jack Taylor,Michael Dorman'): 1, ('Lee Daniels', 'Forest Whitaker, Oprah Winfrey, John Cusack, Jane Fonda'): 1, ('Justin Kelly', 'Garrett Clayton, Christian Slater, Molly Ringwald,James Kelley'): 1, ('M. Night Shyamalan', 'Jaden Smith, David Denman, Will Smith,Sophie Okonedo'): 1, ('Justin Tipping', 'Jahking Guillory, Christopher Jordan Wallace,Christopher Meyer, Kofi Siriboe'): 1, ('Alfonso Gomez-Rejon', 'Thomas Mann, RJ Cyler, Olivia Cooke, Nick Offerman'): 1, ('Alexander Payne', 'George Clooney, Shailene Woodley, Amara Miller, Nick Krause'): 1, ('Michael Patrick King', 'Sarah Jessica Parker, Kim Cattrall, Kristin Davis, Cynthia Nixon'): 1, ('Jordan Vogt-Roberts', 'Nick Robinson, Gabriel Basso, Moises Arias,Nick Offerman'): 1, ('Paul W.S. Anderson', 'Jason Statham, Joan Allen, Tyrese Gibson, Ian McShane'): 1, ('Tom Gormican', 'Zac Efron, Michael B. Jordan, Miles Teller, Imogen Poots'): 1, ('Scott Stewart', 'Paul Bettany, Dennis Quaid, Charles S. Dutton, Lucas Black'): 1, ('David Ayer', 'Jake Gyllenhaal, Michael Peña, Anna Kendrick, America Ferrera'): 1, ('McG', 'Kevin Costner, Hailee Steinfeld, Connie Nielsen, Amber Heard'): 1, ('Paul McGuigan', 'Josh Hartnett, Ben Kingsley, Morgan Freeman, Lucy Liu'): 1, ('Danny Boyle', 'James McAvoy, Rosario Dawson, Vincent Cassel,Danny Sapani'): 1, ('Patricia Rozema', 'Ellen Page, Evan Rachel Wood, Max Minghella,Callum Keith Rennie'): 1, ('Justin Chadwick', 'Natalie Portman, Scarlett Johansson, Eric Bana,Jim Sturgess'): 1, ('Steven R. Monroe', 'Sarah Butler, Jeff Branson, Andrew Howard,Daniel Franzese'): 1, ('James Lapine', 'Viola Davis, Hayden Panettiere, Catalina Sandino Moreno, Ellen Burstyn'): 1, ('David Lynch', 'Laura Dern, Jeremy Irons, Justin Theroux, Karolina Gruszka'): 1, ('Jérôme Salle', 'Lambert Wilson, Pierre Niney, Audrey Tautou,Laurent Lucas'): 1, ('Robert Zemeckis', 'Joseph Gordon-Levitt, Charlotte Le Bon,Guillaume Baillargeon, Émilie Leclerc'): 1, ('Micheal Bafaro', 'Anna Hutchison, Andrea Whitburn, Jennifer Koenig,Michael Dickson'): 1, ('Gore Verbinski', 'Johnny Depp, Armie Hammer, William Fichtner,Tom Wilkinson'): 1, ('John Luessenhop', 'Alexandra Daddario, Tania Raymonde, Scott Eastwood, Trey Songz'): 1, ('D.J. Caruso', 'Shia LaBeouf, David Morse, Carrie-Anne Moss, Sarah Roemer'): 1, ('Adam Shankman', 'Julianne Hough, Diego Boneta, Tom Cruise, Alec Baldwin'): 1, ('Wes Craven', 'Neve Campbell, Courteney Cox, David Arquette, Lucy Hale'): 1, ('Mira Nair', \"Madina Nalwanga, David Oyelowo, Lupita Nyong'o, Martin Kabanza\"): 1, ('Kirk Jones', 'Nia Vardalos, John Corbett, Michael Constantine, Lainie Kazan'): 1, ('Gilles Paquet-Brenner', 'Charlize Theron, Nicholas Hoult, Christina Hendricks, Chloë Grace Moretz'): 1, ('Lisa Addario', 'Jason Biggs, Janet Montgomery,Ashley Tisdale, Bria L. Murphy'): 1, ('Xavier Dolan', 'Nathalie Baye, Vincent Cassel, Marion Cotillard, Léa Seydoux'): 1, ('Pedro Almodóvar', 'Antonio Banderas, Elena Anaya, Jan Cornet,Marisa Paredes'): 1, ('Patricia Riggen', 'Jennifer Garner, Kylie Rogers, Martin Henderson,Brighton Sharbino'): 1, ('Will Gluck', 'Quvenzhané Wallis, Cameron Diaz, Jamie Foxx, Rose Byrne'): 1, ('Julie Taymor', 'Evan Rachel Wood, Jim Sturgess, Joe Anderson, Dana Fuchs'): 1, ('Luke Greenfield', 'Jake Johnson, Damon Wayans Jr., Rob Riggle, Nina Dobrev'): 1, ('Boaz Yakin', 'Thomas Haden Church, Josh Wiggins, Luke Kleintank,Lauren Graham'): 1, ('David Gordon Green', 'Danny McBride, Natalie Portman, James Franco, Rasmus Hardiker'): 1, ('Steven Quale', \"Nicholas D'Agosto, Emma Bell, Arlen Escarpeta, Miles Fisher\"): 1, ('Shana Feste', 'Gabriella Wilde, Alex Pettyfer, Bruce Greenwood,Robert Patrick'): 1, ('Pascal Laugier', 'Morjana Alaoui, Mylène Jampanoï, Catherine Bégin,Robert Toupin'): 1, ('Ava DuVernay', 'David Oyelowo, Carmen Ejogo, Tim Roth, Lorraine Toussaint'): 1, ('Patrick Tatopoulos', 'Rhona Mitra, Michael Sheen, Bill Nighy, Steven Mackintosh'): 1, ('Aamir Khan', 'Darsheel Safary, Aamir Khan, Tanay Chheda, Sachet Engineer'): 1, ('Michael Dowse', 'Topher Grace, Anna Faris, Dan Fogler, Teresa Palmer'): 1, ('Paul W.S. Anderson', 'Milla Jovovich, Ali Larter, Wentworth Miller,Kim Coates'): 1, ('Nima Nourizadeh', 'Thomas Mann, Oliver Cooper, Jonathan Daniel Brown, Dax Flame'): 1, ('Billy Ray', 'Chiwetel Ejiofor, Nicole Kidman, Julia Roberts, Dean Norris'): 1, ('Eli Roth', 'Lauren German, Heather Matarazzo, Bijou Phillips, Roger Bart'): 1, ('Jon M. Chu', 'Robert Hoffman, Briana Evigan, Cassie Ventura, Adam G. Sevani'): 1, ('Scot Armstrong', 'Adam Pally, T.J. Miller, Thomas Middleditch,Shannon Woodward'): 1, ('Barry Sonnenfeld', 'Kevin Spacey, Jennifer Garner, Robbie Amell,Cheryl Hines'): 1}\n"
     ]
    }
   ],
   "source": [
    "import csv\n",
    "\n",
    "\n",
    "f = open('C:\\\\Users\\\\hp\\\\Downloads\\\\imdb.csv', mode='r', encoding='utf-8', newline='\\n')\n",
    "data = csv.reader(f, delimiter=',')\n",
    "res_data = list(data)\n",
    "f.close()\n",
    "d = {}\n",
    "for ind, rec in enumerate(res_data):\n",
    "    # print(rec)\n",
    "    if ind:\n",
    "        if rec[4] not in d:\n",
    "            d[rec[4]] = [float(rec[8])]\n",
    "        else:\n",
    "            d[rec[4]].append(float(rec[8]))\n",
    "t_h = sorted(d.items(), key=lambda x: sum(x[1]) / len(x[1]), reverse=True)[:100]\n",
    "print(t_h,end=\" \")\n",
    "\n",
    "d1 = dict()\n",
    "for ind,rec1 in enumerate(res_data):\n",
    "    if ind:\n",
    "        if (rec1[4],rec1[5]) not in d:\n",
    "            d1[(rec1[4],rec1[5])] = 1\n",
    "        else:\n",
    "            d1[(rec1[4],rec[5])] += 1\n",
    "print(d1)          "
   ]
  },
  {
   "cell_type": "code",
   "execution_count": null,
   "id": "caaa9ca7-5ebc-49e0-8e58-0e7ea59fcbd0",
   "metadata": {},
   "outputs": [],
   "source": [
    "[11:18 AM, 5/25/2022] +91 96404 40600: from collections import Counter\n",
    "data = []\n",
    "\n",
    "with open('imdb.csv', newline='\\n') as csvfile:\n",
    "    reader = csv.DictReader(csvfile, delimiter=',')\n",
    "    for d in reader:\n",
    "        d['Actors'] = [name.strip() for name in d['Actors'].split(\",\")]\n",
    "        d['Genre'] = [genre.strip() for genre in d['Genre'].split(\",\")]\n",
    "        data.append(d)\n",
    "        \n",
    "director_actor_list = []\n",
    "for d in data:\n",
    "    director_actor_list.extend([(d[\"Director\"], actor) for actor in d[\"Actors\"]])\n",
    "       \n",
    "ctr = Counter(director_actor_list)   \n",
    "ctr.most_common(10)\n",
    "[11:19 AM, 5/25/2022] +91 96404 40600: ------------\n",
    "Without-Counter\n",
    "-------------\n",
    "data = []\n",
    "with open('imdb.csv', newline='\\n') as csvfile:\n",
    "    reader = csv.DictReader(csvfile, delimiter=',')\n",
    "    for d in reader:\n",
    "        d['Actors'] = [name.strip() for name in d['Actors'].split(\",\")]\n",
    "        d['Genre'] = [genre.strip() for genre in d['Genre'].split(\",\")]\n",
    "        data.append(d)\n",
    "        \n",
    "director_actor_count = {}\n",
    "for d in data:\n",
    "    for actor in d[\"Actors\"]:\n",
    "        combo = (d[\"Director\"], actor)\n",
    "        if combo not in director_actor_count:\n",
    "            director_actor_count[combo] = 1\n",
    "        else:\n",
    "            director_actor_count[combo] += 1\n",
    "            \n",
    "(director, actor), count = max(director_actor_count.items(), key=lambda x: x[1])\n",
    "print(f\"Combo '{director} - {actor}' has done maximum number of movies count :{count}\")"
   ]
  },
  {
   "cell_type": "code",
   "execution_count": 41,
   "id": "6069c52c-538d-4add-8f02-1f5e1a9b7325",
   "metadata": {
    "collapsed": true,
    "jupyter": {
     "outputs_hidden": true
    },
    "tags": []
   },
   "outputs": [
    {
     "name": "stdin",
     "output_type": "stream",
     "text": [
      " 2\n"
     ]
    },
    {
     "ename": "TypeError",
     "evalue": "'list' object cannot be interpreted as an integer",
     "output_type": "error",
     "traceback": [
      "\u001b[1;31m---------------------------------------------------------------------------\u001b[0m",
      "\u001b[1;31mTypeError\u001b[0m                                 Traceback (most recent call last)",
      "\u001b[1;32m~\\AppData\\Local\\Temp/ipykernel_14844/3645801203.py\u001b[0m in \u001b[0;36m<module>\u001b[1;34m\u001b[0m\n\u001b[1;32m----> 1\u001b[1;33m \u001b[1;32mfor\u001b[0m \u001b[0mi\u001b[0m \u001b[1;32min\u001b[0m \u001b[0mrange\u001b[0m\u001b[1;33m(\u001b[0m\u001b[0minput\u001b[0m\u001b[1;33m(\u001b[0m\u001b[1;33m)\u001b[0m\u001b[1;33m.\u001b[0m\u001b[0msplit\u001b[0m\u001b[1;33m(\u001b[0m\u001b[1;33m)\u001b[0m\u001b[1;33m)\u001b[0m\u001b[1;33m:\u001b[0m\u001b[1;33m\u001b[0m\u001b[1;33m\u001b[0m\u001b[0m\n\u001b[0m\u001b[0;32m      2\u001b[0m     \u001b[0mprint\u001b[0m\u001b[1;33m(\u001b[0m\u001b[0mi\u001b[0m\u001b[1;33m)\u001b[0m\u001b[1;33m\u001b[0m\u001b[1;33m\u001b[0m\u001b[0m\n",
      "\u001b[1;31mTypeError\u001b[0m: 'list' object cannot be interpreted as an integer"
     ]
    }
   ],
   "source": [
    "for i in range(input().split()):\n",
    "    print(i)\n"
   ]
  },
  {
   "cell_type": "code",
   "execution_count": 54,
   "id": "1b758b9b-6257-40e8-9855-e9d5bc550357",
   "metadata": {
    "jupyter": {
     "source_hidden": true
    },
    "tags": []
   },
   "outputs": [
    {
     "name": "stdin",
     "output_type": "stream",
     "text": [
      " 2\n",
      " Sagar 35 sanjay 12 ganesH 53 ramesh 19\n",
      " Ganesh 59 suresh 19 rakesh 26 laliT 96\n"
     ]
    },
    {
     "name": "stdout",
     "output_type": "stream",
     "text": [
      "ganesh 12 ramesh 19 sagar 35 sanjay 53\n",
      "ganesh 19 lalit 26 rakesh 59 suresh 96\n"
     ]
    }
   ],
   "source": [
    "res = [input().split() for i in range(int(input()))]\n",
    "res_1 = [rec[0: len(rec):2] for rec in res]\n",
    "res_2 = [rec[1: len(rec):2] for rec in res]\n",
    "\n",
    "req_rec1 = []\n",
    "req_rec2 = []\n",
    "for i in res_1:\n",
    "    _i = [j.lower() for j in i]\n",
    "    _i.sort()\n",
    "    req_rec1.append(_i)\n",
    "for j in res_2:\n",
    "    _j = list(map(int, j))\n",
    "    _j.sort()\n",
    "    req_rec2.append(_j)\n",
    "    \n",
    "for i1, j1 in list(zip(req_rec1, req_rec2)):\n",
    "    _j1 = list(map(str, j1))\n",
    "    res = ''\n",
    "    for j2, j3 in list(zip(i1, _j1)):\n",
    "        res += j2 + ' ' + j3 + ' '\n",
    "    print(res.strip())\n",
    "        \n",
    "        "
   ]
  },
  {
   "cell_type": "code",
   "execution_count": 57,
   "id": "96e050dc-206a-464f-9d1a-1f5bd9662dc0",
   "metadata": {},
   "outputs": [
    {
     "name": "stdin",
     "output_type": "stream",
     "text": [
      " 2\n",
      " Sagar 35 sanjay 12 ganesH 53 ramesh 19\n",
      " Ganesh 59 suresh 19 rakesh 26 laliT 96\n"
     ]
    },
    {
     "name": "stdout",
     "output_type": "stream",
     "text": [
      "sagar 12 sanjay 19 ganesh 35 ramesh 53 \n",
      "ganesh 19 suresh 26 rakesh 59 lalit 96 \n"
     ]
    }
   ],
   "source": [
    "ans = []\n",
    "for i in range(int(input())):\n",
    "    inp = input().split()\n",
    "    nam, num = [i.lower() for i in inp[0:len(inp):2]], list(sorted(map(int, inp[1:len(inp):2])))\n",
    "    s = ''\n",
    "    for i, j in list(zip(nam, num)):\n",
    "        s += i + ' ' + str(j) + ' '\n",
    "    s.strip()    \n",
    "    ans.append(s)\n",
    "    \n",
    "for i in ans:\n",
    "    print(i)\n"
   ]
  },
  {
   "cell_type": "code",
   "execution_count": 38,
   "id": "5abf0587-b9cd-417b-a01d-037de8c8a988",
   "metadata": {},
   "outputs": [
    {
     "ename": "TypeError",
     "evalue": "int() argument must be a string, a bytes-like object or a number, not 'list'",
     "output_type": "error",
     "traceback": [
      "\u001b[1;31m---------------------------------------------------------------------------\u001b[0m",
      "\u001b[1;31mTypeError\u001b[0m                                 Traceback (most recent call last)",
      "\u001b[1;32m~\\AppData\\Local\\Temp/ipykernel_17512/3574300601.py\u001b[0m in \u001b[0;36m<module>\u001b[1;34m\u001b[0m\n\u001b[1;32m----> 1\u001b[1;33m \u001b[0mint\u001b[0m\u001b[1;33m(\u001b[0m\u001b[1;33m[\u001b[0m\u001b[1;36m1\u001b[0m\u001b[1;33m,\u001b[0m \u001b[1;36m2\u001b[0m\u001b[1;33m,\u001b[0m \u001b[1;36m3\u001b[0m\u001b[1;33m]\u001b[0m\u001b[1;33m)\u001b[0m\u001b[1;33m\u001b[0m\u001b[1;33m\u001b[0m\u001b[0m\n\u001b[0m",
      "\u001b[1;31mTypeError\u001b[0m: int() argument must be a string, a bytes-like object or a number, not 'list'"
     ]
    }
   ],
   "source": []
  },
  {
   "cell_type": "code",
   "execution_count": 42,
   "id": "7046a926-f349-4b45-bbbe-a279db3c54f1",
   "metadata": {},
   "outputs": [
    {
     "data": {
      "text/plain": [
       "[1, 2, 3]"
      ]
     },
     "execution_count": 42,
     "metadata": {},
     "output_type": "execute_result"
    }
   ],
   "source": [
    "list([1, 2, 3])"
   ]
  }
 ],
 "metadata": {
  "kernelspec": {
   "display_name": "Python 3 (ipykernel)",
   "language": "python",
   "name": "python3"
  },
  "language_info": {
   "codemirror_mode": {
    "name": "ipython",
    "version": 3
   },
   "file_extension": ".py",
   "mimetype": "text/x-python",
   "name": "python",
   "nbconvert_exporter": "python",
   "pygments_lexer": "ipython3",
   "version": "3.9.7"
  }
 },
 "nbformat": 4,
 "nbformat_minor": 5
}
