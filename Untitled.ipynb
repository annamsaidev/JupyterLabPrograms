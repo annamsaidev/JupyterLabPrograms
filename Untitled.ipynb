{
 "cells": [
  {
   "cell_type": "code",
   "execution_count": 2,
   "id": "2cbd3122-8a5d-40a1-b559-129730ef84e7",
   "metadata": {
    "tags": []
   },
   "outputs": [
    {
     "name": "stdin",
     "output_type": "stream",
     "text": [
      "enter age 10\n"
     ]
    },
    {
     "name": "stdout",
     "output_type": "stream",
     "text": [
      "you are not eiglible\n"
     ]
    }
   ],
   "source": [
    "a=int(input(\"enter age\"))\n",
    "if a>18:\n",
    "    print(\"you are eiglible\")\n",
    "else:\n",
    "    print(\"you are not eiglible\")\n"
   ]
  },
  {
   "cell_type": "code",
   "execution_count": 4,
   "id": "aa301d69-218b-4d1b-bf8c-0c052f6c3659",
   "metadata": {},
   "outputs": [
    {
     "name": "stdin",
     "output_type": "stream",
     "text": [
      "enter age 10\n"
     ]
    },
    {
     "name": "stdout",
     "output_type": "stream",
     "text": [
      "less than 18 not youth\n"
     ]
    }
   ],
   "source": [
    "age=int(input(\"enter age\"))\n",
    "if age>18:\n",
    "    print(\"greater than 18 youth\")\n",
    "else:\n",
    "    print(\"less than 18 not youth\")"
   ]
  },
  {
   "cell_type": "code",
   "execution_count": null,
   "id": "bf1106ef-ab58-4254-bd13-4469d75cb127",
   "metadata": {},
   "outputs": [],
   "source": [
    "age=int(input(\"enter age\"))\n",
    "if age<20:\n",
    "    print(\"upper\")\n",
    "lif:\n",
    "    print"
   ]
  },
  {
   "cell_type": "code",
   "execution_count": 10,
   "id": "15401b6a-5b08-4891-bf1b-08f32b3a3dbc",
   "metadata": {},
   "outputs": [
    {
     "name": "stdin",
     "output_type": "stream",
     "text": [
      "enter the age: 33\n"
     ]
    },
    {
     "name": "stdout",
     "output_type": "stream",
     "text": [
      "middle berth\n"
     ]
    }
   ],
   "source": [
    "age = int(input('enter the age:'))\n",
    "\n",
    "if aprintge < 20:\n",
    "    (\"upper berth\")\n",
    "\n",
    "elif age > 20 and age < 40:\n",
    "    print('middle berth')\n",
    "else:\n",
    "    print('lower berth')\n",
    "    "
   ]
  },
  {
   "cell_type": "code",
   "execution_count": 13,
   "id": "b576b82a-de64-42e3-9c03-16ec3af7b41d",
   "metadata": {},
   "outputs": [
    {
     "name": "stdin",
     "output_type": "stream",
     "text": [
      "enter the age: 30\n"
     ]
    },
    {
     "name": "stdout",
     "output_type": "stream",
     "text": [
      "side lower\n"
     ]
    }
   ],
   "source": [
    "age = int(input('enter the age:'))\n",
    "\n",
    "if age < 20:\n",
    "     print (\"upper \")\n",
    "elif age >20 and age < 30:\n",
    "    print (\"side upper\")\n",
    "elif age > 30 and age < 40:\n",
    "    print (\"middle\")\n",
    "elif age >40 and age < 50:\n",
    "    print (\"lower\")\n",
    "else:\n",
    "    print (\"side lower\")"
   ]
  },
  {
   "cell_type": "code",
   "execution_count": 20,
   "id": "e11c2367-69ef-4a92-9df6-b7fc9591e707",
   "metadata": {},
   "outputs": [
    {
     "name": "stdin",
     "output_type": "stream",
     "text": [
      "enter age  55\n",
      "enter the gender male\n"
     ]
    },
    {
     "name": "stdout",
     "output_type": "stream",
     "text": [
      "lower\n"
     ]
    }
   ],
   "source": [
    "age = int(input(\"enter age \"))\n",
    "gender = str(input(\"enter the gender\"))\n",
    "\n",
    "if age <20:\n",
    "    if gender == 'male':\n",
    "        print(\"uper\")\n",
    "    else:\n",
    "        print(\"side upper\")\n",
    "elif age >20 and age < 40:\n",
    "    if gender == 'male':\n",
    "        print (\"middle\")\n",
    "    else:\n",
    "        print(\"side middle\")\n",
    "else:\n",
    "    print(\"lower\")"
   ]
  },
  {
   "cell_type": "code",
   "execution_count": 23,
   "id": "02ac13c3-a1d6-44c5-ae48-c59e654d16c3",
   "metadata": {},
   "outputs": [
    {
     "name": "stdin",
     "output_type": "stream",
     "text": [
      "enter the amount 55\n",
      "enter the amount 55\n"
     ]
    },
    {
     "name": "stdout",
     "output_type": "stream",
     "text": [
      "money has be deb\n"
     ]
    }
   ],
   "source": [
    "r_amount = int(input(\"enter the amount\"))\n",
    "w_amount = int(input(\"enter the amount\"))\n",
    "if r_amount == w_amount:\n",
    "    print(\"money has be deb\")\n",
    "elif r_amount > w_amount:\n",
    "    print('INSUFFICIENT FUNDS')\n",
    "else:\n",
    "    print(\"more than amount\")\n",
    "    \n",
    "    \n"
   ]
  },
  {
   "cell_type": "markdown",
   "id": "5ab2d08e-358b-4d25-be75-1958358ed1b5",
   "metadata": {},
   "source": [
    "for i in range(start, stop, step)"
   ]
  },
  {
   "cell_type": "code",
   "execution_count": 29,
   "id": "646af7d1-f006-4b9d-ac3b-0ae886e679b0",
   "metadata": {},
   "outputs": [
    {
     "name": "stdout",
     "output_type": "stream",
     "text": [
      "4\n",
      "8\n",
      "12\n",
      "16\n"
     ]
    }
   ],
   "source": [
    "for a in range(4,20,4):\n",
    "    print(a)"
   ]
  },
  {
   "cell_type": "code",
   "execution_count": null,
   "id": "64ee3a6a-3567-499d-91da-36f940949e0b",
   "metadata": {},
   "outputs": [],
   "source": [
    "print(a*1) --> even\n",
    "print(a*2) --> odd"
   ]
  },
  {
   "cell_type": "code",
   "execution_count": 32,
   "id": "22375744-7081-4478-8042-1a92cdabbc60",
   "metadata": {},
   "outputs": [
    {
     "name": "stdout",
     "output_type": "stream",
     "text": [
      "2\n",
      "2\n",
      "6\n",
      "4\n",
      "10\n",
      "6\n",
      "14\n",
      "8\n",
      "18\n",
      "10\n",
      "22\n",
      "12\n",
      "26\n",
      "14\n",
      "30\n",
      "16\n",
      "34\n",
      "18\n",
      "38\n",
      "20\n"
     ]
    }
   ],
   "source": [
    "for i in range(1, 21):\n",
    "    if i % 2 == 0:\n",
    "        print(i*1)\n",
    "    else:\n",
    "        print(i*2)"
   ]
  },
  {
   "cell_type": "code",
   "execution_count": 2,
   "id": "ce332630-a699-4c53-b94f-072d53dfd2b8",
   "metadata": {},
   "outputs": [
    {
     "name": "stdout",
     "output_type": "stream",
     "text": [
      "10\n",
      "10\n",
      "30\n",
      "20\n",
      "50\n",
      "30\n",
      "70\n",
      "40\n",
      "90\n",
      "50\n",
      "110\n",
      "60\n",
      "130\n",
      "70\n",
      "150\n",
      "80\n",
      "170\n",
      "90\n",
      "190\n",
      "100\n",
      "210\n",
      "110\n",
      "230\n",
      "120\n",
      "250\n",
      "130\n",
      "270\n",
      "140\n",
      "290\n",
      "150\n",
      "310\n",
      "160\n",
      "330\n",
      "170\n",
      "350\n",
      "180\n",
      "370\n",
      "190\n",
      "390\n",
      "200\n",
      "410\n",
      "210\n",
      "430\n",
      "220\n",
      "450\n",
      "230\n",
      "470\n",
      "240\n",
      "490\n",
      "250\n",
      "510\n",
      "260\n",
      "530\n",
      "270\n",
      "550\n",
      "280\n",
      "570\n",
      "290\n",
      "590\n",
      "300\n",
      "610\n",
      "310\n",
      "630\n",
      "320\n",
      "650\n",
      "330\n",
      "670\n",
      "340\n",
      "690\n",
      "350\n",
      "710\n",
      "360\n",
      "730\n",
      "370\n",
      "750\n",
      "380\n",
      "770\n",
      "390\n",
      "790\n",
      "400\n",
      "810\n",
      "410\n",
      "830\n",
      "420\n",
      "850\n",
      "430\n",
      "870\n",
      "440\n",
      "890\n",
      "450\n",
      "910\n",
      "460\n",
      "930\n",
      "470\n",
      "950\n",
      "480\n",
      "970\n",
      "490\n",
      "990\n"
     ]
    }
   ],
   "source": [
    "for a in range (1,100):\n",
    "    if a % 2 == 0:\n",
    "        print(a*5)\n",
    "    else:\n",
    "        print(a*10)"
   ]
  },
  {
   "cell_type": "code",
   "execution_count": 38,
   "id": "c8fbbc8e-2d3c-4ac0-8904-27ee60718357",
   "metadata": {},
   "outputs": [
    {
     "name": "stdout",
     "output_type": "stream",
     "text": [
      "11\n",
      "7\n",
      "13\n",
      "9\n",
      "15\n",
      "11\n",
      "17\n",
      "13\n",
      "19\n",
      "15\n",
      "21\n",
      "17\n",
      "23\n",
      "19\n",
      "25\n",
      "21\n",
      "27\n",
      "23\n",
      "29\n",
      "25\n",
      "31\n",
      "27\n",
      "33\n",
      "29\n",
      "35\n",
      "31\n",
      "37\n",
      "33\n",
      "39\n",
      "35\n",
      "41\n",
      "37\n",
      "43\n",
      "39\n",
      "45\n",
      "41\n",
      "47\n",
      "43\n",
      "49\n",
      "45\n",
      "51\n",
      "47\n",
      "53\n",
      "49\n",
      "55\n",
      "51\n",
      "57\n",
      "53\n",
      "59\n",
      "55\n",
      "61\n",
      "57\n",
      "63\n",
      "59\n",
      "65\n",
      "61\n",
      "67\n",
      "63\n",
      "69\n",
      "65\n",
      "71\n",
      "67\n",
      "73\n",
      "69\n",
      "75\n",
      "71\n",
      "77\n",
      "73\n",
      "79\n",
      "75\n",
      "81\n",
      "77\n",
      "83\n",
      "79\n",
      "85\n",
      "81\n",
      "87\n",
      "83\n",
      "89\n",
      "85\n",
      "91\n",
      "87\n",
      "93\n",
      "89\n",
      "95\n",
      "91\n",
      "97\n",
      "93\n",
      "99\n",
      "95\n",
      "101\n",
      "97\n",
      "103\n",
      "99\n",
      "105\n",
      "101\n",
      "107\n",
      "103\n",
      "109\n"
     ]
    }
   ],
   "source": [
    "for a in range(1,100):\n",
    "    if a % 2 == 0:\n",
    "        print(a+5)\n",
    "    else:\n",
    "        print(a+10)"
   ]
  },
  {
   "cell_type": "code",
   "execution_count": 44,
   "id": "43d08a5c-a9bc-4564-b472-b4ce2f097dba",
   "metadata": {},
   "outputs": [
    {
     "name": "stdout",
     "output_type": "stream",
     "text": [
      "0\n",
      "1\n",
      "2\n",
      "3\n",
      "6\n",
      "5\n",
      "6\n",
      "7\n",
      "8\n",
      "11\n",
      "10\n",
      "11\n",
      "12\n",
      "13\n",
      "16\n",
      "15\n",
      "16\n",
      "17\n",
      "18\n",
      "21\n",
      "20\n",
      "21\n",
      "22\n",
      "23\n",
      "26\n",
      "25\n",
      "26\n",
      "27\n",
      "28\n",
      "31\n",
      "30\n",
      "31\n",
      "32\n",
      "33\n",
      "36\n",
      "35\n",
      "36\n",
      "37\n",
      "38\n",
      "41\n",
      "40\n",
      "41\n",
      "42\n",
      "43\n",
      "46\n",
      "45\n",
      "46\n",
      "47\n",
      "48\n",
      "51\n",
      "50\n",
      "51\n",
      "52\n",
      "53\n",
      "56\n",
      "55\n",
      "56\n",
      "57\n",
      "58\n",
      "61\n",
      "60\n",
      "61\n",
      "62\n",
      "63\n",
      "66\n",
      "65\n",
      "66\n",
      "67\n",
      "68\n",
      "71\n",
      "70\n",
      "71\n",
      "72\n",
      "73\n",
      "76\n",
      "75\n",
      "76\n",
      "77\n",
      "78\n",
      "81\n",
      "80\n",
      "81\n",
      "82\n",
      "83\n",
      "86\n",
      "85\n",
      "86\n",
      "87\n",
      "88\n",
      "91\n",
      "90\n",
      "91\n",
      "92\n",
      "93\n",
      "96\n",
      "95\n",
      "96\n",
      "97\n",
      "98\n"
     ]
    }
   ],
   "source": [
    "for a in range(1,100):\n",
    "    if a % 5 ==0:\n",
    "        print(a+1)\n",
    "    else:\n",
    "        print(a-1)"
   ]
  },
  {
   "cell_type": "code",
   "execution_count": 52,
   "id": "4d6f838a-50e2-4da5-bed7-0d1281c76116",
   "metadata": {},
   "outputs": [
    {
     "name": "stdout",
     "output_type": "stream",
     "text": [
      "21\n",
      "18\n",
      "17\n",
      "16\n",
      "15\n",
      "16\n",
      "13\n",
      "12\n",
      "11\n",
      "10\n",
      "11\n",
      "8\n",
      "7\n",
      "6\n",
      "5\n",
      "6\n",
      "3\n",
      "2\n",
      "1\n"
     ]
    }
   ],
   "source": [
    "for a in range(20,1,-1):\n",
    "    if a % 5 ==0:\n",
    "        print(a+1)\n",
    "    else:\n",
    "        print(a-1)"
   ]
  },
  {
   "cell_type": "code",
   "execution_count": 54,
   "id": "237a1ea4-0f76-4ca7-b54c-a45216db8f47",
   "metadata": {},
   "outputs": [
    {
     "name": "stdout",
     "output_type": "stream",
     "text": [
      "21\n",
      "18\n",
      "17\n",
      "16\n",
      "15\n",
      "14\n",
      "13\n",
      "12\n",
      "11\n",
      "10\n",
      "11\n",
      "8\n",
      "7\n",
      "6\n",
      "5\n",
      "4\n",
      "3\n",
      "2\n",
      "1\n"
     ]
    }
   ],
   "source": [
    "for a in range(20,1,-1):\n",
    "    if a % 10 == 0:\n",
    "        print(a+1)\n",
    "    else:\n",
    "        print(a-1)"
   ]
  },
  {
   "cell_type": "code",
   "execution_count": 58,
   "id": "b8daffe3-2598-4d13-bba6-da156172b713",
   "metadata": {},
   "outputs": [
    {
     "name": "stdin",
     "output_type": "stream",
     "text": [
      "enter a number 5\n"
     ]
    },
    {
     "name": "stdout",
     "output_type": "stream",
     "text": [
      "0\n",
      "3\n",
      "2\n",
      "5\n"
     ]
    }
   ],
   "source": [
    "n=int(input(\"enter a number\"))\n",
    "for a in range(1,n):\n",
    "    if a % 2 == 0:\n",
    "        print(a+1)\n",
    "    else:\n",
    "        print(a-1)"
   ]
  },
  {
   "cell_type": "code",
   "execution_count": 59,
   "id": "03b086ea-567d-410f-928a-5baf68d21b41",
   "metadata": {},
   "outputs": [
    {
     "name": "stdin",
     "output_type": "stream",
     "text": [
      "enter a number 6\n"
     ]
    },
    {
     "name": "stdout",
     "output_type": "stream",
     "text": [
      "7\n",
      "4\n",
      "5\n",
      "2\n",
      "3\n"
     ]
    }
   ],
   "source": [
    "n = int(input(\"enter a number\"))\n",
    "for a in range(n,1,-1):\n",
    "    if a % 2 == 0:\n",
    "        print(a+1)\n",
    "    else:\n",
    "        print(a-1)"
   ]
  },
  {
   "cell_type": "code",
   "execution_count": 2,
   "id": "d6981ce0-7c87-43ac-b1cb-cc7942c086ac",
   "metadata": {},
   "outputs": [
    {
     "name": "stdout",
     "output_type": "stream",
     "text": [
      "1 not prime\n",
      "2 not prime\n",
      "3 not prime\n",
      "4 not prime\n",
      "5 not prime\n",
      "6 not prime\n",
      "7 not prime\n",
      "8 not prime\n",
      "9 not prime\n",
      "10 not prime\n",
      "11 not prime\n",
      "12 not prime\n",
      "13 not prime\n",
      "14 not prime\n",
      "15 not prime\n",
      "16 not prime\n",
      "17 not prime\n",
      "18 not prime\n",
      "19 not prime\n",
      "20 not prime\n",
      "21 not prime\n",
      "22 not prime\n",
      "23 not prime\n",
      "24 not prime\n"
     ]
    }
   ],
   "source": [
    "n = int(input(\"enter a number\"))\n",
    "c = 0\n",
    "for i in range(1, 25):\n",
    "    for a in range(1, i+1):\n",
    "        if i % a == 0:\n",
    "            c += 1\n",
    "            break\n",
    "if c == 2:\n",
    "    print(i, \"prime\")\n",
    "else:\n",
    "    print(i, \"not prime\")\n",
    "    c == 0"
   ]
  },
  {
   "cell_type": "code",
   "execution_count": 68,
   "id": "a8f6407a-a49f-46ec-83ff-faf4b10b7148",
   "metadata": {},
   "outputs": [
    {
     "data": {
      "text/plain": [
       "0"
      ]
     },
     "execution_count": 68,
     "metadata": {},
     "output_type": "execute_result"
    }
   ],
   "source": [
    "24 % "
   ]
  },
  {
   "cell_type": "code",
   "execution_count": null,
   "id": "3ed0bad5-33d9-4829-957c-3243d875ec04",
   "metadata": {},
   "outputs": [],
   "source": [
    "5 4 3 2 1\n",
    "  4 3 2 1\n",
    "    3 2 1\n",
    "      2 1\n",
    "        1"
   ]
  },
  {
   "cell_type": "code",
   "execution_count": 6,
   "id": "1fd7c741-243e-461f-b9b3-ac03fc95c5fa",
   "metadata": {},
   "outputs": [
    {
     "name": "stdin",
     "output_type": "stream",
     "text": [
      " 5\n"
     ]
    }
   ],
   "source": [
    "n = int(input())\n",
    "for i in range (1,n+1,-1):\n",
    "    for j in range(1,i+1):\n",
    "        print(\" * \", end=\" \")\n",
    "        print()    "
   ]
  },
  {
   "cell_type": "code",
   "execution_count": 59,
   "id": "8eed990a-a4eb-4b86-92e7-596661d5a76f",
   "metadata": {},
   "outputs": [
    {
     "name": "stdin",
     "output_type": "stream",
     "text": [
      " 5\n"
     ]
    },
    {
     "name": "stdout",
     "output_type": "stream",
     "text": [
      "5 4 3 2 1 \n",
      "* 4 3 2 1 \n",
      "* * 3 2 1 \n",
      "* * * 2 1 \n",
      "* * * * 1 \n"
     ]
    }
   ],
   "source": [
    "n = int(input())\n",
    "c = n\n",
    "for i in range(1, n+1):\n",
    "    for j in range(1, i):\n",
    "        print('*', end= ' ')\n",
    "    for k in range(i, n+1):\n",
    "        print( c, end=' ')\n",
    "        c -= 1\n",
    "    c = n - i\n",
    "    print()"
   ]
  },
  {
   "cell_type": "code",
   "execution_count": null,
   "id": "8b482f57-15b1-44db-9922-53990ef547d2",
   "metadata": {},
   "outputs": [],
   "source": [
    "* 5 4 3 2 1\n",
    "* * 4 3 2 1\n",
    "* * * 3 2 1\n",
    "* * * * 2 1\n",
    "* * * * * 1"
   ]
  },
  {
   "cell_type": "code",
   "execution_count": 71,
   "id": "966d322b-826b-4ea5-bb99-ad0c54c5071f",
   "metadata": {},
   "outputs": [
    {
     "name": "stdin",
     "output_type": "stream",
     "text": [
      " 5\n"
     ]
    },
    {
     "name": "stdout",
     "output_type": "stream",
     "text": [
      "* 5 4 3 2 1 \n",
      "* * 4 3 2 1 \n",
      "* * * 3 2 1 \n",
      "* * * * 2 1 \n",
      "* * * * * 1 \n"
     ]
    }
   ],
   "source": [
    "n = int(input())\n",
    "c = n\n",
    "for i in range (1,n+1):\n",
    "    for j in range(1, i+1):\n",
    "        print(\"*\",end =\" \")\n",
    "    for k in range(i,n+1):\n",
    "        print(c ,end=\" \")\n",
    "        c -=1\n",
    "    c=n-i\n",
    "    print()\n",
    "        "
   ]
  },
  {
   "cell_type": "code",
   "execution_count": null,
   "id": "eca79542-037a-475b-87ef-8ddb90934da7",
   "metadata": {},
   "outputs": [],
   "source": [
    "5 * * * *\n",
    "5 4 * * *\n",
    "5 4 3 * *\n",
    "5 4 3 2 *\n",
    "5 4 3 2 1"
   ]
  },
  {
   "cell_type": "code",
   "execution_count": 104,
   "id": "4ca60125-b8c9-441e-a779-ac522d112c70",
   "metadata": {},
   "outputs": [
    {
     "name": "stdin",
     "output_type": "stream",
     "text": [
      " 5\n"
     ]
    },
    {
     "name": "stdout",
     "output_type": "stream",
     "text": [
      "5 * * * * \n",
      "5 4 * * * \n",
      "5 4 3 * * \n",
      "5 4 3 2 * \n",
      "5 4 3 2 1 \n"
     ]
    }
   ],
   "source": [
    "n = int(input())\n",
    "c = n\n",
    "for i in range(1,n+1):\n",
    "    for j in range(1,i+1):\n",
    "        print(c, end= ' ')\n",
    "        c -= 1\n",
    "    for k in range(i,n):\n",
    "        print(\"*\",end=\" \")\n",
    "    c = n\n",
    "    print()"
   ]
  },
  {
   "cell_type": "code",
   "execution_count": 125,
   "id": "4e4a0761-07cb-472c-9987-4a152eb461b4",
   "metadata": {},
   "outputs": [
    {
     "name": "stdin",
     "output_type": "stream",
     "text": [
      " 5\n"
     ]
    },
    {
     "name": "stdout",
     "output_type": "stream",
     "text": [
      "5 * * * * * \n",
      "5 4 * * * * * \n",
      "5 4 3 * * * * * \n",
      "5 4 3 2 * * * * * \n",
      "5 4 3 2 1 * * * * * \n"
     ]
    }
   ],
   "source": [
    "n = int(input())\n",
    "c = n\n",
    "for i in range(1,n+1):\n",
    "    for j in range(1,i+1):\n",
    "        print(c, end= ' ')\n",
    "        c -= 1\n",
    "    for k in range(i,n):\n",
    "        print(\"*\",end=\" \")\n",
    "    for m in range(1, i+1):\n",
    "        print('*', end=' ')\n",
    "    c = n\n",
    "    print()"
   ]
  },
  {
   "cell_type": "markdown",
   "id": "4dc95fbf-0a9f-4588-9a2f-83eb53a1ec0a",
   "metadata": {},
   "source": [
    "5 * * * * * * * * *\n",
    "5 4 * * *   * * * *\n",
    "5 4 3 * *     * * *\n",
    "5 4 3 2 *       * * \n",
    "5 4 3 2 1         *"
   ]
  },
  {
   "cell_type": "code",
   "execution_count": 147,
   "id": "dfe69ecb-e3aa-4cbc-8fdb-b3b89a742691",
   "metadata": {},
   "outputs": [
    {
     "name": "stdin",
     "output_type": "stream",
     "text": [
      " 5\n"
     ]
    },
    {
     "name": "stdout",
     "output_type": "stream",
     "text": [
      "5 * * * * * * * * * \n",
      "5 4 * * * * * * * * \n",
      "5 4 3 * * * * * * * \n",
      "5 4 3 2 * * * * * * \n",
      "5 4 3 2 1 * * * * * \n"
     ]
    }
   ],
   "source": [
    "n = int(input())\n",
    "c = n\n",
    "for i in range(1, n+1):\n",
    "    for j in range(1,i+1):\n",
    "        print(c,end=\" \")\n",
    "        c -= 1\n",
    "    for k in range(i,n):\n",
    "        print(\"*\",end=\" \")\n",
    "    for m in range (1,i):\n",
    "        print(\"*\",end=\" \")\n",
    "    for o in range(i,n+1):\n",
    "        print(\"*\",end=\" \")\n",
    "    c = n\n",
    "    print()"
   ]
  },
  {
   "cell_type": "code",
   "execution_count": 18,
   "id": "fa4c261f-0c81-4a56-83cb-120f424884b0",
   "metadata": {},
   "outputs": [
    {
     "name": "stdin",
     "output_type": "stream",
     "text": [
      " 5\n"
     ]
    },
    {
     "name": "stdout",
     "output_type": "stream",
     "text": [
      "5 \n",
      "5 4 \n",
      "5 4 3 \n",
      "5 4 3 2 \n",
      "5 4 3 2 1 \n"
     ]
    }
   ],
   "source": [
    "n = int(input())\n",
    "for i in range(n, 0, -1):\n",
    "    for j in range(n, i-1, -1):\n",
    "        print(j, end=\" \")\n",
    "    print()"
   ]
  },
  {
   "cell_type": "code",
   "execution_count": 25,
   "id": "8c3c2f5e-a29d-4eaf-842b-c7b3118774a3",
   "metadata": {},
   "outputs": [
    {
     "name": "stdin",
     "output_type": "stream",
     "text": [
      " 5\n"
     ]
    },
    {
     "name": "stdout",
     "output_type": "stream",
     "text": [
      "5 4 3 2 1 \n",
      "5 4 3 2 \n",
      "5 4 3 \n",
      "5 4 \n",
      "5 \n"
     ]
    }
   ],
   "source": [
    "n = int(input())\n",
    "for i in range(1, n+1):\n",
    "    for j in range(n, i-1, -1):\n",
    "        print(j, end=\" \")\n",
    "    print()"
   ]
  },
  {
   "cell_type": "code",
   "execution_count": 28,
   "id": "156b850a-79b5-41bf-9633-a5f727304acf",
   "metadata": {},
   "outputs": [
    {
     "name": "stdin",
     "output_type": "stream",
     "text": [
      " 5\n"
     ]
    },
    {
     "name": "stdout",
     "output_type": "stream",
     "text": [
      "* * * * * \n",
      "* * * * * \n",
      "* * * * * \n",
      "* * * * * \n",
      "* * * * * \n"
     ]
    }
   ],
   "source": [
    "n = int(input())\n",
    "for i in range(1, n+1):\n",
    "    for j in range(1, n+1):\n",
    "        print(\"*\", end=\" \")\n",
    "    print()"
   ]
  },
  {
   "cell_type": "code",
   "execution_count": 155,
   "id": "b17a2828-732d-4b64-9c00-8b39c0920e91",
   "metadata": {},
   "outputs": [
    {
     "name": "stdin",
     "output_type": "stream",
     "text": [
      "Enter n value 5\n"
     ]
    },
    {
     "name": "stdout",
     "output_type": "stream",
     "text": [
      "5555\n"
     ]
    }
   ],
   "source": [
    "n = int(input('Enter n value'))\n",
    "d = n\n",
    "for i in range(i, n + 1):\n",
    "    for j in range(1, n |+ 1):\n",
    "        print(d, end='')\n",
    "    d -= 1\n",
    "    d = n\n",
    "    print()"
   ]
  },
  {
   "cell_type": "code",
   "execution_count": 12,
   "id": "6ebca6dd-aa37-478b-a30e-58f2e6a248a0",
   "metadata": {},
   "outputs": [
    {
     "name": "stdin",
     "output_type": "stream",
     "text": [
      " 5\n"
     ]
    },
    {
     "name": "stdout",
     "output_type": "stream",
     "text": [
      "1 1 1 1 1 \n",
      "* 2 2 2 2 \n",
      "* * 3 3 3 \n",
      "* * * 4 4 \n",
      "* * * * 5 \n"
     ]
    }
   ],
   "source": [
    "n = int(input())\n",
    "for i in range(1, n + 1):\n",
    "    for j in range(1, i):\n",
    "        print('*', end = ' ')\n",
    "    for k in range(i, n + 1):\n",
    "        print(i, end=' ')\n",
    "    print()"
   ]
  },
  {
   "cell_type": "code",
   "execution_count": 11,
   "id": "099774b6-fb7f-4d84-9012-a5988188472f",
   "metadata": {},
   "outputs": [
    {
     "name": "stdin",
     "output_type": "stream",
     "text": [
      " 5\n"
     ]
    },
    {
     "name": "stdout",
     "output_type": "stream",
     "text": [
      "* \n",
      "* * \n",
      "* * * \n",
      "* * * * \n",
      "* * * * * \n"
     ]
    }
   ],
   "source": [
    "n = int(input())\n",
    "for i in range (1,n+1):\n",
    "    for j in range(1,i+1):\n",
    "        print('*',end=\" \") \n",
    "    print()"
   ]
  },
  {
   "cell_type": "code",
   "execution_count": 35,
   "id": "22a61d64-a440-400a-a6d6-9595a78c3d9a",
   "metadata": {},
   "outputs": [
    {
     "data": {
      "text/plain": [
       "[3, 4, 6, 1, 9, 10, 8, 2, 3, 2, 1]"
      ]
     },
     "execution_count": 35,
     "metadata": {},
     "output_type": "execute_result"
    }
   ],
   "source": [
    "l = [3, 4, 5, 6, 1, 9, 10, 8, 5, 2, 3, 5, 2, 1, 5]\n",
    "for i in l:\n",
    "    if i == 5:\n",
    "        l.remove(i)\n",
    "l"
   ]
  },
  {
   "cell_type": "code",
   "execution_count": 40,
   "id": "5b8cf0cb-0304-4099-8e92-074ffde62013",
   "metadata": {},
   "outputs": [
    {
     "name": "stdout",
     "output_type": "stream",
     "text": [
      "True\n",
      "False\n"
     ]
    }
   ],
   "source": [
    "l1 = [1, 2, 4, 7, 8, 9]\n",
    "l2 = [1, 2, 4, 7, 8, 9] \n",
    "l3 = l2\n",
    "print(l2 is l3)\n",
    "l4 = l1.copy()\n",
    "print(l4 is l1)"
   ]
  },
  {
   "cell_type": "code",
   "execution_count": 41,
   "id": "798bbec0-2b7b-48ee-97db-d6db4a923be2",
   "metadata": {},
   "outputs": [
    {
     "data": {
      "text/plain": [
       "[1, 2, 4, 7, 8, 9]"
      ]
     },
     "execution_count": 41,
     "metadata": {},
     "output_type": "execute_result"
    }
   ],
   "source": [
    "l4 = l1.copy()\n",
    "l4"
   ]
  },
  {
   "cell_type": "code",
   "execution_count": 33,
   "id": "1321c848-3335-4f22-a314-a82ca983b7de",
   "metadata": {},
   "outputs": [
    {
     "name": "stdout",
     "output_type": "stream",
     "text": [
      "[54, 44, 91, 79, 41, 91]\n"
     ]
    }
   ],
   "source": [
    "#Given an input list, write a program to remove the element at index 4 and add it to the 2nd position and also, at the end of the list.\n",
    "# Sample Input\n",
    "l = [54, 44, 27, 79, 91, 41]\n",
    "k = l.pop(4)\n",
    "l[2] = k\n",
    "l.append(k)\n",
    "print(l)\n"
   ]
  },
  {
   "cell_type": "code",
   "execution_count": 6,
   "id": "776369cd-1d8e-49d7-a4c4-d145e2726e74",
   "metadata": {},
   "outputs": [
    {
     "name": "stdout",
     "output_type": "stream",
     "text": [
      "[2, 4, 6, 8, 10, 12, 14, 16, 18, 20, 22, 24, 26, 28, 30, 32, 34, 36, 38, 40, 42, 44, 46, 48, 50, 52, 54, 56, 58, 60, 62, 64, 66, 68, 70, 72, 74, 76, 78, 80, 82, 84, 86, 88, 90, 92, 94, 96, 98] [1, 3, 5, 7, 9, 11, 13, 15, 17, 19, 21, 23, 25, 27, 29, 31, 33, 35, 37, 39, 41, 43, 45, 47, 49, 51, 53, 55, 57, 59, 61, 63, 65, 67, 69, 71, 73, 75, 77, 79, 81, 83, 85, 87, 89, 91, 93, 95, 97, 99] "
     ]
    }
   ],
   "source": [
    "l =[]\n",
    "l1 = []\n",
    "for i in range(1,100):\n",
    "    if i % 2==0:\n",
    "        l.append(i)\n",
    "    else:\n",
    "        l1.append(i)\n",
    "        \n",
    "print(l, end=\" \")\n",
    "print(l1,end=\" \")"
   ]
  },
  {
   "cell_type": "code",
   "execution_count": 12,
   "id": "a7a81757-91c2-4928-b067-56ed06151ec3",
   "metadata": {},
   "outputs": [
    {
     "data": {
      "text/plain": [
       "[12, 23, 34, 45, 21, 32, 43, 54]"
      ]
     },
     "execution_count": 12,
     "metadata": {},
     "output_type": "execute_result"
    }
   ],
   "source": [
    "l = [12, 23, 34, 45, 12, 23, 34, 45, 21, 32, 43, 54]\n",
    "l1 = []\n",
    "for i in l:\n",
    "    if i not in l1:\n",
    "        l1.append(i)\n",
    "    else:\n",
    "        ...\n",
    "l1"
   ]
  },
  {
   "cell_type": "code",
   "execution_count": 33,
   "id": "e135345c-4de6-4930-bd2d-bf8da6202de6",
   "metadata": {},
   "outputs": [
    {
     "name": "stdin",
     "output_type": "stream",
     "text": [
      " 100\n"
     ]
    },
    {
     "name": "stdout",
     "output_type": "stream",
     "text": [
      "171.25\n"
     ]
    }
   ],
   "source": [
    "#A milk vendor buys milk at the rate of 3.25/lt then adds a litre of water for every \n",
    "#4 litres of milk and sells the water milk at the rate of 4.15/lt. Calculate the gain \n",
    "#for milk vendor.\n",
    "\n",
    "n = float(input())\n",
    "m_r = 3.25\n",
    "s_p = 4.15\n",
    "if n < 4:\n",
    "    print(round((n*(4.15-3.25)), 2))\n",
    "else:\n",
    "    water = n // 4\n",
    "    print(round(((n * 4.15) + (water * 3.25) - (n * 3.25)), 2))\n",
    "    "
   ]
  },
  {
   "cell_type": "code",
   "execution_count": 29,
   "id": "283def4b-b5d2-401b-9148-c1ee4b0e5695",
   "metadata": {},
   "outputs": [
    {
     "data": {
      "text/plain": [
       "7.200000000000003"
      ]
     },
     "execution_count": 29,
     "metadata": {},
     "output_type": "execute_result"
    }
   ],
   "source": [
    "8 * 4.15 - 8*3.25"
   ]
  },
  {
   "cell_type": "code",
   "execution_count": 28,
   "id": "23e05183-0278-4180-8557-ee18ce699498",
   "metadata": {},
   "outputs": [
    {
     "data": {
      "text/plain": [
       "33.2"
      ]
     },
     "execution_count": 28,
     "metadata": {},
     "output_type": "execute_result"
    }
   ],
   "source": [
    "8 * 4.15"
   ]
  },
  {
   "cell_type": "code",
   "execution_count": 11,
   "id": "6d3ff01a-12d3-4a6e-9de9-8ecf90aec5f9",
   "metadata": {},
   "outputs": [
    {
     "name": "stdout",
     "output_type": "stream",
     "text": [
      "[1] [2, 3, 4, 5, 6, 7, 8, 9, 10, 11, 12, 13, 14, 15, 16, 17, 18, 19, 20, 21, 22, 23, 24, 25, 26, 27, 28, 29, 30, 31, 32, 33, 34, 35, 36, 37, 38, 39, 40, 41, 42, 43, 44, 45, 46, 47, 48, 49, 50, 51, 52, 53, 54, 55, 56, 57, 58, 59, 60, 61, 62, 63, 64, 65, 66, 67, 68, 69, 70, 71, 72, 73, 74, 75, 76, 77, 78, 79, 80, 81, 82, 83, 84, 85, 86, 87, 88, 89, 90, 91, 92, 93, 94, 95, 96, 97, 98, 99, 100] "
     ]
    }
   ],
   "source": [
    "l = []\n",
    "l1 = []\n",
    "c = 0\n",
    "for i in range(1 ,101):\n",
    "    for j in range(1, i):\n",
    "        if i % j == 0:\n",
    "            c += 1\n",
    "            l1.append(i)\n",
    "            break\n",
    "    else:\n",
    "        l.append(i)\n",
    "print(l,end=\" \")\n",
    "print(l1,end=\" \")"
   ]
  },
  {
   "cell_type": "code",
   "execution_count": 32,
   "id": "64d79c4e-5800-427b-8850-6984d9b30744",
   "metadata": {},
   "outputs": [
    {
     "data": {
      "text/plain": [
       "[1, 2, 4, 5, 5, 8, 41, 51, 84, 84, 84, 84]"
      ]
     },
     "execution_count": 32,
     "metadata": {},
     "output_type": "execute_result"
    }
   ],
   "source": [
    "l = [2,8,4,84,51,84,5,84,5,1,84,41]\n",
    "\n",
    "for i in l:\n",
    "    for i in range(0, len(l)-1):\n",
    "        if l[i] < l[i+1]:\n",
    "            ...\n",
    "        else:\n",
    "            l[i], l[i+1] = l[i+1], l[i]\n",
    "l"
   ]
  },
  {
   "cell_type": "code",
   "execution_count": 5,
   "id": "d43ecfda-2f06-42b6-a47f-fd7deecab837",
   "metadata": {},
   "outputs": [
    {
     "name": "stdin",
     "output_type": "stream",
     "text": [
      " 5,6,7\n"
     ]
    },
    {
     "ename": "IndexError",
     "evalue": "list index out of range",
     "output_type": "error",
     "traceback": [
      "\u001b[1;31m---------------------------------------------------------------------------\u001b[0m",
      "\u001b[1;31mIndexError\u001b[0m                                Traceback (most recent call last)",
      "Input \u001b[1;32mIn [5]\u001b[0m, in \u001b[0;36m<cell line: 15>\u001b[1;34m()\u001b[0m\n\u001b[0;32m     13\u001b[0m     \u001b[38;5;28;01mif\u001b[39;00m Counter(l1)[i] \u001b[38;5;241m==\u001b[39m n:\n\u001b[0;32m     14\u001b[0m         l2\u001b[38;5;241m.\u001b[39mappend(i)\n\u001b[1;32m---> 15\u001b[0m \u001b[43ml2\u001b[49m\u001b[43m[\u001b[49m\u001b[38;5;241;43m-\u001b[39;49m\u001b[38;5;241;43m1\u001b[39;49m\u001b[43m]\u001b[49m\n",
      "\u001b[1;31mIndexError\u001b[0m: list index out of range"
     ]
    }
   ],
   "source": [
    "from collections import Counter\n",
    "\n",
    "l1 = []\n",
    "l2 = []\n",
    "l = list(map(int, input().split(',')))\n",
    "n = len(l)\n",
    "for i in l:\n",
    "    for j in range(1,i+1):\n",
    "        if i % j == 0:\n",
    "            l1.append(i)\n",
    "l1.sort()\n",
    "for i in Counter(l1):\n",
    "    if Counter(l1)[i] == n:\n",
    "        l2.append(i)\n",
    "l2[-1]"
   ]
  },
  {
   "cell_type": "code",
   "execution_count": null,
   "id": "21468c84-13e7-4d1e-a301-ad378474bba5",
   "metadata": {},
   "outputs": [],
   "source": []
  }
 ],
 "metadata": {
  "kernelspec": {
   "display_name": "Python 3 (ipykernel)",
   "language": "python",
   "name": "python3"
  },
  "language_info": {
   "codemirror_mode": {
    "name": "ipython",
    "version": 3
   },
   "file_extension": ".py",
   "mimetype": "text/x-python",
   "name": "python",
   "nbconvert_exporter": "python",
   "pygments_lexer": "ipython3",
   "version": "3.9.7"
  }
 },
 "nbformat": 4,
 "nbformat_minor": 5
}
