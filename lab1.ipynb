{
 "cells": [
  {
   "cell_type": "code",
   "execution_count": 6,
   "id": "9c992ce1-4944-48ef-bcff-a96c734917dd",
   "metadata": {},
   "outputs": [
    {
     "name": "stdin",
     "output_type": "stream",
     "text": [
      "enter the a value: 7\n",
      "enter the b value: 4\n",
      " 8\n"
     ]
    }
   ],
   "source": [
    "a = int(input(\"enter the a value:\"))\n",
    "b = int(input(\"enter the b value:\"))\n",
    "c = int(input())"
   ]
  },
  {
   "cell_type": "code",
   "execution_count": null,
   "id": "617653a8-75fc-4ec2-a2dd-a54379938ccd",
   "metadata": {},
   "outputs": [],
   "source": []
  },
  {
   "cell_type": "code",
   "execution_count": 7,
   "id": "2c743ff6-afce-448d-a099-0b7150ace254",
   "metadata": {},
   "outputs": [
    {
     "name": "stdout",
     "output_type": "stream",
     "text": [
      "11\n"
     ]
    }
   ],
   "source": [
    "print(a+b)"
   ]
  },
  {
   "cell_type": "code",
   "execution_count": 8,
   "id": "66c736c9-20e1-49d8-b0dc-7f3e092c9c2b",
   "metadata": {},
   "outputs": [
    {
     "name": "stdout",
     "output_type": "stream",
     "text": [
      "3\n"
     ]
    }
   ],
   "source": [
    "print(a-b)"
   ]
  },
  {
   "cell_type": "code",
   "execution_count": 11,
   "id": "c39fa4ef-de73-4e37-a30d-1f794bb82d3b",
   "metadata": {},
   "outputs": [
    {
     "name": "stdout",
     "output_type": "stream",
     "text": [
      "sum of two numbers: 11\n",
      "difference of two numbers: 3\n",
      "28\n",
      "1.75\n",
      "2.6457513110645907\n"
     ]
    }
   ],
   "source": [
    "print(\"sum of two numbers:\",a+b)\n",
    "print(\"difference of two numbers:\",a-b)\n",
    "print(a*b)\n",
    "print(a/b)\n",
    "print(a**.5)"
   ]
  },
  {
   "cell_type": "code",
   "execution_count": null,
   "id": "dd959ada-b1c6-4d2c-bb88-d48f344899fd",
   "metadata": {},
   "outputs": [],
   "source": []
  },
  {
   "cell_type": "code",
   "execution_count": 3,
   "id": "6dc57107-ea42-4691-9a92-f20d965770a4",
   "metadata": {},
   "outputs": [
    {
     "name": "stdout",
     "output_type": "stream",
     "text": [
      "100\n"
     ]
    }
   ],
   "source": [
    "s=10\n",
    "print(s*s)"
   ]
  },
  {
   "cell_type": "code",
   "execution_count": 16,
   "id": "628435e8-7170-4dd5-b615-501e0920127f",
   "metadata": {},
   "outputs": [
    {
     "name": "stdout",
     "output_type": "stream",
     "text": [
      "area of the square: 60\n"
     ]
    }
   ],
   "source": [
    "s=15\n",
    "print(\"area of the square:\",4*s)"
   ]
  },
  {
   "cell_type": "code",
   "execution_count": 17,
   "id": "d94cd696-f10a-488a-aae9-f25502a4734f",
   "metadata": {},
   "outputs": [
    {
     "name": "stdout",
     "output_type": "stream",
     "text": [
      "permeter of the square: 7850.0\n"
     ]
    }
   ],
   "source": [
    "r=50\n",
    "pi=3.14\n",
    "print(\"permeter of the square:\",pi*r*r)"
   ]
  },
  {
   "cell_type": "code",
   "execution_count": 7,
   "id": "124a7fc1-7ac6-4c4e-8d1d-702a3363c58b",
   "metadata": {},
   "outputs": [
    {
     "name": "stdout",
     "output_type": "stream",
     "text": [
      "31400.0\n"
     ]
    }
   ],
   "source": [
    "print(4*pi*r**2)"
   ]
  },
  {
   "cell_type": "code",
   "execution_count": 8,
   "id": "25914ce9-035f-4723-a5f9-2aff2582b5a3",
   "metadata": {},
   "outputs": [
    {
     "name": "stdout",
     "output_type": "stream",
     "text": [
      "314000.0\n"
     ]
    }
   ],
   "source": [
    "h=40\n",
    "print(pi*r**2*h)"
   ]
  },
  {
   "cell_type": "code",
   "execution_count": 9,
   "id": "1510d806-47b7-44a3-8607-ea1d208c6a07",
   "metadata": {},
   "outputs": [
    {
     "name": "stdin",
     "output_type": "stream",
     "text": [
      "age in years  10\n"
     ]
    },
    {
     "name": "stdout",
     "output_type": "stream",
     "text": [
      "3650\n"
     ]
    }
   ],
   "source": [
    "n = int(input(\"age in years \"))\n",
    "age_days = n * 365\n",
    "print(age_days)"
   ]
  },
  {
   "cell_type": "code",
   "execution_count": 11,
   "id": "337b1c92-3291-45e8-b98c-9e9e21f0a187",
   "metadata": {},
   "outputs": [
    {
     "name": "stdout",
     "output_type": "stream",
     "text": [
      "si: 420000.0\n"
     ]
    }
   ],
   "source": [
    "p = 700000\n",
    "t = 12\n",
    "ri = 0.5\n",
    "si = p * t * ri / 100\n",
    "print('si:', si)\n"
   ]
  },
  {
   "cell_type": "code",
   "execution_count": 16,
   "id": "96c86406-e7b5-4d64-a683-655e43b5d7ad",
   "metadata": {},
   "outputs": [
    {
     "name": "stdin",
     "output_type": "stream",
     "text": [
      "enter speed in km per hour 45\n"
     ]
    },
    {
     "name": "stdout",
     "output_type": "stream",
     "text": [
      "27.945\n"
     ]
    }
   ],
   "source": [
    " n=int (input('enter speed in km per hour'))\n",
    "miles_per_hour = n * 0.621\n",
    "print(miles_per_hour)"
   ]
  },
  {
   "cell_type": "code",
   "execution_count": 19,
   "id": "33756a61-89be-4756-967a-5c497e3a5ba5",
   "metadata": {},
   "outputs": [
    {
     "name": "stdin",
     "output_type": "stream",
     "text": [
      "enterin to seconds 10\n"
     ]
    },
    {
     "name": "stdout",
     "output_type": "stream",
     "text": [
      "0.16699999999999998 0.0027999999999999995\n"
     ]
    }
   ],
   "source": [
    "n= int(input('enterin to seconds'))\n",
    "mins = n*0.0167\n",
    "hours = n*0.00028\n",
    "print(mins , hours)"
   ]
  },
  {
   "cell_type": "markdown",
   "id": "382dafb8-60e3-4200-8168-c55fe2086b85",
   "metadata": {},
   "source": [
    "##### a = 100\n",
    "b = 0.00027\n",
    "c = a* b\n",
    "c"
   ]
  },
  {
   "cell_type": "code",
   "execution_count": 20,
   "id": "3f2a2d4f-cdcb-4ba1-a301-a424304c997c",
   "metadata": {},
   "outputs": [
    {
     "name": "stdout",
     "output_type": "stream",
     "text": [
      "1.55\n"
     ]
    }
   ],
   "source": [
    "buy=3.25\n",
    "sell=4.15\n",
    "mix=4*buy\n",
    "total=5*sell\n",
    "x=total-mix\n",
    "pr=x/5\n",
    "print(pr)"
   ]
  },
  {
   "cell_type": "code",
   "execution_count": 3,
   "id": "edcc0caf-ea10-494e-b6e8-826934d5c80a",
   "metadata": {},
   "outputs": [
    {
     "name": "stdin",
     "output_type": "stream",
     "text": [
      " 44\n"
     ]
    },
    {
     "data": {
      "text/plain": [
       "6.666666666666667"
      ]
     },
     "execution_count": 3,
     "metadata": {},
     "output_type": "execute_result"
    }
   ],
   "source": [
    "f = int(input())\n",
    "c = (f-32)*5/9\n",
    "c\n"
   ]
  },
  {
   "cell_type": "code",
   "execution_count": 5,
   "id": "476e77c6-9802-4cba-bb21-692a13147a54",
   "metadata": {},
   "outputs": [
    {
     "name": "stdin",
     "output_type": "stream",
     "text": [
      " 1\n",
      " 2\n"
     ]
    },
    {
     "name": "stdout",
     "output_type": "stream",
     "text": [
      "2 1\n"
     ]
    }
   ],
   "source": [
    "a = int(input())\n",
    "b = int(input())\n",
    "a,b = b,a\n",
    "print(a,b)"
   ]
  },
  {
   "cell_type": "code",
   "execution_count": 13,
   "id": "a0d4c94b-068d-4628-afe5-6e5c0c8e6476",
   "metadata": {},
   "outputs": [
    {
     "name": "stdin",
     "output_type": "stream",
     "text": [
      "entere x1: 5\n",
      "enter y1: 6\n",
      "enter x2: 7\n",
      "enter y2: 8\n"
     ]
    },
    {
     "name": "stdout",
     "output_type": "stream",
     "text": [
      "2.8284271247461903\n"
     ]
    }
   ],
   "source": [
    "x1 = int(input(\"entere x1:\"))\n",
    "y1 = int(input(\"enter y1:\"))\n",
    "x2 = int(input(\"enter x2:\"))\n",
    "y2 = int(input(\"enter y2:\"))\n",
    "d = ((x1-x2)**2+(y1-y2)**2)**(1/2)\n",
    "print(d)"
   ]
  },
  {
   "cell_type": "code",
   "execution_count": 20,
   "id": "f2b95375-3a32-41ce-8ea9-65570a429b48",
   "metadata": {},
   "outputs": [
    {
     "name": "stdout",
     "output_type": "stream",
     "text": [
      "24000\n"
     ]
    }
   ],
   "source": [
    "basic_salary = 15000\n",
    "d_a = 6000\n",
    "h_r_a = 3000\n",
    "gross_salary = basic_salary + d_a + h_r_a\n",
    "print(gross_salary)"
   ]
  },
  {
   "cell_type": "code",
   "execution_count": null,
   "id": "62eb25a0-1fcc-4858-88af-7d4ba0603271",
   "metadata": {},
   "outputs": [],
   "source": []
  },
  {
   "cell_type": "code",
   "execution_count": null,
   "id": "22c40d41-4997-44d2-a5c7-17f007d4788b",
   "metadata": {},
   "outputs": [],
   "source": []
  },
  {
   "cell_type": "code",
   "execution_count": null,
   "id": "d911e075-ca27-491f-8108-b9564602f158",
   "metadata": {},
   "outputs": [],
   "source": []
  },
  {
   "cell_type": "code",
   "execution_count": null,
   "id": "f049e44a-cbec-45e0-b825-81cd5f3ddec8",
   "metadata": {},
   "outputs": [],
   "source": []
  }
 ],
 "metadata": {
  "kernelspec": {
   "display_name": "Python 3 (ipykernel)",
   "language": "python",
   "name": "python3"
  },
  "language_info": {
   "codemirror_mode": {
    "name": "ipython",
    "version": 3
   },
   "file_extension": ".py",
   "mimetype": "text/x-python",
   "name": "python",
   "nbconvert_exporter": "python",
   "pygments_lexer": "ipython3",
   "version": "3.9.7"
  }
 },
 "nbformat": 4,
 "nbformat_minor": 5
}
