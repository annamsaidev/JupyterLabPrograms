{
 "cells": [
  {
   "cell_type": "code",
   "execution_count": 11,
   "id": "27a1f348-3733-4fd3-8b8b-ed5f5e5b12e3",
   "metadata": {},
   "outputs": [
    {
     "name": "stdin",
     "output_type": "stream",
     "text": [
      "enter the sub 34\n"
     ]
    },
    {
     "name": "stdout",
     "output_type": "stream",
     "text": [
      "false\n"
     ]
    }
   ],
   "source": [
    "# passing marks of a subject is 35. Write a program to take input of marks secured from user and print \"True\" if marks are greater than passing marks, otherwise print \"False\".\n",
    "sub = int(input(\"enter the sub\"))\n",
    "if sub >=35:\n",
    "    print(\"ture\")\n",
    "else:\n",
    "    print(\"false\")"
   ]
  },
  {
   "cell_type": "code",
   "execution_count": 6,
   "id": "d00eaf45-b289-4a2b-afdd-1c363c8850eb",
   "metadata": {},
   "outputs": [
    {
     "name": "stdout",
     "output_type": "stream",
     "text": [
      "[3, 4]\n"
     ]
    }
   ],
   "source": [
    "#Write a Python program to get the difference between the two lists.\n",
    "l1 = [1, 2, 3, 4]\n",
    "l2 = [1, 2]\n",
    "l3 = set(l1) - set(l2)\n",
    "print(list(l3))"
   ]
  },
  {
   "cell_type": "code",
   "execution_count": null,
   "id": "438eb000-a48d-4ba0-afac-ca62e1a11fab",
   "metadata": {},
   "outputs": [],
   "source": []
  },
  {
   "cell_type": "code",
   "execution_count": null,
   "id": "b9b195be-a58a-41b9-9085-41337ebcf4b7",
   "metadata": {},
   "outputs": [],
   "source": []
  },
  {
   "cell_type": "code",
   "execution_count": 16,
   "id": "46a14873-8828-44bf-b4d0-05176d138722",
   "metadata": {},
   "outputs": [
    {
     "name": "stdin",
     "output_type": "stream",
     "text": [
      "enter the number 22\n"
     ]
    },
    {
     "name": "stdout",
     "output_type": "stream",
     "text": [
      "ture\n"
     ]
    }
   ],
   "source": [
    "#Write a program to take a number and print \"True\" if the given number is odd, otherwise print \"False\".\n",
    "num = int(input(\"enter the number\"))\n",
    "if num % 2 != 0:\n",
    "    print(\"false\")\n",
    "else:    \n",
    "    print(\"ture\")"
   ]
  },
  {
   "cell_type": "code",
   "execution_count": 18,
   "id": "1ca42709-aaa1-4eec-9098-85671422829d",
   "metadata": {},
   "outputs": [
    {
     "name": "stdin",
     "output_type": "stream",
     "text": [
      " 2\n",
      " 2\n"
     ]
    },
    {
     "name": "stdout",
     "output_type": "stream",
     "text": [
      "true\n"
     ]
    }
   ],
   "source": [
    "#Write a program to take two inputs from user and print \"True\" if they are equal, otherwise print \"False\".\n",
    "a = int(input()) \n",
    "b = int(input())\n",
    "if a == b:\n",
    "    print(\"true\")\n",
    "else:\n",
    "    print(\"flase\")"
   ]
  },
  {
   "cell_type": "code",
   "execution_count": 26,
   "id": "4b2fd52f-5406-4119-9dae-a3bf29d12231",
   "metadata": {},
   "outputs": [
    {
     "name": "stdout",
     "output_type": "stream",
     "text": [
      "true\n"
     ]
    }
   ],
   "source": [
    "#Write a program to take two numbers as input and check whether the sum is greater than 5, less than 5 or equal to 5.\n",
    "a = 12 \n",
    "b = -5\n",
    "s = a+b\n",
    "if s >= 5:\n",
    "    print(\"true\")\n",
    "else:\n",
    "    prinr(\"false\")"
   ]
  },
  {
   "cell_type": "code",
   "execution_count": 1,
   "id": "6716e0e0-d1e8-4f71-99a5-bd060299b232",
   "metadata": {},
   "outputs": [
    {
     "name": "stdout",
     "output_type": "stream",
     "text": [
      "not equal\n"
     ]
    }
   ],
   "source": [
    "#Write a program to take 3 inputs from user and check : all are equal ; any of two are equal (use and, or).\n",
    "n1 = 12\n",
    "n2 = 25\n",
    "n3 = 12\n",
    "if n1 == n2 and n2 == n3:\n",
    "    print(\"equal\")\n",
    "elif n1 == n2 or n1 == n3:\n",
    "    print(\"not equal\")\n",
    "    "
   ]
  },
  {
   "cell_type": "code",
   "execution_count": 3,
   "id": "fcaf104a-2998-4460-acae-b45ca23886a9",
   "metadata": {},
   "outputs": [
    {
     "name": "stdin",
     "output_type": "stream",
     "text": [
      " 14\n"
     ]
    },
    {
     "name": "stdout",
     "output_type": "stream",
     "text": [
      "ture\n"
     ]
    }
   ],
   "source": [
    "#Write a program to take an integer as input from the user and print \"True\" if the number is even multiple of 7 otherwise print \"False\".\n",
    "a = int(input())\n",
    "x = a/7\n",
    "if x%2 == 0:\n",
    "    print(\"ture\")\n",
    "else:\n",
    "    print(\"false\")"
   ]
  },
  {
   "cell_type": "code",
   "execution_count": 12,
   "id": "0c1470cc-cdf4-4bd5-8c3d-fd9c6d16221a",
   "metadata": {},
   "outputs": [
    {
     "name": "stdout",
     "output_type": "stream",
     "text": [
      "3\n",
      "2\n"
     ]
    }
   ],
   "source": [
    "# Write a program to swap two variables without using extra variables.\n",
    "\n",
    "a = 2\n",
    "b = 3\n",
    "a,b = b,a\n",
    "print(a)\n",
    "print(b)\n",
    " "
   ]
  },
  {
   "cell_type": "code",
   "execution_count": 3,
   "id": "4a519268-3a89-4208-a3fd-8d8f5aa3b683",
   "metadata": {},
   "outputs": [
    {
     "name": "stdout",
     "output_type": "stream",
     "text": [
      "58\n"
     ]
    }
   ],
   "source": [
    "#Assume that the variable x has the value 55. Write a program to increment the value of x by 3 using an short hand assignment operator.\n",
    "x=55\n",
    "x+=3\n",
    "print(x)"
   ]
  },
  {
   "cell_type": "code",
   "execution_count": 22,
   "id": "ba3064d4-5842-4dab-a5f2-2ebe418a39b1",
   "metadata": {},
   "outputs": [
    {
     "name": "stdout",
     "output_type": "stream",
     "text": [
      "60.0\n"
     ]
    }
   ],
   "source": [
    "#Write a program to calculate the average of three numbers.\n",
    "a = 55\n",
    "b = 60\n",
    "c = 65\n",
    "d = (a+b+c) / 3\n",
    "print(d)"
   ]
  },
  {
   "cell_type": "code",
   "execution_count": 31,
   "id": "c5b0824d-fe1c-463f-938c-15a6303f455c",
   "metadata": {},
   "outputs": [
    {
     "name": "stdin",
     "output_type": "stream",
     "text": [
      " 5\n"
     ]
    },
    {
     "name": "stdout",
     "output_type": "stream",
     "text": [
      "2.23606797749979\n"
     ]
    }
   ],
   "source": [
    "#Write a program to calculate the square root of a number.\n",
    "x = int(input())\n",
    "a = x ** (1/2)\n",
    "print(a)"
   ]
  },
  {
   "cell_type": "code",
   "execution_count": 31,
   "id": "d482da68-ba04-4b31-add0-0d01e5157d9d",
   "metadata": {},
   "outputs": [
    {
     "name": "stdout",
     "output_type": "stream",
     "text": [
      "86400\n"
     ]
    }
   ],
   "source": [
    "# Write a program that calculates number of seconds in a day.\n",
    "a = 24 # hours\n",
    "m = 60 # mints\n",
    "s = 60 # seconds\n",
    "d = a * m * s\n",
    "print(d)"
   ]
  },
  {
   "cell_type": "code",
   "execution_count": 33,
   "id": "9d0bb1b6-f91f-4a92-941d-1ee725d7fa45",
   "metadata": {},
   "outputs": [
    {
     "name": "stdout",
     "output_type": "stream",
     "text": [
      "78.5\n"
     ]
    }
   ],
   "source": [
    "a = 5\n",
    "pi = 3.14\n",
    "d = pi*a**2\n",
    "print(d)"
   ]
  },
  {
   "cell_type": "code",
   "execution_count": 36,
   "id": "4ce44292-3fb4-4e94-95cd-63a458614b3e",
   "metadata": {},
   "outputs": [
    {
     "name": "stdin",
     "output_type": "stream",
     "text": [
      " 6\n"
     ]
    },
    {
     "name": "stdout",
     "output_type": "stream",
     "text": [
      "4\n"
     ]
    }
   ],
   "source": [
    "# Write a program that asks the user to enter a power. Then find the last digit of 2 raised to that power.\n",
    "x = int(input())\n",
    "y = 2**x \n",
    "z = y%10\n",
    "print(z)"
   ]
  },
  {
   "cell_type": "code",
   "execution_count": 47,
   "id": "c1ffe85f-b200-42c8-8d7d-bc242a100b0b",
   "metadata": {},
   "outputs": [
    {
     "name": "stdin",
     "output_type": "stream",
     "text": [
      "enter a seconds 350\n"
     ]
    },
    {
     "name": "stdout",
     "output_type": "stream",
     "text": [
      " 5 minutes and 50 seconds\n"
     ]
    }
   ],
   "source": [
    "#Write a program that asks the user for a number of seconds and prints out how many minutes and seconds that is. For instance, 200 seconds is 3 minutes and 20 seconds.\n",
    "a = int(input(\"enter a seconds\"))\n",
    "b = a // 60\n",
    "c = a % 60\n",
    "print(f\" {b} minutes and {c} seconds\")"
   ]
  },
  {
   "cell_type": "code",
   "execution_count": 4,
   "id": "91fd1c48-72b5-4993-8549-00e28cb69771",
   "metadata": {},
   "outputs": [
    {
     "name": "stdin",
     "output_type": "stream",
     "text": [
      "enter  n value:  55\n"
     ]
    },
    {
     "name": "stdout",
     "output_type": "stream",
     "text": [
      "odd\n"
     ]
    }
   ],
   "source": [
    "#Write a program to accept a number from the keyboard and if the number is even, print \"EVEN\" otherwise print \"ODD\".\n",
    "n = int(input(\"enter  n value: \"))\n",
    "if n % 2 == 0:\n",
    "    print(\"even\")\n",
    "else:\n",
    "    print(\"odd\")"
   ]
  },
  {
   "cell_type": "code",
   "execution_count": 23,
   "id": "5dc47e1c-d5cf-49be-a8b3-12ae5666dddd",
   "metadata": {},
   "outputs": [
    {
     "name": "stdout",
     "output_type": "stream",
     "text": [
      "s is ture\n"
     ]
    }
   ],
   "source": [
    "# Write a program to take a line of text and a string and print \"True\" if the string exits in the line of text otherwise print \"False\".\n",
    "s =  \"prabhas  radha shyam\"\n",
    "s1 = \"prabhas\"\n",
    "if s1 in s :\n",
    "    print(\"s is ture\")\n",
    "else:\n",
    "    print(\"s is false\")\n"
   ]
  },
  {
   "cell_type": "code",
   "execution_count": 33,
   "id": "1bbe09e6-906d-4f49-8684-150d07594ed2",
   "metadata": {},
   "outputs": [
    {
     "name": "stdin",
     "output_type": "stream",
     "text": [
      "enter a w prabhas, sky\n"
     ]
    },
    {
     "name": "stdout",
     "output_type": "stream",
     "text": [
      "ture\n"
     ]
    }
   ],
   "source": [
    "#Write a program that asks the user to enter a word and prints out whether that word contains any vowels.\n",
    "w = (input(\"enter a w\"))\n",
    "if \"a\" in w:\n",
    "    print(\"ture\")   \n",
    "elif \"e\" in w:\n",
    "    print(\"ture\")\n",
    "elif \"i\" in w:\n",
    "    print(\"ture\")\n",
    "elif \"o\" in w:\n",
    "    print(\"ture\")\n",
    "elif \"u\" in w:\n",
    "    print(\"ture\")\n",
    "else :\n",
    "    print(\"false\")"
   ]
  },
  {
   "cell_type": "code",
   "execution_count": 35,
   "id": "b71e7c27-4591-4d77-baf9-830fd0a74b10",
   "metadata": {},
   "outputs": [
    {
     "name": "stdin",
     "output_type": "stream",
     "text": [
      "Enter a character:  sai annam\n"
     ]
    },
    {
     "name": "stdout",
     "output_type": "stream",
     "text": [
      "sai annam is a Consonant\n"
     ]
    }
   ],
   "source": [
    "#Write a program to check whether an alphabet is a vowel or consonant.\n",
    "ch = input(\"Enter a character: \")\n",
    "\n",
    "if(ch=='A' or ch=='a' or ch=='E' or ch =='e' or ch=='I'\n",
    " or ch=='i' or ch=='O' or ch=='o' or ch=='U' or ch=='u'):\n",
    "    print(ch, \"is a Vowel\")\n",
    "else:\n",
    "    print(ch, \"is a Consonant\")\n"
   ]
  },
  {
   "cell_type": "code",
   "execution_count": 10,
   "id": "798a9737-1ff1-4a78-9176-e9606bc23d40",
   "metadata": {},
   "outputs": [
    {
     "name": "stdin",
     "output_type": "stream",
     "text": [
      "enter n1: 55\n",
      "enter n2: 66\n"
     ]
    },
    {
     "name": "stdout",
     "output_type": "stream",
     "text": [
      "not close\n"
     ]
    }
   ],
   "source": [
    "#Write a program that asks the user for two numbers and prints Close if the numbers are within .001 of each other and Not close otherwise.\n",
    "n1 = int(input(\"enter n1:\"))\n",
    "n2 = int(input(\"enter n2:\"))\n",
    "if n1+0.001 == n2:\n",
    "    print(\"close\")\n",
    "elif n2+0.001 == n1:\n",
    "    print(\"close\")\n",
    "else:\n",
    "    print(\"not close\")"
   ]
  },
  {
   "cell_type": "code",
   "execution_count": 54,
   "id": "66912613-fe3a-4239-b3cb-07099042cf09",
   "metadata": {},
   "outputs": [
    {
     "name": "stdin",
     "output_type": "stream",
     "text": [
      "enter age 12\n",
      "enter age 33\n",
      "enter age 5\n"
     ]
    },
    {
     "name": "stdout",
     "output_type": "stream",
     "text": [
      "n2 old\n",
      "n3 young\n"
     ]
    }
   ],
   "source": [
    "## Write a program to take input of age of 3 people from user and determine the oldest and the youngest among them.\n",
    "n1 = int(input(\"enter age\"))\n",
    "n2 = int(input(\"enter age\"))\n",
    "n3 = int(input(\"enter age\"))\n",
    "if  n1 > n2 and n1 > n3:\n",
    "    print(\"n1 old\")\n",
    "if n2 > n1 and n2 > n3:\n",
    "    print(\"n2 old\")\n",
    "if n3 > n1 and n3 > n2:\n",
    "    print(\"n3 old\")\n",
    "if n1 < n2 and n1 < n3:\n",
    "    print(\"n1 young\")\n",
    "if n2 < n3 and n2 < n1:\n",
    "    print(\"n2 young\")\n",
    "else:\n",
    "    print(\"n3 young\")"
   ]
  },
  {
   "cell_type": "code",
   "execution_count": 66,
   "id": "787404b8-ed47-4bfc-b33e-40964c605214",
   "metadata": {},
   "outputs": [
    {
     "name": "stdin",
     "output_type": "stream",
     "text": [
      "enter a number: 21151461\n"
     ]
    },
    {
     "name": "stdout",
     "output_type": "stream",
     "text": [
      "odd number\n"
     ]
    }
   ],
   "source": [
    "n = int(input(\"enter a number:\"))\n",
    "if n % 2 == 0:\n",
    "    print(\"even number\")\n",
    "else:\n",
    "    print(\"odd number\")"
   ]
  },
  {
   "cell_type": "code",
   "execution_count": 1,
   "id": "ee52b755-ec7e-46e8-85e3-89a9cf069156",
   "metadata": {},
   "outputs": [
    {
     "ename": "SyntaxError",
     "evalue": "invalid syntax (Temp/ipykernel_26232/3591093465.py, line 15)",
     "output_type": "error",
     "traceback": [
      "\u001b[1;36m  File \u001b[1;32m\"C:\\Users\\hp\\AppData\\Local\\Temp/ipykernel_26232/3591093465.py\"\u001b[1;36m, line \u001b[1;32m15\u001b[0m\n\u001b[1;33m    else:\u001b[0m\n\u001b[1;37m    ^\u001b[0m\n\u001b[1;31mSyntaxError\u001b[0m\u001b[1;31m:\u001b[0m invalid syntax\n"
     ]
    }
   ],
   "source": [
    "#Write a program to accept maximum of 6 digits number and print out the sum of even digits of that number and multiplication of odd digits of that number.\n",
    "n =int(input(\"enter a six digits number:\"))\n",
    "a = 0\n",
    "c = 1\n",
    "if n>99999:\n",
    "    while n > 0:\n",
    "         b = n % 10 \n",
    "    if(b%10== 0):\n",
    "        a += b\n",
    "    else:\n",
    "        c *= b\n",
    "        n//= 10\n",
    "print(\"sume of six digits even:\",a)\n",
    "print(\"product of six digits odd\",c)\n",
    "else: \n",
    "        print(\"Not a six digit number\")"
   ]
  },
  {
   "cell_type": "code",
   "execution_count": 22,
   "id": "20f761df-248e-4d08-b9d0-717ca03df05e",
   "metadata": {},
   "outputs": [
    {
     "name": "stdin",
     "output_type": "stream",
     "text": [
      "enther the year: 2000\n"
     ]
    },
    {
     "name": "stdout",
     "output_type": "stream",
     "text": [
      "2000 not a leap year\n"
     ]
    }
   ],
   "source": [
    "#Write a program to check whether the given year is leap year or not.\n",
    "n = int(input(\"enther the year:\"))\n",
    "if n % 4 == 0 and n % 100 !=0:\n",
    "    print(n,\"leap  year\")\n",
    "elif n % 100 == 0:\n",
    "    print(n,\"not a leap year\")\n",
    "elif n % 400 == 0:\n",
    "    print(n,\"leap year\")\n",
    "else:\n",
    "    print(n,\"not a leap year\")"
   ]
  },
  {
   "cell_type": "code",
   "execution_count": 25,
   "id": "e9e1935f-7a63-4133-bbbd-c2c6d8070f65",
   "metadata": {},
   "outputs": [
    {
     "name": "stdin",
     "output_type": "stream",
     "text": [
      "x: 5\n",
      "y: 6\n",
      "z: 7\n"
     ]
    },
    {
     "name": "stdout",
     "output_type": "stream",
     "text": [
      "scalence\n"
     ]
    }
   ],
   "source": [
    "#Write a program to check a triangle is equilateral, isosceles or scalene.\n",
    "x = int(input(\"x:\"))\n",
    "y = int(input(\"y:\"))\n",
    "z = int(input(\"z:\"))\n",
    "if x == y == z:\n",
    "    print(\"equilateral\")\n",
    "elif x==y or y==z or z == x:\n",
    "    print(\"isosceles\")\n",
    "else:\n",
    "    print(\"scalence\")"
   ]
  },
  {
   "cell_type": "code",
   "execution_count": 7,
   "id": "1673b334-6c89-461d-bb1a-9e12c5f1af8d",
   "metadata": {},
   "outputs": [
    {
     "ename": "SyntaxError",
     "evalue": "invalid syntax (Temp/ipykernel_20052/381923119.py, line 3)",
     "output_type": "error",
     "traceback": [
      "\u001b[1;36m  File \u001b[1;32m\"C:\\Users\\hp\\AppData\\Local\\Temp/ipykernel_20052/381923119.py\"\u001b[1;36m, line \u001b[1;32m3\u001b[0m\n\u001b[1;33m    x = 1500\u001b[0m\n\u001b[1;37m    ^\u001b[0m\n\u001b[1;31mSyntaxError\u001b[0m\u001b[1;31m:\u001b[0m invalid syntax\n"
     ]
    }
   ],
   "source": [
    "#Write a program to find those numbers which are divisible by 7 and multiple of 5, between 1500 and 2700.\n",
    "n = int(input(\"enter a value: \")\n",
    "x = 1500\n",
    "while x <= 2700:\n",
    "    if x % 7 == 0 and x % 5 == 0:\n",
    "        print(x)\n",
    "        x += 1"
   ]
  },
  {
   "cell_type": "code",
   "execution_count": 3,
   "id": "6a694287-efa6-40a7-91ca-d2c4c2de44bf",
   "metadata": {},
   "outputs": [
    {
     "name": "stdout",
     "output_type": "stream",
     "text": [
      "1505 1540 1575 1610 1645 1680 1715 1750 1785 1820 1855 1890 1925 1960 1995 2030 2065 2100 2135 2170 2205 2240 2275 2310 2345 2380 2415 2450 2485 2520 2555 2590 2625 2660 2695 "
     ]
    }
   ],
   "source": [
    "x = 1500\n",
    "while x < 2701:\n",
    "        if x % 7 == 0 and x % 5 == 0:\n",
    "            print(x, end = ' ')\n",
    "        x += 1"
   ]
  },
  {
   "cell_type": "code",
   "execution_count": 7,
   "id": "e0954427-fdce-4374-8dc3-0529af858d96",
   "metadata": {},
   "outputs": [
    {
     "name": "stdin",
     "output_type": "stream",
     "text": [
      " 55\n",
      " 66\n"
     ]
    },
    {
     "name": "stdout",
     "output_type": "stream",
     "text": [
      "12.777777777777779\n",
      "150.8\n"
     ]
    }
   ],
   "source": [
    "#Write a program to prompt the user for a temperature and what units (Celsius or Fahrenheit) the temperature is in and print the temperature by converting into the other unit. [Hint:- F = 95 C + 32 and C = 9 5 (F − 3\\\n",
    "f = int(input())\n",
    "c = (f-32)*5/9\n",
    "cx = int(input())\n",
    "fx = (1.8*cx) + 32\n",
    "print(c)\n",
    "print(fx)"
   ]
  },
  {
   "cell_type": "code",
   "execution_count": 15,
   "id": "e787446e-eb1e-46a0-b7d8-ac88ed96bc62",
   "metadata": {},
   "outputs": [
    {
     "name": "stdin",
     "output_type": "stream",
     "text": [
      "enter the value : 201\n"
     ]
    },
    {
     "name": "stdout",
     "output_type": "stream",
     "text": [
      "1407\n"
     ]
    }
   ],
   "source": [
    "#A store charges Rs.12 per item if you buy less than 10 items. If you buy between 10 and 99 items, the cost is Rs.10 per item. If you buy 100 or more items, the cost is Rs.7 per item. Write a program that asks the user how many items they are buying and prints the total cost.\n",
    "n = int(input(\"enter the value :\")) \n",
    "\n",
    "if n <= 10:\n",
    "    c = n*12\n",
    "    print(c)\n",
    "elif n >= 10 and n <= 100:\n",
    "    c = n * 10\n",
    "    print(c)\n",
    "elif n > 100:\n",
    "    c = n * 7\n",
    "    print(c)"
   ]
  },
  {
   "cell_type": "code",
   "execution_count": 3,
   "id": "56664a2f-8e8d-40f2-8110-921f52565211",
   "metadata": {},
   "outputs": [
    {
     "name": "stdin",
     "output_type": "stream",
     "text": [
      "enter the value: 15\n"
     ]
    },
    {
     "name": "stdout",
     "output_type": "stream",
     "text": [
      "1350.0\n"
     ]
    }
   ],
   "source": [
    "# A shop will give discount of 10% if the cost of purchased quantity is more than 1000. Suppose, one unit will cost 100. Write a program to prompt the user for quantity and print the total cost for user.\n",
    "n = int(input(\"enter the value:\"))\n",
    "x = n * 100\n",
    "if x >= 1000:\n",
    "    d = 0.1 * x \n",
    "    f =  x - d\n",
    "print(f)"
   ]
  },
  {
   "cell_type": "code",
   "execution_count": 7,
   "id": "29bd03d2-21bd-4664-aecc-3c41bb0cffde",
   "metadata": {},
   "outputs": [
    {
     "name": "stdin",
     "output_type": "stream",
     "text": [
      "enter the value: 8\n",
      "enter the value: 50000\n"
     ]
    },
    {
     "name": "stdout",
     "output_type": "stream",
     "text": [
      "52500.0\n"
     ]
    }
   ],
   "source": [
    "#A company decided to give bonus of 5% to employee if his/her year of service is more than 5 years. Write a program that prompt the user for their salary and year of service and print the net bonus amount.\n",
    "n = int(input(\"enter the value:\"))\n",
    "s = int(input(\"enter the value:\"))\n",
    "if n > 5:\n",
    "    b = (0.05 * s) + s\n",
    "    print(b)\n",
    "    \n"
   ]
  },
  {
   "cell_type": "code",
   "execution_count": 13,
   "id": "f9549dab-1d3a-4eca-9cd7-20617e0459f4",
   "metadata": {},
   "outputs": [
    {
     "name": "stdin",
     "output_type": "stream",
     "text": [
      " 75\n",
      " 75\n"
     ]
    },
    {
     "name": "stdout",
     "output_type": "stream",
     "text": [
      "allow the exma\n"
     ]
    }
   ],
   "source": [
    "#A student will not be allowed to sit in exam if his/her attendance is less than 75%. Write a program to take the number of classes held, the number of classes attended as inputs and calculate the percentage of class attended. If the user attendance is less than 75%, ask the user if he/she has medical cause or not ( 'Y' or 'N' ). If response is 'Y', print he/she is eligible to sit in the exam, otherwise print he/she is not eligible to sit in the exam.\n",
    "a = int(input())\n",
    "b = int(input())\n",
    "p = (a*100)/b\n",
    "if p >= 75:\n",
    "    print(\"allow the exma\")\n",
    "else:\n",
    "    print(\"not allow the exam\")"
   ]
  },
  {
   "cell_type": "code",
   "execution_count": 10,
   "id": "1751d08a-a946-4e10-9696-8ac92dc7eb37",
   "metadata": {},
   "outputs": [
    {
     "name": "stdout",
     "output_type": "stream",
     "text": [
      "1 2 3 4 5 "
     ]
    }
   ],
   "source": [
    "#Write a 'while' loop that prints integers from zero to 5.\n",
    "i = 1\n",
    "while i <= 5:\n",
    "    print(i, end = \" \")\n",
    "    i += 1"
   ]
  },
  {
   "cell_type": "code",
   "execution_count": 7,
   "id": "2d88c732-90d2-4c23-8e1a-1829245d4cae",
   "metadata": {},
   "outputs": [
    {
     "name": "stdin",
     "output_type": "stream",
     "text": [
      " 45\n"
     ]
    },
    {
     "name": "stdout",
     "output_type": "stream",
     "text": [
      "54"
     ]
    }
   ],
   "source": [
    "#Write a 'while' loop that starts at the last character in the string and works its way backwards to the first character in the string, printing each letter on a separate line, except backwards.\n",
    "n = input()\n",
    "i = len(n)-1\n",
    "\n",
    "while i >= 0:\n",
    "    print(n[i], end= \"\")\n",
    "    i -= 1"
   ]
  },
  {
   "cell_type": "code",
   "execution_count": 1,
   "id": "9d84a0e1-9fab-43c8-b077-17234b4fad7f",
   "metadata": {},
   "outputs": [
    {
     "name": "stdin",
     "output_type": "stream",
     "text": [
      " sai\n"
     ]
    },
    {
     "name": "stdout",
     "output_type": "stream",
     "text": [
      "i\n",
      "a\n",
      "s\n"
     ]
    }
   ],
   "source": [
    "n = input()\n",
    "i = len(n)\n",
    "\n",
    "while i > 0:\n",
    "    print(n[i-1])\n",
    "    i -= 1"
   ]
  },
  {
   "cell_type": "code",
   "execution_count": null,
   "id": "f9fd7311-8215-4f3a-a4f1-f7021f48edcf",
   "metadata": {},
   "outputs": [
    {
     "name": "stdin",
     "output_type": "stream",
     "text": [
      " 33\n"
     ]
    },
    {
     "name": "stdout",
     "output_type": "stream",
     "text": [
      "1\n",
      "3\n",
      "11\n",
      "33\n"
     ]
    }
   ],
   "source": [
    "# Write a program that asks the user to enter a number and prints out all the divisors of that number.\n",
    "n = int(input())\n",
    "i = 1\n",
    "while n >= 0:\n",
    "    if n % i ==0:\n",
    "        print(i) \n",
    "    i+=1"
   ]
  },
  {
   "cell_type": "markdown",
   "id": "f4c005ac-4dae-4ee9-a1a6-74a025438acd",
   "metadata": {},
   "source": []
  },
  {
   "cell_type": "code",
   "execution_count": 12,
   "id": "d4fadf7d-571e-4b20-825a-04a9000db595",
   "metadata": {},
   "outputs": [
    {
     "name": "stdin",
     "output_type": "stream",
     "text": [
      " 5\n"
     ]
    },
    {
     "name": "stdout",
     "output_type": "stream",
     "text": [
      "120\n"
     ]
    }
   ],
   "source": [
    "#Write a program that asks the user to enter a number and prints out all the divisors of that number.\n",
    "n = int(input())\n",
    "f = 1\n",
    "i = 1\n",
    "while i <= n: \n",
    "    f = f * i\n",
    "\n",
    "    i += 1\n",
    "print(f)"
   ]
  },
  {
   "cell_type": "code",
   "execution_count": 12,
   "id": "518cf4fe-c942-4455-a760-9c1964d183e5",
   "metadata": {},
   "outputs": [
    {
     "name": "stdin",
     "output_type": "stream",
     "text": [
      " 25\n",
      " 5\n"
     ]
    },
    {
     "data": {
      "text/plain": [
       "5"
      ]
     },
     "execution_count": 12,
     "metadata": {},
     "output_type": "execute_result"
    }
   ],
   "source": [
    "#Write a program to find greatest common divisor (GCD) or highest common factor (HCF) of given two numbers.\n",
    "import math\n",
    "\n",
    "n = int(input())\n",
    "m = int(input())\n",
    "\n",
    "math.gcd(n, m)\n"
   ]
  },
  {
   "cell_type": "code",
   "execution_count": 11,
   "id": "b4cd5822-ebfb-40ef-8f7a-ed4ebc87ea0c",
   "metadata": {},
   "outputs": [
    {
     "name": "stdin",
     "output_type": "stream",
     "text": [
      " 25\n",
      " 5\n"
     ]
    },
    {
     "data": {
      "text/plain": [
       "5"
      ]
     },
     "execution_count": 11,
     "metadata": {},
     "output_type": "execute_result"
    }
   ],
   "source": [
    "#Write a program to find greatest common divisor (GCD) or highest common factor (HCF) of given two numbers.\n",
    "n = int(input())\n",
    "m = int(input())\n",
    "l1 = [] \n",
    "l2 = []\n",
    "\n",
    "for i in range(1, n+1):\n",
    "    if n % i == 0:\n",
    "        l1.append(i)\n",
    "    \n",
    "for i in range(1, m+1):\n",
    "    if m % i == 0:\n",
    "        l2.append(i)\n",
    "        \n",
    "max(set(l1) & set(l2))"
   ]
  },
  {
   "cell_type": "code",
   "execution_count": null,
   "id": "66f6b386-d0c5-4edc-bbe9-81371ca3e90a",
   "metadata": {},
   "outputs": [],
   "source": [
    "#Write a program to take integer inputs from user until he/she presses q and print the average and product of all those numbers.\n",
    "n = int(input())\n",
    "m = int(input())\n",
    "o = int(input())\n",
    "i = 1\n",
    "c = 0\n",
    "while n>= 0"
   ]
  },
  {
   "cell_type": "code",
   "execution_count": 2,
   "id": "aaad0ea0-60ac-4c67-b9da-d610a4987f6b",
   "metadata": {},
   "outputs": [
    {
     "name": "stdin",
     "output_type": "stream",
     "text": [
      "enter the name: sai\n",
      "enter the age: 23\n"
     ]
    },
    {
     "name": "stdout",
     "output_type": "stream",
     "text": [
      "('sai', 23)\n"
     ]
    }
   ],
   "source": [
    "#Write a progn ram to print the data type of your name and age.\n",
    "n = input(\"enter the name:\")\n",
    "a = int(input(\"enter the age:\"))\n",
    "x = n , a\n",
    "print(x)\n"
   ]
  },
  {
   "cell_type": "code",
   "execution_count": 11,
   "id": "68eb70e9-7c81-4583-a587-8bdb395579d4",
   "metadata": {},
   "outputs": [
    {
     "name": "stdin",
     "output_type": "stream",
     "text": [
      " 55\n",
      " 66\n"
     ]
    },
    {
     "name": "stdout",
     "output_type": "stream",
     "text": [
      "<class 'int'>\n",
      "121\n",
      "3630\n",
      "<class 'int'>\n"
     ]
    }
   ],
   "source": [
    "#Write a program to calculate the sum and product of two integers and print the data type of the sum and product of those integers.\n",
    "n = int(input())\n",
    "m = int(input())\n",
    "x = n + m\n",
    "y = n * m\n",
    "\n",
    "print(type(x))\n",
    "print(x)\n",
    "print(y)\n",
    "print(type(y))"
   ]
  },
  {
   "cell_type": "code",
   "execution_count": 13,
   "id": "7ff835c6-953e-4156-9c32-6e1d1210a649",
   "metadata": {},
   "outputs": [
    {
     "name": "stdin",
     "output_type": "stream",
     "text": [
      "enter the name sai\n"
     ]
    },
    {
     "name": "stdout",
     "output_type": "stream",
     "text": [
      "welcome sai\n"
     ]
    }
   ],
   "source": [
    "#Write a program that prompts the user for his or her name and print the welcome message with user's input on the screen (console or shell).\n",
    "n = input(\"enter the name\")\n",
    "print(\"welcome\",n)"
   ]
  },
  {
   "cell_type": "code",
   "execution_count": 14,
   "id": "62ea6420-ee03-4743-a781-f85a24b54088",
   "metadata": {},
   "outputs": [
    {
     "name": "stdin",
     "output_type": "stream",
     "text": [
      " 3\n"
     ]
    },
    {
     "name": "stdout",
     "output_type": "stream",
     "text": [
      "27\n"
     ]
    }
   ],
   "source": [
    "#Write a program to prompt the user for a number and print the cube of that number.\n",
    "n = int(input())\n",
    "s = n ** 3\n",
    "print(s)"
   ]
  },
  {
   "cell_type": "code",
   "execution_count": 22,
   "id": "85b818f3-56bc-4f11-9615-375c7df466e8",
   "metadata": {},
   "outputs": [
    {
     "name": "stdin",
     "output_type": "stream",
     "text": [
      "enter the name sai\n",
      "enter the roll 21\n",
      "enter the branch maths\n"
     ]
    },
    {
     "name": "stdout",
     "output_type": "stream",
     "text": [
      "Hey, my name is sai and my roll number is 21. My branch is maths\n"
     ]
    }
   ],
   "source": [
    "#Write a program to take name, roll number and branch as input from user and print it.\n",
    "name = input(\"enter the name\")\n",
    "roll = int(input(\"enter the roll\"))\n",
    "branch = input(\"enter the branch\")\n",
    "print(f\"Hey, my name is {name} and my roll number is {roll}. My branch is {branch}\")"
   ]
  },
  {
   "cell_type": "code",
   "execution_count": 25,
   "id": "bf4390eb-8403-4109-8925-5a1d27099016",
   "metadata": {},
   "outputs": [
    {
     "name": "stdin",
     "output_type": "stream",
     "text": [
      "enter the price of meal: 550\n",
      " 10\n"
     ]
    },
    {
     "name": "stdout",
     "output_type": "stream",
     "text": [
      "605.0\n"
     ]
    }
   ],
   "source": [
    "#Write a program to prompt the user for the price of the meal and the percent tip they want to leave and then print both the tip amount and the total bill with the tip included.\n",
    "p_m = int(input(\"enter the price of meal:\"))\n",
    "y = int(input())\n",
    "z = y/100\n",
    "p_t = z * p_m\n",
    "x = p_t + p_m\n",
    "print(x)"
   ]
  },
  {
   "cell_type": "code",
   "execution_count": 29,
   "id": "41c80a73-77c6-4670-9f6a-774ed0837591",
   "metadata": {},
   "outputs": [
    {
     "name": "stdin",
     "output_type": "stream",
     "text": [
      "enter the rate: 550\n",
      "enthe the hours: 2\n"
     ]
    },
    {
     "name": "stdout",
     "output_type": "stream",
     "text": [
      "1100.0\n"
     ]
    }
   ],
   "source": [
    "#Write a program to prompt the user for hours and rate per hour to compute and print gross pay.\n",
    "rate = int(input(\"enter the rate:\"))\n",
    "hours = float(input(\"enthe the hours:\"))\n",
    "x = rate * hours\n",
    "print(x)"
   ]
  },
  {
   "cell_type": "code",
   "execution_count": 34,
   "id": "6d1f435e-1460-4cf5-b79a-c43c22e6469f",
   "metadata": {},
   "outputs": [
    {
     "name": "stdin",
     "output_type": "stream",
     "text": [
      " 21\n"
     ]
    },
    {
     "name": "stdout",
     "output_type": "stream",
     "text": [
      "odd\n"
     ]
    }
   ],
   "source": [
    "#Write a program to take an integer as input from the user and print \"True\" if the number is even multiple of 7 otherwise print \"False\".\n",
    "x = int(input())\n",
    "y = x/7\n",
    "if y % 2 == 0:\n",
    "    print(\"even\")\n",
    "else:\n",
    "    print(\"odd\")"
   ]
  },
  {
   "cell_type": "code",
   "execution_count": 37,
   "id": "91f8eea5-7923-42bc-bcda-a90d71ae3cde",
   "metadata": {},
   "outputs": [
    {
     "name": "stdin",
     "output_type": "stream",
     "text": [
      " annma sai\n",
      " a\n"
     ]
    },
    {
     "name": "stdout",
     "output_type": "stream",
     "text": [
      "true\n"
     ]
    }
   ],
   "source": [
    "#Write a program to read a string and a character as two inputs. Then print \"True\" if character exists in the string otherwise print \"False\".\n",
    "a = input()\n",
    "b = input()\n",
    "if b in a:\n",
    "    print(\"true\")\n",
    "else:\n",
    "    print(\"false\")"
   ]
  },
  {
   "cell_type": "code",
   "execution_count": 44,
   "id": "53577c39-0241-4e7c-9b08-b838039e05b5",
   "metadata": {},
   "outputs": [
    {
     "name": "stdin",
     "output_type": "stream",
     "text": [
      " tiger \n",
      " naveen \n"
     ]
    },
    {
     "name": "stdout",
     "output_type": "stream",
     "text": [
      "greeting: tiger  naveen \n"
     ]
    }
   ],
   "source": [
    "#Write a program that prompts user to enter his first name and last name and print a message \"Greetings!!! First name Last name\"\n",
    "a = input()\n",
    "b = input()\n",
    "print(\"greeting:\", a,b)"
   ]
  },
  {
   "cell_type": "code",
   "execution_count": 48,
   "id": "76a0e2cf-9523-4fdc-ac4c-abd93e975aca",
   "metadata": {},
   "outputs": [
    {
     "name": "stdin",
     "output_type": "stream",
     "text": [
      " naveen is tiger of python \n",
      " naveen is tiger\n"
     ]
    },
    {
     "name": "stdout",
     "output_type": "stream",
     "text": [
      "true\n"
     ]
    }
   ],
   "source": [
    "#Write a program to take a line of text and a string and print \"True\" if the string exits in the line of text otherwise print \"False\".\n",
    "a = input()\n",
    "b = input()\n",
    "if b in a:\n",
    "    print(\"true\")\n",
    "else:\n",
    "    print(\"false\")"
   ]
  },
  {
   "cell_type": "code",
   "execution_count": 2,
   "id": "710ff990-9926-480d-ab54-15297e9295c3",
   "metadata": {},
   "outputs": [
    {
     "name": "stdout",
     "output_type": "stream",
     "text": [
      "1 2 3 4 5 6 7 8 9 10 "
     ]
    }
   ],
   "source": [
    "for i in range(1,11):\n",
    "    print(i,end=\" \")"
   ]
  },
  {
   "cell_type": "code",
   "execution_count": 4,
   "id": "2f842eba-388d-44db-ac57-edcefd6d21c7",
   "metadata": {},
   "outputs": [
    {
     "name": "stdout",
     "output_type": "stream",
     "text": [
      "1 2 3 4 5 6 7 8 9 10 "
     ]
    }
   ],
   "source": [
    "i=1\n",
    "while i<11:\n",
    "    print(i,end=\" \")\n",
    "    i=i+1"
   ]
  },
  {
   "cell_type": "code",
   "execution_count": 8,
   "id": "df7385a3-8217-424d-b0c8-0e7f93dd884d",
   "metadata": {},
   "outputs": [
    {
     "name": "stdin",
     "output_type": "stream",
     "text": [
      " sai\n",
      " 22\n"
     ]
    },
    {
     "name": "stdout",
     "output_type": "stream",
     "text": [
      "sai 22\n"
     ]
    }
   ],
   "source": [
    "#Write a program to print the data type of your name and age.\n",
    "name = input()\n",
    "age = int(input())\n",
    "print(name,age)\n",
    "#print(age)"
   ]
  },
  {
   "cell_type": "code",
   "execution_count": 9,
   "id": "dd7f1db7-5068-4924-9cad-ce2c00e81c33",
   "metadata": {},
   "outputs": [
    {
     "name": "stdin",
     "output_type": "stream",
     "text": [
      " 55\n",
      " 66\n"
     ]
    },
    {
     "name": "stdout",
     "output_type": "stream",
     "text": [
      "121 3630\n"
     ]
    }
   ],
   "source": [
    "#Write a program to calculate the sum and product of two integers and print the data type of the sum and product of those integers.\n",
    "n = int(input())\n",
    "m = int(input())\n",
    "a = n+m\n",
    "b = n*m\n",
    "print(a,b)"
   ]
  },
  {
   "cell_type": "code",
   "execution_count": 8,
   "id": "5232362b-f1e4-433e-b787-e59acd667a7f",
   "metadata": {},
   "outputs": [
    {
     "name": "stdin",
     "output_type": "stream",
     "text": [
      " sai \n",
      " 5\n"
     ]
    },
    {
     "name": "stdout",
     "output_type": "stream",
     "text": [
      "sai sai sai sai sai  "
     ]
    }
   ],
   "source": [
    "#Write a program that prompt the user for their name and how many times to print it. The program should print out the user’s name the specified number of times.\n",
    "n = input()\n",
    "m = int(input())\n",
    "print(n*m,end=\" \")\n"
   ]
  },
  {
   "cell_type": "code",
   "execution_count": 21,
   "id": "03f0be26-085e-45c0-bb5e-848c2a4f3a4d",
   "metadata": {},
   "outputs": [
    {
     "name": "stdin",
     "output_type": "stream",
     "text": [
      " sai krishna\n"
     ]
    },
    {
     "name": "stdout",
     "output_type": "stream",
     "text": [
      "[1, 10]\n"
     ]
    }
   ],
   "source": [
    "#Write a program that prompt the user for a string and prints out all the location(index) of each 'a' in the string. If 'a' doesn't exist, print \"None\".\n",
    "n = input()\n",
    "a = 'a'\n",
    "l = []\n",
    "for i in range(len(n)):\n",
    "    \n",
    "    if (n[i]== a):\n",
    "        l.append(i)\n",
    "        \n",
    "print(l)     "
   ]
  },
  {
   "cell_type": "code",
   "execution_count": 3,
   "id": "a1842330-d8d5-4de1-9b99-bb05387784b1",
   "metadata": {},
   "outputs": [
    {
     "name": "stdin",
     "output_type": "stream",
     "text": [
      " sai\n",
      " 2\n"
     ]
    },
    {
     "name": "stdout",
     "output_type": "stream",
     "text": [
      "saisai\n"
     ]
    }
   ],
   "source": [
    "#Write a program that prompt the user for their name and how many times to print it. The program should print out the user’s name the specified number of times.\n",
    "s = input()\n",
    "a = int(input())\n",
    "print(s*a)"
   ]
  },
  {
   "cell_type": "code",
   "execution_count": 1,
   "id": "19a467b8-851e-43e9-af59-8fc452f2fdcf",
   "metadata": {},
   "outputs": [
    {
     "name": "stdin",
     "output_type": "stream",
     "text": [
      " sai annam\n"
     ]
    },
    {
     "name": "stdout",
     "output_type": "stream",
     "text": [
      "s,sa,sai,sai ,sai a,sai an,sai ann,sai anna,sai annam,The End\n"
     ]
    }
   ],
   "source": [
    "#Write a program that prompt the user for their name and prints it in the funny pattern as given in the example below.\n",
    "i = 0\n",
    "s1 = input()\n",
    "\n",
    "while i != len(s1):\n",
    "    print(s1[:i+1], end=\",\")\n",
    "    i += 1 \n",
    "\n",
    "print(\"The End\")\n"
   ]
  },
  {
   "cell_type": "code",
   "execution_count": 8,
   "id": "faaef921-5b3c-4c50-ba71-1103e540d010",
   "metadata": {},
   "outputs": [
    {
     "name": "stdin",
     "output_type": "stream",
     "text": [
      " 5\n"
     ]
    },
    {
     "name": "stdout",
     "output_type": "stream",
     "text": [
      "1 1/ 2 4/ 3 9/ 4 16/ 5 25/ 6 36/ 7 49/ 8 64/ 9 81/ 10 100/ 11 121/ 12 144/ 13 169/ 14 196/ 15 225/ 16 256/ 17 289/ 18 324/ 19 361/ 20 400/ "
     ]
    }
   ],
   "source": [
    "#Write a program that prints out all the integers from 1 to 20 and their squares.\n",
    "n = int(input())\n",
    "for i in range(1,21):\n",
    "    \n",
    "    print(i,i*i, end=\"/ \")"
   ]
  },
  {
   "cell_type": "code",
   "execution_count": 9,
   "id": "60701085-1e85-4ebf-b064-cd24a29d5a90",
   "metadata": {},
   "outputs": [
    {
     "name": "stdin",
     "output_type": "stream",
     "text": [
      " dfgsd sthrts rtshrts rtshrst rsthrst hrts hrtsgh\n"
     ]
    },
    {
     "name": "stdout",
     "output_type": "stream",
     "text": [
      "6\n"
     ]
    }
   ],
   "source": [
    "#Write a program to read a line of text as input from the user and print the count of space characters(' ') in the text entered.n =\n",
    "n = input()\n",
    "c = 0\n",
    "for i in n:\n",
    "    if i == \" \":\n",
    "        c += 1\n",
    "print(c)        "
   ]
  },
  {
   "cell_type": "code",
   "execution_count": 14,
   "id": "d836a998-3e0e-49cb-8926-2d4c74552e64",
   "metadata": {},
   "outputs": [
    {
     "name": "stdout",
     "output_type": "stream",
     "text": [
      "8 11 14 17 20 23 26 29 32 35 38 41 44 47 50 53 56 59 62 65 68 71 74 77 80 83 86 89 "
     ]
    }
   ],
   "source": [
    "#Write a program that uses a 'for' loop to print the numbers 8, 11, 14, 17, 20, . . . , 83, 86, 89.\n",
    "\n",
    "for i in range(8,90,3):\n",
    "    print(i, end=\" \")\n"
   ]
  },
  {
   "cell_type": "code",
   "execution_count": 21,
   "id": "ebdc632c-0662-4985-9f9f-1df91529de54",
   "metadata": {},
   "outputs": [
    {
     "name": "stdout",
     "output_type": "stream",
     "text": [
      "100 98 96 94 92 90 88 86 84 82 80 78 76 74 72 70 68 66 64 62 60 58 56 54 52 50 48 46 44 42 40 38 36 34 32 30 28 26 24 22 20 18 16 14 12 10 8 6 4 2 "
     ]
    }
   ],
   "source": [
    "#Write a program that uses a 'for' loop to print the numbers 8, 11, 14, 17, 20, . . . , 83, 86, 89.\n",
    "\n",
    "for i in range(100 ,1 ,-2):\n",
    "    print(i, end=\" \")"
   ]
  },
  {
   "cell_type": "code",
   "execution_count": 4,
   "id": "adc68af7-5f3b-47f9-8e72-b7cb9fc1f7f0",
   "metadata": {},
   "outputs": [
    {
     "name": "stdout",
     "output_type": "stream",
     "text": [
      "10 9 8 7 6 5 4 3 2 1 "
     ]
    }
   ],
   "source": [
    "#Write a program that uses a 'for' loop to print numbers from 10 to 1 in descending order.\n",
    "for i in range(10,0,-1):\n",
    "    print(i, end=\" \")"
   ]
  },
  {
   "cell_type": "code",
   "execution_count": 15,
   "id": "f8fd74b2-567e-4251-bd81-92ef41369280",
   "metadata": {},
   "outputs": [
    {
     "name": "stdout",
     "output_type": "stream",
     "text": [
      "200\n"
     ]
    }
   ],
   "source": [
    "#Write a program that counts how many of the squares of the numbers from 1 to 1000 end in a 1.\n",
    "\n",
    "c = 0\n",
    "for i in range(1,1000):\n",
    "    if (i * i) % 10 == 1:\n",
    "        c+=1\n",
    "print(c) "
   ]
  },
  {
   "cell_type": "code",
   "execution_count": 18,
   "id": "ba8972f4-77a9-49a4-ae7b-7d9b2727887c",
   "metadata": {},
   "outputs": [
    {
     "name": "stdout",
     "output_type": "stream",
     "text": [
      "300\n"
     ]
    }
   ],
   "source": [
    "#Write a program that counts how many of the squares of the numbers from 1 to 1000 end in a 4 and how many end in a 9.\n",
    "c = 0\n",
    "for i in range(1,1000):\n",
    "    if (i * i) % 10 ==4 or (i *1) % 10 ==9:\n",
    "        c+=1\n",
    "print(c) "
   ]
  },
  {
   "cell_type": "code",
   "execution_count": 22,
   "id": "e8c604fd-5945-46df-8f4c-50a017eb4ae6",
   "metadata": {},
   "outputs": [
    {
     "name": "stdout",
     "output_type": "stream",
     "text": [
      "42 84 126 168 210 252 294 336 378 420 462 504 546 588 630 672 714 756 798 840 882 924 966 "
     ]
    }
   ],
   "source": [
    "#Write a program to find all numbers between 1 and 1000 that are divisible by 7 and end in a 6.\n",
    "for i in range(1,1000):\n",
    "    if i % 7 ==0 and i % 6 ==0:\n",
    "        print(i, end=\" \")"
   ]
  },
  {
   "cell_type": "code",
   "execution_count": 24,
   "id": "fba8fae6-025e-4d8e-900f-bb458bdea308",
   "metadata": {},
   "outputs": [
    {
     "name": "stdout",
     "output_type": "stream",
     "text": [
      "3439\n"
     ]
    }
   ],
   "source": [
    "#Write a program to determine how many of the numbers between 1 and 10000 contain the digit 3.\n",
    "c = 0\n",
    "for i in range(1,10000):\n",
    "    if '3' in str(i):\n",
    "        c+=1\n",
    "print(c)\n",
    "        "
   ]
  },
  {
   "cell_type": "code",
   "execution_count": 38,
   "id": "63a13142-aa00-4a7b-894d-073a4b46a6e9",
   "metadata": {},
   "outputs": [
    {
     "data": {
      "text/plain": [
       "['1',\n",
       " '11',\n",
       " '111',\n",
       " '1111',\n",
       " '11111',\n",
       " '111111',\n",
       " '1111111',\n",
       " '11111111',\n",
       " '111111111']"
      ]
     },
     "execution_count": 38,
     "metadata": {},
     "output_type": "execute_result"
    }
   ],
   "source": [
    "#Write a program that creates the list [1,11,111,1111,...,111...1] , where the entries have an ever increasing number of ones, with the last entry having 100 ones.\n",
    "l = []\n",
    "for i in range(1, 10):\n",
    "    l.append('1'*i)\n",
    "l"
   ]
  },
  {
   "cell_type": "code",
   "execution_count": 22,
   "id": "3b7a52ef-b40c-439f-9f06-eb88edfed0fb",
   "metadata": {},
   "outputs": [
    {
     "name": "stdout",
     "output_type": "stream",
     "text": [
      "[1, 11, 111, 1111, 11111, 111111, 1111111, 11111111, 111111111]\n"
     ]
    }
   ],
   "source": [
    "print([int('1'*i) for i in range(1, 10)])"
   ]
  },
  {
   "cell_type": "code",
   "execution_count": 42,
   "id": "657e2050-4a35-4854-8604-db30f5b4799b",
   "metadata": {},
   "outputs": [
    {
     "name": "stdout",
     "output_type": "stream",
     "text": [
      "[1, 11, 111, 1111, 11111, 111111, 1111111, 11111111, 111111111]\n"
     ]
    }
   ],
   "source": [
    "l2=[]\n",
    "for i in l:\n",
    "    x = int(i)\n",
    "    l2.append(x)\n",
    "print(l2)"
   ]
  },
  {
   "cell_type": "code",
   "execution_count": 43,
   "id": "edf09f8f-cb04-40bc-8858-edf96adada18",
   "metadata": {},
   "outputs": [
    {
     "name": "stdout",
     "output_type": "stream",
     "text": [
      "[1, 11, 111, 1111, 11111, 111111, 1111111, 11111111, 111111111]\n"
     ]
    }
   ],
   "source": [
    "#Write a program that creates the list [1,11,111,1111,...,111...1] , where the entries have an ever increasing number of ones, with the last entry having 100 ones.\n",
    "l = [] \n",
    "for i in range (1,10):\n",
    "    l.append('1'*i)\n",
    "    \n",
    "l2 = []\n",
    "for i in l:\n",
    "    x = int(i)\n",
    "    l2.append(x)\n",
    "print(l2)    "
   ]
  },
  {
   "cell_type": "code",
   "execution_count": 14,
   "id": "60517658-f18d-45f7-b72e-973fe6c72012",
   "metadata": {},
   "outputs": [
    {
     "name": "stdout",
     "output_type": "stream",
     "text": [
      " \n",
      " *\n",
      " **\n",
      "  ***\n",
      "    ****\n"
     ]
    }
   ],
   "source": [
    "#Write a program to display the stars in an equilateral triangular form using a single for loop.\n",
    "c = 5\n",
    "for i in range(5):\n",
    "    print(' '*(i-c), end=' ')\n",
    "    c -= 1\n",
    "    print('*'*i)\n",
    "    \n",
    "    \n",
    "    "
   ]
  },
  {
   "cell_type": "code",
   "execution_count": 1,
   "id": "f47ced03-0c0f-41f8-95fe-66b536efd502",
   "metadata": {},
   "outputs": [
    {
     "name": "stdin",
     "output_type": "stream",
     "text": [
      " 6\n"
     ]
    },
    {
     "name": "stdout",
     "output_type": "stream",
     "text": [
      "          * \n",
      "        * * * \n",
      "      * * * * * \n",
      "    * * * * * * * \n",
      "  * * * * * * * * * \n",
      "* * * * * * * * * * * \n"
     ]
    }
   ],
   "source": [
    "n = int(input())\n",
    "for i in range(1, n+1):\n",
    "    for j in range(i, n):\n",
    "        print(' ', end=' ')\n",
    "    for k in range(1, i+1):\n",
    "        print('*', end=' ')\n",
    "    for l in range(1, i):\n",
    "        print('*', end=' ')\n",
    "    print()\n",
    "    \n",
    "    "
   ]
  },
  {
   "cell_type": "code",
   "execution_count": 25,
   "id": "e3ce345e-9044-4492-bf06-c1e7796be3d7",
   "metadata": {},
   "outputs": [
    {
     "name": "stdin",
     "output_type": "stream",
     "text": [
      " 66\n"
     ]
    },
    {
     "name": "stdout",
     "output_type": "stream",
     "text": [
      "1 2 3 4 5 6 7 8 9 10 11 12 13 14 15 "
     ]
    }
   ],
   "source": [
    "#Using break statement, write a 'while' loop that prints integers from zero to 15.\n",
    "n = int(input())\n",
    "i = 0\n",
    "while i < n:\n",
    "    i += 1\n",
    "    print(i,end=\" \")\n",
    "    if i == 15:\n",
    "        break"
   ]
  },
  {
   "cell_type": "code",
   "execution_count": 6,
   "id": "57639d43-e1b7-4ba4-a71b-3ca119501509",
   "metadata": {},
   "outputs": [
    {
     "name": "stdin",
     "output_type": "stream",
     "text": [
      " 8\n"
     ]
    },
    {
     "name": "stdout",
     "output_type": "stream",
     "text": [
      "2 4 6 8 "
     ]
    }
   ],
   "source": [
    "#Using continue statement, write a 'while' loop that processes only even integers from 0 to 10.\n",
    "n = int(input())\n",
    "i = 0\n",
    "while i <= n:\n",
    "    i += 1\n",
    "    if i % 2 != 0:\n",
    "        continue\n",
    "    print(i, end=\" \")"
   ]
  },
  {
   "cell_type": "code",
   "execution_count": 5,
   "id": "da8ecbf3-d350-4c96-9f21-8083375b2c77",
   "metadata": {},
   "outputs": [
    {
     "name": "stdin",
     "output_type": "stream",
     "text": [
      " 30\n"
     ]
    },
    {
     "name": "stdout",
     "output_type": "stream",
     "text": [
      "6 12 18 24 30 36 42 48 54 60 66 72 78 84 90 "
     ]
    }
   ],
   "source": [
    "#Using continue statement, write a 'for' loop that takes a list of integers and triples each integer that is even.\n",
    "n = int(input())\n",
    "i = 0\n",
    "while i <= n:\n",
    "    i += 1\n",
    "    if i % 2 != 0:\n",
    "        continue\n",
    "    print(i * 3,end=\" \")"
   ]
  },
  {
   "cell_type": "code",
   "execution_count": 11,
   "id": "08f77387-58f6-41d5-a127-ff0b98608700",
   "metadata": {},
   "outputs": [
    {
     "name": "stdout",
     "output_type": "stream",
     "text": [
      "5\n",
      "8\n",
      "1\n",
      "6\n",
      "31\n",
      "14\n",
      "0\n",
      "65\n"
     ]
    }
   ],
   "source": [
    "n = [5, 8, 1, 6, 31, 14, 0, 23, 42]\n",
    "s = 0\n",
    "for i in n:\n",
    "    s += i\n",
    "    print(i)\n",
    "    if i == 0:\n",
    "        break\n",
    "print(s)"
   ]
  },
  {
   "cell_type": "code",
   "execution_count": null,
   "id": "4061b910-eb92-4f65-b17d-c146abee5c83",
   "metadata": {},
   "outputs": [],
   "source": [
    "*\n",
    "* *\n",
    "* * *\n",
    "* * * *\n",
    "* * * * *"
   ]
  },
  {
   "cell_type": "code",
   "execution_count": 3,
   "id": "a533a83a-a07d-47a0-b576-d175f0cd1783",
   "metadata": {},
   "outputs": [
    {
     "name": "stdin",
     "output_type": "stream",
     "text": [
      " 6\n"
     ]
    },
    {
     "name": "stdout",
     "output_type": "stream",
     "text": [
      "* \n",
      "* * \n",
      "* * * \n",
      "* * * * \n",
      "* * * * * \n",
      "* * * * * * \n"
     ]
    }
   ],
   "source": [
    "n = int(input())\n",
    "for i in range (1,n+1):\n",
    "    for j in range(1,i+1):\n",
    "        print('*',end=\" \")\n",
    "    print()"
   ]
  },
  {
   "cell_type": "markdown",
   "id": "8fb88357-9a47-4fd7-af40-22f16c825f70",
   "metadata": {},
   "source": [
    "1\n",
    "1 2\n",
    "1 2 3\n",
    "1 2 3 4\n",
    "1 2 3 4 5"
   ]
  },
  {
   "cell_type": "code",
   "execution_count": 14,
   "id": "f73e1341-49ae-4e40-892e-87c504e0c00f",
   "metadata": {},
   "outputs": [
    {
     "name": "stdin",
     "output_type": "stream",
     "text": [
      " 10\n"
     ]
    },
    {
     "name": "stdout",
     "output_type": "stream",
     "text": [
      "1 \n",
      "1 2 \n",
      "1 2 3 \n",
      "1 2 3 4 \n",
      "1 2 3 4 5 \n",
      "1 2 3 4 5 6 \n",
      "1 2 3 4 5 6 7 \n",
      "1 2 3 4 5 6 7 8 \n",
      "1 2 3 4 5 6 7 8 9 \n",
      "1 2 3 4 5 6 7 8 9 10 \n"
     ]
    }
   ],
   "source": [
    "n = int(input())\n",
    "for i in range(1,n+1):\n",
    "    for j in range(1,i+1):\n",
    "        print(j,end=\" \")\n",
    "    print()"
   ]
  },
  {
   "cell_type": "code",
   "execution_count": null,
   "id": "5c6f73db-f252-4ac4-a36f-695fadef2d72",
   "metadata": {},
   "outputs": [],
   "source": [
    "5\n",
    "5 4\n",
    "5 4 3\n",
    "5 4 3 2\n",
    "5 4 3 2 1"
   ]
  },
  {
   "cell_type": "code",
   "execution_count": 6,
   "id": "7e5d35c1-d917-4d41-93db-ec24586e0248",
   "metadata": {},
   "outputs": [
    {
     "name": "stdin",
     "output_type": "stream",
     "text": [
      " 5\n"
     ]
    },
    {
     "name": "stdout",
     "output_type": "stream",
     "text": [
      "5 \n",
      "5 4 \n",
      "5 4 3 \n",
      "5 4 3 2 \n",
      "5 4 3 2 1 \n"
     ]
    }
   ],
   "source": [
    "n = int(input())\n",
    "d = n\n",
    "for i in range (1, n+1):\n",
    "    for j in range(1,i+1):\n",
    "        print(d,end=\" \")\n",
    "        d -= 1\n",
    "    d = n\n",
    "    print()"
   ]
  },
  {
   "cell_type": "code",
   "execution_count": null,
   "id": "22d39930-e8b6-49be-9d5b-a55291a2ca25",
   "metadata": {},
   "outputs": [],
   "source": [
    "10\n",
    "1 2\n",
    "10 9\n",
    "3 4 5\n",
    "10 9 8"
   ]
  },
  {
   "cell_type": "code",
   "execution_count": null,
   "id": "557578c5-d402-47ad-8384-18b8e5db8023",
   "metadata": {},
   "outputs": [],
   "source": []
  },
  {
   "cell_type": "code",
   "execution_count": null,
   "id": "b370c899-cf6c-4c26-8a18-8a665d70b174",
   "metadata": {},
   "outputs": [],
   "source": [
    "n = int(input())\n",
    "10\n",
    "10 9\n",
    "10 9 8\n",
    "\n",
    "10\n",
    "1 2\n",
    "10 9 8\n",
    "1 2 3 4\n",
    "10 9 8 7 6"
   ]
  },
  {
   "cell_type": "code",
   "execution_count": 37,
   "id": "85c87cd3-0db6-4c49-81a9-c701953b10d5",
   "metadata": {},
   "outputs": [
    {
     "data": {
      "text/plain": [
       "[[0, 0, 0, 0, 0, 0, 0, 0, 0, 0],\n",
       " [0, 0, 0, 0, 0, 0, 0, 0, 0, 0],\n",
       " [0, 0, 0, 0, 0, 0, 0, 0, 0, 0],\n",
       " [0, 0, 0, 0, 0, 0, 0, 0, 0, 0],\n",
       " [0, 0, 0, 0, 0, 0, 0, 0, 0, 0],\n",
       " [0, 0, 0, 0, 0, 0, 0, 0, 0, 0],\n",
       " [0, 0, 0, 0, 0, 0, 0, 0, 0, 0],\n",
       " [0, 0, 0, 0, 0, 0, 0, 0, 0, 0],\n",
       " [0, 0, 0, 0, 0, 0, 0, 0, 0, 0],\n",
       " [0, 0, 0, 0, 0, 0, 0, 0, 0, 0]]"
      ]
     },
     "execution_count": 37,
     "metadata": {},
     "output_type": "execute_result"
    }
   ],
   "source": [
    "l = [[0]*n for i in range(n)]\n",
    "l"
   ]
  },
  {
   "cell_type": "code",
   "execution_count": 38,
   "id": "8d8c2449-a0e0-4fdb-9116-0e9dc0cead14",
   "metadata": {},
   "outputs": [
    {
     "name": "stdin",
     "output_type": "stream",
     "text": [
      " 5\n"
     ]
    },
    {
     "name": "stdout",
     "output_type": "stream",
     "text": [
      "0 0\n",
      "\n",
      "1 0\n",
      "1 1\n",
      "\n",
      "2 0\n",
      "2 1\n",
      "2 2\n",
      "\n",
      "3 0\n",
      "3 1\n",
      "3 2\n",
      "3 3\n",
      "\n",
      "4 0\n",
      "4 1\n",
      "4 2\n",
      "4 3\n",
      "4 4\n",
      "\n"
     ]
    }
   ],
   "source": [
    "n = int(input())\n",
    "l = [[0]*n for i in range(n)]\n",
    "\n",
    "for j in range(1, n+1):\n",
    "    for k in range(1, j+1):\n",
    "        print(j-1, k-1)\n",
    "    print()"
   ]
  },
  {
   "cell_type": "code",
   "execution_count": 4,
   "id": "873c14b3-dacb-46f8-8a33-23c1dc96e53f",
   "metadata": {},
   "outputs": [
    {
     "name": "stdin",
     "output_type": "stream",
     "text": [
      " 10\n"
     ]
    },
    {
     "name": "stdout",
     "output_type": "stream",
     "text": [
      "10         \n",
      "1 2        \n",
      "10 9        \n",
      "1 2 3       \n",
      "10 9 8       \n",
      "1 2 3 4      \n",
      "10 9 8 7      \n",
      "1 2 3 4 5     \n",
      "10 9 8 7 6     \n",
      "1 2 3 4 5 6    \n"
     ]
    }
   ],
   "source": [
    "from copy import deepcopy\n",
    "\n",
    "n = int(input())\n",
    "l = [[0]*n for i in range(n)]\n",
    "l1 = deepcopy(l)\n",
    "\n",
    "d = n\n",
    "for j in range(1, n+1):\n",
    "    for k in range(1, j+1):\n",
    "        l[j-1][k-1] = d\n",
    "        d -= 1\n",
    "    d = n\n",
    "    for k in range(1, j+1):\n",
    "        l1[j-1][k-1] = k\n",
    "    \n",
    "    \n",
    "l3 = [['' if j == 0 else j for j in i] for i in l]\n",
    "l4 = [['' if j == 0 else j for j in i] for i in l1]\n",
    "\n",
    "for i in range(len(l3)//2):\n",
    "    print(*l3[i])\n",
    "    print(*l4[i+1])"
   ]
  },
  {
   "cell_type": "code",
   "execution_count": 3,
   "id": "d088e6d1-7f0e-49aa-97f5-3fc6d02f2c6f",
   "metadata": {},
   "outputs": [
    {
     "name": "stdout",
     "output_type": "stream",
     "text": [
      "1\n",
      "2\n",
      "3\n",
      "4\n",
      "5\n",
      "6\n"
     ]
    }
   ],
   "source": [
    "l = [[1, 2, 3],\n",
    "    [4, 5, 6]]\n",
    "for i in l:\n",
    "    for j in i:\n",
    "        print(j)"
   ]
  },
  {
   "cell_type": "code",
   "execution_count": 4,
   "id": "9ad1a145-7b54-4367-a07e-9d56d7ecffba",
   "metadata": {},
   "outputs": [
    {
     "data": {
      "text/plain": [
       "[[1, 2, 3, 4, 5],\n",
       " [6, 7, 8, 9, 10],\n",
       " [11, 12, 13, 14, 15],\n",
       " [16, 17, 18, 19, 20],\n",
       " [21, 22, 23, 24, 25]]"
      ]
     },
     "execution_count": 4,
     "metadata": {},
     "output_type": "execute_result"
    }
   ],
   "source": [
    "n = 5\n",
    "l = [[0]*n for i in range(n)]\n",
    "c = 1\n",
    "for j in range(len(l)):\n",
    "    for k in range(len(l[0])):\n",
    "        l[j][k] = c\n",
    "        c += 1\n",
    "l "
   ]
  },
  {
   "cell_type": "code",
   "execution_count": 8,
   "id": "83174286-1e04-4362-90fb-5a35ec54f70c",
   "metadata": {},
   "outputs": [
    {
     "name": "stdout",
     "output_type": "stream",
     "text": [
      "[3, 6, 9, 12, 15, 18, 21, 24, 27, 30, 33, 36, 39, 42, 45, 48, 51, 54, 57, 60, 63, 66, 69, 72, 75, 78, 81, 84, 87, 90, 93, 96]\n"
     ]
    }
   ],
   "source": [
    "l = []\n",
    "for i in range(3, 99, 3):\n",
    "    l.append(i)\n",
    "print(l)"
   ]
  },
  {
   "cell_type": "code",
   "execution_count": 20,
   "id": "d8514c5e-d1cf-4280-b3c9-9494a21b4417",
   "metadata": {},
   "outputs": [
    {
     "data": {
      "text/plain": [
       "'abcd'"
      ]
     },
     "execution_count": 20,
     "metadata": {},
     "output_type": "execute_result"
    }
   ],
   "source": [
    "l =['a', 'b', 'c', 'd']\n",
    "l1 = \"\".join(l)\n",
    "l1"
   ]
  },
  {
   "cell_type": "code",
   "execution_count": 41,
   "id": "fd697602-52a8-4735-ba3f-207901583d5b",
   "metadata": {},
   "outputs": [
    {
     "name": "stdout",
     "output_type": "stream",
     "text": [
      "['a', 'b', 'c', 'd']\n"
     ]
    }
   ],
   "source": [
    "#Write a program to read a string from the user and print the list of characters in the string.\n",
    "l = \"abcd\"\n",
    "l1 = list(l)\n",
    "print(l1)\n"
   ]
  },
  {
   "cell_type": "code",
   "execution_count": 62,
   "id": "2567b590-cdbe-4a7a-b6b6-cee32ea56a34",
   "metadata": {},
   "outputs": [
    {
     "name": "stdout",
     "output_type": "stream",
     "text": [
      "{'Green', 'White'}\n"
     ]
    }
   ],
   "source": [
    "#Write a program to read a string from the user and print the list of characters in the string.\n",
    "c1 = [\"Red\", \"Green\", \"Orange\", \"White\"]\n",
    "c2 = [\"Black\", \"Green\", \"White\", \"Pink\"]\n",
    "k = set(c1) & set(c2)\n",
    "print(k)"
   ]
  },
  {
   "cell_type": "code",
   "execution_count": 7,
   "id": "69aa2614-91ea-41cf-8d92-f883971fe4c7",
   "metadata": {},
   "outputs": [
    {
     "name": "stdout",
     "output_type": "stream",
     "text": [
      "[3, 4]\n"
     ]
    }
   ],
   "source": [
    "#Write a Python program to get the difference between the two lists.\n",
    "l1 = [1, 2, 3, 4]\n",
    "l2 = [1, 2]\n",
    "l3 = set(l1) - set(l2)\n",
    "print(list(l3))"
   ]
  },
  {
   "cell_type": "code",
   "execution_count": 8,
   "id": "4baf06b8-77ce-4aae-8289-41a94b76da6e",
   "metadata": {},
   "outputs": [
    {
     "name": "stdout",
     "output_type": "stream",
     "text": [
      "2\n"
     ]
    }
   ],
   "source": [
    "#Write a Python program to get the largest number from a list.\n",
    "l1 = [1, 2, -8, 0]\n",
    "max(l1)\n",
    "print(max(l1))"
   ]
  },
  {
   "cell_type": "code",
   "execution_count": 12,
   "id": "bc99d453-7f77-44d2-b69a-7fbe71c72391",
   "metadata": {},
   "outputs": [
    {
     "name": "stdout",
     "output_type": "stream",
     "text": [
      "0\n"
     ]
    }
   ],
   "source": [
    "#Write a Python program to find the second smallest number in a list.\n",
    "l1 = [1, 2, -8, -2, 0]\n",
    "l1.sort()\n",
    "min(l1)\n",
    "print(l1[1])"
   ]
  },
  {
   "cell_type": "code",
   "execution_count": 13,
   "id": "e0827313-412a-4d3d-9fb1-b7b933c2b15a",
   "metadata": {},
   "outputs": [
    {
     "name": "stdout",
     "output_type": "stream",
     "text": [
      "{40, 10, 80, 50, 20, 60, 30}\n"
     ]
    }
   ],
   "source": [
    "#Write a Python program to remove duplicates from a list.\n",
    "l1 = [10,20,30,20,10,50,60,40,80,50,40]\n",
    "l2 = set(l1)\n",
    "print(l2)"
   ]
  },
  {
   "cell_type": "code",
   "execution_count": 15,
   "id": "3e1436a9-7855-4047-8dd8-f7e9bf19dd87",
   "metadata": {},
   "outputs": [
    {
     "name": "stdout",
     "output_type": "stream",
     "text": [
      "-5\n"
     ]
    }
   ],
   "source": [
    "#Write a Python program to sum all the items in a list.\n",
    "l1 = [1, 2, -8]\n",
    "k = sum(l1)\n",
    "print(k)"
   ]
  },
  {
   "cell_type": "code",
   "execution_count": 17,
   "id": "bd9378b1-7b17-45f1-b3cc-8e96515a283e",
   "metadata": {},
   "outputs": [
    {
     "name": "stdout",
     "output_type": "stream",
     "text": [
      "24\n"
     ]
    }
   ],
   "source": [
    "#Write a Python program to multiply all the items in a list.\n",
    "l1 = [1, 2, 3, 4]\n",
    "p = 1\n",
    "for i in l1:\n",
    "    p *= i\n",
    "print(p)"
   ]
  },
  {
   "cell_type": "code",
   "execution_count": 32,
   "id": "8e9f0fda-cb93-4fb0-b154-a2c06a58f761",
   "metadata": {},
   "outputs": [
    {
     "name": "stdout",
     "output_type": "stream",
     "text": [
      "-10\n"
     ]
    }
   ],
   "source": [
    "#Write a program to find difference between sum of even indexed and odd indexed numbers in a list of numbers. [Note:- Consider 0th index as even indexed]\n",
    "l1 = [2, 4, 3, 9, 13, 12, 7, 6, 1, 5]\n",
    "print(sum(l1[0::2]) - sum(l1[1::2]))\n"
   ]
  },
  {
   "cell_type": "code",
   "execution_count": 66,
   "id": "c2ea742e-0b18-47bf-a2e1-cf2c2eec18ca",
   "metadata": {},
   "outputs": [
    {
     "data": {
      "text/plain": [
       "[9, 13, 12, 7]"
      ]
     },
     "execution_count": 66,
     "metadata": {},
     "output_type": "execute_result"
    }
   ],
   "source": [
    "#Write a program to print the list of numbers which are greater than the average of numbers in the following list.\n",
    "# Sample Input\n",
    "l1 = [2, 4, 3, 9, 13, 12, 7, 6, 1, 5]\n",
    "m = (sum(l1))/len(l1)\n",
    "l2 = []\n",
    "for i in l1:\n",
    "    if i > m:\n",
    "        l2.append(i)\n",
    "l2"
   ]
  },
  {
   "cell_type": "code",
   "execution_count": 3,
   "id": "f5561662-f2c0-4c3b-ad91-b3b71b3fe27a",
   "metadata": {},
   "outputs": [
    {
     "name": "stdout",
     "output_type": "stream",
     "text": [
      "[9, 49, 121, 144, 289, 441]\n"
     ]
    }
   ],
   "source": [
    "#Write a program to print a new list containing squares of each element in the following list.\n",
    "# Sample Input\n",
    "l1 = [3, 7, 11, 12, 17, 21]\n",
    "l2 = []\n",
    "for i in l1:\n",
    "    l2.append(i*i)\n",
    "print(l2)"
   ]
  },
  {
   "cell_type": "code",
   "execution_count": null,
   "id": "608528c3-63fd-4eac-85b7-3b832b08d882",
   "metadata": {},
   "outputs": [],
   "source": [
    "import"
   ]
  },
  {
   "cell_type": "code",
   "execution_count": 8,
   "id": "1f024471-81f0-46d7-9762-358a6f09cb9a",
   "metadata": {},
   "outputs": [
    {
     "name": "stdin",
     "output_type": "stream",
     "text": [
      "enter element:  20\n"
     ]
    },
    {
     "name": "stdout",
     "output_type": "stream",
     "text": [
      "2\n"
     ]
    }
   ],
   "source": [
    "#Write a program to know how many times an element occurred in the list.\n",
    "# Sample Input\n",
    "from collections import Counter\n",
    "\n",
    "l1 = [5, 10, 15, 20, 25, 50, 20]\n",
    "d = Counter(l1)\n",
    "element = int(input('enter element: '))\n",
    "\n",
    "print(d[element])"
   ]
  },
  {
   "cell_type": "code",
   "execution_count": 24,
   "id": "852ce0d6-f638-42d3-a629-6d2cef592eaf",
   "metadata": {},
   "outputs": [
    {
     "data": {
      "text/plain": [
       "2"
      ]
     },
     "execution_count": 24,
     "metadata": {},
     "output_type": "execute_result"
    }
   ],
   "source": [
    "l1 = [5, 10, 15, 20, 25, 50, 20]\n",
    "k = l1.count(20)\n",
    "k"
   ]
  },
  {
   "cell_type": "code",
   "execution_count": 21,
   "id": "e097355c-7002-4e91-a5df-b9d157afbea9",
   "metadata": {},
   "outputs": [
    {
     "name": "stdout",
     "output_type": "stream",
     "text": [
      "[5, 10, 15, 200, 25, 50, 20]\n"
     ]
    }
   ],
   "source": [
    "#Given a Python list, write a program to find the value 20 in the list, and if it is present, replace the first occurrence of a value with 200.\n",
    "# Sample Input\n",
    "l1 = [5, 10, 15, 20, 25, 50, 20]\n",
    "l1[3] = 200\n",
    "print(l1)"
   ]
  },
  {
   "cell_type": "code",
   "execution_count": 37,
   "id": "2b82343d-c898-457c-944f-73bb7c98efd9",
   "metadata": {},
   "outputs": [
    {
     "data": {
      "text/plain": [
       "[54, 91, 44, 27, 79, 41, 91]"
      ]
     },
     "execution_count": 37,
     "metadata": {},
     "output_type": "execute_result"
    }
   ],
   "source": [
    "#Given an input list, write a program to remove the element at index 4 and add it to the 2nd position and also, at the end of the list.\n",
    "# Sample Input\n",
    "l1= [54, 44, 27, 79, 91, 41]\n",
    "k = l1.pop(4)\n",
    "l1.insert(1, k)\n",
    "l1.append(k)\n",
    "l1"
   ]
  },
  {
   "cell_type": "code",
   "execution_count": 58,
   "id": "08b3452a-e705-4471-81a2-681a7be97457",
   "metadata": {},
   "outputs": [
    {
     "data": {
      "text/plain": [
       "[6, 12, 18, 4, 12, 20, 28]"
      ]
     },
     "execution_count": 58,
     "metadata": {},
     "output_type": "execute_result"
    }
   ],
   "source": [
    "#Two lists are given below. Write a program to create a third list by picking an odd-index element from the first list and even index elements from second.\n",
    "# Sample Input\n",
    "l1 = [3, 6, 9, 12, 15, 18, 21]\n",
    "l2 = [4, 8, 12, 16, 20, 24, 28]\n",
    "l3 = []\n",
    "k = l1[1::2]\n",
    "k1 = l2[0::2]\n",
    "#kk = k + k1\n",
    "l3.extend(k)\n",
    "l3.extend(k1)\n",
    "l3"
   ]
  },
  {
   "cell_type": "code",
   "execution_count": 96,
   "id": "909b9d7c-a810-446b-8e4d-d09729e73d94",
   "metadata": {},
   "outputs": [
    {
     "data": {
      "text/plain": [
       "[10, 20, [300, 400, [5000, 6000, 7000], 500], 30, 40]"
      ]
     },
     "execution_count": 96,
     "metadata": {},
     "output_type": "execute_result"
    }
   ],
   "source": [
    "#Write a program to add 7000 after 6000 in the following list.\n",
    "# Sample Input\n",
    "l1 = [10, 20, [300, 400, [5000, 6000], 500], 30, 40]\n",
    "k = l1[2][2]\n",
    "k.append(7000)\n",
    "l1"
   ]
  },
  {
   "cell_type": "code",
   "execution_count": 1,
   "id": "a0284c30-e866-4e0f-8ebb-7d796ae8a1cf",
   "metadata": {},
   "outputs": [
    {
     "data": {
      "text/plain": [
       "[2, 4, 5, 50, 6, 8, 5, 7]"
      ]
     },
     "execution_count": 1,
     "metadata": {},
     "output_type": "execute_result"
    }
   ],
   "source": [
    "#Write a program to insert a new element into tuple of elements at a specified position.\n",
    "t = (2,4,5,6,8,5,7)\n",
    "l = list(t)\n",
    "l.insert(3,50)\n",
    "l\n"
   ]
  },
  {
   "cell_type": "code",
   "execution_count": 27,
   "id": "08d3a569-0665-4ad7-88c8-d96843e9532f",
   "metadata": {},
   "outputs": [
    {
     "name": "stdout",
     "output_type": "stream",
     "text": [
      "even numbers: 4\n",
      "odd numbers: 5\n"
     ]
    }
   ],
   "source": [
    "#Write a program to count the number of even and odd numbers from a tuple of numbers.\n",
    "# Input\n",
    "t = (1, 2, 3, 4, 5, 6, 7, 8, 9)\n",
    "c = 0\n",
    "c1 = 0\n",
    "for i in t:\n",
    "    if i % 2 == 0:\n",
    "        c += 1\n",
    "    else:\n",
    "        c1 += 1\n",
    "print(\"even numbers:\", c)\n",
    "print(\"odd numbers:\", c1)"
   ]
  },
  {
   "cell_type": "code",
   "execution_count": 30,
   "id": "8133b9e0-e243-4f1a-aa7a-1fe3aaf0cf0e",
   "metadata": {},
   "outputs": [
    {
     "data": {
      "text/plain": [
       "{1, 2, 4, 6, 8, 9}"
      ]
     },
     "execution_count": 30,
     "metadata": {},
     "output_type": "execute_result"
    }
   ],
   "source": [
    "#Write a program to remove duplicates from tuple.\n",
    "t = (1,8,9,2,4,8,1,6,8,9,2)\n",
    "t1 = set(t)\n",
    "t1"
   ]
  },
  {
   "cell_type": "code",
   "execution_count": 40,
   "id": "b4b5ddff-001f-4369-80e9-483a3e1f31f5",
   "metadata": {},
   "outputs": [
    {
     "data": {
      "text/plain": [
       "[1, 2, 5, 4, 5, 6, 7, 8, 9, 10]"
      ]
     },
     "execution_count": 40,
     "metadata": {},
     "output_type": "execute_result"
    }
   ],
   "source": [
    "#Write a program to modify or replace an existing element of a tuple with a new element.\n",
    "t = (1,2,3,4,5,6,7,8,9,10)\n",
    "t1 = list(t)\n",
    "t1[2] = 5\n",
    "t1"
   ]
  },
  {
   "cell_type": "code",
   "execution_count": 53,
   "id": "bcd7dfd6-9d9b-40e8-b0b4-77723df116df",
   "metadata": {},
   "outputs": [
    {
     "data": {
      "text/plain": [
       "(3, 6, 7, 10)"
      ]
     },
     "execution_count": 53,
     "metadata": {},
     "output_type": "execute_result"
    }
   ],
   "source": [
    "#Write a program to find Dissimilar Elements in Tuples.\n",
    "t1 = (3, 4, 5, 6)\n",
    "t2 = (5, 7, 4, 10)\n",
    "k = set(t1) ^ set(t2)\n",
    "tuple(k)"
   ]
  },
  {
   "cell_type": "code",
   "execution_count": 70,
   "id": "c7a8ea01-7567-4718-b828-82bc1426715a",
   "metadata": {},
   "outputs": [
    {
     "data": {
      "text/plain": [
       "(12, 9, 23)"
      ]
     },
     "execution_count": 70,
     "metadata": {},
     "output_type": "execute_result"
    }
   ],
   "source": [
    "#Write a program for addition of tuples.\n",
    "t1 = (10, 4, 5)\n",
    "t2 = (2, 5, 18)\n",
    "l = []\n",
    "for i in range(len(t1)):\n",
    "    l.append(t1[i] + t2[i])\n",
    "    \n",
    "tuple(l)"
   ]
  },
  {
   "cell_type": "code",
   "execution_count": 74,
   "id": "88dde516-d172-40fa-a42c-15fcea2df167",
   "metadata": {},
   "outputs": [
    {
     "name": "stdout",
     "output_type": "stream",
     "text": [
      "(6481, 'Fathima', 40, 65000)\n",
      "(4852, 'Eswar', 37, 56000)\n",
      "(9863, 'Devi', 42, 52000)\n",
      "(2793, 'Ganesh', 28, 45000)\n",
      "(3455, 'Charan', 31, 37000)\n",
      "(1234, 'Abishek', 32, 35000)\n",
      "(4532, 'Barathi', 27, 29000)\n"
     ]
    }
   ],
   "source": [
    "#Write a program to sort the following employ data (list of tuples) as per their salaries (each tuple represents employ ID, name, age and salary)?\n",
    "data = [(1234, 'Abishek' , 32, 35000),\n",
    "        (4532, 'Barathi', 27, 29000), \n",
    "        (3455, 'Charan', 31, 37000), \n",
    "        (9863, 'Devi', 42, 52000), \n",
    "        (4852, 'Eswar', 37, 56000), \n",
    "        (6481, 'Fathima', 40, 65000), \n",
    "        (2793, 'Ganesh', 28, 45000)]\n",
    "x = sorted(data,key = lambda x:x[3], reverse =True)\n",
    "for i in x:\n",
    "    print(i)"
   ]
  },
  {
   "cell_type": "code",
   "execution_count": 82,
   "id": "af356914-b289-4dd8-bae9-7ac2369cd28e",
   "metadata": {},
   "outputs": [
    {
     "name": "stdout",
     "output_type": "stream",
     "text": [
      "3\n",
      "['John', 'Wasim', 'Naresh']\n"
     ]
    }
   ],
   "source": [
    "#Write a program to count the number of students has computers a one subject from the data given below.\n",
    "students = [ (\"John\", [\"Computers\", \"Physics\",\"Maths\"]), \n",
    "            (\"Wasim\", [\"Maths\", \"Computers\", \"Statistics\"]), \n",
    "            (\"Naresh\", [\"Computers\", \"Accounting\", \"Economics\"]), \n",
    "            (\"SaiTeja\", [\"English\", \"Accounting\", \"Economics\", \"Law\"]), \n",
    "            (\"Sravani\", [\"Sociology\", \"Economics\", \"Law\", \"Stats\", \"Music\"])]\n",
    "comp = []\n",
    "if \"Computers\" in students[0][1]:\n",
    "    comp.append(students[0][0])\n",
    "if \"Computers\" in students[1][1]:\n",
    "    comp.append(students[1][0])\n",
    "if \"Computers\" in students[2][1]:\n",
    "    comp.append(students[2][0])\n",
    "if \"Computers\" in students[3][1]:\n",
    "    comp.append(students[3][0])\n",
    "if \"Computers\" in students[4][1]:\n",
    "    comp.append(students[4][0])\n",
    "print(len(comp))\n",
    "print(comp)"
   ]
  },
  {
   "cell_type": "code",
   "execution_count": 13,
   "id": "5fe01932-5c69-4fc6-bec4-e80cd4c7196f",
   "metadata": {},
   "outputs": [
    {
     "name": "stdin",
     "output_type": "stream",
     "text": [
      " 35\n",
      " sai\n",
      " 45\n",
      " krishna\n",
      " 55\n",
      " kumar\n",
      " 65\n",
      " venkat\n",
      " 75\n",
      " prudhvi\n"
     ]
    },
    {
     "data": {
      "text/plain": [
       "{'prudhvi': 75, 'venkat': 65, 'kumar': 55, 'krishna': 45, 'sai': 35}"
      ]
     },
     "execution_count": 13,
     "metadata": {},
     "output_type": "execute_result"
    }
   ],
   "source": [
    "#### Write a program to prompt the user to give name and marks of 5 different students, store them in dictionary and print it after sorting the dictionary with respect to their marks.\n",
    "d = dict()\n",
    "for i in range(0,5):\n",
    "    d[input()] = int(input())\n",
    "\n",
    "dict(sorted(d.items(), key=lambda x: x[1], reverse=True))"
   ]
  },
  {
   "cell_type": "code",
   "execution_count": 23,
   "id": "b42abfe4-48b8-4061-bc23-c3adba621180",
   "metadata": {},
   "outputs": [
    {
     "name": "stdin",
     "output_type": "stream",
     "text": [
      "  January \n"
     ]
    },
    {
     "data": {
      "text/plain": [
       "31"
      ]
     },
     "execution_count": 23,
     "metadata": {},
     "output_type": "execute_result"
    }
   ],
   "source": [
    "#Use the dictionary given below whose keys are month names and whose values are the number of days in the corresponding months.\n",
    "#(a) Ask the user to enter a month name and use the dictionary to tell them how many days are in the month.\n",
    "#(b) Print out all of the keys in alphabetical order.\n",
    "#(c) Print out all of the months with 31 days.\n",
    "d = { ' January ' : 31, ' February ' : 28, ' March ' : 31, ' April ' : 30,\n",
    "' May ' : 31, ' June ' : 30, ' July ' : 31, ' August ' : 31,\n",
    "' September ' : 30, ' October ' : 31, ' November ' : 30, ' December ' : 31}\n",
    "d[input()]"
   ]
  },
  {
   "cell_type": "code",
   "execution_count": 47,
   "id": "5f1ccc03-22f4-4caa-9993-dae4955dd0b9",
   "metadata": {},
   "outputs": [
    {
     "data": {
      "text/plain": [
       "list"
      ]
     },
     "execution_count": 47,
     "metadata": {},
     "output_type": "execute_result"
    }
   ],
   "source": [
    "a = d.items()\n"
   ]
  },
  {
   "cell_type": "code",
   "execution_count": 54,
   "id": "3e44b7f5-0f92-4ae9-b49d-307de22ba8dd",
   "metadata": {},
   "outputs": [
    {
     "data": {
      "text/plain": [
       "[(' April ', 30),\n",
       " (' August ', 31),\n",
       " (' December ', 31),\n",
       " (' February ', 28),\n",
       " (' January ', 31),\n",
       " (' July ', 31),\n",
       " (' June ', 30),\n",
       " (' March ', 31),\n",
       " (' May ', 31),\n",
       " (' November ', 30),\n",
       " (' October ', 31),\n",
       " (' September ', 30)]"
      ]
     },
     "execution_count": 54,
     "metadata": {},
     "output_type": "execute_result"
    }
   ],
   "source": [
    "a1 = list(a)\n",
    "a1.sort()\n",
    "a1"
   ]
  },
  {
   "cell_type": "code",
   "execution_count": 19,
   "id": "750e5e0f-8549-4e7d-bac7-1e42409c4030",
   "metadata": {},
   "outputs": [
    {
     "name": "stdin",
     "output_type": "stream",
     "text": [
      "Enter any month:  November\n"
     ]
    },
    {
     "data": {
      "text/plain": [
       "30"
      ]
     },
     "execution_count": 19,
     "metadata": {},
     "output_type": "execute_result"
    }
   ],
   "source": [
    "days[' ' + input('Enter any month: ') + ' ']"
   ]
  },
  {
   "cell_type": "code",
   "execution_count": 29,
   "id": "4bdb7424-025f-44d2-bf94-82d6f88bbde9",
   "metadata": {},
   "outputs": [
    {
     "name": "stdout",
     "output_type": "stream",
     "text": [
      "(' January ', 31)\n",
      "(' March ', 31)\n",
      "(' May ', 31)\n",
      "(' July ', 31)\n",
      "(' August ', 31)\n",
      "(' October ', 31)\n",
      "(' December ', 31)\n"
     ]
    }
   ],
   "source": [
    "for i in a:\n",
    "    if i[1]==31:\n",
    "        print(i)"
   ]
  },
  {
   "cell_type": "code",
   "execution_count": 13,
   "id": "a8aaf875-72ca-4b4a-afe1-69a440a285f3",
   "metadata": {},
   "outputs": [
    {
     "name": "stdin",
     "output_type": "stream",
     "text": [
      " google\n"
     ]
    },
    {
     "data": {
      "text/plain": [
       "{'g': 2, 'o': 2, 'l': 1, 'e': 1}"
      ]
     },
     "execution_count": 13,
     "metadata": {},
     "output_type": "execute_result"
    }
   ],
   "source": [
    "#Write a program to count the number of characters (character frequency) in a string.\n",
    "# Sample Input\n",
    "x = input()\n",
    "d = {}\n",
    "for i in x:\n",
    "    if i in d:\n",
    "        d[i] += 1\n",
    "    else:\n",
    "        d[i] = 1\n",
    "d"
   ]
  },
  {
   "cell_type": "code",
   "execution_count": 1,
   "id": "a4897883-c174-41a2-9f00-aa7ebca5fb6f",
   "metadata": {},
   "outputs": [],
   "source": [
    "#Write a program to count the number of occurrences\n",
    "#of each letter in word \"MISSISSIPPI\".\n",
    "#Store count of every letter with the letter\n",
    "#in a dictionary and print the sorted dictionary according to the count of letters."
   ]
  },
  {
   "cell_type": "code",
   "execution_count": 17,
   "id": "6ebb1c43-208e-44e8-8adf-a86474d31ed2",
   "metadata": {},
   "outputs": [
    {
     "name": "stdout",
     "output_type": "stream",
     "text": [
      "{'M': 1, 'P': 2, 'I': 4, 'S': 4}\n"
     ]
    }
   ],
   "source": [
    "s = \"MISSISSIPPI\"\n",
    "d ={}\n",
    "for i in s:\n",
    "    if i not in d:\n",
    "        d[i] = 1\n",
    "    else:\n",
    "        d[i] += 1\n",
    "\n",
    "print(dict(sorted(d.items(), key = lambda x:x[1])))"
   ]
  },
  {
   "cell_type": "code",
   "execution_count": 15,
   "id": "6d39ba75-1d76-4fb2-bbe5-2c087e7e3292",
   "metadata": {},
   "outputs": [
    {
     "name": "stdout",
     "output_type": "stream",
     "text": [
      "{'THROUGH': 1, 'THREE': 4, 'CHEESE': 2, 'TREES': 4, 'FREE': 2, 'FLEAS': 3, 'FLEW.': 1, 'WHILE': 1, 'THESE': 3, 'FLEW,': 1, 'FREEZY': 3, 'BREEZE': 2, 'BLEW.': 1, 'MADE': 3, 'FREEZE.': 2, \"THESE'\": 1, \"THAT'S\": 1, 'WHAT': 1, 'SNEEZE': 1}\n"
     ]
    }
   ],
   "source": [
    "#Write a program to count the occurrences of each word in the text given below.\n",
    "s =\"\"\"Through three cheese trees three free fleas flew.\n",
    "     While these fleas flew, freezy breeze blew.\n",
    "     Freezy breeze made these three trees freeze.\n",
    "     Freezy trees made these' trees cheese freeze.\n",
    "     That's what made these three free fleas sneeze\"\"\"\n",
    "d = {}\n",
    "l = s.upper()\n",
    "l1 = l.split()\n",
    "for i in l1:\n",
    "    if i not in d:\n",
    "        d[i] = 1\n",
    "    else:\n",
    "        d[i] += 1\n",
    "print(d)"
   ]
  },
  {
   "cell_type": "code",
   "execution_count": 7,
   "id": "0f981c23-0b4c-45ab-a765-39a4acd84d2c",
   "metadata": {},
   "outputs": [
    {
     "ename": "SyntaxError",
     "evalue": "invalid non-printable character U+2003 (2158567324.py, line 3)",
     "output_type": "error",
     "traceback": [
      "\u001b[1;36m  Input \u001b[1;32mIn [7]\u001b[1;36m\u001b[0m\n\u001b[1;33m    l = [10, 10, 10, 10, 20, 20, 20, 20, 40, 40, 50, 50, 30]\u001b[0m\n\u001b[1;37m       ^\u001b[0m\n\u001b[1;31mSyntaxError\u001b[0m\u001b[1;31m:\u001b[0m invalid non-printable character U+2003\n"
     ]
    }
   ],
   "source": [
    "#Write a program to get the frequency of the elements in a list.\n",
    "# Sample Input\n",
    "l = [10, 10, 10, 10, 20, 20, 20, 20, 40, 40, 50, 50, 30]\n",
    "d = {}\n",
    "for i in l:\n",
    "    if i not in d:\n",
    "        d[i] = 1\n",
    "    else:\n",
    "        d[i] += 1\n",
    "d"
   ]
  },
  {
   "cell_type": "code",
   "execution_count": 13,
   "id": "a853a518-10de-49c5-b597-1310ab4826d8",
   "metadata": {},
   "outputs": [
    {
     "data": {
      "text/plain": [
       "{2: 3, 4: 1, 40: 2, 6: 1}"
      ]
     },
     "execution_count": 13,
     "metadata": {},
     "output_type": "execute_result"
    }
   ],
   "source": [
    "l = [2, 2, 4, 40, 40, 6, 2]\n",
    "d = {}\n",
    "for i in l:\n",
    "    if i not in d:\n",
    "        d[i] = 1\n",
    "    else:\n",
    "        d[i] += 1\n",
    "d"
   ]
  },
  {
   "cell_type": "code",
   "execution_count": 1,
   "id": "5789ece9-6870-4911-927f-ee39346148ad",
   "metadata": {},
   "outputs": [
    {
     "data": {
      "text/plain": [
       "{10: 5, 20: 4, 40: 2, 50: 2, 30: 1}"
      ]
     },
     "execution_count": 1,
     "metadata": {},
     "output_type": "execute_result"
    }
   ],
   "source": [
    "l = [10,10,10,10,10,20,20,20,20,40,40,50,50,30]\n",
    "d = dict()\n",
    "for i in l:\n",
    "    if i not in d:\n",
    "        d[i] = 1\n",
    "    else:\n",
    "        d[i] += 1\n",
    "d"
   ]
  },
  {
   "cell_type": "code",
   "execution_count": 1,
   "id": "749ff90c-b50e-4b90-b0ab-73b626999901",
   "metadata": {},
   "outputs": [
    {
     "name": "stdin",
     "output_type": "stream",
     "text": [
      " 5\n",
      " 6\n",
      " 39\n",
      " 2\n",
      " 2\n",
      " 3\n",
      " 6\n",
      " 5\n",
      " 8\n"
     ]
    },
    {
     "data": {
      "text/plain": [
       "{5: 2, 6: 2, 39: 1, 2: 2, 3: 1, 8: 1}"
      ]
     },
     "execution_count": 1,
     "metadata": {},
     "output_type": "execute_result"
    }
   ],
   "source": [
    "l = []\n",
    "d = {}\n",
    "for i in range(1, 10):\n",
    "    l.append(int(input()))\n",
    "for j in l:\n",
    "    if j not in d:\n",
    "        d[j] = 1\n",
    "    else:\n",
    "        d[j] += 1\n",
    "d"
   ]
  },
  {
   "cell_type": "code",
   "execution_count": 7,
   "id": "3d66f54d-6fc2-4f2c-9877-625f080cadb1",
   "metadata": {},
   "outputs": [
    {
     "data": {
      "text/plain": [
       "{1: 10, 2: 20, 3: 30, 4: 40, 5: 50, 6: 60}"
      ]
     },
     "execution_count": 7,
     "metadata": {},
     "output_type": "execute_result"
    }
   ],
   "source": [
    "#Write a program to concatenate following dictionaries to create a new one.\n",
    "# Sample Input\n",
    "dic1 = {1 : 10, 2 : 20}\n",
    "dic2 = {3 : 30, 4 : 40}\n",
    "dic3 = {5 : 50, 6 : 60}\n",
    "d = dic1.update(dic2)\n",
    "d1 = dic1.update(dic3)\n",
    "dic1"
   ]
  },
  {
   "cell_type": "code",
   "execution_count": 10,
   "id": "d45de1cf-5a83-4ef9-9b30-90e16c043093",
   "metadata": {},
   "outputs": [
    {
     "name": "stdout",
     "output_type": "stream",
     "text": [
      "{1: 1, 2: 4, 3: 9, 4: 16, 5: 25, 6: 36, 7: 49, 8: 64, 9: 81, 10: 100, 11: 121, 12: 144, 13: 169, 14: 196, 15: 225}\n"
     ]
    }
   ],
   "source": [
    "#Write a program to print a dictionary where the keys are numbers between 1 and 15 (both included) and the values are square o\n",
    "d = dict()\n",
    "for i in range(1,16):\n",
    "    d[i] = i**2\n",
    "print(d)"
   ]
  },
  {
   "cell_type": "code",
   "execution_count": 1,
   "id": "684aed7c-d7b2-4d35-96fa-52648cf8cde1",
   "metadata": {},
   "outputs": [
    {
     "ename": "SyntaxError",
     "evalue": "invalid non-printable character U+2003 (2255170543.py, line 3)",
     "output_type": "error",
     "traceback": [
      "\u001b[1;36m  Input \u001b[1;32mIn [1]\u001b[1;36m\u001b[0m\n\u001b[1;33m    s = {'data1' : 100, 'data2' : 54,'data3' : 247}\u001b[0m\n\u001b[1;37m       ^\u001b[0m\n\u001b[1;31mSyntaxError\u001b[0m\u001b[1;31m:\u001b[0m invalid non-printable character U+2003\n"
     ]
    }
   ],
   "source": [
    "#Write a Python program to print the sum all the values in a dictionary.\n",
    "# Sample Input\n",
    "s = {'data1' : 100, 'data2' : 54,'data3' : 247}\n",
    "k = (s.items(), key = lambda x:sum(x[1]))\n"
   ]
  },
  {
   "cell_type": "code",
   "execution_count": 4,
   "id": "82a32693-a732-44fb-af69-f53a062c5dd0",
   "metadata": {},
   "outputs": [
    {
     "ename": "SyntaxError",
     "evalue": "invalid non-printable character U+2003 (1642733127.py, line 1)",
     "output_type": "error",
     "traceback": [
      "\u001b[1;36m  Input \u001b[1;32mIn [4]\u001b[1;36m\u001b[0m\n\u001b[1;33m    s = {'data1' : 100, 'data2' : 54,'data3' : 247}\u001b[0m\n\u001b[1;37m       ^\u001b[0m\n\u001b[1;31mSyntaxError\u001b[0m\u001b[1;31m:\u001b[0m invalid non-printable character U+2003\n"
     ]
    }
   ],
   "source": [
    "s = {'data1' : 100, 'data2' : 54,'data3' : 247}\n",
    "print(d.keys())"
   ]
  },
  {
   "cell_type": "code",
   "execution_count": 7,
   "id": "50983225-f589-40ab-b2aa-a4daa56f35c5",
   "metadata": {},
   "outputs": [
    {
     "name": "stdout",
     "output_type": "stream",
     "text": [
      "401\n"
     ]
    }
   ],
   "source": [
    "d = {\"data1\" : 100, \"data2\" : 54, \"data3\" : 247}\n",
    "print(sum(d.values()))"
   ]
  },
  {
   "cell_type": "code",
   "execution_count": 12,
   "id": "bb7861f9-fa07-4d3c-8a78-83c00449eb13",
   "metadata": {},
   "outputs": [
    {
     "ename": "TypeError",
     "evalue": "'key' is an invalid keyword argument for print()",
     "output_type": "error",
     "traceback": [
      "\u001b[1;31m---------------------------------------------------------------------------\u001b[0m",
      "\u001b[1;31mTypeError\u001b[0m                                 Traceback (most recent call last)",
      "Input \u001b[1;32mIn [12]\u001b[0m, in \u001b[0;36m<cell line: 2>\u001b[1;34m()\u001b[0m\n\u001b[0;32m      1\u001b[0m d \u001b[38;5;241m=\u001b[39m {\u001b[38;5;124m\"\u001b[39m\u001b[38;5;124mdata1\u001b[39m\u001b[38;5;124m\"\u001b[39m : \u001b[38;5;241m100\u001b[39m, \u001b[38;5;124m\"\u001b[39m\u001b[38;5;124mdata2\u001b[39m\u001b[38;5;124m\"\u001b[39m : \u001b[38;5;241m54\u001b[39m, \u001b[38;5;124m\"\u001b[39m\u001b[38;5;124mdata3\u001b[39m\u001b[38;5;124m\"\u001b[39m : \u001b[38;5;241m247\u001b[39m}\n\u001b[1;32m----> 2\u001b[0m \u001b[38;5;28;43mprint\u001b[39;49m\u001b[43m(\u001b[49m\u001b[43md\u001b[49m\u001b[38;5;241;43m.\u001b[39;49m\u001b[43mitems\u001b[49m\u001b[43m(\u001b[49m\u001b[43m)\u001b[49m\u001b[43m,\u001b[49m\u001b[43m \u001b[49m\u001b[43mkey\u001b[49m\u001b[43m \u001b[49m\u001b[38;5;241;43m=\u001b[39;49m\u001b[43m \u001b[49m\u001b[38;5;28;43;01mlambda\u001b[39;49;00m\u001b[43m \u001b[49m\u001b[43mx\u001b[49m\u001b[43m:\u001b[49m\u001b[38;5;28;43msum\u001b[39;49m\u001b[43m(\u001b[49m\u001b[43mx\u001b[49m\u001b[43m[\u001b[49m\u001b[38;5;241;43m1\u001b[39;49m\u001b[43m]\u001b[49m\u001b[43m)\u001b[49m\u001b[43m)\u001b[49m\n\u001b[0;32m      3\u001b[0m d\n",
      "\u001b[1;31mTypeError\u001b[0m: 'key' is an invalid keyword argument for print()"
     ]
    }
   ],
   "source": [
    "d = {\"data1\" : 100, \"data2\" : 54, \"data3\" : 247}\n",
    "print(d.items(), key = lambda x:sum(x[1]))\n",
    "d"
   ]
  },
  {
   "cell_type": "code",
   "execution_count": 3,
   "id": "7e9aef9f-02d5-4108-85cc-565819405c39",
   "metadata": {},
   "outputs": [
    {
     "ename": "SyntaxError",
     "evalue": "invalid non-printable character U+2003 (1502903209.py, line 5)",
     "output_type": "error",
     "traceback": [
      "\u001b[1;36m  Input \u001b[1;32mIn [3]\u001b[1;36m\u001b[0m\n\u001b[1;33m    { ' name ' : ' Helga ' , ' phone ' : ' 555-1618 ' , ' email ' : ' helga@mail.net ' },\u001b[0m\n\u001b[1;37m    ^\u001b[0m\n\u001b[1;31mSyntaxError\u001b[0m\u001b[1;31m:\u001b[0m invalid non-printable character U+2003\n"
     ]
    }
   ],
   "source": [
    "#Write a program that reads through any dictionary given below and prints the following:\n",
    "#(a) All the users whose phone number ends in an 8\n",
    "#(b) All the users that don’t have an email address listed\n",
    "d = [{ ' name ' : ' Todd ' , ' phone ' : ' 555-1414 ' , ' email ' : ' todd@mail.net ' },\n",
    "     { ' name ' : ' Helga ' , ' phone ' : ' 555-1618 ' , ' email ' : ' helga@mail.net ' },\n",
    "     { ' name ' : ' Princess ' , ' phone ' : ' 555-3141 ' , ' email ' : '' },\n",
    "     { ' name ' : ' LJ ' , ' phone ' : ' 555-2718 ' , ' email ' : ' lj@mail.net ' }]\n"
   ]
  },
  {
   "cell_type": "code",
   "execution_count": 33,
   "id": "8387b265-224e-4242-ac4c-55637134bd1b",
   "metadata": {},
   "outputs": [
    {
     "name": "stdout",
     "output_type": "stream",
     "text": [
      " helga \n",
      " lj \n",
      " princess \n"
     ]
    }
   ],
   "source": [
    "d = [{ ' name ': ' todd ', ' phone ': ' 555-1414 ', ' email ': ' todd@mail,net ' },\n",
    "     { ' name ': ' helga ', ' phone ': ' 555-1618 ', ' email ': ' helga@mail.net ' },\n",
    "     { ' name ': ' princess ', ' phone ': ' 555-3141 ', ' email ': ''},  \n",
    "     { ' name ': ' lj ', ' phone ': ' 555-2718 ', ' email ': ' lj@mail.net ' }]\n",
    "\n",
    "for i in d:\n",
    "    if i[' phone '][-2] == '8':\n",
    "        print(i[' name '])\n",
    "for i in d:\n",
    "    if i[ ' email '] == '':\n",
    "        print(i[' name '])"
   ]
  },
  {
   "cell_type": "code",
   "execution_count": 4,
   "id": "2758fa78-bbe6-49f2-bcd5-183e06fd9deb",
   "metadata": {},
   "outputs": [
    {
     "name": "stdin",
     "output_type": "stream",
     "text": [
      " 5\n",
      " 3\n",
      " 1\n",
      " 2\n",
      " 4\n"
     ]
    },
    {
     "name": "stdout",
     "output_type": "stream",
     "text": [
      "5\n",
      "[1, 2, 3, 4, 5]\n"
     ]
    }
   ],
   "source": [
    "#A list is supposed to contain first n natural numbers in it. But one number is missing in the list. so, we have n-1 elements in the list. How do you find the missing element?\n",
    "n = int(input())\n",
    "l1 = []\n",
    "l = [] \n",
    "for i in range(1,n+1):\n",
    "    l.append(i)\n",
    "\n",
    "for i in range(1, n):\n",
    "    l1.append(int(input()))\n",
    "\n",
    "for i in l:\n",
    "    if i not in l1:\n",
    "        print(i)"
   ]
  },
  {
   "cell_type": "code",
   "execution_count": 7,
   "id": "c9af0692-8c73-432c-a628-05463fb6297a",
   "metadata": {},
   "outputs": [
    {
     "name": "stdout",
     "output_type": "stream",
     "text": [
      "True\n",
      "False\n"
     ]
    }
   ],
   "source": [
    "#How do you check two lists are having the same set of values and the same number of values?\n",
    "l = [123, 234, 34, 34, 34, 34, 0, 0, 0, 0, 0, 5555555]\n",
    "l1 = [1123, 234, 34, 34, 34, 34, 0, 0, 0, 0, 0, 5555555]\n",
    "print(len(l) == len(l1))\n",
    "print(l == l1)\n",
    "        "
   ]
  },
  {
   "cell_type": "code",
   "execution_count": 20,
   "id": "39ea280f-0396-4f86-94bd-983df44ae78f",
   "metadata": {},
   "outputs": [
    {
     "ename": "SyntaxError",
     "evalue": "invalid non-printable character U+2003 (718608090.py, line 3)",
     "output_type": "error",
     "traceback": [
      "\u001b[1;36m  Input \u001b[1;32mIn [20]\u001b[1;36m\u001b[0m\n\u001b[1;33m    'alex.barner@yahoo.com',\u001b[0m\n\u001b[1;37m    ^\u001b[0m\n\u001b[1;31mSyntaxError\u001b[0m\u001b[1;31m:\u001b[0m invalid non-printable character U+2003\n"
     ]
    }
   ],
   "source": [
    "#3. A list of email ids(strings) given, and assume there is a third-party function \"send_email()\" is available. Imagine \"send_email(email id, msg)\" takes email address and message as parameters.For instance, send_email('john@abc.com', 'Welcome to my birthday!') sends a message 'Welcome to my birthday!' to 'john@abc.com'. Write a program to send an invitation message, to all the email ids in the list. Do not send message to email ids having hotmail.com in it.\n",
    "emails = ['john.deer@gmail.com',\n",
    "          'alex.barner@yahoo.com',\n",
    "          'brad.cooper@hotmail.com',\n",
    "          'cindy.barner@hotmail.com',\n",
    "          'matt.damon@gmail.com',\n",
    "          'george.cloony@yahoo.com',\n",
    "          'mc.barner@hotmail.com']\n",
    "for i in emails:\n",
    "    if \"hotmail.com\" not in i:\n",
    "        print(\"welcome to my party\")\n"
   ]
  },
  {
   "cell_type": "code",
   "execution_count": 27,
   "id": "6e73bffd-1ce8-4781-8d8b-cd4e4f85d44b",
   "metadata": {},
   "outputs": [
    {
     "name": "stdout",
     "output_type": "stream",
     "text": [
      "wlecome to my birthday party\n",
      "wlecome to my birthday party\n",
      "wlecome to my birthday party\n",
      "wlecome to my birthday party\n"
     ]
    }
   ],
   "source": [
    "emails = ['john.deeragmail.com',\n",
    "          'alex.barner@yahoo.com',\n",
    "          'brad.copper@hotmail.com',\n",
    "          'cindy.damon@mhotmail.com',\n",
    "          'matt.damon@gmail.com',\n",
    "          'george.cloony@yahoo.com',\n",
    "          'mc.barner@hotmail.com']\n",
    "for i in emails:\n",
    "    if 'hotmail' not in i:\n",
    "        print(\"wlecome to my birthday party\")"
   ]
  },
  {
   "cell_type": "code",
   "execution_count": 58,
   "id": "a2747ce1-f7e2-4e57-8c7c-39cc6c187c68",
   "metadata": {},
   "outputs": [
    {
     "name": "stdout",
     "output_type": "stream",
     "text": [
      "3\n",
      "(1234, [1000, 200, 400, 600, 500])\n",
      "(1237, [87522, 125677])\n",
      "(1237, [87522, 125677])\n",
      "{1237: [87522, 125677], 1234: [1000, 200, 400, 600, 500], 1236: [6754, 1700, 788]}\n",
      "total end of the day amount: 225141\n"
     ]
    }
   ],
   "source": [
    "#4. Below are the customer ids and deposits are done by customers on a typical day of a bank. Write a program to answer the following.\n",
    "#How many distinct customers deposited the money?\n",
    "#Who deposited a maximum number of times?\n",
    "#Who deposited the maximum sum of deposits?\n",
    "#Who deposited the maximum amount in a single transaction?\n",
    "#Print all Customer Id's and list of deposits done by each customer.\n",
    "#Print total balance at the end of the day.\n",
    "l = []\n",
    "d = dict()\n",
    "t =[(1237,87522),\n",
    "     (1234,1000),\n",
    "     (1236,6754),\n",
    "     (1234,200),\n",
    "     (1236,1700),\n",
    "     (1234,400),\n",
    "     (1234,600),\n",
    "     (1236,788),\n",
    "     (1234,500),\n",
    "     (1237,125677)]\n",
    "\n",
    "for _id, amount in t:\n",
    "    if _id not in d:\n",
    "        d[_id] = [amount]\n",
    "    else:\n",
    "        d[_id].append(amount)\n",
    "print(len(d))\n",
    "print(max(d.items(), key=lambda x:len(x[1])))\n",
    "print(max(d.items(), key=lambda x:sum(x[1])))\n",
    "print(max(d.items(), key=lambda x:max(x[1])))\n",
    "print(d) \n",
    "total = 0\n",
    "for _id, amt in t:\n",
    "    total += amt\n",
    "print(\"total end of the day amount:\", total)"
   ]
  },
  {
   "cell_type": "code",
   "execution_count": 1,
   "id": "cd0d52fd-eec6-4e9f-816e-ae0312cf5aab",
   "metadata": {},
   "outputs": [
    {
     "data": {
      "text/plain": [
       "['alex']"
      ]
     },
     "execution_count": 1,
     "metadata": {},
     "output_type": "execute_result"
    }
   ],
   "source": [
    "#5. List of votes, contestants and ages are given. Write a program to find the contestant who wins the elections. If there is a tie, older contestant wins.\n",
    "v = ['kenny','amanda','john','vicky','alex',\n",
    "     'amanda','john', 'alex','kenny','vicky',\n",
    "     'charles','alex','kenny','eric','charles',\n",
    "     'eric','laura','eric','michell','vicky']\n",
    "age = {\n",
    "        'kenny': 61,\n",
    "        'amanda': 54,\n",
    "        'alex': 79,\n",
    "        'john': 80,\n",
    "        'vicky': 34,\n",
    "        'eric': 50,\n",
    "        'laura': 55,\n",
    "        'michelle': 42,\n",
    "        'charles': 70\n",
    "        }\n",
    "l1 = []\n",
    "\n",
    "d = {}\n",
    "for i in v:\n",
    "    if i not in d:\n",
    "        d[i] = 1\n",
    "    else:\n",
    "        d[i] += 1\n",
    "        \n",
    "max_rec = max(d.items(), key=lambda x: x[1])\n",
    "list_max_rec = [i for i in d if d[i] == max_rec[1]]\n",
    "\n",
    "for i in list_max_rec:\n",
    "    l1.append([i, age[i]])\n",
    "\n",
    "max_rec1 = max(l1, key=lambda x: x[1])\n",
    "list_max_rec1 = [i for i, j in l1 if j == max_rec1[1]]\n",
    "list_max_rec1"
   ]
  },
  {
   "cell_type": "code",
   "execution_count": 1,
   "id": "61b36da0-a3a4-42c8-b8de-816b939e2b95",
   "metadata": {},
   "outputs": [
    {
     "ename": "NameError",
     "evalue": "name 'd' is not defined",
     "output_type": "error",
     "traceback": [
      "\u001b[1;31m---------------------------------------------------------------------------\u001b[0m",
      "\u001b[1;31mNameError\u001b[0m                                 Traceback (most recent call last)",
      "Input \u001b[1;32mIn [1]\u001b[0m, in \u001b[0;36m<cell line: 1>\u001b[1;34m()\u001b[0m\n\u001b[1;32m----> 1\u001b[0m max_rec \u001b[38;5;241m=\u001b[39m \u001b[38;5;28mmax\u001b[39m(\u001b[43md\u001b[49m\u001b[38;5;241m.\u001b[39mitems(), key\u001b[38;5;241m=\u001b[39m\u001b[38;5;28;01mlambda\u001b[39;00m x: x[\u001b[38;5;241m1\u001b[39m])\n\u001b[0;32m      2\u001b[0m tie \u001b[38;5;241m=\u001b[39m []\n\u001b[0;32m      3\u001b[0m \u001b[38;5;28;01mfor\u001b[39;00m i \u001b[38;5;129;01min\u001b[39;00m d:\n",
      "\u001b[1;31mNameError\u001b[0m: name 'd' is not defined"
     ]
    }
   ],
   "source": [
    "max_rec = max(d.items(), key=lambda x: x[1])\n",
    "tie = []\n",
    "for i in d:\n",
    "    if d[i] == max_rec[1]:\n",
    "        tie.append([i, age[i]])\n",
    "        \n",
    "max_rec_1 = max(tie, key=lambda x: x[1])\n",
    "\n",
    "for i, j in tie:\n",
    "    if j == max_rec_1[1]:\n",
    "        print(i)\n",
    "tie"
   ]
  },
  {
   "cell_type": "code",
   "execution_count": 2,
   "id": "37f3ffa4-f897-48c7-b4c4-b87dac94a214",
   "metadata": {},
   "outputs": [
    {
     "ename": "SyntaxError",
     "evalue": "expected ':' (1353226321.py, line 31)",
     "output_type": "error",
     "traceback": [
      "\u001b[1;36m  Input \u001b[1;32mIn [2]\u001b[1;36m\u001b[0m\n\u001b[1;33m    if j == max_votes[1]\u001b[0m\n\u001b[1;37m                        ^\u001b[0m\n\u001b[1;31mSyntaxError\u001b[0m\u001b[1;31m:\u001b[0m expected ':'\n"
     ]
    }
   ],
   "source": [
    "votes = ['kenny','amanda','john','vicky','alex',\n",
    "     'amanda','john', 'alex','kenny','vicky',\n",
    "     'charles','alex','kenny','eric','charles',\n",
    "     'eric','laura','eric','michell','vicky']\n",
    "age = {\n",
    "        'kenny': 61,\n",
    "        'amanda': 54,\n",
    "        'alex': 79,\n",
    "        'john': 80,\n",
    "        'vicky': 34,\n",
    "        'eric': 50,\n",
    "        'laura': 55,\n",
    "        'michelle': 42,\n",
    "        'charles': 70\n",
    "        }\n",
    "votes1 = dict()\n",
    "for i in votes:\n",
    "    if i not in votes1:\n",
    "        votes1[i] = 1\n",
    "    else:\n",
    "        votes1[i] += 1\n",
    "max_votes = max(votes1.items(),key=lambda x:x[1])\n",
    "tie1 = []\n",
    "\n",
    "for i in votes1:\n",
    "    if votes1[i] == max_votes[1]:\n",
    "        tie1.append((i,age[i]))\n",
    "max_votes = max(tie1, key=lambda x:x[1])\n",
    "\n",
    "for i,j in tie1:\n",
    "    if j == max_votes[1]: \n",
    "        print(i)"
   ]
  },
  {
   "cell_type": "code",
   "execution_count": 13,
   "id": "b10e7497-c9c1-496c-9f21-b23ead18abe1",
   "metadata": {},
   "outputs": [
    {
     "data": {
      "text/plain": [
       "('alex', 79)"
      ]
     },
     "execution_count": 13,
     "metadata": {},
     "output_type": "execute_result"
    }
   ],
   "source": [
    "max_votes"
   ]
  },
  {
   "cell_type": "code",
   "execution_count": 21,
   "id": "f2c82157-6af4-4d71-bf17-675ed75d4a13",
   "metadata": {},
   "outputs": [
    {
     "name": "stdin",
     "output_type": "stream",
     "text": [
      " 5\n"
     ]
    },
    {
     "name": "stdout",
     "output_type": "stream",
     "text": [
      "odd\n"
     ]
    }
   ],
   "source": [
    "n = int(input())\n",
    "if n % 2 ==0:\n",
    "    print(\"even\")\n",
    "else:\n",
    "    print(\"odd\")"
   ]
  },
  {
   "cell_type": "code",
   "execution_count": 34,
   "id": "8a5b695a-4c0b-4207-af3a-57c1a0e00dbb",
   "metadata": {},
   "outputs": [
    {
     "data": {
      "text/plain": [
       "[2, 4, 6, 8, 10]"
      ]
     },
     "execution_count": 34,
     "metadata": {},
     "output_type": "execute_result"
    }
   ],
   "source": [
    "rkffkr"
   ]
  },
  {
   "cell_type": "code",
   "execution_count": 7,
   "id": "a4176c8d-1bb4-4458-8720-5165db40b5d2",
   "metadata": {},
   "outputs": [
    {
     "data": {
      "text/plain": [
       "'15'"
      ]
     },
     "execution_count": 7,
     "metadata": {},
     "output_type": "execute_result"
    }
   ],
   "source": [
    "#Write a function that takes a single argument, prints the value of the argument, and returns the argument as a string.\n",
    "'''def arg(n):\n",
    "    k = \"annam\"\n",
    "    return k + \" sai\"\n",
    "print(arg(\"annam\"))'''\n",
    "def arg(n):\n",
    "    f = 0\n",
    "    for i in range(1,n+1):\n",
    "        f += i\n",
    "    return f\n",
    "str(arg(5))"
   ]
  },
  {
   "cell_type": "code",
   "execution_count": 11,
   "id": "db31e003-a7f8-4a23-817e-2f510db6736e",
   "metadata": {},
   "outputs": [
    {
     "name": "stdout",
     "output_type": "stream",
     "text": [
      "ANNAM\n"
     ]
    }
   ],
   "source": [
    "#Write a function \"change_case\" that given a string, returns a string with each upper case letter replaced by a lower case letter and vice-versa.\n",
    "def num(n):\n",
    "    k = n.swapcase()\n",
    "    return k\n",
    "print(num(\"annam\"))"
   ]
  },
  {
   "cell_type": "code",
   "execution_count": 20,
   "id": "49e67ff3-b64f-42f4-9bba-bc72753a0e66",
   "metadata": {},
   "outputs": [
    {
     "name": "stdin",
     "output_type": "stream",
     "text": [
      "enter string:  sai annam\n"
     ]
    },
    {
     "data": {
      "text/plain": [
       "'s nnm'"
      ]
     },
     "execution_count": 20,
     "metadata": {},
     "output_type": "execute_result"
    }
   ],
   "source": [
    "#Write a function \"remove_vowels\" that takes a single argument (string) to remove all the vowels and print it.\n",
    "def vowel_remover(st):\n",
    "    st1 = ''\n",
    "    for i in st:\n",
    "        if i.lower() not in 'aeiou':\n",
    "            st1 += i\n",
    "    return st1\n",
    "        \n",
    "    \n",
    "vowel_remover(input('enter string: '))"
   ]
  },
  {
   "cell_type": "code",
   "execution_count": 2,
   "id": "f28c88fb-928f-4bef-962e-2289934b1a1b",
   "metadata": {},
   "outputs": [
    {
     "name": "stdin",
     "output_type": "stream",
     "text": [
      " 4\n"
     ]
    },
    {
     "name": "stdout",
     "output_type": "stream",
     "text": [
      "100"
     ]
    }
   ],
   "source": [
    "#Write a program to convert the given integer into binary and vice versa.\n",
    "def integer(n):\n",
    "    if n >= 1:\n",
    "        integer(n//2)\n",
    "        print(n%2,end=\"\")\n",
    "n1 = int(input())\n",
    "integer(n1)"
   ]
  },
  {
   "cell_type": "code",
   "execution_count": null,
   "id": "1ef1368a-1ab6-4799-b414-cad0892b879a",
   "metadata": {},
   "outputs": [],
   "source": []
  }
 ],
 "metadata": {
  "kernelspec": {
   "display_name": "Python 3 (ipykernel)",
   "language": "python",
   "name": "python3"
  },
  "language_info": {
   "codemirror_mode": {
    "name": "ipython",
    "version": 3
   },
   "file_extension": ".py",
   "mimetype": "text/x-python",
   "name": "python",
   "nbconvert_exporter": "python",
   "pygments_lexer": "ipython3",
   "version": "3.9.7"
  },
  "toc-showcode": true,
  "toc-showmarkdowntxt": false
 },
 "nbformat": 4,
 "nbformat_minor": 5
}
