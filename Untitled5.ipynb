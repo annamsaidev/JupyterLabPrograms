{
 "cells": [
  {
   "cell_type": "code",
   "execution_count": 15,
   "id": "c8286163-c772-4a79-9a6e-06e4bee4d4d0",
   "metadata": {},
   "outputs": [
    {
     "name": "stdout",
     "output_type": "stream",
     "text": [
      "arm\n"
     ]
    }
   ],
   "source": [
    "n = 1634\n",
    "print('arm') if sum([j**len(str(n)) for j in [int(i) for i in list(str(n))]]) == n else print('not')\n"
   ]
  }
 ],
 "metadata": {
  "kernelspec": {
   "display_name": "Python 3 (ipykernel)",
   "language": "python",
   "name": "python3"
  },
  "language_info": {
   "codemirror_mode": {
    "name": "ipython",
    "version": 3
   },
   "file_extension": ".py",
   "mimetype": "text/x-python",
   "name": "python",
   "nbconvert_exporter": "python",
   "pygments_lexer": "ipython3",
   "version": "3.9.7"
  }
 },
 "nbformat": 4,
 "nbformat_minor": 5
}
