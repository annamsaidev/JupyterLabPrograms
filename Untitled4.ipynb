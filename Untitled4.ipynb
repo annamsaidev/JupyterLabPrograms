{
 "cells": [
  {
   "cell_type": "code",
   "execution_count": 5,
   "id": "875e0165-d0c1-4dc9-af24-c0e8de97b8fa",
   "metadata": {},
   "outputs": [
    {
     "name": "stdin",
     "output_type": "stream",
     "text": [
      " 100\n"
     ]
    },
    {
     "name": "stdout",
     "output_type": "stream",
     "text": [
      "[2, 3, 5, 7, 11, 13, 17, 19, 23, 29, 31, 37, 41, 43, 47, 53, 59, 61, 67, 71, 73, 79, 83, 89, 97]\n",
      "5\n",
      "17\n",
      "41\n"
     ]
    }
   ],
   "source": [
    "n = int(input())\n",
    "l = []\n",
    "res = []\n",
    "\n",
    "for i in range(2,n+1): \n",
    "    for j in range(2,i):\n",
    "        if i % j == 0:\n",
    "            break\n",
    "    else:\n",
    "        l.append(i)\n",
    "print(l)\n",
    "sum2 = 0\n",
    "\n",
    "for i in range(2, len(l)):\n",
    "    for j in range(0,i):\n",
    "        sum2 += l[j]\n",
    "    if sum2 in l:\n",
    "        print(sum2)\n",
    "        \n",
    "    sum2 = 0 "
   ]
  },
  {
   "cell_type": "code",
   "execution_count": null,
   "id": "79168182-c4d3-449f-8de7-f4f08c135173",
   "metadata": {},
   "outputs": [],
   "source": []
  }
 ],
 "metadata": {
  "kernelspec": {
   "display_name": "Python 3 (ipykernel)",
   "language": "python",
   "name": "python3"
  },
  "language_info": {
   "codemirror_mode": {
    "name": "ipython",
    "version": 3
   },
   "file_extension": ".py",
   "mimetype": "text/x-python",
   "name": "python",
   "nbconvert_exporter": "python",
   "pygments_lexer": "ipython3",
   "version": "3.9.7"
  }
 },
 "nbformat": 4,
 "nbformat_minor": 5
}
