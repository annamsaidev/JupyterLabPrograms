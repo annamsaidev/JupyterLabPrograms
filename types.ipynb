{
 "cells": [
  {
   "cell_type": "code",
   "execution_count": 1,
   "id": "17b3b872-4332-43e5-bdbf-e9abe6ba9874",
   "metadata": {},
   "outputs": [
    {
     "name": "stdout",
     "output_type": "stream",
     "text": [
      "a: <class 'int'>\n",
      "b: <class 'float'>\n",
      "c: <class 'str'>\n",
      "d: <class 'bool'>\n",
      "e: <class 'complex'>\n"
     ]
    }
   ],
   "source": [
    "a = 20\n",
    "print(\"a:\", type(a))\n",
    "b = 30.5\n",
    "print(\"b:\", type(b))\n",
    "c = 'Normal'\n",
    "print(\"c:\", type(c))\n",
    "d = True\n",
    "print(\"d:\", type(d))\n",
    "e = 2 + 4j\n",
    "print(\"e:\", type(e))"
   ]
  },
  {
   "cell_type": "code",
   "execution_count": 4,
   "id": "c76a9a0b-05c3-4f94-8dc5-9bf9ab93c79e",
   "metadata": {},
   "outputs": [
    {
     "name": "stdout",
     "output_type": "stream",
     "text": [
      "30\n"
     ]
    }
   ],
   "source": [
    "x=20\n",
    "x+=10\n",
    "print(x)\n"
   ]
  },
  {
   "cell_type": "code",
   "execution_count": 5,
   "id": "39c812d6-97b4-4d39-bb63-9cd5eca4714d",
   "metadata": {},
   "outputs": [
    {
     "name": "stdout",
     "output_type": "stream",
     "text": [
      "10\n"
     ]
    }
   ],
   "source": [
    "x=30\n",
    "x-=20\n",
    "print(x)"
   ]
  },
  {
   "cell_type": "code",
   "execution_count": 6,
   "id": "c96be2d1-4014-4d64-889b-4695067c6951",
   "metadata": {},
   "outputs": [
    {
     "name": "stdout",
     "output_type": "stream",
     "text": [
      "25\n"
     ]
    }
   ],
   "source": [
    "x=5\n",
    "x*=5\n",
    "print(x)\n"
   ]
  },
  {
   "cell_type": "code",
   "execution_count": 10,
   "id": "e963e9c9-d733-412e-add9-afc16df02f8a",
   "metadata": {},
   "outputs": [
    {
     "name": "stdout",
     "output_type": "stream",
     "text": [
      "375\n"
     ]
    }
   ],
   "source": [
    "x=15 \n",
    "x*=25\n",
    "print(x)\n",
    "      "
   ]
  },
  {
   "cell_type": "code",
   "execution_count": 11,
   "id": "ae7be763-fb06-48c7-9bd2-c87ce1d3d0c1",
   "metadata": {},
   "outputs": [
    {
     "name": "stdout",
     "output_type": "stream",
     "text": [
      "6.875\n"
     ]
    }
   ],
   "source": [
    "x=55\n",
    "x/=8\n",
    "print(x)"
   ]
  },
  {
   "cell_type": "code",
   "execution_count": 20,
   "id": "0f560c4e-9fd7-40da-a928-290f6e4b014a",
   "metadata": {},
   "outputs": [
    {
     "name": "stdout",
     "output_type": "stream",
     "text": [
      "1\n"
     ]
    }
   ],
   "source": [
    "x=55\n",
    "x%=9\n",
    "print(x)"
   ]
  },
  {
   "cell_type": "code",
   "execution_count": 21,
   "id": "514fe79b-dc12-4a51-8928-84b3066a4225",
   "metadata": {},
   "outputs": [
    {
     "name": "stdout",
     "output_type": "stream",
     "text": [
      "4096000000\n"
     ]
    }
   ],
   "source": [
    "x=40\n",
    "x**=6\n",
    "print(x)"
   ]
  },
  {
   "cell_type": "code",
   "execution_count": 22,
   "id": "d9c92271-6944-4acd-92d6-190ea7d14c6b",
   "metadata": {},
   "outputs": [
    {
     "name": "stdout",
     "output_type": "stream",
     "text": [
      "16\n"
     ]
    }
   ],
   "source": [
    "x=80\n",
    "x//=5\n",
    "print(x)\n"
   ]
  },
  {
   "cell_type": "code",
   "execution_count": 23,
   "id": "f672df2e-2a75-4b6a-a5b4-adb1499183b3",
   "metadata": {},
   "outputs": [
    {
     "name": "stdout",
     "output_type": "stream",
     "text": [
      "1920\n",
      "30\n"
     ]
    }
   ],
   "source": [
    "x=30\n",
    "print(x<<6)\n",
    "print(x)"
   ]
  },
  {
   "cell_type": "code",
   "execution_count": 24,
   "id": "d81152c9-1503-4bec-b049-4c6ad0e01bd8",
   "metadata": {},
   "outputs": [
    {
     "name": "stdout",
     "output_type": "stream",
     "text": [
      "1\n",
      "50\n"
     ]
    }
   ],
   "source": [
    "x=50\n",
    "print(x>>5)\n",
    "print(x)"
   ]
  },
  {
   "cell_type": "code",
   "execution_count": 1,
   "id": "97099452-aa2a-4d4e-bd50-6f204336f5d0",
   "metadata": {},
   "outputs": [
    {
     "name": "stdout",
     "output_type": "stream",
     "text": [
      "-3\n",
      "15\n",
      "54\n",
      "0.6666666666666666\n"
     ]
    }
   ],
   "source": [
    "a=6\n",
    "b=9\n",
    "print(a-b)\n",
    "print(a+b)\n",
    "print(a*b)\n",
    "print(a/b)"
   ]
  },
  {
   "cell_type": "code",
   "execution_count": 8,
   "id": "cde639d2-4911-42a7-9e1d-20ddcddee59e",
   "metadata": {},
   "outputs": [
    {
     "name": "stdout",
     "output_type": "stream",
     "text": [
      "3.5\n",
      "3\n",
      "2.6666666666666665\n",
      "2\n",
      "1.25\n",
      "1.0\n"
     ]
    }
   ],
   "source": [
    "print(7/2)\n",
    "print(7//2)\n",
    "print(8/3)\n",
    "print(8//3)\n",
    "print(2.5/2)\n",
    "print(2.5//2)"
   ]
  },
  {
   "cell_type": "code",
   "execution_count": 10,
   "id": "a4248d75-40e1-4828-82ca-9aabbd5918b1",
   "metadata": {},
   "outputs": [
    {
     "name": "stdout",
     "output_type": "stream",
     "text": [
      "False\n",
      "True\n",
      "False\n",
      "True\n",
      "False\n",
      "True\n"
     ]
    }
   ],
   "source": [
    "a=30\n",
    "b=40\n",
    "print(a==b)\n",
    "print(a!=b)\n",
    "print(a>b)\n",
    "print(a<b)\n",
    "print(a>=b)\n",
    "print(a<=b)\n"
   ]
  },
  {
   "cell_type": "code",
   "execution_count": 5,
   "id": "3a8e18cf-a134-47fb-9389-e72a2efed218",
   "metadata": {},
   "outputs": [
    {
     "ename": "SyntaxError",
     "evalue": "invalid syntax (Temp/ipykernel_15192/3522827465.py, line 4)",
     "output_type": "error",
     "traceback": [
      "\u001b[1;36m  File \u001b[1;32m\"C:\\Users\\hp\\AppData\\Local\\Temp/ipykernel_15192/3522827465.py\"\u001b[1;36m, line \u001b[1;32m4\u001b[0m\n\u001b[1;33m    s_i= p * t * ir * / 100\u001b[0m\n\u001b[1;37m                      ^\u001b[0m\n\u001b[1;31mSyntaxError\u001b[0m\u001b[1;31m:\u001b[0m invalid syntax\n"
     ]
    }
   ],
   "source": []
  },
  {
   "cell_type": "code",
   "execution_count": 1,
   "id": "3ef134b6-5c2a-4f04-8a3b-a257764e5be6",
   "metadata": {},
   "outputs": [
    {
     "name": "stdout",
     "output_type": "stream",
     "text": [
      "s_i 426000.0\n"
     ]
    }
   ],
   "source": [
    "p=71000000\n",
    "t=12\n",
    "ir=0.05\n",
    "s_i= p * t * ir  / 100\n",
    "print('s_i', s_i)\n"
   ]
  },
  {
   "cell_type": "code",
   "execution_count": 2,
   "id": "0333b9b5-cf9f-4eb1-bec4-196d83a2d536",
   "metadata": {},
   "outputs": [
    {
     "name": "stdout",
     "output_type": "stream",
     "text": [
      "100\n"
     ]
    }
   ],
   "source": [
    "s=10\n",
    "print(s*s)\n",
    "print"
   ]
  },
  {
   "cell_type": "code",
   "execution_count": null,
   "id": "cd3f360c-486c-4ec8-a9fa-1b0dcf8460ef",
   "metadata": {},
   "outputs": [],
   "source": []
  },
  {
   "cell_type": "code",
   "execution_count": null,
   "id": "50a3a242-c0fe-4251-9dc7-c5e188291b85",
   "metadata": {},
   "outputs": [],
   "source": []
  },
  {
   "cell_type": "code",
   "execution_count": null,
   "id": "bc7c28e3-652b-4df7-b64e-9e0bd2fbfada",
   "metadata": {},
   "outputs": [],
   "source": []
  },
  {
   "cell_type": "code",
   "execution_count": null,
   "id": "ac5fe594-78a8-46fa-8773-e72205371152",
   "metadata": {},
   "outputs": [],
   "source": []
  },
  {
   "cell_type": "code",
   "execution_count": null,
   "id": "aa83a266-4815-420d-a0e5-83cbbe806a60",
   "metadata": {},
   "outputs": [],
   "source": []
  },
  {
   "cell_type": "code",
   "execution_count": null,
   "id": "9e943254-0870-4940-b994-d02e97fd163c",
   "metadata": {},
   "outputs": [],
   "source": []
  },
  {
   "cell_type": "code",
   "execution_count": null,
   "id": "9098b3dc-b76f-4e7c-b868-e5aa90b0b021",
   "metadata": {},
   "outputs": [],
   "source": []
  },
  {
   "cell_type": "code",
   "execution_count": null,
   "id": "2834abea-d4df-44b8-ac78-7c647cae2173",
   "metadata": {},
   "outputs": [],
   "source": []
  },
  {
   "cell_type": "code",
   "execution_count": null,
   "id": "f1a73ac9-360d-47b3-8654-ce87ba165b64",
   "metadata": {},
   "outputs": [],
   "source": []
  },
  {
   "cell_type": "code",
   "execution_count": null,
   "id": "4b13d61d-4569-4a13-a890-8c3684c7279c",
   "metadata": {},
   "outputs": [],
   "source": []
  },
  {
   "cell_type": "code",
   "execution_count": null,
   "id": "24d66b0d-392b-47af-8c42-f96a594c294d",
   "metadata": {},
   "outputs": [],
   "source": []
  },
  {
   "cell_type": "code",
   "execution_count": null,
   "id": "5c019136-7801-4ba9-9709-c9bfdb918067",
   "metadata": {},
   "outputs": [],
   "source": [
    "\n"
   ]
  }
 ],
 "metadata": {
  "kernelspec": {
   "display_name": "Python 3 (ipykernel)",
   "language": "python",
   "name": "python3"
  },
  "language_info": {
   "codemirror_mode": {
    "name": "ipython",
    "version": 3
   },
   "file_extension": ".py",
   "mimetype": "text/x-python",
   "name": "python",
   "nbconvert_exporter": "python",
   "pygments_lexer": "ipython3",
   "version": "3.9.7"
  }
 },
 "nbformat": 4,
 "nbformat_minor": 5
}
