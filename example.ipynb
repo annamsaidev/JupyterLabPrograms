{
 "cells": [
  {
   "cell_type": "code",
   "execution_count": 7,
   "id": "2ba88e1d-4a64-45d9-a26a-57dee3b75ab3",
   "metadata": {},
   "outputs": [
    {
     "name": "stdout",
     "output_type": "stream",
     "text": [
      "si: 426000.0\n"
     ]
    }
   ],
   "source": [
    "p = 71000000\n",
    "t = 12\n",
    "ir = 0.05\n",
    "si = p * t * ir/ 100\n",
    "print('si:', si)\n"
   ]
  },
  {
   "cell_type": "code",
   "execution_count": 8,
   "id": "ef66d0f7-98b5-4f3d-8f7c-d8b34ef0b5b3",
   "metadata": {},
   "outputs": [
    {
     "name": "stdout",
     "output_type": "stream",
     "text": [
      "si: 94500.0\n"
     ]
    }
   ],
   "source": [
    "p=7000000\n",
    "t=15\n",
    "ir=0.09\n",
    "si=p*t*ir/100\n",
    "print('si:',si)"
   ]
  },
  {
   "cell_type": "code",
   "execution_count": 13,
   "id": "65970b6d-7964-4f8f-98dd-bdaed17ce644",
   "metadata": {},
   "outputs": [
    {
     "name": "stdin",
     "output_type": "stream",
     "text": [
      " 2.5\n",
      " 3.5\n"
     ]
    },
    {
     "name": "stdout",
     "output_type": "stream",
     "text": [
      "6.0\n"
     ]
    }
   ],
   "source": [
    "x=float(input())\n",
    "y=float(input())\n",
    "print(x+y)"
   ]
  },
  {
   "cell_type": "code",
   "execution_count": 2,
   "id": "673bfdd3-c0e8-4957-85f1-ba8c4fb6ce0e",
   "metadata": {},
   "outputs": [
    {
     "name": "stdout",
     "output_type": "stream",
     "text": [
      "x is 30 y is 50sum is 80\n"
     ]
    }
   ],
   "source": [
    "x=30\n",
    "y=50\n",
    "s=x+y\n",
    "print(f\"x is {x} y is {y}sum is {s}\")\n",
    "\n",
    "      "
   ]
  },
  {
   "cell_type": "markdown",
   "id": "c32dda80-8d3c-44c8-abb2-0db82971da6f",
   "metadata": {},
   "source": [
    "# a=5\n",
    "b=4\n",
    "print(a+b)\n",
    "print(a-b)\n",
    "print(a*b)\n",
    "print(a/b)\n",
    "print(b**0.5)\n",
    "print(b**2)\n",
    "print(a**3)\n"
   ]
  },
  {
   "cell_type": "code",
   "execution_count": null,
   "id": "10d7b423-037a-4d75-b5d0-1a535ae059e7",
   "metadata": {},
   "outputs": [],
   "source": [
    "s"
   ]
  }
 ],
 "metadata": {
  "kernelspec": {
   "display_name": "Python 3 (ipykernel)",
   "language": "python",
   "name": "python3"
  },
  "language_info": {
   "codemirror_mode": {
    "name": "ipython",
    "version": 3
   },
   "file_extension": ".py",
   "mimetype": "text/x-python",
   "name": "python",
   "nbconvert_exporter": "python",
   "pygments_lexer": "ipython3",
   "version": "3.9.7"
  }
 },
 "nbformat": 4,
 "nbformat_minor": 5
}
